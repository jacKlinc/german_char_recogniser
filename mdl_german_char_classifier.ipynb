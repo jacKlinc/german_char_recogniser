{
  "nbformat": 4,
  "nbformat_minor": 0,
  "metadata": {
    "colab": {
      "name": "mdl_german-char-classifier.ipynb",
      "provenance": [],
      "collapsed_sections": [],
      "authorship_tag": "ABX9TyNbhUU5BWjVMHb2CvbWjO6C",
      "include_colab_link": true
    },
    "kernelspec": {
      "name": "python3",
      "display_name": "Python 3"
    },
    "accelerator": "GPU",
    "widgets": {
      "application/vnd.jupyter.widget-state+json": {
        "67bf33c66bf14d029f2fc66a249938cf": {
          "model_module": "@jupyter-widgets/controls",
          "model_name": "HBoxModel",
          "state": {
            "_view_name": "HBoxView",
            "_dom_classes": [],
            "_model_name": "HBoxModel",
            "_view_module": "@jupyter-widgets/controls",
            "_model_module_version": "1.5.0",
            "_view_count": null,
            "_view_module_version": "1.5.0",
            "box_style": "",
            "layout": "IPY_MODEL_bdf93d366b714468a93f7e91ba1edbe5",
            "_model_module": "@jupyter-widgets/controls",
            "children": [
              "IPY_MODEL_89470654a9cc42eabd5ca78256d12dae",
              "IPY_MODEL_47066c6c6c1e4af8aa1749353749ba75"
            ]
          }
        },
        "bdf93d366b714468a93f7e91ba1edbe5": {
          "model_module": "@jupyter-widgets/base",
          "model_name": "LayoutModel",
          "state": {
            "_view_name": "LayoutView",
            "grid_template_rows": null,
            "right": null,
            "justify_content": null,
            "_view_module": "@jupyter-widgets/base",
            "overflow": null,
            "_model_module_version": "1.2.0",
            "_view_count": null,
            "flex_flow": null,
            "width": null,
            "min_width": null,
            "border": null,
            "align_items": null,
            "bottom": null,
            "_model_module": "@jupyter-widgets/base",
            "top": null,
            "grid_column": null,
            "overflow_y": null,
            "overflow_x": null,
            "grid_auto_flow": null,
            "grid_area": null,
            "grid_template_columns": null,
            "flex": null,
            "_model_name": "LayoutModel",
            "justify_items": null,
            "grid_row": null,
            "max_height": null,
            "align_content": null,
            "visibility": null,
            "align_self": null,
            "height": null,
            "min_height": null,
            "padding": null,
            "grid_auto_rows": null,
            "grid_gap": null,
            "max_width": null,
            "order": null,
            "_view_module_version": "1.2.0",
            "grid_template_areas": null,
            "object_position": null,
            "object_fit": null,
            "grid_auto_columns": null,
            "margin": null,
            "display": null,
            "left": null
          }
        },
        "89470654a9cc42eabd5ca78256d12dae": {
          "model_module": "@jupyter-widgets/controls",
          "model_name": "FloatProgressModel",
          "state": {
            "_view_name": "ProgressView",
            "style": "IPY_MODEL_1148880770674c9cb28c9fafa1605d26",
            "_dom_classes": [],
            "description": "100%",
            "_model_name": "FloatProgressModel",
            "bar_style": "success",
            "max": 46827520,
            "_view_module": "@jupyter-widgets/controls",
            "_model_module_version": "1.5.0",
            "value": 46827520,
            "_view_count": null,
            "_view_module_version": "1.5.0",
            "orientation": "horizontal",
            "min": 0,
            "description_tooltip": null,
            "_model_module": "@jupyter-widgets/controls",
            "layout": "IPY_MODEL_18d77e1d95a84d68841e14bfd90d661f"
          }
        },
        "47066c6c6c1e4af8aa1749353749ba75": {
          "model_module": "@jupyter-widgets/controls",
          "model_name": "HTMLModel",
          "state": {
            "_view_name": "HTMLView",
            "style": "IPY_MODEL_dbd0ec693e10401cb59d81fd4d43e9e4",
            "_dom_classes": [],
            "description": "",
            "_model_name": "HTMLModel",
            "placeholder": "​",
            "_view_module": "@jupyter-widgets/controls",
            "_model_module_version": "1.5.0",
            "value": " 44.7M/44.7M [00:27&lt;00:00, 1.69MB/s]",
            "_view_count": null,
            "_view_module_version": "1.5.0",
            "description_tooltip": null,
            "_model_module": "@jupyter-widgets/controls",
            "layout": "IPY_MODEL_8db029ac4a56457583348aa41bf3768e"
          }
        },
        "1148880770674c9cb28c9fafa1605d26": {
          "model_module": "@jupyter-widgets/controls",
          "model_name": "ProgressStyleModel",
          "state": {
            "_view_name": "StyleView",
            "_model_name": "ProgressStyleModel",
            "description_width": "initial",
            "_view_module": "@jupyter-widgets/base",
            "_model_module_version": "1.5.0",
            "_view_count": null,
            "_view_module_version": "1.2.0",
            "bar_color": null,
            "_model_module": "@jupyter-widgets/controls"
          }
        },
        "18d77e1d95a84d68841e14bfd90d661f": {
          "model_module": "@jupyter-widgets/base",
          "model_name": "LayoutModel",
          "state": {
            "_view_name": "LayoutView",
            "grid_template_rows": null,
            "right": null,
            "justify_content": null,
            "_view_module": "@jupyter-widgets/base",
            "overflow": null,
            "_model_module_version": "1.2.0",
            "_view_count": null,
            "flex_flow": null,
            "width": null,
            "min_width": null,
            "border": null,
            "align_items": null,
            "bottom": null,
            "_model_module": "@jupyter-widgets/base",
            "top": null,
            "grid_column": null,
            "overflow_y": null,
            "overflow_x": null,
            "grid_auto_flow": null,
            "grid_area": null,
            "grid_template_columns": null,
            "flex": null,
            "_model_name": "LayoutModel",
            "justify_items": null,
            "grid_row": null,
            "max_height": null,
            "align_content": null,
            "visibility": null,
            "align_self": null,
            "height": null,
            "min_height": null,
            "padding": null,
            "grid_auto_rows": null,
            "grid_gap": null,
            "max_width": null,
            "order": null,
            "_view_module_version": "1.2.0",
            "grid_template_areas": null,
            "object_position": null,
            "object_fit": null,
            "grid_auto_columns": null,
            "margin": null,
            "display": null,
            "left": null
          }
        },
        "dbd0ec693e10401cb59d81fd4d43e9e4": {
          "model_module": "@jupyter-widgets/controls",
          "model_name": "DescriptionStyleModel",
          "state": {
            "_view_name": "StyleView",
            "_model_name": "DescriptionStyleModel",
            "description_width": "",
            "_view_module": "@jupyter-widgets/base",
            "_model_module_version": "1.5.0",
            "_view_count": null,
            "_view_module_version": "1.2.0",
            "_model_module": "@jupyter-widgets/controls"
          }
        },
        "8db029ac4a56457583348aa41bf3768e": {
          "model_module": "@jupyter-widgets/base",
          "model_name": "LayoutModel",
          "state": {
            "_view_name": "LayoutView",
            "grid_template_rows": null,
            "right": null,
            "justify_content": null,
            "_view_module": "@jupyter-widgets/base",
            "overflow": null,
            "_model_module_version": "1.2.0",
            "_view_count": null,
            "flex_flow": null,
            "width": null,
            "min_width": null,
            "border": null,
            "align_items": null,
            "bottom": null,
            "_model_module": "@jupyter-widgets/base",
            "top": null,
            "grid_column": null,
            "overflow_y": null,
            "overflow_x": null,
            "grid_auto_flow": null,
            "grid_area": null,
            "grid_template_columns": null,
            "flex": null,
            "_model_name": "LayoutModel",
            "justify_items": null,
            "grid_row": null,
            "max_height": null,
            "align_content": null,
            "visibility": null,
            "align_self": null,
            "height": null,
            "min_height": null,
            "padding": null,
            "grid_auto_rows": null,
            "grid_gap": null,
            "max_width": null,
            "order": null,
            "_view_module_version": "1.2.0",
            "grid_template_areas": null,
            "object_position": null,
            "object_fit": null,
            "grid_auto_columns": null,
            "margin": null,
            "display": null,
            "left": null
          }
        }
      }
    }
  },
  "cells": [
    {
      "cell_type": "markdown",
      "metadata": {
        "id": "view-in-github",
        "colab_type": "text"
      },
      "source": [
        "<a href=\"https://colab.research.google.com/github/jacKlinc/german_char_recogniser/blob/main/mdl_german_char_classifier.ipynb\" target=\"_parent\"><img src=\"https://colab.research.google.com/assets/colab-badge.svg\" alt=\"Open In Colab\"/></a>"
      ]
    },
    {
      "cell_type": "code",
      "metadata": {
        "id": "Ut-idfQLjlaM"
      },
      "source": [
        "#hide\n",
        "!pip install -Uqq fastbook\n",
        "import fastbook\n",
        "fastbook.setup_book()"
      ],
      "execution_count": 72,
      "outputs": []
    },
    {
      "cell_type": "code",
      "metadata": {
        "id": "eb6bON50Pmuo"
      },
      "source": [
        "from fastbook import *\n",
        "from fastai.vision.all import *"
      ],
      "execution_count": 74,
      "outputs": []
    },
    {
      "cell_type": "code",
      "metadata": {
        "id": "nVj52QS5cm5Z"
      },
      "source": [
        "path = Path('gdrive/MyDrive/Colab Notebooks')\n",
        "Path.BASE_PATH = path"
      ],
      "execution_count": 3,
      "outputs": []
    },
    {
      "cell_type": "code",
      "metadata": {
        "id": "PBGKuFG0kKmT"
      },
      "source": [
        "a = (path/'A').ls().sorted()\n",
        "b = (path/'B').ls().sorted()"
      ],
      "execution_count": 73,
      "outputs": []
    },
    {
      "cell_type": "code",
      "metadata": {
        "colab": {
          "base_uri": "https://localhost:8080/"
        },
        "id": "H54VJheeZzYW",
        "outputId": "b85edbce-3732-4a8e-c055-04331b479e04"
      },
      "source": [
        "len(b)"
      ],
      "execution_count": 5,
      "outputs": [
        {
          "output_type": "execute_result",
          "data": {
            "text/plain": [
              "8668"
            ]
          },
          "metadata": {
            "tags": []
          },
          "execution_count": 5
        }
      ]
    },
    {
      "cell_type": "code",
      "metadata": {
        "colab": {
          "base_uri": "https://localhost:8080/",
          "height": 45
        },
        "id": "Zq4KCJjtkyy-",
        "outputId": "974db54f-1b9f-4a02-f876-5aa5d259903a"
      },
      "source": [
        "img = Image.open(a[100])\n",
        "img"
      ],
      "execution_count": 6,
      "outputs": [
        {
          "output_type": "execute_result",
          "data": {
            "image/png": "[encoded data removed]",
            "text/plain": [
              "<PIL.PngImagePlugin.PngImageFile image mode=L size=28x28 at 0x7F5C7C1744A8>"
            ]
          },
          "metadata": {
            "tags": []
          },
          "execution_count": 6
        }
      ]
    },
    {
      "cell_type": "code",
      "metadata": {
        "id": "fQ_ewH3nk839"
      },
      "source": [
        "img_t = tensor(img)"
      ],
      "execution_count": 7,
      "outputs": []
    },
    {
      "cell_type": "code",
      "metadata": {
        "colab": {
          "base_uri": "https://localhost:8080/",
          "height": 639
        },
        "id": "7JKIM1-Zlme-",
        "outputId": "30a4d5d4-be60-43bd-de71-0a5b6f4b05a7"
      },
      "source": [
        "df = pd.DataFrame(img_t)\n",
        "df.style.set_properties(**{'font-size': '6pt'}).background_gradient('Greys')"
      ],
      "execution_count": 8,
      "outputs": [
        {
          "output_type": "execute_result",
          "data": {
            "text/html": [
              "<style  type=\"text/css\" >\n",
              "#T_7880d814_3ddb_11eb_b662_0242ac1c0002row0_col0,#T_7880d814_3ddb_11eb_b662_0242ac1c0002row0_col1,#T_7880d814_3ddb_11eb_b662_0242ac1c0002row0_col2,#T_7880d814_3ddb_11eb_b662_0242ac1c0002row0_col3,#T_7880d814_3ddb_11eb_b662_0242ac1c0002row0_col4,#T_7880d814_3ddb_11eb_b662_0242ac1c0002row0_col5,#T_7880d814_3ddb_11eb_b662_0242ac1c0002row0_col6,#T_7880d814_3ddb_11eb_b662_0242ac1c0002row0_col7,#T_7880d814_3ddb_11eb_b662_0242ac1c0002row0_col8,#T_7880d814_3ddb_11eb_b662_0242ac1c0002row0_col9,#T_7880d814_3ddb_11eb_b662_0242ac1c0002row0_col10,#T_7880d814_3ddb_11eb_b662_0242ac1c0002row0_col11,#T_7880d814_3ddb_11eb_b662_0242ac1c0002row0_col12,#T_7880d814_3ddb_11eb_b662_0242ac1c0002row0_col13,#T_7880d814_3ddb_11eb_b662_0242ac1c0002row0_col14,#T_7880d814_3ddb_11eb_b662_0242ac1c0002row0_col15,#T_7880d814_3ddb_11eb_b662_0242ac1c0002row0_col16,#T_7880d814_3ddb_11eb_b662_0242ac1c0002row0_col17,#T_7880d814_3ddb_11eb_b662_0242ac1c0002row0_col18,#T_7880d814_3ddb_11eb_b662_0242ac1c0002row0_col19,#T_7880d814_3ddb_11eb_b662_0242ac1c0002row0_col20,#T_7880d814_3ddb_11eb_b662_0242ac1c0002row0_col21,#T_7880d814_3ddb_11eb_b662_0242ac1c0002row0_col22,#T_7880d814_3ddb_11eb_b662_0242ac1c0002row0_col23,#T_7880d814_3ddb_11eb_b662_0242ac1c0002row0_col24,#T_7880d814_3ddb_11eb_b662_0242ac1c0002row0_col25,#T_7880d814_3ddb_11eb_b662_0242ac1c0002row0_col26,#T_7880d814_3ddb_11eb_b662_0242ac1c0002row0_col27,#T_7880d814_3ddb_11eb_b662_0242ac1c0002row1_col0,#T_7880d814_3ddb_11eb_b662_0242ac1c0002row1_col1,#T_7880d814_3ddb_11eb_b662_0242ac1c0002row1_col2,#T_7880d814_3ddb_11eb_b662_0242ac1c0002row1_col3,#T_7880d814_3ddb_11eb_b662_0242ac1c0002row1_col4,#T_7880d814_3ddb_11eb_b662_0242ac1c0002row1_col5,#T_7880d814_3ddb_11eb_b662_0242ac1c0002row1_col6,#T_7880d814_3ddb_11eb_b662_0242ac1c0002row1_col7,#T_7880d814_3ddb_11eb_b662_0242ac1c0002row1_col8,#T_7880d814_3ddb_11eb_b662_0242ac1c0002row1_col9,#T_7880d814_3ddb_11eb_b662_0242ac1c0002row1_col10,#T_7880d814_3ddb_11eb_b662_0242ac1c0002row1_col11,#T_7880d814_3ddb_11eb_b662_0242ac1c0002row1_col12,#T_7880d814_3ddb_11eb_b662_0242ac1c0002row1_col13,#T_7880d814_3ddb_11eb_b662_0242ac1c0002row1_col14,#T_7880d814_3ddb_11eb_b662_0242ac1c0002row1_col15,#T_7880d814_3ddb_11eb_b662_0242ac1c0002row1_col16,#T_7880d814_3ddb_11eb_b662_0242ac1c0002row1_col17,#T_7880d814_3ddb_11eb_b662_0242ac1c0002row1_col18,#T_7880d814_3ddb_11eb_b662_0242ac1c0002row1_col19,#T_7880d814_3ddb_11eb_b662_0242ac1c0002row1_col20,#T_7880d814_3ddb_11eb_b662_0242ac1c0002row1_col21,#T_7880d814_3ddb_11eb_b662_0242ac1c0002row1_col22,#T_7880d814_3ddb_11eb_b662_0242ac1c0002row1_col23,#T_7880d814_3ddb_11eb_b662_0242ac1c0002row1_col24,#T_7880d814_3ddb_11eb_b662_0242ac1c0002row1_col25,#T_7880d814_3ddb_11eb_b662_0242ac1c0002row1_col26,#T_7880d814_3ddb_11eb_b662_0242ac1c0002row1_col27,#T_7880d814_3ddb_11eb_b662_0242ac1c0002row2_col0,#T_7880d814_3ddb_11eb_b662_0242ac1c0002row2_col1,#T_7880d814_3ddb_11eb_b662_0242ac1c0002row2_col2,#T_7880d814_3ddb_11eb_b662_0242ac1c0002row2_col3,#T_7880d814_3ddb_11eb_b662_0242ac1c0002row2_col4,#T_7880d814_3ddb_11eb_b662_0242ac1c0002row2_col5,#T_7880d814_3ddb_11eb_b662_0242ac1c0002row2_col6,#T_7880d814_3ddb_11eb_b662_0242ac1c0002row2_col7,#T_7880d814_3ddb_11eb_b662_0242ac1c0002row2_col8,#T_7880d814_3ddb_11eb_b662_0242ac1c0002row2_col9,#T_7880d814_3ddb_11eb_b662_0242ac1c0002row2_col10,#T_7880d814_3ddb_11eb_b662_0242ac1c0002row2_col11,#T_7880d814_3ddb_11eb_b662_0242ac1c0002row2_col12,#T_7880d814_3ddb_11eb_b662_0242ac1c0002row2_col13,#T_7880d814_3ddb_11eb_b662_0242ac1c0002row2_col14,#T_7880d814_3ddb_11eb_b662_0242ac1c0002row2_col15,#T_7880d814_3ddb_11eb_b662_0242ac1c0002row2_col16,#T_7880d814_3ddb_11eb_b662_0242ac1c0002row2_col17,#T_7880d814_3ddb_11eb_b662_0242ac1c0002row2_col18,#T_7880d814_3ddb_11eb_b662_0242ac1c0002row2_col19,#T_7880d814_3ddb_11eb_b662_0242ac1c0002row2_col20,#T_7880d814_3ddb_11eb_b662_0242ac1c0002row2_col21,#T_7880d814_3ddb_11eb_b662_0242ac1c0002row2_col22,#T_7880d814_3ddb_11eb_b662_0242ac1c0002row2_col23,#T_7880d814_3ddb_11eb_b662_0242ac1c0002row2_col24,#T_7880d814_3ddb_11eb_b662_0242ac1c0002row2_col25,#T_7880d814_3ddb_11eb_b662_0242ac1c0002row2_col26,#T_7880d814_3ddb_11eb_b662_0242ac1c0002row2_col27,#T_7880d814_3ddb_11eb_b662_0242ac1c0002row3_col0,#T_7880d814_3ddb_11eb_b662_0242ac1c0002row3_col1,#T_7880d814_3ddb_11eb_b662_0242ac1c0002row3_col2,#T_7880d814_3ddb_11eb_b662_0242ac1c0002row3_col3,#T_7880d814_3ddb_11eb_b662_0242ac1c0002row3_col4,#T_7880d814_3ddb_11eb_b662_0242ac1c0002row3_col5,#T_7880d814_3ddb_11eb_b662_0242ac1c0002row3_col6,#T_7880d814_3ddb_11eb_b662_0242ac1c0002row3_col7,#T_7880d814_3ddb_11eb_b662_0242ac1c0002row3_col8,#T_7880d814_3ddb_11eb_b662_0242ac1c0002row3_col9,#T_7880d814_3ddb_11eb_b662_0242ac1c0002row3_col10,#T_7880d814_3ddb_11eb_b662_0242ac1c0002row3_col11,#T_7880d814_3ddb_11eb_b662_0242ac1c0002row3_col12,#T_7880d814_3ddb_11eb_b662_0242ac1c0002row3_col13,#T_7880d814_3ddb_11eb_b662_0242ac1c0002row3_col14,#T_7880d814_3ddb_11eb_b662_0242ac1c0002row3_col15,#T_7880d814_3ddb_11eb_b662_0242ac1c0002row3_col16,#T_7880d814_3ddb_11eb_b662_0242ac1c0002row3_col17,#T_7880d814_3ddb_11eb_b662_0242ac1c0002row3_col18,#T_7880d814_3ddb_11eb_b662_0242ac1c0002row3_col19,#T_7880d814_3ddb_11eb_b662_0242ac1c0002row3_col20,#T_7880d814_3ddb_11eb_b662_0242ac1c0002row3_col21,#T_7880d814_3ddb_11eb_b662_0242ac1c0002row3_col22,#T_7880d814_3ddb_11eb_b662_0242ac1c0002row3_col23,#T_7880d814_3ddb_11eb_b662_0242ac1c0002row3_col24,#T_7880d814_3ddb_11eb_b662_0242ac1c0002row3_col25,#T_7880d814_3ddb_11eb_b662_0242ac1c0002row3_col26,#T_7880d814_3ddb_11eb_b662_0242ac1c0002row3_col27,#T_7880d814_3ddb_11eb_b662_0242ac1c0002row4_col0,#T_7880d814_3ddb_11eb_b662_0242ac1c0002row4_col1,#T_7880d814_3ddb_11eb_b662_0242ac1c0002row4_col2,#T_7880d814_3ddb_11eb_b662_0242ac1c0002row4_col3,#T_7880d814_3ddb_11eb_b662_0242ac1c0002row4_col4,#T_7880d814_3ddb_11eb_b662_0242ac1c0002row4_col5,#T_7880d814_3ddb_11eb_b662_0242ac1c0002row4_col6,#T_7880d814_3ddb_11eb_b662_0242ac1c0002row4_col7,#T_7880d814_3ddb_11eb_b662_0242ac1c0002row4_col8,#T_7880d814_3ddb_11eb_b662_0242ac1c0002row4_col9,#T_7880d814_3ddb_11eb_b662_0242ac1c0002row4_col10,#T_7880d814_3ddb_11eb_b662_0242ac1c0002row4_col11,#T_7880d814_3ddb_11eb_b662_0242ac1c0002row4_col12,#T_7880d814_3ddb_11eb_b662_0242ac1c0002row4_col13,#T_7880d814_3ddb_11eb_b662_0242ac1c0002row4_col14,#T_7880d814_3ddb_11eb_b662_0242ac1c0002row4_col23,#T_7880d814_3ddb_11eb_b662_0242ac1c0002row4_col24,#T_7880d814_3ddb_11eb_b662_0242ac1c0002row4_col25,#T_7880d814_3ddb_11eb_b662_0242ac1c0002row4_col26,#T_7880d814_3ddb_11eb_b662_0242ac1c0002row4_col27,#T_7880d814_3ddb_11eb_b662_0242ac1c0002row5_col0,#T_7880d814_3ddb_11eb_b662_0242ac1c0002row5_col1,#T_7880d814_3ddb_11eb_b662_0242ac1c0002row5_col2,#T_7880d814_3ddb_11eb_b662_0242ac1c0002row5_col3,#T_7880d814_3ddb_11eb_b662_0242ac1c0002row5_col4,#T_7880d814_3ddb_11eb_b662_0242ac1c0002row5_col5,#T_7880d814_3ddb_11eb_b662_0242ac1c0002row5_col6,#T_7880d814_3ddb_11eb_b662_0242ac1c0002row5_col7,#T_7880d814_3ddb_11eb_b662_0242ac1c0002row5_col8,#T_7880d814_3ddb_11eb_b662_0242ac1c0002row5_col9,#T_7880d814_3ddb_11eb_b662_0242ac1c0002row5_col10,#T_7880d814_3ddb_11eb_b662_0242ac1c0002row5_col11,#T_7880d814_3ddb_11eb_b662_0242ac1c0002row5_col12,#T_7880d814_3ddb_11eb_b662_0242ac1c0002row5_col13,#T_7880d814_3ddb_11eb_b662_0242ac1c0002row5_col23,#T_7880d814_3ddb_11eb_b662_0242ac1c0002row5_col24,#T_7880d814_3ddb_11eb_b662_0242ac1c0002row5_col25,#T_7880d814_3ddb_11eb_b662_0242ac1c0002row5_col26,#T_7880d814_3ddb_11eb_b662_0242ac1c0002row5_col27,#T_7880d814_3ddb_11eb_b662_0242ac1c0002row6_col0,#T_7880d814_3ddb_11eb_b662_0242ac1c0002row6_col1,#T_7880d814_3ddb_11eb_b662_0242ac1c0002row6_col2,#T_7880d814_3ddb_11eb_b662_0242ac1c0002row6_col3,#T_7880d814_3ddb_11eb_b662_0242ac1c0002row6_col4,#T_7880d814_3ddb_11eb_b662_0242ac1c0002row6_col5,#T_7880d814_3ddb_11eb_b662_0242ac1c0002row6_col6,#T_7880d814_3ddb_11eb_b662_0242ac1c0002row6_col7,#T_7880d814_3ddb_11eb_b662_0242ac1c0002row6_col8,#T_7880d814_3ddb_11eb_b662_0242ac1c0002row6_col9,#T_7880d814_3ddb_11eb_b662_0242ac1c0002row6_col10,#T_7880d814_3ddb_11eb_b662_0242ac1c0002row6_col11,#T_7880d814_3ddb_11eb_b662_0242ac1c0002row6_col12,#T_7880d814_3ddb_11eb_b662_0242ac1c0002row6_col13,#T_7880d814_3ddb_11eb_b662_0242ac1c0002row6_col23,#T_7880d814_3ddb_11eb_b662_0242ac1c0002row6_col24,#T_7880d814_3ddb_11eb_b662_0242ac1c0002row6_col25,#T_7880d814_3ddb_11eb_b662_0242ac1c0002row6_col26,#T_7880d814_3ddb_11eb_b662_0242ac1c0002row6_col27,#T_7880d814_3ddb_11eb_b662_0242ac1c0002row7_col0,#T_7880d814_3ddb_11eb_b662_0242ac1c0002row7_col1,#T_7880d814_3ddb_11eb_b662_0242ac1c0002row7_col2,#T_7880d814_3ddb_11eb_b662_0242ac1c0002row7_col3,#T_7880d814_3ddb_11eb_b662_0242ac1c0002row7_col4,#T_7880d814_3ddb_11eb_b662_0242ac1c0002row7_col5,#T_7880d814_3ddb_11eb_b662_0242ac1c0002row7_col6,#T_7880d814_3ddb_11eb_b662_0242ac1c0002row7_col7,#T_7880d814_3ddb_11eb_b662_0242ac1c0002row7_col8,#T_7880d814_3ddb_11eb_b662_0242ac1c0002row7_col9,#T_7880d814_3ddb_11eb_b662_0242ac1c0002row7_col10,#T_7880d814_3ddb_11eb_b662_0242ac1c0002row7_col11,#T_7880d814_3ddb_11eb_b662_0242ac1c0002row7_col12,#T_7880d814_3ddb_11eb_b662_0242ac1c0002row7_col23,#T_7880d814_3ddb_11eb_b662_0242ac1c0002row7_col24,#T_7880d814_3ddb_11eb_b662_0242ac1c0002row7_col25,#T_7880d814_3ddb_11eb_b662_0242ac1c0002row7_col26,#T_7880d814_3ddb_11eb_b662_0242ac1c0002row7_col27,#T_7880d814_3ddb_11eb_b662_0242ac1c0002row8_col0,#T_7880d814_3ddb_11eb_b662_0242ac1c0002row8_col1,#T_7880d814_3ddb_11eb_b662_0242ac1c0002row8_col2,#T_7880d814_3ddb_11eb_b662_0242ac1c0002row8_col3,#T_7880d814_3ddb_11eb_b662_0242ac1c0002row8_col4,#T_7880d814_3ddb_11eb_b662_0242ac1c0002row8_col5,#T_7880d814_3ddb_11eb_b662_0242ac1c0002row8_col6,#T_7880d814_3ddb_11eb_b662_0242ac1c0002row8_col7,#T_7880d814_3ddb_11eb_b662_0242ac1c0002row8_col8,#T_7880d814_3ddb_11eb_b662_0242ac1c0002row8_col9,#T_7880d814_3ddb_11eb_b662_0242ac1c0002row8_col10,#T_7880d814_3ddb_11eb_b662_0242ac1c0002row8_col11,#T_7880d814_3ddb_11eb_b662_0242ac1c0002row8_col23,#T_7880d814_3ddb_11eb_b662_0242ac1c0002row8_col24,#T_7880d814_3ddb_11eb_b662_0242ac1c0002row8_col25,#T_7880d814_3ddb_11eb_b662_0242ac1c0002row8_col26,#T_7880d814_3ddb_11eb_b662_0242ac1c0002row8_col27,#T_7880d814_3ddb_11eb_b662_0242ac1c0002row9_col0,#T_7880d814_3ddb_11eb_b662_0242ac1c0002row9_col1,#T_7880d814_3ddb_11eb_b662_0242ac1c0002row9_col2,#T_7880d814_3ddb_11eb_b662_0242ac1c0002row9_col3,#T_7880d814_3ddb_11eb_b662_0242ac1c0002row9_col4,#T_7880d814_3ddb_11eb_b662_0242ac1c0002row9_col5,#T_7880d814_3ddb_11eb_b662_0242ac1c0002row9_col6,#T_7880d814_3ddb_11eb_b662_0242ac1c0002row9_col7,#T_7880d814_3ddb_11eb_b662_0242ac1c0002row9_col8,#T_7880d814_3ddb_11eb_b662_0242ac1c0002row9_col9,#T_7880d814_3ddb_11eb_b662_0242ac1c0002row9_col10,#T_7880d814_3ddb_11eb_b662_0242ac1c0002row9_col11,#T_7880d814_3ddb_11eb_b662_0242ac1c0002row9_col18,#T_7880d814_3ddb_11eb_b662_0242ac1c0002row9_col23,#T_7880d814_3ddb_11eb_b662_0242ac1c0002row9_col24,#T_7880d814_3ddb_11eb_b662_0242ac1c0002row9_col25,#T_7880d814_3ddb_11eb_b662_0242ac1c0002row9_col26,#T_7880d814_3ddb_11eb_b662_0242ac1c0002row9_col27,#T_7880d814_3ddb_11eb_b662_0242ac1c0002row10_col0,#T_7880d814_3ddb_11eb_b662_0242ac1c0002row10_col1,#T_7880d814_3ddb_11eb_b662_0242ac1c0002row10_col2,#T_7880d814_3ddb_11eb_b662_0242ac1c0002row10_col3,#T_7880d814_3ddb_11eb_b662_0242ac1c0002row10_col4,#T_7880d814_3ddb_11eb_b662_0242ac1c0002row10_col5,#T_7880d814_3ddb_11eb_b662_0242ac1c0002row10_col6,#T_7880d814_3ddb_11eb_b662_0242ac1c0002row10_col7,#T_7880d814_3ddb_11eb_b662_0242ac1c0002row10_col8,#T_7880d814_3ddb_11eb_b662_0242ac1c0002row10_col9,#T_7880d814_3ddb_11eb_b662_0242ac1c0002row10_col10,#T_7880d814_3ddb_11eb_b662_0242ac1c0002row10_col17,#T_7880d814_3ddb_11eb_b662_0242ac1c0002row10_col23,#T_7880d814_3ddb_11eb_b662_0242ac1c0002row10_col24,#T_7880d814_3ddb_11eb_b662_0242ac1c0002row10_col25,#T_7880d814_3ddb_11eb_b662_0242ac1c0002row10_col26,#T_7880d814_3ddb_11eb_b662_0242ac1c0002row10_col27,#T_7880d814_3ddb_11eb_b662_0242ac1c0002row11_col0,#T_7880d814_3ddb_11eb_b662_0242ac1c0002row11_col1,#T_7880d814_3ddb_11eb_b662_0242ac1c0002row11_col2,#T_7880d814_3ddb_11eb_b662_0242ac1c0002row11_col3,#T_7880d814_3ddb_11eb_b662_0242ac1c0002row11_col4,#T_7880d814_3ddb_11eb_b662_0242ac1c0002row11_col5,#T_7880d814_3ddb_11eb_b662_0242ac1c0002row11_col6,#T_7880d814_3ddb_11eb_b662_0242ac1c0002row11_col7,#T_7880d814_3ddb_11eb_b662_0242ac1c0002row11_col8,#T_7880d814_3ddb_11eb_b662_0242ac1c0002row11_col9,#T_7880d814_3ddb_11eb_b662_0242ac1c0002row11_col16,#T_7880d814_3ddb_11eb_b662_0242ac1c0002row11_col17,#T_7880d814_3ddb_11eb_b662_0242ac1c0002row11_col23,#T_7880d814_3ddb_11eb_b662_0242ac1c0002row11_col24,#T_7880d814_3ddb_11eb_b662_0242ac1c0002row11_col25,#T_7880d814_3ddb_11eb_b662_0242ac1c0002row11_col26,#T_7880d814_3ddb_11eb_b662_0242ac1c0002row11_col27,#T_7880d814_3ddb_11eb_b662_0242ac1c0002row12_col0,#T_7880d814_3ddb_11eb_b662_0242ac1c0002row12_col1,#T_7880d814_3ddb_11eb_b662_0242ac1c0002row12_col2,#T_7880d814_3ddb_11eb_b662_0242ac1c0002row12_col3,#T_7880d814_3ddb_11eb_b662_0242ac1c0002row12_col4,#T_7880d814_3ddb_11eb_b662_0242ac1c0002row12_col5,#T_7880d814_3ddb_11eb_b662_0242ac1c0002row12_col6,#T_7880d814_3ddb_11eb_b662_0242ac1c0002row12_col7,#T_7880d814_3ddb_11eb_b662_0242ac1c0002row12_col8,#T_7880d814_3ddb_11eb_b662_0242ac1c0002row12_col9,#T_7880d814_3ddb_11eb_b662_0242ac1c0002row12_col15,#T_7880d814_3ddb_11eb_b662_0242ac1c0002row12_col16,#T_7880d814_3ddb_11eb_b662_0242ac1c0002row12_col17,#T_7880d814_3ddb_11eb_b662_0242ac1c0002row12_col22,#T_7880d814_3ddb_11eb_b662_0242ac1c0002row12_col23,#T_7880d814_3ddb_11eb_b662_0242ac1c0002row12_col24,#T_7880d814_3ddb_11eb_b662_0242ac1c0002row12_col25,#T_7880d814_3ddb_11eb_b662_0242ac1c0002row12_col26,#T_7880d814_3ddb_11eb_b662_0242ac1c0002row12_col27,#T_7880d814_3ddb_11eb_b662_0242ac1c0002row13_col0,#T_7880d814_3ddb_11eb_b662_0242ac1c0002row13_col1,#T_7880d814_3ddb_11eb_b662_0242ac1c0002row13_col2,#T_7880d814_3ddb_11eb_b662_0242ac1c0002row13_col3,#T_7880d814_3ddb_11eb_b662_0242ac1c0002row13_col4,#T_7880d814_3ddb_11eb_b662_0242ac1c0002row13_col5,#T_7880d814_3ddb_11eb_b662_0242ac1c0002row13_col6,#T_7880d814_3ddb_11eb_b662_0242ac1c0002row13_col7,#T_7880d814_3ddb_11eb_b662_0242ac1c0002row13_col8,#T_7880d814_3ddb_11eb_b662_0242ac1c0002row13_col14,#T_7880d814_3ddb_11eb_b662_0242ac1c0002row13_col15,#T_7880d814_3ddb_11eb_b662_0242ac1c0002row13_col16,#T_7880d814_3ddb_11eb_b662_0242ac1c0002row13_col22,#T_7880d814_3ddb_11eb_b662_0242ac1c0002row13_col23,#T_7880d814_3ddb_11eb_b662_0242ac1c0002row13_col24,#T_7880d814_3ddb_11eb_b662_0242ac1c0002row13_col25,#T_7880d814_3ddb_11eb_b662_0242ac1c0002row13_col26,#T_7880d814_3ddb_11eb_b662_0242ac1c0002row13_col27,#T_7880d814_3ddb_11eb_b662_0242ac1c0002row14_col0,#T_7880d814_3ddb_11eb_b662_0242ac1c0002row14_col1,#T_7880d814_3ddb_11eb_b662_0242ac1c0002row14_col2,#T_7880d814_3ddb_11eb_b662_0242ac1c0002row14_col3,#T_7880d814_3ddb_11eb_b662_0242ac1c0002row14_col4,#T_7880d814_3ddb_11eb_b662_0242ac1c0002row14_col5,#T_7880d814_3ddb_11eb_b662_0242ac1c0002row14_col6,#T_7880d814_3ddb_11eb_b662_0242ac1c0002row14_col7,#T_7880d814_3ddb_11eb_b662_0242ac1c0002row14_col8,#T_7880d814_3ddb_11eb_b662_0242ac1c0002row14_col14,#T_7880d814_3ddb_11eb_b662_0242ac1c0002row14_col22,#T_7880d814_3ddb_11eb_b662_0242ac1c0002row14_col23,#T_7880d814_3ddb_11eb_b662_0242ac1c0002row14_col24,#T_7880d814_3ddb_11eb_b662_0242ac1c0002row14_col25,#T_7880d814_3ddb_11eb_b662_0242ac1c0002row14_col26,#T_7880d814_3ddb_11eb_b662_0242ac1c0002row14_col27,#T_7880d814_3ddb_11eb_b662_0242ac1c0002row15_col0,#T_7880d814_3ddb_11eb_b662_0242ac1c0002row15_col1,#T_7880d814_3ddb_11eb_b662_0242ac1c0002row15_col2,#T_7880d814_3ddb_11eb_b662_0242ac1c0002row15_col3,#T_7880d814_3ddb_11eb_b662_0242ac1c0002row15_col4,#T_7880d814_3ddb_11eb_b662_0242ac1c0002row15_col5,#T_7880d814_3ddb_11eb_b662_0242ac1c0002row15_col6,#T_7880d814_3ddb_11eb_b662_0242ac1c0002row15_col7,#T_7880d814_3ddb_11eb_b662_0242ac1c0002row15_col22,#T_7880d814_3ddb_11eb_b662_0242ac1c0002row15_col23,#T_7880d814_3ddb_11eb_b662_0242ac1c0002row15_col24,#T_7880d814_3ddb_11eb_b662_0242ac1c0002row15_col25,#T_7880d814_3ddb_11eb_b662_0242ac1c0002row15_col26,#T_7880d814_3ddb_11eb_b662_0242ac1c0002row15_col27,#T_7880d814_3ddb_11eb_b662_0242ac1c0002row16_col0,#T_7880d814_3ddb_11eb_b662_0242ac1c0002row16_col1,#T_7880d814_3ddb_11eb_b662_0242ac1c0002row16_col2,#T_7880d814_3ddb_11eb_b662_0242ac1c0002row16_col3,#T_7880d814_3ddb_11eb_b662_0242ac1c0002row16_col4,#T_7880d814_3ddb_11eb_b662_0242ac1c0002row16_col5,#T_7880d814_3ddb_11eb_b662_0242ac1c0002row16_col6,#T_7880d814_3ddb_11eb_b662_0242ac1c0002row16_col7,#T_7880d814_3ddb_11eb_b662_0242ac1c0002row16_col21,#T_7880d814_3ddb_11eb_b662_0242ac1c0002row16_col22,#T_7880d814_3ddb_11eb_b662_0242ac1c0002row16_col23,#T_7880d814_3ddb_11eb_b662_0242ac1c0002row16_col24,#T_7880d814_3ddb_11eb_b662_0242ac1c0002row16_col25,#T_7880d814_3ddb_11eb_b662_0242ac1c0002row16_col26,#T_7880d814_3ddb_11eb_b662_0242ac1c0002row16_col27,#T_7880d814_3ddb_11eb_b662_0242ac1c0002row17_col0,#T_7880d814_3ddb_11eb_b662_0242ac1c0002row17_col1,#T_7880d814_3ddb_11eb_b662_0242ac1c0002row17_col2,#T_7880d814_3ddb_11eb_b662_0242ac1c0002row17_col3,#T_7880d814_3ddb_11eb_b662_0242ac1c0002row17_col4,#T_7880d814_3ddb_11eb_b662_0242ac1c0002row17_col5,#T_7880d814_3ddb_11eb_b662_0242ac1c0002row17_col6,#T_7880d814_3ddb_11eb_b662_0242ac1c0002row17_col20,#T_7880d814_3ddb_11eb_b662_0242ac1c0002row17_col21,#T_7880d814_3ddb_11eb_b662_0242ac1c0002row17_col22,#T_7880d814_3ddb_11eb_b662_0242ac1c0002row17_col23,#T_7880d814_3ddb_11eb_b662_0242ac1c0002row17_col24,#T_7880d814_3ddb_11eb_b662_0242ac1c0002row17_col25,#T_7880d814_3ddb_11eb_b662_0242ac1c0002row17_col26,#T_7880d814_3ddb_11eb_b662_0242ac1c0002row17_col27,#T_7880d814_3ddb_11eb_b662_0242ac1c0002row18_col0,#T_7880d814_3ddb_11eb_b662_0242ac1c0002row18_col1,#T_7880d814_3ddb_11eb_b662_0242ac1c0002row18_col2,#T_7880d814_3ddb_11eb_b662_0242ac1c0002row18_col3,#T_7880d814_3ddb_11eb_b662_0242ac1c0002row18_col4,#T_7880d814_3ddb_11eb_b662_0242ac1c0002row18_col5,#T_7880d814_3ddb_11eb_b662_0242ac1c0002row18_col20,#T_7880d814_3ddb_11eb_b662_0242ac1c0002row18_col21,#T_7880d814_3ddb_11eb_b662_0242ac1c0002row18_col22,#T_7880d814_3ddb_11eb_b662_0242ac1c0002row18_col23,#T_7880d814_3ddb_11eb_b662_0242ac1c0002row18_col24,#T_7880d814_3ddb_11eb_b662_0242ac1c0002row18_col25,#T_7880d814_3ddb_11eb_b662_0242ac1c0002row18_col26,#T_7880d814_3ddb_11eb_b662_0242ac1c0002row18_col27,#T_7880d814_3ddb_11eb_b662_0242ac1c0002row19_col0,#T_7880d814_3ddb_11eb_b662_0242ac1c0002row19_col1,#T_7880d814_3ddb_11eb_b662_0242ac1c0002row19_col2,#T_7880d814_3ddb_11eb_b662_0242ac1c0002row19_col3,#T_7880d814_3ddb_11eb_b662_0242ac1c0002row19_col4,#T_7880d814_3ddb_11eb_b662_0242ac1c0002row19_col5,#T_7880d814_3ddb_11eb_b662_0242ac1c0002row19_col13,#T_7880d814_3ddb_11eb_b662_0242ac1c0002row19_col19,#T_7880d814_3ddb_11eb_b662_0242ac1c0002row19_col20,#T_7880d814_3ddb_11eb_b662_0242ac1c0002row19_col21,#T_7880d814_3ddb_11eb_b662_0242ac1c0002row19_col22,#T_7880d814_3ddb_11eb_b662_0242ac1c0002row19_col23,#T_7880d814_3ddb_11eb_b662_0242ac1c0002row19_col24,#T_7880d814_3ddb_11eb_b662_0242ac1c0002row19_col25,#T_7880d814_3ddb_11eb_b662_0242ac1c0002row19_col26,#T_7880d814_3ddb_11eb_b662_0242ac1c0002row19_col27,#T_7880d814_3ddb_11eb_b662_0242ac1c0002row20_col0,#T_7880d814_3ddb_11eb_b662_0242ac1c0002row20_col1,#T_7880d814_3ddb_11eb_b662_0242ac1c0002row20_col2,#T_7880d814_3ddb_11eb_b662_0242ac1c0002row20_col3,#T_7880d814_3ddb_11eb_b662_0242ac1c0002row20_col4,#T_7880d814_3ddb_11eb_b662_0242ac1c0002row20_col5,#T_7880d814_3ddb_11eb_b662_0242ac1c0002row20_col10,#T_7880d814_3ddb_11eb_b662_0242ac1c0002row20_col11,#T_7880d814_3ddb_11eb_b662_0242ac1c0002row20_col12,#T_7880d814_3ddb_11eb_b662_0242ac1c0002row20_col13,#T_7880d814_3ddb_11eb_b662_0242ac1c0002row20_col19,#T_7880d814_3ddb_11eb_b662_0242ac1c0002row20_col20,#T_7880d814_3ddb_11eb_b662_0242ac1c0002row20_col21,#T_7880d814_3ddb_11eb_b662_0242ac1c0002row20_col22,#T_7880d814_3ddb_11eb_b662_0242ac1c0002row20_col23,#T_7880d814_3ddb_11eb_b662_0242ac1c0002row20_col24,#T_7880d814_3ddb_11eb_b662_0242ac1c0002row20_col25,#T_7880d814_3ddb_11eb_b662_0242ac1c0002row20_col26,#T_7880d814_3ddb_11eb_b662_0242ac1c0002row20_col27,#T_7880d814_3ddb_11eb_b662_0242ac1c0002row21_col0,#T_7880d814_3ddb_11eb_b662_0242ac1c0002row21_col1,#T_7880d814_3ddb_11eb_b662_0242ac1c0002row21_col2,#T_7880d814_3ddb_11eb_b662_0242ac1c0002row21_col3,#T_7880d814_3ddb_11eb_b662_0242ac1c0002row21_col4,#T_7880d814_3ddb_11eb_b662_0242ac1c0002row21_col10,#T_7880d814_3ddb_11eb_b662_0242ac1c0002row21_col11,#T_7880d814_3ddb_11eb_b662_0242ac1c0002row21_col12,#T_7880d814_3ddb_11eb_b662_0242ac1c0002row21_col13,#T_7880d814_3ddb_11eb_b662_0242ac1c0002row21_col18,#T_7880d814_3ddb_11eb_b662_0242ac1c0002row21_col19,#T_7880d814_3ddb_11eb_b662_0242ac1c0002row21_col20,#T_7880d814_3ddb_11eb_b662_0242ac1c0002row21_col21,#T_7880d814_3ddb_11eb_b662_0242ac1c0002row21_col22,#T_7880d814_3ddb_11eb_b662_0242ac1c0002row21_col23,#T_7880d814_3ddb_11eb_b662_0242ac1c0002row21_col24,#T_7880d814_3ddb_11eb_b662_0242ac1c0002row21_col25,#T_7880d814_3ddb_11eb_b662_0242ac1c0002row21_col26,#T_7880d814_3ddb_11eb_b662_0242ac1c0002row21_col27,#T_7880d814_3ddb_11eb_b662_0242ac1c0002row22_col0,#T_7880d814_3ddb_11eb_b662_0242ac1c0002row22_col1,#T_7880d814_3ddb_11eb_b662_0242ac1c0002row22_col2,#T_7880d814_3ddb_11eb_b662_0242ac1c0002row22_col3,#T_7880d814_3ddb_11eb_b662_0242ac1c0002row22_col4,#T_7880d814_3ddb_11eb_b662_0242ac1c0002row22_col9,#T_7880d814_3ddb_11eb_b662_0242ac1c0002row22_col10,#T_7880d814_3ddb_11eb_b662_0242ac1c0002row22_col11,#T_7880d814_3ddb_11eb_b662_0242ac1c0002row22_col12,#T_7880d814_3ddb_11eb_b662_0242ac1c0002row22_col13,#T_7880d814_3ddb_11eb_b662_0242ac1c0002row22_col18,#T_7880d814_3ddb_11eb_b662_0242ac1c0002row22_col19,#T_7880d814_3ddb_11eb_b662_0242ac1c0002row22_col20,#T_7880d814_3ddb_11eb_b662_0242ac1c0002row22_col21,#T_7880d814_3ddb_11eb_b662_0242ac1c0002row22_col22,#T_7880d814_3ddb_11eb_b662_0242ac1c0002row22_col23,#T_7880d814_3ddb_11eb_b662_0242ac1c0002row22_col24,#T_7880d814_3ddb_11eb_b662_0242ac1c0002row22_col25,#T_7880d814_3ddb_11eb_b662_0242ac1c0002row22_col26,#T_7880d814_3ddb_11eb_b662_0242ac1c0002row22_col27,#T_7880d814_3ddb_11eb_b662_0242ac1c0002row23_col0,#T_7880d814_3ddb_11eb_b662_0242ac1c0002row23_col1,#T_7880d814_3ddb_11eb_b662_0242ac1c0002row23_col2,#T_7880d814_3ddb_11eb_b662_0242ac1c0002row23_col3,#T_7880d814_3ddb_11eb_b662_0242ac1c0002row23_col4,#T_7880d814_3ddb_11eb_b662_0242ac1c0002row23_col8,#T_7880d814_3ddb_11eb_b662_0242ac1c0002row23_col9,#T_7880d814_3ddb_11eb_b662_0242ac1c0002row23_col10,#T_7880d814_3ddb_11eb_b662_0242ac1c0002row23_col11,#T_7880d814_3ddb_11eb_b662_0242ac1c0002row23_col12,#T_7880d814_3ddb_11eb_b662_0242ac1c0002row23_col13,#T_7880d814_3ddb_11eb_b662_0242ac1c0002row23_col18,#T_7880d814_3ddb_11eb_b662_0242ac1c0002row23_col19,#T_7880d814_3ddb_11eb_b662_0242ac1c0002row23_col20,#T_7880d814_3ddb_11eb_b662_0242ac1c0002row23_col21,#T_7880d814_3ddb_11eb_b662_0242ac1c0002row23_col22,#T_7880d814_3ddb_11eb_b662_0242ac1c0002row23_col23,#T_7880d814_3ddb_11eb_b662_0242ac1c0002row23_col24,#T_7880d814_3ddb_11eb_b662_0242ac1c0002row23_col25,#T_7880d814_3ddb_11eb_b662_0242ac1c0002row23_col26,#T_7880d814_3ddb_11eb_b662_0242ac1c0002row23_col27,#T_7880d814_3ddb_11eb_b662_0242ac1c0002row24_col0,#T_7880d814_3ddb_11eb_b662_0242ac1c0002row24_col1,#T_7880d814_3ddb_11eb_b662_0242ac1c0002row24_col2,#T_7880d814_3ddb_11eb_b662_0242ac1c0002row24_col3,#T_7880d814_3ddb_11eb_b662_0242ac1c0002row24_col4,#T_7880d814_3ddb_11eb_b662_0242ac1c0002row24_col5,#T_7880d814_3ddb_11eb_b662_0242ac1c0002row24_col6,#T_7880d814_3ddb_11eb_b662_0242ac1c0002row24_col7,#T_7880d814_3ddb_11eb_b662_0242ac1c0002row24_col8,#T_7880d814_3ddb_11eb_b662_0242ac1c0002row24_col9,#T_7880d814_3ddb_11eb_b662_0242ac1c0002row24_col10,#T_7880d814_3ddb_11eb_b662_0242ac1c0002row24_col11,#T_7880d814_3ddb_11eb_b662_0242ac1c0002row24_col12,#T_7880d814_3ddb_11eb_b662_0242ac1c0002row24_col13,#T_7880d814_3ddb_11eb_b662_0242ac1c0002row24_col14,#T_7880d814_3ddb_11eb_b662_0242ac1c0002row24_col15,#T_7880d814_3ddb_11eb_b662_0242ac1c0002row24_col16,#T_7880d814_3ddb_11eb_b662_0242ac1c0002row24_col17,#T_7880d814_3ddb_11eb_b662_0242ac1c0002row24_col18,#T_7880d814_3ddb_11eb_b662_0242ac1c0002row24_col19,#T_7880d814_3ddb_11eb_b662_0242ac1c0002row24_col20,#T_7880d814_3ddb_11eb_b662_0242ac1c0002row24_col21,#T_7880d814_3ddb_11eb_b662_0242ac1c0002row24_col22,#T_7880d814_3ddb_11eb_b662_0242ac1c0002row24_col23,#T_7880d814_3ddb_11eb_b662_0242ac1c0002row24_col24,#T_7880d814_3ddb_11eb_b662_0242ac1c0002row24_col25,#T_7880d814_3ddb_11eb_b662_0242ac1c0002row24_col26,#T_7880d814_3ddb_11eb_b662_0242ac1c0002row24_col27,#T_7880d814_3ddb_11eb_b662_0242ac1c0002row25_col0,#T_7880d814_3ddb_11eb_b662_0242ac1c0002row25_col1,#T_7880d814_3ddb_11eb_b662_0242ac1c0002row25_col2,#T_7880d814_3ddb_11eb_b662_0242ac1c0002row25_col3,#T_7880d814_3ddb_11eb_b662_0242ac1c0002row25_col4,#T_7880d814_3ddb_11eb_b662_0242ac1c0002row25_col5,#T_7880d814_3ddb_11eb_b662_0242ac1c0002row25_col6,#T_7880d814_3ddb_11eb_b662_0242ac1c0002row25_col7,#T_7880d814_3ddb_11eb_b662_0242ac1c0002row25_col8,#T_7880d814_3ddb_11eb_b662_0242ac1c0002row25_col9,#T_7880d814_3ddb_11eb_b662_0242ac1c0002row25_col10,#T_7880d814_3ddb_11eb_b662_0242ac1c0002row25_col11,#T_7880d814_3ddb_11eb_b662_0242ac1c0002row25_col12,#T_7880d814_3ddb_11eb_b662_0242ac1c0002row25_col13,#T_7880d814_3ddb_11eb_b662_0242ac1c0002row25_col14,#T_7880d814_3ddb_11eb_b662_0242ac1c0002row25_col15,#T_7880d814_3ddb_11eb_b662_0242ac1c0002row25_col16,#T_7880d814_3ddb_11eb_b662_0242ac1c0002row25_col17,#T_7880d814_3ddb_11eb_b662_0242ac1c0002row25_col18,#T_7880d814_3ddb_11eb_b662_0242ac1c0002row25_col19,#T_7880d814_3ddb_11eb_b662_0242ac1c0002row25_col20,#T_7880d814_3ddb_11eb_b662_0242ac1c0002row25_col21,#T_7880d814_3ddb_11eb_b662_0242ac1c0002row25_col22,#T_7880d814_3ddb_11eb_b662_0242ac1c0002row25_col23,#T_7880d814_3ddb_11eb_b662_0242ac1c0002row25_col24,#T_7880d814_3ddb_11eb_b662_0242ac1c0002row25_col25,#T_7880d814_3ddb_11eb_b662_0242ac1c0002row25_col26,#T_7880d814_3ddb_11eb_b662_0242ac1c0002row25_col27,#T_7880d814_3ddb_11eb_b662_0242ac1c0002row26_col0,#T_7880d814_3ddb_11eb_b662_0242ac1c0002row26_col1,#T_7880d814_3ddb_11eb_b662_0242ac1c0002row26_col2,#T_7880d814_3ddb_11eb_b662_0242ac1c0002row26_col3,#T_7880d814_3ddb_11eb_b662_0242ac1c0002row26_col4,#T_7880d814_3ddb_11eb_b662_0242ac1c0002row26_col5,#T_7880d814_3ddb_11eb_b662_0242ac1c0002row26_col6,#T_7880d814_3ddb_11eb_b662_0242ac1c0002row26_col7,#T_7880d814_3ddb_11eb_b662_0242ac1c0002row26_col8,#T_7880d814_3ddb_11eb_b662_0242ac1c0002row26_col9,#T_7880d814_3ddb_11eb_b662_0242ac1c0002row26_col10,#T_7880d814_3ddb_11eb_b662_0242ac1c0002row26_col11,#T_7880d814_3ddb_11eb_b662_0242ac1c0002row26_col12,#T_7880d814_3ddb_11eb_b662_0242ac1c0002row26_col13,#T_7880d814_3ddb_11eb_b662_0242ac1c0002row26_col14,#T_7880d814_3ddb_11eb_b662_0242ac1c0002row26_col15,#T_7880d814_3ddb_11eb_b662_0242ac1c0002row26_col16,#T_7880d814_3ddb_11eb_b662_0242ac1c0002row26_col17,#T_7880d814_3ddb_11eb_b662_0242ac1c0002row26_col18,#T_7880d814_3ddb_11eb_b662_0242ac1c0002row26_col19,#T_7880d814_3ddb_11eb_b662_0242ac1c0002row26_col20,#T_7880d814_3ddb_11eb_b662_0242ac1c0002row26_col21,#T_7880d814_3ddb_11eb_b662_0242ac1c0002row26_col22,#T_7880d814_3ddb_11eb_b662_0242ac1c0002row26_col23,#T_7880d814_3ddb_11eb_b662_0242ac1c0002row26_col24,#T_7880d814_3ddb_11eb_b662_0242ac1c0002row26_col25,#T_7880d814_3ddb_11eb_b662_0242ac1c0002row26_col26,#T_7880d814_3ddb_11eb_b662_0242ac1c0002row26_col27,#T_7880d814_3ddb_11eb_b662_0242ac1c0002row27_col0,#T_7880d814_3ddb_11eb_b662_0242ac1c0002row27_col1,#T_7880d814_3ddb_11eb_b662_0242ac1c0002row27_col2,#T_7880d814_3ddb_11eb_b662_0242ac1c0002row27_col3,#T_7880d814_3ddb_11eb_b662_0242ac1c0002row27_col4,#T_7880d814_3ddb_11eb_b662_0242ac1c0002row27_col5,#T_7880d814_3ddb_11eb_b662_0242ac1c0002row27_col6,#T_7880d814_3ddb_11eb_b662_0242ac1c0002row27_col7,#T_7880d814_3ddb_11eb_b662_0242ac1c0002row27_col8,#T_7880d814_3ddb_11eb_b662_0242ac1c0002row27_col9,#T_7880d814_3ddb_11eb_b662_0242ac1c0002row27_col10,#T_7880d814_3ddb_11eb_b662_0242ac1c0002row27_col11,#T_7880d814_3ddb_11eb_b662_0242ac1c0002row27_col12,#T_7880d814_3ddb_11eb_b662_0242ac1c0002row27_col13,#T_7880d814_3ddb_11eb_b662_0242ac1c0002row27_col14,#T_7880d814_3ddb_11eb_b662_0242ac1c0002row27_col15,#T_7880d814_3ddb_11eb_b662_0242ac1c0002row27_col16,#T_7880d814_3ddb_11eb_b662_0242ac1c0002row27_col17,#T_7880d814_3ddb_11eb_b662_0242ac1c0002row27_col18,#T_7880d814_3ddb_11eb_b662_0242ac1c0002row27_col19,#T_7880d814_3ddb_11eb_b662_0242ac1c0002row27_col20,#T_7880d814_3ddb_11eb_b662_0242ac1c0002row27_col21,#T_7880d814_3ddb_11eb_b662_0242ac1c0002row27_col22,#T_7880d814_3ddb_11eb_b662_0242ac1c0002row27_col23,#T_7880d814_3ddb_11eb_b662_0242ac1c0002row27_col24,#T_7880d814_3ddb_11eb_b662_0242ac1c0002row27_col25,#T_7880d814_3ddb_11eb_b662_0242ac1c0002row27_col26,#T_7880d814_3ddb_11eb_b662_0242ac1c0002row27_col27{\n",
              "            font-size:  6pt;\n",
              "            background-color:  #ffffff;\n",
              "            color:  #000000;\n",
              "        }#T_7880d814_3ddb_11eb_b662_0242ac1c0002row4_col15,#T_7880d814_3ddb_11eb_b662_0242ac1c0002row4_col21,#T_7880d814_3ddb_11eb_b662_0242ac1c0002row23_col7{\n",
              "            font-size:  6pt;\n",
              "            background-color:  #929292;\n",
              "            color:  #000000;\n",
              "        }#T_7880d814_3ddb_11eb_b662_0242ac1c0002row4_col16,#T_7880d814_3ddb_11eb_b662_0242ac1c0002row4_col20,#T_7880d814_3ddb_11eb_b662_0242ac1c0002row5_col15,#T_7880d814_3ddb_11eb_b662_0242ac1c0002row5_col16,#T_7880d814_3ddb_11eb_b662_0242ac1c0002row5_col17,#T_7880d814_3ddb_11eb_b662_0242ac1c0002row5_col18,#T_7880d814_3ddb_11eb_b662_0242ac1c0002row5_col19,#T_7880d814_3ddb_11eb_b662_0242ac1c0002row5_col20,#T_7880d814_3ddb_11eb_b662_0242ac1c0002row5_col21,#T_7880d814_3ddb_11eb_b662_0242ac1c0002row5_col22,#T_7880d814_3ddb_11eb_b662_0242ac1c0002row6_col15,#T_7880d814_3ddb_11eb_b662_0242ac1c0002row6_col16,#T_7880d814_3ddb_11eb_b662_0242ac1c0002row6_col17,#T_7880d814_3ddb_11eb_b662_0242ac1c0002row6_col18,#T_7880d814_3ddb_11eb_b662_0242ac1c0002row6_col19,#T_7880d814_3ddb_11eb_b662_0242ac1c0002row6_col20,#T_7880d814_3ddb_11eb_b662_0242ac1c0002row6_col21,#T_7880d814_3ddb_11eb_b662_0242ac1c0002row6_col22,#T_7880d814_3ddb_11eb_b662_0242ac1c0002row7_col14,#T_7880d814_3ddb_11eb_b662_0242ac1c0002row7_col15,#T_7880d814_3ddb_11eb_b662_0242ac1c0002row7_col16,#T_7880d814_3ddb_11eb_b662_0242ac1c0002row7_col17,#T_7880d814_3ddb_11eb_b662_0242ac1c0002row7_col18,#T_7880d814_3ddb_11eb_b662_0242ac1c0002row7_col19,#T_7880d814_3ddb_11eb_b662_0242ac1c0002row7_col20,#T_7880d814_3ddb_11eb_b662_0242ac1c0002row7_col21,#T_7880d814_3ddb_11eb_b662_0242ac1c0002row7_col22,#T_7880d814_3ddb_11eb_b662_0242ac1c0002row8_col13,#T_7880d814_3ddb_11eb_b662_0242ac1c0002row8_col14,#T_7880d814_3ddb_11eb_b662_0242ac1c0002row8_col15,#T_7880d814_3ddb_11eb_b662_0242ac1c0002row8_col16,#T_7880d814_3ddb_11eb_b662_0242ac1c0002row8_col17,#T_7880d814_3ddb_11eb_b662_0242ac1c0002row8_col20,#T_7880d814_3ddb_11eb_b662_0242ac1c0002row8_col21,#T_7880d814_3ddb_11eb_b662_0242ac1c0002row8_col22,#T_7880d814_3ddb_11eb_b662_0242ac1c0002row9_col13,#T_7880d814_3ddb_11eb_b662_0242ac1c0002row9_col14,#T_7880d814_3ddb_11eb_b662_0242ac1c0002row9_col15,#T_7880d814_3ddb_11eb_b662_0242ac1c0002row9_col20,#T_7880d814_3ddb_11eb_b662_0242ac1c0002row9_col21,#T_7880d814_3ddb_11eb_b662_0242ac1c0002row10_col12,#T_7880d814_3ddb_11eb_b662_0242ac1c0002row10_col13,#T_7880d814_3ddb_11eb_b662_0242ac1c0002row10_col14,#T_7880d814_3ddb_11eb_b662_0242ac1c0002row10_col19,#T_7880d814_3ddb_11eb_b662_0242ac1c0002row10_col20,#T_7880d814_3ddb_11eb_b662_0242ac1c0002row10_col21,#T_7880d814_3ddb_11eb_b662_0242ac1c0002row11_col11,#T_7880d814_3ddb_11eb_b662_0242ac1c0002row11_col12,#T_7880d814_3ddb_11eb_b662_0242ac1c0002row11_col13,#T_7880d814_3ddb_11eb_b662_0242ac1c0002row11_col14,#T_7880d814_3ddb_11eb_b662_0242ac1c0002row11_col19,#T_7880d814_3ddb_11eb_b662_0242ac1c0002row11_col20,#T_7880d814_3ddb_11eb_b662_0242ac1c0002row11_col21,#T_7880d814_3ddb_11eb_b662_0242ac1c0002row12_col11,#T_7880d814_3ddb_11eb_b662_0242ac1c0002row12_col12,#T_7880d814_3ddb_11eb_b662_0242ac1c0002row12_col13,#T_7880d814_3ddb_11eb_b662_0242ac1c0002row12_col19,#T_7880d814_3ddb_11eb_b662_0242ac1c0002row12_col20,#T_7880d814_3ddb_11eb_b662_0242ac1c0002row12_col21,#T_7880d814_3ddb_11eb_b662_0242ac1c0002row13_col10,#T_7880d814_3ddb_11eb_b662_0242ac1c0002row13_col11,#T_7880d814_3ddb_11eb_b662_0242ac1c0002row13_col12,#T_7880d814_3ddb_11eb_b662_0242ac1c0002row13_col19,#T_7880d814_3ddb_11eb_b662_0242ac1c0002row13_col20,#T_7880d814_3ddb_11eb_b662_0242ac1c0002row14_col10,#T_7880d814_3ddb_11eb_b662_0242ac1c0002row14_col11,#T_7880d814_3ddb_11eb_b662_0242ac1c0002row14_col18,#T_7880d814_3ddb_11eb_b662_0242ac1c0002row14_col19,#T_7880d814_3ddb_11eb_b662_0242ac1c0002row14_col20,#T_7880d814_3ddb_11eb_b662_0242ac1c0002row15_col9,#T_7880d814_3ddb_11eb_b662_0242ac1c0002row15_col10,#T_7880d814_3ddb_11eb_b662_0242ac1c0002row15_col11,#T_7880d814_3ddb_11eb_b662_0242ac1c0002row15_col16,#T_7880d814_3ddb_11eb_b662_0242ac1c0002row15_col17,#T_7880d814_3ddb_11eb_b662_0242ac1c0002row15_col18,#T_7880d814_3ddb_11eb_b662_0242ac1c0002row15_col19,#T_7880d814_3ddb_11eb_b662_0242ac1c0002row15_col20,#T_7880d814_3ddb_11eb_b662_0242ac1c0002row16_col8,#T_7880d814_3ddb_11eb_b662_0242ac1c0002row16_col9,#T_7880d814_3ddb_11eb_b662_0242ac1c0002row16_col10,#T_7880d814_3ddb_11eb_b662_0242ac1c0002row16_col11,#T_7880d814_3ddb_11eb_b662_0242ac1c0002row16_col12,#T_7880d814_3ddb_11eb_b662_0242ac1c0002row16_col13,#T_7880d814_3ddb_11eb_b662_0242ac1c0002row16_col14,#T_7880d814_3ddb_11eb_b662_0242ac1c0002row16_col15,#T_7880d814_3ddb_11eb_b662_0242ac1c0002row16_col16,#T_7880d814_3ddb_11eb_b662_0242ac1c0002row16_col17,#T_7880d814_3ddb_11eb_b662_0242ac1c0002row16_col18,#T_7880d814_3ddb_11eb_b662_0242ac1c0002row16_col19,#T_7880d814_3ddb_11eb_b662_0242ac1c0002row17_col8,#T_7880d814_3ddb_11eb_b662_0242ac1c0002row17_col9,#T_7880d814_3ddb_11eb_b662_0242ac1c0002row17_col10,#T_7880d814_3ddb_11eb_b662_0242ac1c0002row17_col11,#T_7880d814_3ddb_11eb_b662_0242ac1c0002row17_col12,#T_7880d814_3ddb_11eb_b662_0242ac1c0002row17_col13,#T_7880d814_3ddb_11eb_b662_0242ac1c0002row17_col14,#T_7880d814_3ddb_11eb_b662_0242ac1c0002row17_col15,#T_7880d814_3ddb_11eb_b662_0242ac1c0002row17_col16,#T_7880d814_3ddb_11eb_b662_0242ac1c0002row17_col17,#T_7880d814_3ddb_11eb_b662_0242ac1c0002row17_col18,#T_7880d814_3ddb_11eb_b662_0242ac1c0002row17_col19,#T_7880d814_3ddb_11eb_b662_0242ac1c0002row18_col7,#T_7880d814_3ddb_11eb_b662_0242ac1c0002row18_col8,#T_7880d814_3ddb_11eb_b662_0242ac1c0002row18_col9,#T_7880d814_3ddb_11eb_b662_0242ac1c0002row18_col10,#T_7880d814_3ddb_11eb_b662_0242ac1c0002row18_col12,#T_7880d814_3ddb_11eb_b662_0242ac1c0002row18_col14,#T_7880d814_3ddb_11eb_b662_0242ac1c0002row18_col15,#T_7880d814_3ddb_11eb_b662_0242ac1c0002row18_col16,#T_7880d814_3ddb_11eb_b662_0242ac1c0002row18_col17,#T_7880d814_3ddb_11eb_b662_0242ac1c0002row18_col18,#T_7880d814_3ddb_11eb_b662_0242ac1c0002row19_col7,#T_7880d814_3ddb_11eb_b662_0242ac1c0002row19_col8,#T_7880d814_3ddb_11eb_b662_0242ac1c0002row19_col15,#T_7880d814_3ddb_11eb_b662_0242ac1c0002row19_col16,#T_7880d814_3ddb_11eb_b662_0242ac1c0002row19_col17,#T_7880d814_3ddb_11eb_b662_0242ac1c0002row20_col7,#T_7880d814_3ddb_11eb_b662_0242ac1c0002row20_col8,#T_7880d814_3ddb_11eb_b662_0242ac1c0002row20_col15,#T_7880d814_3ddb_11eb_b662_0242ac1c0002row20_col16,#T_7880d814_3ddb_11eb_b662_0242ac1c0002row20_col17,#T_7880d814_3ddb_11eb_b662_0242ac1c0002row21_col6,#T_7880d814_3ddb_11eb_b662_0242ac1c0002row21_col7,#T_7880d814_3ddb_11eb_b662_0242ac1c0002row21_col8,#T_7880d814_3ddb_11eb_b662_0242ac1c0002row21_col14,#T_7880d814_3ddb_11eb_b662_0242ac1c0002row21_col15,#T_7880d814_3ddb_11eb_b662_0242ac1c0002row21_col16,#T_7880d814_3ddb_11eb_b662_0242ac1c0002row21_col17,#T_7880d814_3ddb_11eb_b662_0242ac1c0002row22_col5,#T_7880d814_3ddb_11eb_b662_0242ac1c0002row22_col6,#T_7880d814_3ddb_11eb_b662_0242ac1c0002row22_col7,#T_7880d814_3ddb_11eb_b662_0242ac1c0002row22_col14,#T_7880d814_3ddb_11eb_b662_0242ac1c0002row22_col15,#T_7880d814_3ddb_11eb_b662_0242ac1c0002row22_col16,#T_7880d814_3ddb_11eb_b662_0242ac1c0002row23_col6,#T_7880d814_3ddb_11eb_b662_0242ac1c0002row23_col14,#T_7880d814_3ddb_11eb_b662_0242ac1c0002row23_col15,#T_7880d814_3ddb_11eb_b662_0242ac1c0002row23_col16{\n",
              "            font-size:  6pt;\n",
              "            background-color:  #000000;\n",
              "            color:  #f1f1f1;\n",
              "        }#T_7880d814_3ddb_11eb_b662_0242ac1c0002row4_col17{\n",
              "            font-size:  6pt;\n",
              "            background-color:  #505050;\n",
              "            color:  #f1f1f1;\n",
              "        }#T_7880d814_3ddb_11eb_b662_0242ac1c0002row4_col18,#T_7880d814_3ddb_11eb_b662_0242ac1c0002row4_col22,#T_7880d814_3ddb_11eb_b662_0242ac1c0002row5_col14{\n",
              "            font-size:  6pt;\n",
              "            background-color:  #fcfcfc;\n",
              "            color:  #000000;\n",
              "        }#T_7880d814_3ddb_11eb_b662_0242ac1c0002row4_col19,#T_7880d814_3ddb_11eb_b662_0242ac1c0002row14_col16,#T_7880d814_3ddb_11eb_b662_0242ac1c0002row23_col5{\n",
              "            font-size:  6pt;\n",
              "            background-color:  #d5d5d5;\n",
              "            color:  #000000;\n",
              "        }#T_7880d814_3ddb_11eb_b662_0242ac1c0002row6_col14,#T_7880d814_3ddb_11eb_b662_0242ac1c0002row15_col8,#T_7880d814_3ddb_11eb_b662_0242ac1c0002row15_col13,#T_7880d814_3ddb_11eb_b662_0242ac1c0002row15_col14{\n",
              "            font-size:  6pt;\n",
              "            background-color:  #474747;\n",
              "            color:  #f1f1f1;\n",
              "        }#T_7880d814_3ddb_11eb_b662_0242ac1c0002row7_col13{\n",
              "            font-size:  6pt;\n",
              "            background-color:  #c5c5c5;\n",
              "            color:  #000000;\n",
              "        }#T_7880d814_3ddb_11eb_b662_0242ac1c0002row8_col12{\n",
              "            font-size:  6pt;\n",
              "            background-color:  #cccccc;\n",
              "            color:  #000000;\n",
              "        }#T_7880d814_3ddb_11eb_b662_0242ac1c0002row8_col18,#T_7880d814_3ddb_11eb_b662_0242ac1c0002row13_col13,#T_7880d814_3ddb_11eb_b662_0242ac1c0002row14_col9,#T_7880d814_3ddb_11eb_b662_0242ac1c0002row14_col17{\n",
              "            font-size:  6pt;\n",
              "            background-color:  #242424;\n",
              "            color:  #f1f1f1;\n",
              "        }#T_7880d814_3ddb_11eb_b662_0242ac1c0002row8_col19{\n",
              "            font-size:  6pt;\n",
              "            background-color:  #131313;\n",
              "            color:  #f1f1f1;\n",
              "        }#T_7880d814_3ddb_11eb_b662_0242ac1c0002row9_col12,#T_7880d814_3ddb_11eb_b662_0242ac1c0002row9_col19,#T_7880d814_3ddb_11eb_b662_0242ac1c0002row18_col11{\n",
              "            font-size:  6pt;\n",
              "            background-color:  #3a3a3a;\n",
              "            color:  #f1f1f1;\n",
              "        }#T_7880d814_3ddb_11eb_b662_0242ac1c0002row9_col16,#T_7880d814_3ddb_11eb_b662_0242ac1c0002row9_col22{\n",
              "            font-size:  6pt;\n",
              "            background-color:  #161616;\n",
              "            color:  #f1f1f1;\n",
              "        }#T_7880d814_3ddb_11eb_b662_0242ac1c0002row9_col17,#T_7880d814_3ddb_11eb_b662_0242ac1c0002row13_col9,#T_7880d814_3ddb_11eb_b662_0242ac1c0002row19_col10{\n",
              "            font-size:  6pt;\n",
              "            background-color:  #bfbfbf;\n",
              "            color:  #000000;\n",
              "        }#T_7880d814_3ddb_11eb_b662_0242ac1c0002row10_col11{\n",
              "            font-size:  6pt;\n",
              "            background-color:  #b0b0b0;\n",
              "            color:  #000000;\n",
              "        }#T_7880d814_3ddb_11eb_b662_0242ac1c0002row10_col15{\n",
              "            font-size:  6pt;\n",
              "            background-color:  #676767;\n",
              "            color:  #f1f1f1;\n",
              "        }#T_7880d814_3ddb_11eb_b662_0242ac1c0002row10_col16{\n",
              "            font-size:  6pt;\n",
              "            background-color:  #e7e7e7;\n",
              "            color:  #000000;\n",
              "        }#T_7880d814_3ddb_11eb_b662_0242ac1c0002row10_col18{\n",
              "            font-size:  6pt;\n",
              "            background-color:  #f5f5f5;\n",
              "            color:  #000000;\n",
              "        }#T_7880d814_3ddb_11eb_b662_0242ac1c0002row10_col22,#T_7880d814_3ddb_11eb_b662_0242ac1c0002row11_col18,#T_7880d814_3ddb_11eb_b662_0242ac1c0002row12_col18,#T_7880d814_3ddb_11eb_b662_0242ac1c0002row14_col21,#T_7880d814_3ddb_11eb_b662_0242ac1c0002row19_col6,#T_7880d814_3ddb_11eb_b662_0242ac1c0002row20_col9{\n",
              "            font-size:  6pt;\n",
              "            background-color:  #959595;\n",
              "            color:  #000000;\n",
              "        }#T_7880d814_3ddb_11eb_b662_0242ac1c0002row11_col10{\n",
              "            font-size:  6pt;\n",
              "            background-color:  #f3f3f3;\n",
              "            color:  #000000;\n",
              "        }#T_7880d814_3ddb_11eb_b662_0242ac1c0002row11_col15{\n",
              "            font-size:  6pt;\n",
              "            background-color:  #eaeaea;\n",
              "            color:  #000000;\n",
              "        }#T_7880d814_3ddb_11eb_b662_0242ac1c0002row11_col22{\n",
              "            font-size:  6pt;\n",
              "            background-color:  #b4b4b4;\n",
              "            color:  #000000;\n",
              "        }#T_7880d814_3ddb_11eb_b662_0242ac1c0002row12_col10{\n",
              "            font-size:  6pt;\n",
              "            background-color:  #2c2c2c;\n",
              "            color:  #f1f1f1;\n",
              "        }#T_7880d814_3ddb_11eb_b662_0242ac1c0002row12_col14{\n",
              "            font-size:  6pt;\n",
              "            background-color:  #8c8c8c;\n",
              "            color:  #000000;\n",
              "        }#T_7880d814_3ddb_11eb_b662_0242ac1c0002row13_col17,#T_7880d814_3ddb_11eb_b662_0242ac1c0002row14_col13,#T_7880d814_3ddb_11eb_b662_0242ac1c0002row19_col12,#T_7880d814_3ddb_11eb_b662_0242ac1c0002row19_col14{\n",
              "            font-size:  6pt;\n",
              "            background-color:  #f0f0f0;\n",
              "            color:  #000000;\n",
              "        }#T_7880d814_3ddb_11eb_b662_0242ac1c0002row13_col18,#T_7880d814_3ddb_11eb_b662_0242ac1c0002row14_col12{\n",
              "            font-size:  6pt;\n",
              "            background-color:  #282828;\n",
              "            color:  #f1f1f1;\n",
              "        }#T_7880d814_3ddb_11eb_b662_0242ac1c0002row13_col21,#T_7880d814_3ddb_11eb_b662_0242ac1c0002row18_col13{\n",
              "            font-size:  6pt;\n",
              "            background-color:  #707070;\n",
              "            color:  #000000;\n",
              "        }#T_7880d814_3ddb_11eb_b662_0242ac1c0002row14_col15{\n",
              "            font-size:  6pt;\n",
              "            background-color:  #eeeeee;\n",
              "            color:  #000000;\n",
              "        }#T_7880d814_3ddb_11eb_b662_0242ac1c0002row15_col12,#T_7880d814_3ddb_11eb_b662_0242ac1c0002row15_col15{\n",
              "            font-size:  6pt;\n",
              "            background-color:  #212121;\n",
              "            color:  #f1f1f1;\n",
              "        }#T_7880d814_3ddb_11eb_b662_0242ac1c0002row15_col21{\n",
              "            font-size:  6pt;\n",
              "            background-color:  #f2f2f2;\n",
              "            color:  #000000;\n",
              "        }#T_7880d814_3ddb_11eb_b662_0242ac1c0002row16_col20{\n",
              "            font-size:  6pt;\n",
              "            background-color:  #a9a9a9;\n",
              "            color:  #000000;\n",
              "        }#T_7880d814_3ddb_11eb_b662_0242ac1c0002row17_col7{\n",
              "            font-size:  6pt;\n",
              "            background-color:  #7e7e7e;\n",
              "            color:  #000000;\n",
              "        }#T_7880d814_3ddb_11eb_b662_0242ac1c0002row18_col6{\n",
              "            font-size:  6pt;\n",
              "            background-color:  #e5e5e5;\n",
              "            color:  #000000;\n",
              "        }#T_7880d814_3ddb_11eb_b662_0242ac1c0002row18_col19{\n",
              "            font-size:  6pt;\n",
              "            background-color:  #b8b8b8;\n",
              "            color:  #000000;\n",
              "        }#T_7880d814_3ddb_11eb_b662_0242ac1c0002row19_col9{\n",
              "            font-size:  6pt;\n",
              "            background-color:  #3f3f3f;\n",
              "            color:  #f1f1f1;\n",
              "        }#T_7880d814_3ddb_11eb_b662_0242ac1c0002row19_col11{\n",
              "            font-size:  6pt;\n",
              "            background-color:  #f7f7f7;\n",
              "            color:  #000000;\n",
              "        }#T_7880d814_3ddb_11eb_b662_0242ac1c0002row19_col18{\n",
              "            font-size:  6pt;\n",
              "            background-color:  #858585;\n",
              "            color:  #000000;\n",
              "        }#T_7880d814_3ddb_11eb_b662_0242ac1c0002row20_col6{\n",
              "            font-size:  6pt;\n",
              "            background-color:  #0e0e0e;\n",
              "            color:  #f1f1f1;\n",
              "        }#T_7880d814_3ddb_11eb_b662_0242ac1c0002row20_col14{\n",
              "            font-size:  6pt;\n",
              "            background-color:  #6a6a6a;\n",
              "            color:  #000000;\n",
              "        }#T_7880d814_3ddb_11eb_b662_0242ac1c0002row20_col18,#T_7880d814_3ddb_11eb_b662_0242ac1c0002row22_col8{\n",
              "            font-size:  6pt;\n",
              "            background-color:  #cfcfcf;\n",
              "            color:  #000000;\n",
              "        }#T_7880d814_3ddb_11eb_b662_0242ac1c0002row21_col5{\n",
              "            font-size:  6pt;\n",
              "            background-color:  #646464;\n",
              "            color:  #f1f1f1;\n",
              "        }#T_7880d814_3ddb_11eb_b662_0242ac1c0002row21_col9{\n",
              "            font-size:  6pt;\n",
              "            background-color:  #d2d2d2;\n",
              "            color:  #000000;\n",
              "        }#T_7880d814_3ddb_11eb_b662_0242ac1c0002row22_col17{\n",
              "            font-size:  6pt;\n",
              "            background-color:  #8f8f8f;\n",
              "            color:  #000000;\n",
              "        }#T_7880d814_3ddb_11eb_b662_0242ac1c0002row23_col17{\n",
              "            font-size:  6pt;\n",
              "            background-color:  #fefefe;\n",
              "            color:  #000000;\n",
              "        }</style><table id=\"T_7880d814_3ddb_11eb_b662_0242ac1c0002\" ><thead>    <tr>        <th class=\"blank level0\" ></th>        <th class=\"col_heading level0 col0\" >0</th>        <th class=\"col_heading level0 col1\" >1</th>        <th class=\"col_heading level0 col2\" >2</th>        <th class=\"col_heading level0 col3\" >3</th>        <th class=\"col_heading level0 col4\" >4</th>        <th class=\"col_heading level0 col5\" >5</th>        <th class=\"col_heading level0 col6\" >6</th>        <th class=\"col_heading level0 col7\" >7</th>        <th class=\"col_heading level0 col8\" >8</th>        <th class=\"col_heading level0 col9\" >9</th>        <th class=\"col_heading level0 col10\" >10</th>        <th class=\"col_heading level0 col11\" >11</th>        <th class=\"col_heading level0 col12\" >12</th>        <th class=\"col_heading level0 col13\" >13</th>        <th class=\"col_heading level0 col14\" >14</th>        <th class=\"col_heading level0 col15\" >15</th>        <th class=\"col_heading level0 col16\" >16</th>        <th class=\"col_heading level0 col17\" >17</th>        <th class=\"col_heading level0 col18\" >18</th>        <th class=\"col_heading level0 col19\" >19</th>        <th class=\"col_heading level0 col20\" >20</th>        <th class=\"col_heading level0 col21\" >21</th>        <th class=\"col_heading level0 col22\" >22</th>        <th class=\"col_heading level0 col23\" >23</th>        <th class=\"col_heading level0 col24\" >24</th>        <th class=\"col_heading level0 col25\" >25</th>        <th class=\"col_heading level0 col26\" >26</th>        <th class=\"col_heading level0 col27\" >27</th>    </tr></thead><tbody>\n",
              "                <tr>\n",
              "                        <th id=\"T_7880d814_3ddb_11eb_b662_0242ac1c0002level0_row0\" class=\"row_heading level0 row0\" >0</th>\n",
              "                        <td id=\"T_7880d814_3ddb_11eb_b662_0242ac1c0002row0_col0\" class=\"data row0 col0\" >0</td>\n",
              "                        <td id=\"T_7880d814_3ddb_11eb_b662_0242ac1c0002row0_col1\" class=\"data row0 col1\" >0</td>\n",
              "                        <td id=\"T_7880d814_3ddb_11eb_b662_0242ac1c0002row0_col2\" class=\"data row0 col2\" >0</td>\n",
              "                        <td id=\"T_7880d814_3ddb_11eb_b662_0242ac1c0002row0_col3\" class=\"data row0 col3\" >0</td>\n",
              "                        <td id=\"T_7880d814_3ddb_11eb_b662_0242ac1c0002row0_col4\" class=\"data row0 col4\" >0</td>\n",
              "                        <td id=\"T_7880d814_3ddb_11eb_b662_0242ac1c0002row0_col5\" class=\"data row0 col5\" >0</td>\n",
              "                        <td id=\"T_7880d814_3ddb_11eb_b662_0242ac1c0002row0_col6\" class=\"data row0 col6\" >0</td>\n",
              "                        <td id=\"T_7880d814_3ddb_11eb_b662_0242ac1c0002row0_col7\" class=\"data row0 col7\" >0</td>\n",
              "                        <td id=\"T_7880d814_3ddb_11eb_b662_0242ac1c0002row0_col8\" class=\"data row0 col8\" >0</td>\n",
              "                        <td id=\"T_7880d814_3ddb_11eb_b662_0242ac1c0002row0_col9\" class=\"data row0 col9\" >0</td>\n",
              "                        <td id=\"T_7880d814_3ddb_11eb_b662_0242ac1c0002row0_col10\" class=\"data row0 col10\" >0</td>\n",
              "                        <td id=\"T_7880d814_3ddb_11eb_b662_0242ac1c0002row0_col11\" class=\"data row0 col11\" >0</td>\n",
              "                        <td id=\"T_7880d814_3ddb_11eb_b662_0242ac1c0002row0_col12\" class=\"data row0 col12\" >0</td>\n",
              "                        <td id=\"T_7880d814_3ddb_11eb_b662_0242ac1c0002row0_col13\" class=\"data row0 col13\" >0</td>\n",
              "                        <td id=\"T_7880d814_3ddb_11eb_b662_0242ac1c0002row0_col14\" class=\"data row0 col14\" >0</td>\n",
              "                        <td id=\"T_7880d814_3ddb_11eb_b662_0242ac1c0002row0_col15\" class=\"data row0 col15\" >0</td>\n",
              "                        <td id=\"T_7880d814_3ddb_11eb_b662_0242ac1c0002row0_col16\" class=\"data row0 col16\" >0</td>\n",
              "                        <td id=\"T_7880d814_3ddb_11eb_b662_0242ac1c0002row0_col17\" class=\"data row0 col17\" >0</td>\n",
              "                        <td id=\"T_7880d814_3ddb_11eb_b662_0242ac1c0002row0_col18\" class=\"data row0 col18\" >0</td>\n",
              "                        <td id=\"T_7880d814_3ddb_11eb_b662_0242ac1c0002row0_col19\" class=\"data row0 col19\" >0</td>\n",
              "                        <td id=\"T_7880d814_3ddb_11eb_b662_0242ac1c0002row0_col20\" class=\"data row0 col20\" >0</td>\n",
              "                        <td id=\"T_7880d814_3ddb_11eb_b662_0242ac1c0002row0_col21\" class=\"data row0 col21\" >0</td>\n",
              "                        <td id=\"T_7880d814_3ddb_11eb_b662_0242ac1c0002row0_col22\" class=\"data row0 col22\" >0</td>\n",
              "                        <td id=\"T_7880d814_3ddb_11eb_b662_0242ac1c0002row0_col23\" class=\"data row0 col23\" >0</td>\n",
              "                        <td id=\"T_7880d814_3ddb_11eb_b662_0242ac1c0002row0_col24\" class=\"data row0 col24\" >0</td>\n",
              "                        <td id=\"T_7880d814_3ddb_11eb_b662_0242ac1c0002row0_col25\" class=\"data row0 col25\" >0</td>\n",
              "                        <td id=\"T_7880d814_3ddb_11eb_b662_0242ac1c0002row0_col26\" class=\"data row0 col26\" >0</td>\n",
              "                        <td id=\"T_7880d814_3ddb_11eb_b662_0242ac1c0002row0_col27\" class=\"data row0 col27\" >0</td>\n",
              "            </tr>\n",
              "            <tr>\n",
              "                        <th id=\"T_7880d814_3ddb_11eb_b662_0242ac1c0002level0_row1\" class=\"row_heading level0 row1\" >1</th>\n",
              "                        <td id=\"T_7880d814_3ddb_11eb_b662_0242ac1c0002row1_col0\" class=\"data row1 col0\" >0</td>\n",
              "                        <td id=\"T_7880d814_3ddb_11eb_b662_0242ac1c0002row1_col1\" class=\"data row1 col1\" >0</td>\n",
              "                        <td id=\"T_7880d814_3ddb_11eb_b662_0242ac1c0002row1_col2\" class=\"data row1 col2\" >0</td>\n",
              "                        <td id=\"T_7880d814_3ddb_11eb_b662_0242ac1c0002row1_col3\" class=\"data row1 col3\" >0</td>\n",
              "                        <td id=\"T_7880d814_3ddb_11eb_b662_0242ac1c0002row1_col4\" class=\"data row1 col4\" >0</td>\n",
              "                        <td id=\"T_7880d814_3ddb_11eb_b662_0242ac1c0002row1_col5\" class=\"data row1 col5\" >0</td>\n",
              "                        <td id=\"T_7880d814_3ddb_11eb_b662_0242ac1c0002row1_col6\" class=\"data row1 col6\" >0</td>\n",
              "                        <td id=\"T_7880d814_3ddb_11eb_b662_0242ac1c0002row1_col7\" class=\"data row1 col7\" >0</td>\n",
              "                        <td id=\"T_7880d814_3ddb_11eb_b662_0242ac1c0002row1_col8\" class=\"data row1 col8\" >0</td>\n",
              "                        <td id=\"T_7880d814_3ddb_11eb_b662_0242ac1c0002row1_col9\" class=\"data row1 col9\" >0</td>\n",
              "                        <td id=\"T_7880d814_3ddb_11eb_b662_0242ac1c0002row1_col10\" class=\"data row1 col10\" >0</td>\n",
              "                        <td id=\"T_7880d814_3ddb_11eb_b662_0242ac1c0002row1_col11\" class=\"data row1 col11\" >0</td>\n",
              "                        <td id=\"T_7880d814_3ddb_11eb_b662_0242ac1c0002row1_col12\" class=\"data row1 col12\" >0</td>\n",
              "                        <td id=\"T_7880d814_3ddb_11eb_b662_0242ac1c0002row1_col13\" class=\"data row1 col13\" >0</td>\n",
              "                        <td id=\"T_7880d814_3ddb_11eb_b662_0242ac1c0002row1_col14\" class=\"data row1 col14\" >0</td>\n",
              "                        <td id=\"T_7880d814_3ddb_11eb_b662_0242ac1c0002row1_col15\" class=\"data row1 col15\" >0</td>\n",
              "                        <td id=\"T_7880d814_3ddb_11eb_b662_0242ac1c0002row1_col16\" class=\"data row1 col16\" >0</td>\n",
              "                        <td id=\"T_7880d814_3ddb_11eb_b662_0242ac1c0002row1_col17\" class=\"data row1 col17\" >0</td>\n",
              "                        <td id=\"T_7880d814_3ddb_11eb_b662_0242ac1c0002row1_col18\" class=\"data row1 col18\" >0</td>\n",
              "                        <td id=\"T_7880d814_3ddb_11eb_b662_0242ac1c0002row1_col19\" class=\"data row1 col19\" >0</td>\n",
              "                        <td id=\"T_7880d814_3ddb_11eb_b662_0242ac1c0002row1_col20\" class=\"data row1 col20\" >0</td>\n",
              "                        <td id=\"T_7880d814_3ddb_11eb_b662_0242ac1c0002row1_col21\" class=\"data row1 col21\" >0</td>\n",
              "                        <td id=\"T_7880d814_3ddb_11eb_b662_0242ac1c0002row1_col22\" class=\"data row1 col22\" >0</td>\n",
              "                        <td id=\"T_7880d814_3ddb_11eb_b662_0242ac1c0002row1_col23\" class=\"data row1 col23\" >0</td>\n",
              "                        <td id=\"T_7880d814_3ddb_11eb_b662_0242ac1c0002row1_col24\" class=\"data row1 col24\" >0</td>\n",
              "                        <td id=\"T_7880d814_3ddb_11eb_b662_0242ac1c0002row1_col25\" class=\"data row1 col25\" >0</td>\n",
              "                        <td id=\"T_7880d814_3ddb_11eb_b662_0242ac1c0002row1_col26\" class=\"data row1 col26\" >0</td>\n",
              "                        <td id=\"T_7880d814_3ddb_11eb_b662_0242ac1c0002row1_col27\" class=\"data row1 col27\" >0</td>\n",
              "            </tr>\n",
              "            <tr>\n",
              "                        <th id=\"T_7880d814_3ddb_11eb_b662_0242ac1c0002level0_row2\" class=\"row_heading level0 row2\" >2</th>\n",
              "                        <td id=\"T_7880d814_3ddb_11eb_b662_0242ac1c0002row2_col0\" class=\"data row2 col0\" >0</td>\n",
              "                        <td id=\"T_7880d814_3ddb_11eb_b662_0242ac1c0002row2_col1\" class=\"data row2 col1\" >0</td>\n",
              "                        <td id=\"T_7880d814_3ddb_11eb_b662_0242ac1c0002row2_col2\" class=\"data row2 col2\" >0</td>\n",
              "                        <td id=\"T_7880d814_3ddb_11eb_b662_0242ac1c0002row2_col3\" class=\"data row2 col3\" >0</td>\n",
              "                        <td id=\"T_7880d814_3ddb_11eb_b662_0242ac1c0002row2_col4\" class=\"data row2 col4\" >0</td>\n",
              "                        <td id=\"T_7880d814_3ddb_11eb_b662_0242ac1c0002row2_col5\" class=\"data row2 col5\" >0</td>\n",
              "                        <td id=\"T_7880d814_3ddb_11eb_b662_0242ac1c0002row2_col6\" class=\"data row2 col6\" >0</td>\n",
              "                        <td id=\"T_7880d814_3ddb_11eb_b662_0242ac1c0002row2_col7\" class=\"data row2 col7\" >0</td>\n",
              "                        <td id=\"T_7880d814_3ddb_11eb_b662_0242ac1c0002row2_col8\" class=\"data row2 col8\" >0</td>\n",
              "                        <td id=\"T_7880d814_3ddb_11eb_b662_0242ac1c0002row2_col9\" class=\"data row2 col9\" >0</td>\n",
              "                        <td id=\"T_7880d814_3ddb_11eb_b662_0242ac1c0002row2_col10\" class=\"data row2 col10\" >0</td>\n",
              "                        <td id=\"T_7880d814_3ddb_11eb_b662_0242ac1c0002row2_col11\" class=\"data row2 col11\" >0</td>\n",
              "                        <td id=\"T_7880d814_3ddb_11eb_b662_0242ac1c0002row2_col12\" class=\"data row2 col12\" >0</td>\n",
              "                        <td id=\"T_7880d814_3ddb_11eb_b662_0242ac1c0002row2_col13\" class=\"data row2 col13\" >0</td>\n",
              "                        <td id=\"T_7880d814_3ddb_11eb_b662_0242ac1c0002row2_col14\" class=\"data row2 col14\" >0</td>\n",
              "                        <td id=\"T_7880d814_3ddb_11eb_b662_0242ac1c0002row2_col15\" class=\"data row2 col15\" >0</td>\n",
              "                        <td id=\"T_7880d814_3ddb_11eb_b662_0242ac1c0002row2_col16\" class=\"data row2 col16\" >0</td>\n",
              "                        <td id=\"T_7880d814_3ddb_11eb_b662_0242ac1c0002row2_col17\" class=\"data row2 col17\" >0</td>\n",
              "                        <td id=\"T_7880d814_3ddb_11eb_b662_0242ac1c0002row2_col18\" class=\"data row2 col18\" >0</td>\n",
              "                        <td id=\"T_7880d814_3ddb_11eb_b662_0242ac1c0002row2_col19\" class=\"data row2 col19\" >0</td>\n",
              "                        <td id=\"T_7880d814_3ddb_11eb_b662_0242ac1c0002row2_col20\" class=\"data row2 col20\" >0</td>\n",
              "                        <td id=\"T_7880d814_3ddb_11eb_b662_0242ac1c0002row2_col21\" class=\"data row2 col21\" >0</td>\n",
              "                        <td id=\"T_7880d814_3ddb_11eb_b662_0242ac1c0002row2_col22\" class=\"data row2 col22\" >0</td>\n",
              "                        <td id=\"T_7880d814_3ddb_11eb_b662_0242ac1c0002row2_col23\" class=\"data row2 col23\" >0</td>\n",
              "                        <td id=\"T_7880d814_3ddb_11eb_b662_0242ac1c0002row2_col24\" class=\"data row2 col24\" >0</td>\n",
              "                        <td id=\"T_7880d814_3ddb_11eb_b662_0242ac1c0002row2_col25\" class=\"data row2 col25\" >0</td>\n",
              "                        <td id=\"T_7880d814_3ddb_11eb_b662_0242ac1c0002row2_col26\" class=\"data row2 col26\" >0</td>\n",
              "                        <td id=\"T_7880d814_3ddb_11eb_b662_0242ac1c0002row2_col27\" class=\"data row2 col27\" >0</td>\n",
              "            </tr>\n",
              "            <tr>\n",
              "                        <th id=\"T_7880d814_3ddb_11eb_b662_0242ac1c0002level0_row3\" class=\"row_heading level0 row3\" >3</th>\n",
              "                        <td id=\"T_7880d814_3ddb_11eb_b662_0242ac1c0002row3_col0\" class=\"data row3 col0\" >0</td>\n",
              "                        <td id=\"T_7880d814_3ddb_11eb_b662_0242ac1c0002row3_col1\" class=\"data row3 col1\" >0</td>\n",
              "                        <td id=\"T_7880d814_3ddb_11eb_b662_0242ac1c0002row3_col2\" class=\"data row3 col2\" >0</td>\n",
              "                        <td id=\"T_7880d814_3ddb_11eb_b662_0242ac1c0002row3_col3\" class=\"data row3 col3\" >0</td>\n",
              "                        <td id=\"T_7880d814_3ddb_11eb_b662_0242ac1c0002row3_col4\" class=\"data row3 col4\" >0</td>\n",
              "                        <td id=\"T_7880d814_3ddb_11eb_b662_0242ac1c0002row3_col5\" class=\"data row3 col5\" >0</td>\n",
              "                        <td id=\"T_7880d814_3ddb_11eb_b662_0242ac1c0002row3_col6\" class=\"data row3 col6\" >0</td>\n",
              "                        <td id=\"T_7880d814_3ddb_11eb_b662_0242ac1c0002row3_col7\" class=\"data row3 col7\" >0</td>\n",
              "                        <td id=\"T_7880d814_3ddb_11eb_b662_0242ac1c0002row3_col8\" class=\"data row3 col8\" >0</td>\n",
              "                        <td id=\"T_7880d814_3ddb_11eb_b662_0242ac1c0002row3_col9\" class=\"data row3 col9\" >0</td>\n",
              "                        <td id=\"T_7880d814_3ddb_11eb_b662_0242ac1c0002row3_col10\" class=\"data row3 col10\" >0</td>\n",
              "                        <td id=\"T_7880d814_3ddb_11eb_b662_0242ac1c0002row3_col11\" class=\"data row3 col11\" >0</td>\n",
              "                        <td id=\"T_7880d814_3ddb_11eb_b662_0242ac1c0002row3_col12\" class=\"data row3 col12\" >0</td>\n",
              "                        <td id=\"T_7880d814_3ddb_11eb_b662_0242ac1c0002row3_col13\" class=\"data row3 col13\" >0</td>\n",
              "                        <td id=\"T_7880d814_3ddb_11eb_b662_0242ac1c0002row3_col14\" class=\"data row3 col14\" >0</td>\n",
              "                        <td id=\"T_7880d814_3ddb_11eb_b662_0242ac1c0002row3_col15\" class=\"data row3 col15\" >0</td>\n",
              "                        <td id=\"T_7880d814_3ddb_11eb_b662_0242ac1c0002row3_col16\" class=\"data row3 col16\" >0</td>\n",
              "                        <td id=\"T_7880d814_3ddb_11eb_b662_0242ac1c0002row3_col17\" class=\"data row3 col17\" >0</td>\n",
              "                        <td id=\"T_7880d814_3ddb_11eb_b662_0242ac1c0002row3_col18\" class=\"data row3 col18\" >0</td>\n",
              "                        <td id=\"T_7880d814_3ddb_11eb_b662_0242ac1c0002row3_col19\" class=\"data row3 col19\" >0</td>\n",
              "                        <td id=\"T_7880d814_3ddb_11eb_b662_0242ac1c0002row3_col20\" class=\"data row3 col20\" >0</td>\n",
              "                        <td id=\"T_7880d814_3ddb_11eb_b662_0242ac1c0002row3_col21\" class=\"data row3 col21\" >0</td>\n",
              "                        <td id=\"T_7880d814_3ddb_11eb_b662_0242ac1c0002row3_col22\" class=\"data row3 col22\" >0</td>\n",
              "                        <td id=\"T_7880d814_3ddb_11eb_b662_0242ac1c0002row3_col23\" class=\"data row3 col23\" >0</td>\n",
              "                        <td id=\"T_7880d814_3ddb_11eb_b662_0242ac1c0002row3_col24\" class=\"data row3 col24\" >0</td>\n",
              "                        <td id=\"T_7880d814_3ddb_11eb_b662_0242ac1c0002row3_col25\" class=\"data row3 col25\" >0</td>\n",
              "                        <td id=\"T_7880d814_3ddb_11eb_b662_0242ac1c0002row3_col26\" class=\"data row3 col26\" >0</td>\n",
              "                        <td id=\"T_7880d814_3ddb_11eb_b662_0242ac1c0002row3_col27\" class=\"data row3 col27\" >0</td>\n",
              "            </tr>\n",
              "            <tr>\n",
              "                        <th id=\"T_7880d814_3ddb_11eb_b662_0242ac1c0002level0_row4\" class=\"row_heading level0 row4\" >4</th>\n",
              "                        <td id=\"T_7880d814_3ddb_11eb_b662_0242ac1c0002row4_col0\" class=\"data row4 col0\" >0</td>\n",
              "                        <td id=\"T_7880d814_3ddb_11eb_b662_0242ac1c0002row4_col1\" class=\"data row4 col1\" >0</td>\n",
              "                        <td id=\"T_7880d814_3ddb_11eb_b662_0242ac1c0002row4_col2\" class=\"data row4 col2\" >0</td>\n",
              "                        <td id=\"T_7880d814_3ddb_11eb_b662_0242ac1c0002row4_col3\" class=\"data row4 col3\" >0</td>\n",
              "                        <td id=\"T_7880d814_3ddb_11eb_b662_0242ac1c0002row4_col4\" class=\"data row4 col4\" >0</td>\n",
              "                        <td id=\"T_7880d814_3ddb_11eb_b662_0242ac1c0002row4_col5\" class=\"data row4 col5\" >0</td>\n",
              "                        <td id=\"T_7880d814_3ddb_11eb_b662_0242ac1c0002row4_col6\" class=\"data row4 col6\" >0</td>\n",
              "                        <td id=\"T_7880d814_3ddb_11eb_b662_0242ac1c0002row4_col7\" class=\"data row4 col7\" >0</td>\n",
              "                        <td id=\"T_7880d814_3ddb_11eb_b662_0242ac1c0002row4_col8\" class=\"data row4 col8\" >0</td>\n",
              "                        <td id=\"T_7880d814_3ddb_11eb_b662_0242ac1c0002row4_col9\" class=\"data row4 col9\" >0</td>\n",
              "                        <td id=\"T_7880d814_3ddb_11eb_b662_0242ac1c0002row4_col10\" class=\"data row4 col10\" >0</td>\n",
              "                        <td id=\"T_7880d814_3ddb_11eb_b662_0242ac1c0002row4_col11\" class=\"data row4 col11\" >0</td>\n",
              "                        <td id=\"T_7880d814_3ddb_11eb_b662_0242ac1c0002row4_col12\" class=\"data row4 col12\" >0</td>\n",
              "                        <td id=\"T_7880d814_3ddb_11eb_b662_0242ac1c0002row4_col13\" class=\"data row4 col13\" >0</td>\n",
              "                        <td id=\"T_7880d814_3ddb_11eb_b662_0242ac1c0002row4_col14\" class=\"data row4 col14\" >0</td>\n",
              "                        <td id=\"T_7880d814_3ddb_11eb_b662_0242ac1c0002row4_col15\" class=\"data row4 col15\" >131</td>\n",
              "                        <td id=\"T_7880d814_3ddb_11eb_b662_0242ac1c0002row4_col16\" class=\"data row4 col16\" >255</td>\n",
              "                        <td id=\"T_7880d814_3ddb_11eb_b662_0242ac1c0002row4_col17\" class=\"data row4 col17\" >193</td>\n",
              "                        <td id=\"T_7880d814_3ddb_11eb_b662_0242ac1c0002row4_col18\" class=\"data row4 col18\" >6</td>\n",
              "                        <td id=\"T_7880d814_3ddb_11eb_b662_0242ac1c0002row4_col19\" class=\"data row4 col19\" >68</td>\n",
              "                        <td id=\"T_7880d814_3ddb_11eb_b662_0242ac1c0002row4_col20\" class=\"data row4 col20\" >255</td>\n",
              "                        <td id=\"T_7880d814_3ddb_11eb_b662_0242ac1c0002row4_col21\" class=\"data row4 col21\" >131</td>\n",
              "                        <td id=\"T_7880d814_3ddb_11eb_b662_0242ac1c0002row4_col22\" class=\"data row4 col22\" >6</td>\n",
              "                        <td id=\"T_7880d814_3ddb_11eb_b662_0242ac1c0002row4_col23\" class=\"data row4 col23\" >0</td>\n",
              "                        <td id=\"T_7880d814_3ddb_11eb_b662_0242ac1c0002row4_col24\" class=\"data row4 col24\" >0</td>\n",
              "                        <td id=\"T_7880d814_3ddb_11eb_b662_0242ac1c0002row4_col25\" class=\"data row4 col25\" >0</td>\n",
              "                        <td id=\"T_7880d814_3ddb_11eb_b662_0242ac1c0002row4_col26\" class=\"data row4 col26\" >0</td>\n",
              "                        <td id=\"T_7880d814_3ddb_11eb_b662_0242ac1c0002row4_col27\" class=\"data row4 col27\" >0</td>\n",
              "            </tr>\n",
              "            <tr>\n",
              "                        <th id=\"T_7880d814_3ddb_11eb_b662_0242ac1c0002level0_row5\" class=\"row_heading level0 row5\" >5</th>\n",
              "                        <td id=\"T_7880d814_3ddb_11eb_b662_0242ac1c0002row5_col0\" class=\"data row5 col0\" >0</td>\n",
              "                        <td id=\"T_7880d814_3ddb_11eb_b662_0242ac1c0002row5_col1\" class=\"data row5 col1\" >0</td>\n",
              "                        <td id=\"T_7880d814_3ddb_11eb_b662_0242ac1c0002row5_col2\" class=\"data row5 col2\" >0</td>\n",
              "                        <td id=\"T_7880d814_3ddb_11eb_b662_0242ac1c0002row5_col3\" class=\"data row5 col3\" >0</td>\n",
              "                        <td id=\"T_7880d814_3ddb_11eb_b662_0242ac1c0002row5_col4\" class=\"data row5 col4\" >0</td>\n",
              "                        <td id=\"T_7880d814_3ddb_11eb_b662_0242ac1c0002row5_col5\" class=\"data row5 col5\" >0</td>\n",
              "                        <td id=\"T_7880d814_3ddb_11eb_b662_0242ac1c0002row5_col6\" class=\"data row5 col6\" >0</td>\n",
              "                        <td id=\"T_7880d814_3ddb_11eb_b662_0242ac1c0002row5_col7\" class=\"data row5 col7\" >0</td>\n",
              "                        <td id=\"T_7880d814_3ddb_11eb_b662_0242ac1c0002row5_col8\" class=\"data row5 col8\" >0</td>\n",
              "                        <td id=\"T_7880d814_3ddb_11eb_b662_0242ac1c0002row5_col9\" class=\"data row5 col9\" >0</td>\n",
              "                        <td id=\"T_7880d814_3ddb_11eb_b662_0242ac1c0002row5_col10\" class=\"data row5 col10\" >0</td>\n",
              "                        <td id=\"T_7880d814_3ddb_11eb_b662_0242ac1c0002row5_col11\" class=\"data row5 col11\" >0</td>\n",
              "                        <td id=\"T_7880d814_3ddb_11eb_b662_0242ac1c0002row5_col12\" class=\"data row5 col12\" >0</td>\n",
              "                        <td id=\"T_7880d814_3ddb_11eb_b662_0242ac1c0002row5_col13\" class=\"data row5 col13\" >0</td>\n",
              "                        <td id=\"T_7880d814_3ddb_11eb_b662_0242ac1c0002row5_col14\" class=\"data row5 col14\" >6</td>\n",
              "                        <td id=\"T_7880d814_3ddb_11eb_b662_0242ac1c0002row5_col15\" class=\"data row5 col15\" >255</td>\n",
              "                        <td id=\"T_7880d814_3ddb_11eb_b662_0242ac1c0002row5_col16\" class=\"data row5 col16\" >255</td>\n",
              "                        <td id=\"T_7880d814_3ddb_11eb_b662_0242ac1c0002row5_col17\" class=\"data row5 col17\" >255</td>\n",
              "                        <td id=\"T_7880d814_3ddb_11eb_b662_0242ac1c0002row5_col18\" class=\"data row5 col18\" >255</td>\n",
              "                        <td id=\"T_7880d814_3ddb_11eb_b662_0242ac1c0002row5_col19\" class=\"data row5 col19\" >255</td>\n",
              "                        <td id=\"T_7880d814_3ddb_11eb_b662_0242ac1c0002row5_col20\" class=\"data row5 col20\" >255</td>\n",
              "                        <td id=\"T_7880d814_3ddb_11eb_b662_0242ac1c0002row5_col21\" class=\"data row5 col21\" >255</td>\n",
              "                        <td id=\"T_7880d814_3ddb_11eb_b662_0242ac1c0002row5_col22\" class=\"data row5 col22\" >255</td>\n",
              "                        <td id=\"T_7880d814_3ddb_11eb_b662_0242ac1c0002row5_col23\" class=\"data row5 col23\" >0</td>\n",
              "                        <td id=\"T_7880d814_3ddb_11eb_b662_0242ac1c0002row5_col24\" class=\"data row5 col24\" >0</td>\n",
              "                        <td id=\"T_7880d814_3ddb_11eb_b662_0242ac1c0002row5_col25\" class=\"data row5 col25\" >0</td>\n",
              "                        <td id=\"T_7880d814_3ddb_11eb_b662_0242ac1c0002row5_col26\" class=\"data row5 col26\" >0</td>\n",
              "                        <td id=\"T_7880d814_3ddb_11eb_b662_0242ac1c0002row5_col27\" class=\"data row5 col27\" >0</td>\n",
              "            </tr>\n",
              "            <tr>\n",
              "                        <th id=\"T_7880d814_3ddb_11eb_b662_0242ac1c0002level0_row6\" class=\"row_heading level0 row6\" >6</th>\n",
              "                        <td id=\"T_7880d814_3ddb_11eb_b662_0242ac1c0002row6_col0\" class=\"data row6 col0\" >0</td>\n",
              "                        <td id=\"T_7880d814_3ddb_11eb_b662_0242ac1c0002row6_col1\" class=\"data row6 col1\" >0</td>\n",
              "                        <td id=\"T_7880d814_3ddb_11eb_b662_0242ac1c0002row6_col2\" class=\"data row6 col2\" >0</td>\n",
              "                        <td id=\"T_7880d814_3ddb_11eb_b662_0242ac1c0002row6_col3\" class=\"data row6 col3\" >0</td>\n",
              "                        <td id=\"T_7880d814_3ddb_11eb_b662_0242ac1c0002row6_col4\" class=\"data row6 col4\" >0</td>\n",
              "                        <td id=\"T_7880d814_3ddb_11eb_b662_0242ac1c0002row6_col5\" class=\"data row6 col5\" >0</td>\n",
              "                        <td id=\"T_7880d814_3ddb_11eb_b662_0242ac1c0002row6_col6\" class=\"data row6 col6\" >0</td>\n",
              "                        <td id=\"T_7880d814_3ddb_11eb_b662_0242ac1c0002row6_col7\" class=\"data row6 col7\" >0</td>\n",
              "                        <td id=\"T_7880d814_3ddb_11eb_b662_0242ac1c0002row6_col8\" class=\"data row6 col8\" >0</td>\n",
              "                        <td id=\"T_7880d814_3ddb_11eb_b662_0242ac1c0002row6_col9\" class=\"data row6 col9\" >0</td>\n",
              "                        <td id=\"T_7880d814_3ddb_11eb_b662_0242ac1c0002row6_col10\" class=\"data row6 col10\" >0</td>\n",
              "                        <td id=\"T_7880d814_3ddb_11eb_b662_0242ac1c0002row6_col11\" class=\"data row6 col11\" >0</td>\n",
              "                        <td id=\"T_7880d814_3ddb_11eb_b662_0242ac1c0002row6_col12\" class=\"data row6 col12\" >0</td>\n",
              "                        <td id=\"T_7880d814_3ddb_11eb_b662_0242ac1c0002row6_col13\" class=\"data row6 col13\" >0</td>\n",
              "                        <td id=\"T_7880d814_3ddb_11eb_b662_0242ac1c0002row6_col14\" class=\"data row6 col14\" >199</td>\n",
              "                        <td id=\"T_7880d814_3ddb_11eb_b662_0242ac1c0002row6_col15\" class=\"data row6 col15\" >255</td>\n",
              "                        <td id=\"T_7880d814_3ddb_11eb_b662_0242ac1c0002row6_col16\" class=\"data row6 col16\" >255</td>\n",
              "                        <td id=\"T_7880d814_3ddb_11eb_b662_0242ac1c0002row6_col17\" class=\"data row6 col17\" >255</td>\n",
              "                        <td id=\"T_7880d814_3ddb_11eb_b662_0242ac1c0002row6_col18\" class=\"data row6 col18\" >255</td>\n",
              "                        <td id=\"T_7880d814_3ddb_11eb_b662_0242ac1c0002row6_col19\" class=\"data row6 col19\" >255</td>\n",
              "                        <td id=\"T_7880d814_3ddb_11eb_b662_0242ac1c0002row6_col20\" class=\"data row6 col20\" >255</td>\n",
              "                        <td id=\"T_7880d814_3ddb_11eb_b662_0242ac1c0002row6_col21\" class=\"data row6 col21\" >255</td>\n",
              "                        <td id=\"T_7880d814_3ddb_11eb_b662_0242ac1c0002row6_col22\" class=\"data row6 col22\" >255</td>\n",
              "                        <td id=\"T_7880d814_3ddb_11eb_b662_0242ac1c0002row6_col23\" class=\"data row6 col23\" >0</td>\n",
              "                        <td id=\"T_7880d814_3ddb_11eb_b662_0242ac1c0002row6_col24\" class=\"data row6 col24\" >0</td>\n",
              "                        <td id=\"T_7880d814_3ddb_11eb_b662_0242ac1c0002row6_col25\" class=\"data row6 col25\" >0</td>\n",
              "                        <td id=\"T_7880d814_3ddb_11eb_b662_0242ac1c0002row6_col26\" class=\"data row6 col26\" >0</td>\n",
              "                        <td id=\"T_7880d814_3ddb_11eb_b662_0242ac1c0002row6_col27\" class=\"data row6 col27\" >0</td>\n",
              "            </tr>\n",
              "            <tr>\n",
              "                        <th id=\"T_7880d814_3ddb_11eb_b662_0242ac1c0002level0_row7\" class=\"row_heading level0 row7\" >7</th>\n",
              "                        <td id=\"T_7880d814_3ddb_11eb_b662_0242ac1c0002row7_col0\" class=\"data row7 col0\" >0</td>\n",
              "                        <td id=\"T_7880d814_3ddb_11eb_b662_0242ac1c0002row7_col1\" class=\"data row7 col1\" >0</td>\n",
              "                        <td id=\"T_7880d814_3ddb_11eb_b662_0242ac1c0002row7_col2\" class=\"data row7 col2\" >0</td>\n",
              "                        <td id=\"T_7880d814_3ddb_11eb_b662_0242ac1c0002row7_col3\" class=\"data row7 col3\" >0</td>\n",
              "                        <td id=\"T_7880d814_3ddb_11eb_b662_0242ac1c0002row7_col4\" class=\"data row7 col4\" >0</td>\n",
              "                        <td id=\"T_7880d814_3ddb_11eb_b662_0242ac1c0002row7_col5\" class=\"data row7 col5\" >0</td>\n",
              "                        <td id=\"T_7880d814_3ddb_11eb_b662_0242ac1c0002row7_col6\" class=\"data row7 col6\" >0</td>\n",
              "                        <td id=\"T_7880d814_3ddb_11eb_b662_0242ac1c0002row7_col7\" class=\"data row7 col7\" >0</td>\n",
              "                        <td id=\"T_7880d814_3ddb_11eb_b662_0242ac1c0002row7_col8\" class=\"data row7 col8\" >0</td>\n",
              "                        <td id=\"T_7880d814_3ddb_11eb_b662_0242ac1c0002row7_col9\" class=\"data row7 col9\" >0</td>\n",
              "                        <td id=\"T_7880d814_3ddb_11eb_b662_0242ac1c0002row7_col10\" class=\"data row7 col10\" >0</td>\n",
              "                        <td id=\"T_7880d814_3ddb_11eb_b662_0242ac1c0002row7_col11\" class=\"data row7 col11\" >0</td>\n",
              "                        <td id=\"T_7880d814_3ddb_11eb_b662_0242ac1c0002row7_col12\" class=\"data row7 col12\" >0</td>\n",
              "                        <td id=\"T_7880d814_3ddb_11eb_b662_0242ac1c0002row7_col13\" class=\"data row7 col13\" >87</td>\n",
              "                        <td id=\"T_7880d814_3ddb_11eb_b662_0242ac1c0002row7_col14\" class=\"data row7 col14\" >255</td>\n",
              "                        <td id=\"T_7880d814_3ddb_11eb_b662_0242ac1c0002row7_col15\" class=\"data row7 col15\" >255</td>\n",
              "                        <td id=\"T_7880d814_3ddb_11eb_b662_0242ac1c0002row7_col16\" class=\"data row7 col16\" >255</td>\n",
              "                        <td id=\"T_7880d814_3ddb_11eb_b662_0242ac1c0002row7_col17\" class=\"data row7 col17\" >255</td>\n",
              "                        <td id=\"T_7880d814_3ddb_11eb_b662_0242ac1c0002row7_col18\" class=\"data row7 col18\" >255</td>\n",
              "                        <td id=\"T_7880d814_3ddb_11eb_b662_0242ac1c0002row7_col19\" class=\"data row7 col19\" >255</td>\n",
              "                        <td id=\"T_7880d814_3ddb_11eb_b662_0242ac1c0002row7_col20\" class=\"data row7 col20\" >255</td>\n",
              "                        <td id=\"T_7880d814_3ddb_11eb_b662_0242ac1c0002row7_col21\" class=\"data row7 col21\" >255</td>\n",
              "                        <td id=\"T_7880d814_3ddb_11eb_b662_0242ac1c0002row7_col22\" class=\"data row7 col22\" >255</td>\n",
              "                        <td id=\"T_7880d814_3ddb_11eb_b662_0242ac1c0002row7_col23\" class=\"data row7 col23\" >0</td>\n",
              "                        <td id=\"T_7880d814_3ddb_11eb_b662_0242ac1c0002row7_col24\" class=\"data row7 col24\" >0</td>\n",
              "                        <td id=\"T_7880d814_3ddb_11eb_b662_0242ac1c0002row7_col25\" class=\"data row7 col25\" >0</td>\n",
              "                        <td id=\"T_7880d814_3ddb_11eb_b662_0242ac1c0002row7_col26\" class=\"data row7 col26\" >0</td>\n",
              "                        <td id=\"T_7880d814_3ddb_11eb_b662_0242ac1c0002row7_col27\" class=\"data row7 col27\" >0</td>\n",
              "            </tr>\n",
              "            <tr>\n",
              "                        <th id=\"T_7880d814_3ddb_11eb_b662_0242ac1c0002level0_row8\" class=\"row_heading level0 row8\" >8</th>\n",
              "                        <td id=\"T_7880d814_3ddb_11eb_b662_0242ac1c0002row8_col0\" class=\"data row8 col0\" >0</td>\n",
              "                        <td id=\"T_7880d814_3ddb_11eb_b662_0242ac1c0002row8_col1\" class=\"data row8 col1\" >0</td>\n",
              "                        <td id=\"T_7880d814_3ddb_11eb_b662_0242ac1c0002row8_col2\" class=\"data row8 col2\" >0</td>\n",
              "                        <td id=\"T_7880d814_3ddb_11eb_b662_0242ac1c0002row8_col3\" class=\"data row8 col3\" >0</td>\n",
              "                        <td id=\"T_7880d814_3ddb_11eb_b662_0242ac1c0002row8_col4\" class=\"data row8 col4\" >0</td>\n",
              "                        <td id=\"T_7880d814_3ddb_11eb_b662_0242ac1c0002row8_col5\" class=\"data row8 col5\" >0</td>\n",
              "                        <td id=\"T_7880d814_3ddb_11eb_b662_0242ac1c0002row8_col6\" class=\"data row8 col6\" >0</td>\n",
              "                        <td id=\"T_7880d814_3ddb_11eb_b662_0242ac1c0002row8_col7\" class=\"data row8 col7\" >0</td>\n",
              "                        <td id=\"T_7880d814_3ddb_11eb_b662_0242ac1c0002row8_col8\" class=\"data row8 col8\" >0</td>\n",
              "                        <td id=\"T_7880d814_3ddb_11eb_b662_0242ac1c0002row8_col9\" class=\"data row8 col9\" >0</td>\n",
              "                        <td id=\"T_7880d814_3ddb_11eb_b662_0242ac1c0002row8_col10\" class=\"data row8 col10\" >0</td>\n",
              "                        <td id=\"T_7880d814_3ddb_11eb_b662_0242ac1c0002row8_col11\" class=\"data row8 col11\" >0</td>\n",
              "                        <td id=\"T_7880d814_3ddb_11eb_b662_0242ac1c0002row8_col12\" class=\"data row8 col12\" >78</td>\n",
              "                        <td id=\"T_7880d814_3ddb_11eb_b662_0242ac1c0002row8_col13\" class=\"data row8 col13\" >255</td>\n",
              "                        <td id=\"T_7880d814_3ddb_11eb_b662_0242ac1c0002row8_col14\" class=\"data row8 col14\" >255</td>\n",
              "                        <td id=\"T_7880d814_3ddb_11eb_b662_0242ac1c0002row8_col15\" class=\"data row8 col15\" >255</td>\n",
              "                        <td id=\"T_7880d814_3ddb_11eb_b662_0242ac1c0002row8_col16\" class=\"data row8 col16\" >255</td>\n",
              "                        <td id=\"T_7880d814_3ddb_11eb_b662_0242ac1c0002row8_col17\" class=\"data row8 col17\" >255</td>\n",
              "                        <td id=\"T_7880d814_3ddb_11eb_b662_0242ac1c0002row8_col18\" class=\"data row8 col18\" >224</td>\n",
              "                        <td id=\"T_7880d814_3ddb_11eb_b662_0242ac1c0002row8_col19\" class=\"data row8 col19\" >239</td>\n",
              "                        <td id=\"T_7880d814_3ddb_11eb_b662_0242ac1c0002row8_col20\" class=\"data row8 col20\" >255</td>\n",
              "                        <td id=\"T_7880d814_3ddb_11eb_b662_0242ac1c0002row8_col21\" class=\"data row8 col21\" >255</td>\n",
              "                        <td id=\"T_7880d814_3ddb_11eb_b662_0242ac1c0002row8_col22\" class=\"data row8 col22\" >255</td>\n",
              "                        <td id=\"T_7880d814_3ddb_11eb_b662_0242ac1c0002row8_col23\" class=\"data row8 col23\" >0</td>\n",
              "                        <td id=\"T_7880d814_3ddb_11eb_b662_0242ac1c0002row8_col24\" class=\"data row8 col24\" >0</td>\n",
              "                        <td id=\"T_7880d814_3ddb_11eb_b662_0242ac1c0002row8_col25\" class=\"data row8 col25\" >0</td>\n",
              "                        <td id=\"T_7880d814_3ddb_11eb_b662_0242ac1c0002row8_col26\" class=\"data row8 col26\" >0</td>\n",
              "                        <td id=\"T_7880d814_3ddb_11eb_b662_0242ac1c0002row8_col27\" class=\"data row8 col27\" >0</td>\n",
              "            </tr>\n",
              "            <tr>\n",
              "                        <th id=\"T_7880d814_3ddb_11eb_b662_0242ac1c0002level0_row9\" class=\"row_heading level0 row9\" >9</th>\n",
              "                        <td id=\"T_7880d814_3ddb_11eb_b662_0242ac1c0002row9_col0\" class=\"data row9 col0\" >0</td>\n",
              "                        <td id=\"T_7880d814_3ddb_11eb_b662_0242ac1c0002row9_col1\" class=\"data row9 col1\" >0</td>\n",
              "                        <td id=\"T_7880d814_3ddb_11eb_b662_0242ac1c0002row9_col2\" class=\"data row9 col2\" >0</td>\n",
              "                        <td id=\"T_7880d814_3ddb_11eb_b662_0242ac1c0002row9_col3\" class=\"data row9 col3\" >0</td>\n",
              "                        <td id=\"T_7880d814_3ddb_11eb_b662_0242ac1c0002row9_col4\" class=\"data row9 col4\" >0</td>\n",
              "                        <td id=\"T_7880d814_3ddb_11eb_b662_0242ac1c0002row9_col5\" class=\"data row9 col5\" >0</td>\n",
              "                        <td id=\"T_7880d814_3ddb_11eb_b662_0242ac1c0002row9_col6\" class=\"data row9 col6\" >0</td>\n",
              "                        <td id=\"T_7880d814_3ddb_11eb_b662_0242ac1c0002row9_col7\" class=\"data row9 col7\" >0</td>\n",
              "                        <td id=\"T_7880d814_3ddb_11eb_b662_0242ac1c0002row9_col8\" class=\"data row9 col8\" >0</td>\n",
              "                        <td id=\"T_7880d814_3ddb_11eb_b662_0242ac1c0002row9_col9\" class=\"data row9 col9\" >0</td>\n",
              "                        <td id=\"T_7880d814_3ddb_11eb_b662_0242ac1c0002row9_col10\" class=\"data row9 col10\" >0</td>\n",
              "                        <td id=\"T_7880d814_3ddb_11eb_b662_0242ac1c0002row9_col11\" class=\"data row9 col11\" >0</td>\n",
              "                        <td id=\"T_7880d814_3ddb_11eb_b662_0242ac1c0002row9_col12\" class=\"data row9 col12\" >208</td>\n",
              "                        <td id=\"T_7880d814_3ddb_11eb_b662_0242ac1c0002row9_col13\" class=\"data row9 col13\" >255</td>\n",
              "                        <td id=\"T_7880d814_3ddb_11eb_b662_0242ac1c0002row9_col14\" class=\"data row9 col14\" >255</td>\n",
              "                        <td id=\"T_7880d814_3ddb_11eb_b662_0242ac1c0002row9_col15\" class=\"data row9 col15\" >255</td>\n",
              "                        <td id=\"T_7880d814_3ddb_11eb_b662_0242ac1c0002row9_col16\" class=\"data row9 col16\" >236</td>\n",
              "                        <td id=\"T_7880d814_3ddb_11eb_b662_0242ac1c0002row9_col17\" class=\"data row9 col17\" >93</td>\n",
              "                        <td id=\"T_7880d814_3ddb_11eb_b662_0242ac1c0002row9_col18\" class=\"data row9 col18\" >0</td>\n",
              "                        <td id=\"T_7880d814_3ddb_11eb_b662_0242ac1c0002row9_col19\" class=\"data row9 col19\" >208</td>\n",
              "                        <td id=\"T_7880d814_3ddb_11eb_b662_0242ac1c0002row9_col20\" class=\"data row9 col20\" >255</td>\n",
              "                        <td id=\"T_7880d814_3ddb_11eb_b662_0242ac1c0002row9_col21\" class=\"data row9 col21\" >255</td>\n",
              "                        <td id=\"T_7880d814_3ddb_11eb_b662_0242ac1c0002row9_col22\" class=\"data row9 col22\" >236</td>\n",
              "                        <td id=\"T_7880d814_3ddb_11eb_b662_0242ac1c0002row9_col23\" class=\"data row9 col23\" >0</td>\n",
              "                        <td id=\"T_7880d814_3ddb_11eb_b662_0242ac1c0002row9_col24\" class=\"data row9 col24\" >0</td>\n",
              "                        <td id=\"T_7880d814_3ddb_11eb_b662_0242ac1c0002row9_col25\" class=\"data row9 col25\" >0</td>\n",
              "                        <td id=\"T_7880d814_3ddb_11eb_b662_0242ac1c0002row9_col26\" class=\"data row9 col26\" >0</td>\n",
              "                        <td id=\"T_7880d814_3ddb_11eb_b662_0242ac1c0002row9_col27\" class=\"data row9 col27\" >0</td>\n",
              "            </tr>\n",
              "            <tr>\n",
              "                        <th id=\"T_7880d814_3ddb_11eb_b662_0242ac1c0002level0_row10\" class=\"row_heading level0 row10\" >10</th>\n",
              "                        <td id=\"T_7880d814_3ddb_11eb_b662_0242ac1c0002row10_col0\" class=\"data row10 col0\" >0</td>\n",
              "                        <td id=\"T_7880d814_3ddb_11eb_b662_0242ac1c0002row10_col1\" class=\"data row10 col1\" >0</td>\n",
              "                        <td id=\"T_7880d814_3ddb_11eb_b662_0242ac1c0002row10_col2\" class=\"data row10 col2\" >0</td>\n",
              "                        <td id=\"T_7880d814_3ddb_11eb_b662_0242ac1c0002row10_col3\" class=\"data row10 col3\" >0</td>\n",
              "                        <td id=\"T_7880d814_3ddb_11eb_b662_0242ac1c0002row10_col4\" class=\"data row10 col4\" >0</td>\n",
              "                        <td id=\"T_7880d814_3ddb_11eb_b662_0242ac1c0002row10_col5\" class=\"data row10 col5\" >0</td>\n",
              "                        <td id=\"T_7880d814_3ddb_11eb_b662_0242ac1c0002row10_col6\" class=\"data row10 col6\" >0</td>\n",
              "                        <td id=\"T_7880d814_3ddb_11eb_b662_0242ac1c0002row10_col7\" class=\"data row10 col7\" >0</td>\n",
              "                        <td id=\"T_7880d814_3ddb_11eb_b662_0242ac1c0002row10_col8\" class=\"data row10 col8\" >0</td>\n",
              "                        <td id=\"T_7880d814_3ddb_11eb_b662_0242ac1c0002row10_col9\" class=\"data row10 col9\" >0</td>\n",
              "                        <td id=\"T_7880d814_3ddb_11eb_b662_0242ac1c0002row10_col10\" class=\"data row10 col10\" >0</td>\n",
              "                        <td id=\"T_7880d814_3ddb_11eb_b662_0242ac1c0002row10_col11\" class=\"data row10 col11\" >106</td>\n",
              "                        <td id=\"T_7880d814_3ddb_11eb_b662_0242ac1c0002row10_col12\" class=\"data row10 col12\" >255</td>\n",
              "                        <td id=\"T_7880d814_3ddb_11eb_b662_0242ac1c0002row10_col13\" class=\"data row10 col13\" >255</td>\n",
              "                        <td id=\"T_7880d814_3ddb_11eb_b662_0242ac1c0002row10_col14\" class=\"data row10 col14\" >255</td>\n",
              "                        <td id=\"T_7880d814_3ddb_11eb_b662_0242ac1c0002row10_col15\" class=\"data row10 col15\" >171</td>\n",
              "                        <td id=\"T_7880d814_3ddb_11eb_b662_0242ac1c0002row10_col16\" class=\"data row10 col16\" >44</td>\n",
              "                        <td id=\"T_7880d814_3ddb_11eb_b662_0242ac1c0002row10_col17\" class=\"data row10 col17\" >0</td>\n",
              "                        <td id=\"T_7880d814_3ddb_11eb_b662_0242ac1c0002row10_col18\" class=\"data row10 col18\" >22</td>\n",
              "                        <td id=\"T_7880d814_3ddb_11eb_b662_0242ac1c0002row10_col19\" class=\"data row10 col19\" >255</td>\n",
              "                        <td id=\"T_7880d814_3ddb_11eb_b662_0242ac1c0002row10_col20\" class=\"data row10 col20\" >255</td>\n",
              "                        <td id=\"T_7880d814_3ddb_11eb_b662_0242ac1c0002row10_col21\" class=\"data row10 col21\" >255</td>\n",
              "                        <td id=\"T_7880d814_3ddb_11eb_b662_0242ac1c0002row10_col22\" class=\"data row10 col22\" >128</td>\n",
              "                        <td id=\"T_7880d814_3ddb_11eb_b662_0242ac1c0002row10_col23\" class=\"data row10 col23\" >0</td>\n",
              "                        <td id=\"T_7880d814_3ddb_11eb_b662_0242ac1c0002row10_col24\" class=\"data row10 col24\" >0</td>\n",
              "                        <td id=\"T_7880d814_3ddb_11eb_b662_0242ac1c0002row10_col25\" class=\"data row10 col25\" >0</td>\n",
              "                        <td id=\"T_7880d814_3ddb_11eb_b662_0242ac1c0002row10_col26\" class=\"data row10 col26\" >0</td>\n",
              "                        <td id=\"T_7880d814_3ddb_11eb_b662_0242ac1c0002row10_col27\" class=\"data row10 col27\" >0</td>\n",
              "            </tr>\n",
              "            <tr>\n",
              "                        <th id=\"T_7880d814_3ddb_11eb_b662_0242ac1c0002level0_row11\" class=\"row_heading level0 row11\" >11</th>\n",
              "                        <td id=\"T_7880d814_3ddb_11eb_b662_0242ac1c0002row11_col0\" class=\"data row11 col0\" >0</td>\n",
              "                        <td id=\"T_7880d814_3ddb_11eb_b662_0242ac1c0002row11_col1\" class=\"data row11 col1\" >0</td>\n",
              "                        <td id=\"T_7880d814_3ddb_11eb_b662_0242ac1c0002row11_col2\" class=\"data row11 col2\" >0</td>\n",
              "                        <td id=\"T_7880d814_3ddb_11eb_b662_0242ac1c0002row11_col3\" class=\"data row11 col3\" >0</td>\n",
              "                        <td id=\"T_7880d814_3ddb_11eb_b662_0242ac1c0002row11_col4\" class=\"data row11 col4\" >0</td>\n",
              "                        <td id=\"T_7880d814_3ddb_11eb_b662_0242ac1c0002row11_col5\" class=\"data row11 col5\" >0</td>\n",
              "                        <td id=\"T_7880d814_3ddb_11eb_b662_0242ac1c0002row11_col6\" class=\"data row11 col6\" >0</td>\n",
              "                        <td id=\"T_7880d814_3ddb_11eb_b662_0242ac1c0002row11_col7\" class=\"data row11 col7\" >0</td>\n",
              "                        <td id=\"T_7880d814_3ddb_11eb_b662_0242ac1c0002row11_col8\" class=\"data row11 col8\" >0</td>\n",
              "                        <td id=\"T_7880d814_3ddb_11eb_b662_0242ac1c0002row11_col9\" class=\"data row11 col9\" >0</td>\n",
              "                        <td id=\"T_7880d814_3ddb_11eb_b662_0242ac1c0002row11_col10\" class=\"data row11 col10\" >25</td>\n",
              "                        <td id=\"T_7880d814_3ddb_11eb_b662_0242ac1c0002row11_col11\" class=\"data row11 col11\" >255</td>\n",
              "                        <td id=\"T_7880d814_3ddb_11eb_b662_0242ac1c0002row11_col12\" class=\"data row11 col12\" >255</td>\n",
              "                        <td id=\"T_7880d814_3ddb_11eb_b662_0242ac1c0002row11_col13\" class=\"data row11 col13\" >255</td>\n",
              "                        <td id=\"T_7880d814_3ddb_11eb_b662_0242ac1c0002row11_col14\" class=\"data row11 col14\" >255</td>\n",
              "                        <td id=\"T_7880d814_3ddb_11eb_b662_0242ac1c0002row11_col15\" class=\"data row11 col15\" >40</td>\n",
              "                        <td id=\"T_7880d814_3ddb_11eb_b662_0242ac1c0002row11_col16\" class=\"data row11 col16\" >0</td>\n",
              "                        <td id=\"T_7880d814_3ddb_11eb_b662_0242ac1c0002row11_col17\" class=\"data row11 col17\" >0</td>\n",
              "                        <td id=\"T_7880d814_3ddb_11eb_b662_0242ac1c0002row11_col18\" class=\"data row11 col18\" >128</td>\n",
              "                        <td id=\"T_7880d814_3ddb_11eb_b662_0242ac1c0002row11_col19\" class=\"data row11 col19\" >255</td>\n",
              "                        <td id=\"T_7880d814_3ddb_11eb_b662_0242ac1c0002row11_col20\" class=\"data row11 col20\" >255</td>\n",
              "                        <td id=\"T_7880d814_3ddb_11eb_b662_0242ac1c0002row11_col21\" class=\"data row11 col21\" >255</td>\n",
              "                        <td id=\"T_7880d814_3ddb_11eb_b662_0242ac1c0002row11_col22\" class=\"data row11 col22\" >103</td>\n",
              "                        <td id=\"T_7880d814_3ddb_11eb_b662_0242ac1c0002row11_col23\" class=\"data row11 col23\" >0</td>\n",
              "                        <td id=\"T_7880d814_3ddb_11eb_b662_0242ac1c0002row11_col24\" class=\"data row11 col24\" >0</td>\n",
              "                        <td id=\"T_7880d814_3ddb_11eb_b662_0242ac1c0002row11_col25\" class=\"data row11 col25\" >0</td>\n",
              "                        <td id=\"T_7880d814_3ddb_11eb_b662_0242ac1c0002row11_col26\" class=\"data row11 col26\" >0</td>\n",
              "                        <td id=\"T_7880d814_3ddb_11eb_b662_0242ac1c0002row11_col27\" class=\"data row11 col27\" >0</td>\n",
              "            </tr>\n",
              "            <tr>\n",
              "                        <th id=\"T_7880d814_3ddb_11eb_b662_0242ac1c0002level0_row12\" class=\"row_heading level0 row12\" >12</th>\n",
              "                        <td id=\"T_7880d814_3ddb_11eb_b662_0242ac1c0002row12_col0\" class=\"data row12 col0\" >0</td>\n",
              "                        <td id=\"T_7880d814_3ddb_11eb_b662_0242ac1c0002row12_col1\" class=\"data row12 col1\" >0</td>\n",
              "                        <td id=\"T_7880d814_3ddb_11eb_b662_0242ac1c0002row12_col2\" class=\"data row12 col2\" >0</td>\n",
              "                        <td id=\"T_7880d814_3ddb_11eb_b662_0242ac1c0002row12_col3\" class=\"data row12 col3\" >0</td>\n",
              "                        <td id=\"T_7880d814_3ddb_11eb_b662_0242ac1c0002row12_col4\" class=\"data row12 col4\" >0</td>\n",
              "                        <td id=\"T_7880d814_3ddb_11eb_b662_0242ac1c0002row12_col5\" class=\"data row12 col5\" >0</td>\n",
              "                        <td id=\"T_7880d814_3ddb_11eb_b662_0242ac1c0002row12_col6\" class=\"data row12 col6\" >0</td>\n",
              "                        <td id=\"T_7880d814_3ddb_11eb_b662_0242ac1c0002row12_col7\" class=\"data row12 col7\" >0</td>\n",
              "                        <td id=\"T_7880d814_3ddb_11eb_b662_0242ac1c0002row12_col8\" class=\"data row12 col8\" >0</td>\n",
              "                        <td id=\"T_7880d814_3ddb_11eb_b662_0242ac1c0002row12_col9\" class=\"data row12 col9\" >0</td>\n",
              "                        <td id=\"T_7880d814_3ddb_11eb_b662_0242ac1c0002row12_col10\" class=\"data row12 col10\" >218</td>\n",
              "                        <td id=\"T_7880d814_3ddb_11eb_b662_0242ac1c0002row12_col11\" class=\"data row12 col11\" >255</td>\n",
              "                        <td id=\"T_7880d814_3ddb_11eb_b662_0242ac1c0002row12_col12\" class=\"data row12 col12\" >255</td>\n",
              "                        <td id=\"T_7880d814_3ddb_11eb_b662_0242ac1c0002row12_col13\" class=\"data row12 col13\" >255</td>\n",
              "                        <td id=\"T_7880d814_3ddb_11eb_b662_0242ac1c0002row12_col14\" class=\"data row12 col14\" >137</td>\n",
              "                        <td id=\"T_7880d814_3ddb_11eb_b662_0242ac1c0002row12_col15\" class=\"data row12 col15\" >0</td>\n",
              "                        <td id=\"T_7880d814_3ddb_11eb_b662_0242ac1c0002row12_col16\" class=\"data row12 col16\" >0</td>\n",
              "                        <td id=\"T_7880d814_3ddb_11eb_b662_0242ac1c0002row12_col17\" class=\"data row12 col17\" >0</td>\n",
              "                        <td id=\"T_7880d814_3ddb_11eb_b662_0242ac1c0002row12_col18\" class=\"data row12 col18\" >128</td>\n",
              "                        <td id=\"T_7880d814_3ddb_11eb_b662_0242ac1c0002row12_col19\" class=\"data row12 col19\" >255</td>\n",
              "                        <td id=\"T_7880d814_3ddb_11eb_b662_0242ac1c0002row12_col20\" class=\"data row12 col20\" >255</td>\n",
              "                        <td id=\"T_7880d814_3ddb_11eb_b662_0242ac1c0002row12_col21\" class=\"data row12 col21\" >255</td>\n",
              "                        <td id=\"T_7880d814_3ddb_11eb_b662_0242ac1c0002row12_col22\" class=\"data row12 col22\" >0</td>\n",
              "                        <td id=\"T_7880d814_3ddb_11eb_b662_0242ac1c0002row12_col23\" class=\"data row12 col23\" >0</td>\n",
              "                        <td id=\"T_7880d814_3ddb_11eb_b662_0242ac1c0002row12_col24\" class=\"data row12 col24\" >0</td>\n",
              "                        <td id=\"T_7880d814_3ddb_11eb_b662_0242ac1c0002row12_col25\" class=\"data row12 col25\" >0</td>\n",
              "                        <td id=\"T_7880d814_3ddb_11eb_b662_0242ac1c0002row12_col26\" class=\"data row12 col26\" >0</td>\n",
              "                        <td id=\"T_7880d814_3ddb_11eb_b662_0242ac1c0002row12_col27\" class=\"data row12 col27\" >0</td>\n",
              "            </tr>\n",
              "            <tr>\n",
              "                        <th id=\"T_7880d814_3ddb_11eb_b662_0242ac1c0002level0_row13\" class=\"row_heading level0 row13\" >13</th>\n",
              "                        <td id=\"T_7880d814_3ddb_11eb_b662_0242ac1c0002row13_col0\" class=\"data row13 col0\" >0</td>\n",
              "                        <td id=\"T_7880d814_3ddb_11eb_b662_0242ac1c0002row13_col1\" class=\"data row13 col1\" >0</td>\n",
              "                        <td id=\"T_7880d814_3ddb_11eb_b662_0242ac1c0002row13_col2\" class=\"data row13 col2\" >0</td>\n",
              "                        <td id=\"T_7880d814_3ddb_11eb_b662_0242ac1c0002row13_col3\" class=\"data row13 col3\" >0</td>\n",
              "                        <td id=\"T_7880d814_3ddb_11eb_b662_0242ac1c0002row13_col4\" class=\"data row13 col4\" >0</td>\n",
              "                        <td id=\"T_7880d814_3ddb_11eb_b662_0242ac1c0002row13_col5\" class=\"data row13 col5\" >0</td>\n",
              "                        <td id=\"T_7880d814_3ddb_11eb_b662_0242ac1c0002row13_col6\" class=\"data row13 col6\" >0</td>\n",
              "                        <td id=\"T_7880d814_3ddb_11eb_b662_0242ac1c0002row13_col7\" class=\"data row13 col7\" >0</td>\n",
              "                        <td id=\"T_7880d814_3ddb_11eb_b662_0242ac1c0002row13_col8\" class=\"data row13 col8\" >0</td>\n",
              "                        <td id=\"T_7880d814_3ddb_11eb_b662_0242ac1c0002row13_col9\" class=\"data row13 col9\" >93</td>\n",
              "                        <td id=\"T_7880d814_3ddb_11eb_b662_0242ac1c0002row13_col10\" class=\"data row13 col10\" >255</td>\n",
              "                        <td id=\"T_7880d814_3ddb_11eb_b662_0242ac1c0002row13_col11\" class=\"data row13 col11\" >255</td>\n",
              "                        <td id=\"T_7880d814_3ddb_11eb_b662_0242ac1c0002row13_col12\" class=\"data row13 col12\" >255</td>\n",
              "                        <td id=\"T_7880d814_3ddb_11eb_b662_0242ac1c0002row13_col13\" class=\"data row13 col13\" >224</td>\n",
              "                        <td id=\"T_7880d814_3ddb_11eb_b662_0242ac1c0002row13_col14\" class=\"data row13 col14\" >0</td>\n",
              "                        <td id=\"T_7880d814_3ddb_11eb_b662_0242ac1c0002row13_col15\" class=\"data row13 col15\" >0</td>\n",
              "                        <td id=\"T_7880d814_3ddb_11eb_b662_0242ac1c0002row13_col16\" class=\"data row13 col16\" >0</td>\n",
              "                        <td id=\"T_7880d814_3ddb_11eb_b662_0242ac1c0002row13_col17\" class=\"data row13 col17\" >31</td>\n",
              "                        <td id=\"T_7880d814_3ddb_11eb_b662_0242ac1c0002row13_col18\" class=\"data row13 col18\" >221</td>\n",
              "                        <td id=\"T_7880d814_3ddb_11eb_b662_0242ac1c0002row13_col19\" class=\"data row13 col19\" >255</td>\n",
              "                        <td id=\"T_7880d814_3ddb_11eb_b662_0242ac1c0002row13_col20\" class=\"data row13 col20\" >255</td>\n",
              "                        <td id=\"T_7880d814_3ddb_11eb_b662_0242ac1c0002row13_col21\" class=\"data row13 col21\" >162</td>\n",
              "                        <td id=\"T_7880d814_3ddb_11eb_b662_0242ac1c0002row13_col22\" class=\"data row13 col22\" >0</td>\n",
              "                        <td id=\"T_7880d814_3ddb_11eb_b662_0242ac1c0002row13_col23\" class=\"data row13 col23\" >0</td>\n",
              "                        <td id=\"T_7880d814_3ddb_11eb_b662_0242ac1c0002row13_col24\" class=\"data row13 col24\" >0</td>\n",
              "                        <td id=\"T_7880d814_3ddb_11eb_b662_0242ac1c0002row13_col25\" class=\"data row13 col25\" >0</td>\n",
              "                        <td id=\"T_7880d814_3ddb_11eb_b662_0242ac1c0002row13_col26\" class=\"data row13 col26\" >0</td>\n",
              "                        <td id=\"T_7880d814_3ddb_11eb_b662_0242ac1c0002row13_col27\" class=\"data row13 col27\" >0</td>\n",
              "            </tr>\n",
              "            <tr>\n",
              "                        <th id=\"T_7880d814_3ddb_11eb_b662_0242ac1c0002level0_row14\" class=\"row_heading level0 row14\" >14</th>\n",
              "                        <td id=\"T_7880d814_3ddb_11eb_b662_0242ac1c0002row14_col0\" class=\"data row14 col0\" >0</td>\n",
              "                        <td id=\"T_7880d814_3ddb_11eb_b662_0242ac1c0002row14_col1\" class=\"data row14 col1\" >0</td>\n",
              "                        <td id=\"T_7880d814_3ddb_11eb_b662_0242ac1c0002row14_col2\" class=\"data row14 col2\" >0</td>\n",
              "                        <td id=\"T_7880d814_3ddb_11eb_b662_0242ac1c0002row14_col3\" class=\"data row14 col3\" >0</td>\n",
              "                        <td id=\"T_7880d814_3ddb_11eb_b662_0242ac1c0002row14_col4\" class=\"data row14 col4\" >0</td>\n",
              "                        <td id=\"T_7880d814_3ddb_11eb_b662_0242ac1c0002row14_col5\" class=\"data row14 col5\" >0</td>\n",
              "                        <td id=\"T_7880d814_3ddb_11eb_b662_0242ac1c0002row14_col6\" class=\"data row14 col6\" >0</td>\n",
              "                        <td id=\"T_7880d814_3ddb_11eb_b662_0242ac1c0002row14_col7\" class=\"data row14 col7\" >0</td>\n",
              "                        <td id=\"T_7880d814_3ddb_11eb_b662_0242ac1c0002row14_col8\" class=\"data row14 col8\" >0</td>\n",
              "                        <td id=\"T_7880d814_3ddb_11eb_b662_0242ac1c0002row14_col9\" class=\"data row14 col9\" >224</td>\n",
              "                        <td id=\"T_7880d814_3ddb_11eb_b662_0242ac1c0002row14_col10\" class=\"data row14 col10\" >255</td>\n",
              "                        <td id=\"T_7880d814_3ddb_11eb_b662_0242ac1c0002row14_col11\" class=\"data row14 col11\" >255</td>\n",
              "                        <td id=\"T_7880d814_3ddb_11eb_b662_0242ac1c0002row14_col12\" class=\"data row14 col12\" >221</td>\n",
              "                        <td id=\"T_7880d814_3ddb_11eb_b662_0242ac1c0002row14_col13\" class=\"data row14 col13\" >31</td>\n",
              "                        <td id=\"T_7880d814_3ddb_11eb_b662_0242ac1c0002row14_col14\" class=\"data row14 col14\" >0</td>\n",
              "                        <td id=\"T_7880d814_3ddb_11eb_b662_0242ac1c0002row14_col15\" class=\"data row14 col15\" >34</td>\n",
              "                        <td id=\"T_7880d814_3ddb_11eb_b662_0242ac1c0002row14_col16\" class=\"data row14 col16\" >68</td>\n",
              "                        <td id=\"T_7880d814_3ddb_11eb_b662_0242ac1c0002row14_col17\" class=\"data row14 col17\" >224</td>\n",
              "                        <td id=\"T_7880d814_3ddb_11eb_b662_0242ac1c0002row14_col18\" class=\"data row14 col18\" >255</td>\n",
              "                        <td id=\"T_7880d814_3ddb_11eb_b662_0242ac1c0002row14_col19\" class=\"data row14 col19\" >255</td>\n",
              "                        <td id=\"T_7880d814_3ddb_11eb_b662_0242ac1c0002row14_col20\" class=\"data row14 col20\" >255</td>\n",
              "                        <td id=\"T_7880d814_3ddb_11eb_b662_0242ac1c0002row14_col21\" class=\"data row14 col21\" >128</td>\n",
              "                        <td id=\"T_7880d814_3ddb_11eb_b662_0242ac1c0002row14_col22\" class=\"data row14 col22\" >0</td>\n",
              "                        <td id=\"T_7880d814_3ddb_11eb_b662_0242ac1c0002row14_col23\" class=\"data row14 col23\" >0</td>\n",
              "                        <td id=\"T_7880d814_3ddb_11eb_b662_0242ac1c0002row14_col24\" class=\"data row14 col24\" >0</td>\n",
              "                        <td id=\"T_7880d814_3ddb_11eb_b662_0242ac1c0002row14_col25\" class=\"data row14 col25\" >0</td>\n",
              "                        <td id=\"T_7880d814_3ddb_11eb_b662_0242ac1c0002row14_col26\" class=\"data row14 col26\" >0</td>\n",
              "                        <td id=\"T_7880d814_3ddb_11eb_b662_0242ac1c0002row14_col27\" class=\"data row14 col27\" >0</td>\n",
              "            </tr>\n",
              "            <tr>\n",
              "                        <th id=\"T_7880d814_3ddb_11eb_b662_0242ac1c0002level0_row15\" class=\"row_heading level0 row15\" >15</th>\n",
              "                        <td id=\"T_7880d814_3ddb_11eb_b662_0242ac1c0002row15_col0\" class=\"data row15 col0\" >0</td>\n",
              "                        <td id=\"T_7880d814_3ddb_11eb_b662_0242ac1c0002row15_col1\" class=\"data row15 col1\" >0</td>\n",
              "                        <td id=\"T_7880d814_3ddb_11eb_b662_0242ac1c0002row15_col2\" class=\"data row15 col2\" >0</td>\n",
              "                        <td id=\"T_7880d814_3ddb_11eb_b662_0242ac1c0002row15_col3\" class=\"data row15 col3\" >0</td>\n",
              "                        <td id=\"T_7880d814_3ddb_11eb_b662_0242ac1c0002row15_col4\" class=\"data row15 col4\" >0</td>\n",
              "                        <td id=\"T_7880d814_3ddb_11eb_b662_0242ac1c0002row15_col5\" class=\"data row15 col5\" >0</td>\n",
              "                        <td id=\"T_7880d814_3ddb_11eb_b662_0242ac1c0002row15_col6\" class=\"data row15 col6\" >0</td>\n",
              "                        <td id=\"T_7880d814_3ddb_11eb_b662_0242ac1c0002row15_col7\" class=\"data row15 col7\" >0</td>\n",
              "                        <td id=\"T_7880d814_3ddb_11eb_b662_0242ac1c0002row15_col8\" class=\"data row15 col8\" >199</td>\n",
              "                        <td id=\"T_7880d814_3ddb_11eb_b662_0242ac1c0002row15_col9\" class=\"data row15 col9\" >255</td>\n",
              "                        <td id=\"T_7880d814_3ddb_11eb_b662_0242ac1c0002row15_col10\" class=\"data row15 col10\" >255</td>\n",
              "                        <td id=\"T_7880d814_3ddb_11eb_b662_0242ac1c0002row15_col11\" class=\"data row15 col11\" >255</td>\n",
              "                        <td id=\"T_7880d814_3ddb_11eb_b662_0242ac1c0002row15_col12\" class=\"data row15 col12\" >227</td>\n",
              "                        <td id=\"T_7880d814_3ddb_11eb_b662_0242ac1c0002row15_col13\" class=\"data row15 col13\" >199</td>\n",
              "                        <td id=\"T_7880d814_3ddb_11eb_b662_0242ac1c0002row15_col14\" class=\"data row15 col14\" >199</td>\n",
              "                        <td id=\"T_7880d814_3ddb_11eb_b662_0242ac1c0002row15_col15\" class=\"data row15 col15\" >227</td>\n",
              "                        <td id=\"T_7880d814_3ddb_11eb_b662_0242ac1c0002row15_col16\" class=\"data row15 col16\" >255</td>\n",
              "                        <td id=\"T_7880d814_3ddb_11eb_b662_0242ac1c0002row15_col17\" class=\"data row15 col17\" >255</td>\n",
              "                        <td id=\"T_7880d814_3ddb_11eb_b662_0242ac1c0002row15_col18\" class=\"data row15 col18\" >255</td>\n",
              "                        <td id=\"T_7880d814_3ddb_11eb_b662_0242ac1c0002row15_col19\" class=\"data row15 col19\" >255</td>\n",
              "                        <td id=\"T_7880d814_3ddb_11eb_b662_0242ac1c0002row15_col20\" class=\"data row15 col20\" >255</td>\n",
              "                        <td id=\"T_7880d814_3ddb_11eb_b662_0242ac1c0002row15_col21\" class=\"data row15 col21\" >28</td>\n",
              "                        <td id=\"T_7880d814_3ddb_11eb_b662_0242ac1c0002row15_col22\" class=\"data row15 col22\" >0</td>\n",
              "                        <td id=\"T_7880d814_3ddb_11eb_b662_0242ac1c0002row15_col23\" class=\"data row15 col23\" >0</td>\n",
              "                        <td id=\"T_7880d814_3ddb_11eb_b662_0242ac1c0002row15_col24\" class=\"data row15 col24\" >0</td>\n",
              "                        <td id=\"T_7880d814_3ddb_11eb_b662_0242ac1c0002row15_col25\" class=\"data row15 col25\" >0</td>\n",
              "                        <td id=\"T_7880d814_3ddb_11eb_b662_0242ac1c0002row15_col26\" class=\"data row15 col26\" >0</td>\n",
              "                        <td id=\"T_7880d814_3ddb_11eb_b662_0242ac1c0002row15_col27\" class=\"data row15 col27\" >0</td>\n",
              "            </tr>\n",
              "            <tr>\n",
              "                        <th id=\"T_7880d814_3ddb_11eb_b662_0242ac1c0002level0_row16\" class=\"row_heading level0 row16\" >16</th>\n",
              "                        <td id=\"T_7880d814_3ddb_11eb_b662_0242ac1c0002row16_col0\" class=\"data row16 col0\" >0</td>\n",
              "                        <td id=\"T_7880d814_3ddb_11eb_b662_0242ac1c0002row16_col1\" class=\"data row16 col1\" >0</td>\n",
              "                        <td id=\"T_7880d814_3ddb_11eb_b662_0242ac1c0002row16_col2\" class=\"data row16 col2\" >0</td>\n",
              "                        <td id=\"T_7880d814_3ddb_11eb_b662_0242ac1c0002row16_col3\" class=\"data row16 col3\" >0</td>\n",
              "                        <td id=\"T_7880d814_3ddb_11eb_b662_0242ac1c0002row16_col4\" class=\"data row16 col4\" >0</td>\n",
              "                        <td id=\"T_7880d814_3ddb_11eb_b662_0242ac1c0002row16_col5\" class=\"data row16 col5\" >0</td>\n",
              "                        <td id=\"T_7880d814_3ddb_11eb_b662_0242ac1c0002row16_col6\" class=\"data row16 col6\" >0</td>\n",
              "                        <td id=\"T_7880d814_3ddb_11eb_b662_0242ac1c0002row16_col7\" class=\"data row16 col7\" >0</td>\n",
              "                        <td id=\"T_7880d814_3ddb_11eb_b662_0242ac1c0002row16_col8\" class=\"data row16 col8\" >255</td>\n",
              "                        <td id=\"T_7880d814_3ddb_11eb_b662_0242ac1c0002row16_col9\" class=\"data row16 col9\" >255</td>\n",
              "                        <td id=\"T_7880d814_3ddb_11eb_b662_0242ac1c0002row16_col10\" class=\"data row16 col10\" >255</td>\n",
              "                        <td id=\"T_7880d814_3ddb_11eb_b662_0242ac1c0002row16_col11\" class=\"data row16 col11\" >255</td>\n",
              "                        <td id=\"T_7880d814_3ddb_11eb_b662_0242ac1c0002row16_col12\" class=\"data row16 col12\" >255</td>\n",
              "                        <td id=\"T_7880d814_3ddb_11eb_b662_0242ac1c0002row16_col13\" class=\"data row16 col13\" >255</td>\n",
              "                        <td id=\"T_7880d814_3ddb_11eb_b662_0242ac1c0002row16_col14\" class=\"data row16 col14\" >255</td>\n",
              "                        <td id=\"T_7880d814_3ddb_11eb_b662_0242ac1c0002row16_col15\" class=\"data row16 col15\" >255</td>\n",
              "                        <td id=\"T_7880d814_3ddb_11eb_b662_0242ac1c0002row16_col16\" class=\"data row16 col16\" >255</td>\n",
              "                        <td id=\"T_7880d814_3ddb_11eb_b662_0242ac1c0002row16_col17\" class=\"data row16 col17\" >255</td>\n",
              "                        <td id=\"T_7880d814_3ddb_11eb_b662_0242ac1c0002row16_col18\" class=\"data row16 col18\" >255</td>\n",
              "                        <td id=\"T_7880d814_3ddb_11eb_b662_0242ac1c0002row16_col19\" class=\"data row16 col19\" >255</td>\n",
              "                        <td id=\"T_7880d814_3ddb_11eb_b662_0242ac1c0002row16_col20\" class=\"data row16 col20\" >112</td>\n",
              "                        <td id=\"T_7880d814_3ddb_11eb_b662_0242ac1c0002row16_col21\" class=\"data row16 col21\" >0</td>\n",
              "                        <td id=\"T_7880d814_3ddb_11eb_b662_0242ac1c0002row16_col22\" class=\"data row16 col22\" >0</td>\n",
              "                        <td id=\"T_7880d814_3ddb_11eb_b662_0242ac1c0002row16_col23\" class=\"data row16 col23\" >0</td>\n",
              "                        <td id=\"T_7880d814_3ddb_11eb_b662_0242ac1c0002row16_col24\" class=\"data row16 col24\" >0</td>\n",
              "                        <td id=\"T_7880d814_3ddb_11eb_b662_0242ac1c0002row16_col25\" class=\"data row16 col25\" >0</td>\n",
              "                        <td id=\"T_7880d814_3ddb_11eb_b662_0242ac1c0002row16_col26\" class=\"data row16 col26\" >0</td>\n",
              "                        <td id=\"T_7880d814_3ddb_11eb_b662_0242ac1c0002row16_col27\" class=\"data row16 col27\" >0</td>\n",
              "            </tr>\n",
              "            <tr>\n",
              "                        <th id=\"T_7880d814_3ddb_11eb_b662_0242ac1c0002level0_row17\" class=\"row_heading level0 row17\" >17</th>\n",
              "                        <td id=\"T_7880d814_3ddb_11eb_b662_0242ac1c0002row17_col0\" class=\"data row17 col0\" >0</td>\n",
              "                        <td id=\"T_7880d814_3ddb_11eb_b662_0242ac1c0002row17_col1\" class=\"data row17 col1\" >0</td>\n",
              "                        <td id=\"T_7880d814_3ddb_11eb_b662_0242ac1c0002row17_col2\" class=\"data row17 col2\" >0</td>\n",
              "                        <td id=\"T_7880d814_3ddb_11eb_b662_0242ac1c0002row17_col3\" class=\"data row17 col3\" >0</td>\n",
              "                        <td id=\"T_7880d814_3ddb_11eb_b662_0242ac1c0002row17_col4\" class=\"data row17 col4\" >0</td>\n",
              "                        <td id=\"T_7880d814_3ddb_11eb_b662_0242ac1c0002row17_col5\" class=\"data row17 col5\" >0</td>\n",
              "                        <td id=\"T_7880d814_3ddb_11eb_b662_0242ac1c0002row17_col6\" class=\"data row17 col6\" >0</td>\n",
              "                        <td id=\"T_7880d814_3ddb_11eb_b662_0242ac1c0002row17_col7\" class=\"data row17 col7\" >149</td>\n",
              "                        <td id=\"T_7880d814_3ddb_11eb_b662_0242ac1c0002row17_col8\" class=\"data row17 col8\" >255</td>\n",
              "                        <td id=\"T_7880d814_3ddb_11eb_b662_0242ac1c0002row17_col9\" class=\"data row17 col9\" >255</td>\n",
              "                        <td id=\"T_7880d814_3ddb_11eb_b662_0242ac1c0002row17_col10\" class=\"data row17 col10\" >255</td>\n",
              "                        <td id=\"T_7880d814_3ddb_11eb_b662_0242ac1c0002row17_col11\" class=\"data row17 col11\" >255</td>\n",
              "                        <td id=\"T_7880d814_3ddb_11eb_b662_0242ac1c0002row17_col12\" class=\"data row17 col12\" >255</td>\n",
              "                        <td id=\"T_7880d814_3ddb_11eb_b662_0242ac1c0002row17_col13\" class=\"data row17 col13\" >255</td>\n",
              "                        <td id=\"T_7880d814_3ddb_11eb_b662_0242ac1c0002row17_col14\" class=\"data row17 col14\" >255</td>\n",
              "                        <td id=\"T_7880d814_3ddb_11eb_b662_0242ac1c0002row17_col15\" class=\"data row17 col15\" >255</td>\n",
              "                        <td id=\"T_7880d814_3ddb_11eb_b662_0242ac1c0002row17_col16\" class=\"data row17 col16\" >255</td>\n",
              "                        <td id=\"T_7880d814_3ddb_11eb_b662_0242ac1c0002row17_col17\" class=\"data row17 col17\" >255</td>\n",
              "                        <td id=\"T_7880d814_3ddb_11eb_b662_0242ac1c0002row17_col18\" class=\"data row17 col18\" >255</td>\n",
              "                        <td id=\"T_7880d814_3ddb_11eb_b662_0242ac1c0002row17_col19\" class=\"data row17 col19\" >255</td>\n",
              "                        <td id=\"T_7880d814_3ddb_11eb_b662_0242ac1c0002row17_col20\" class=\"data row17 col20\" >0</td>\n",
              "                        <td id=\"T_7880d814_3ddb_11eb_b662_0242ac1c0002row17_col21\" class=\"data row17 col21\" >0</td>\n",
              "                        <td id=\"T_7880d814_3ddb_11eb_b662_0242ac1c0002row17_col22\" class=\"data row17 col22\" >0</td>\n",
              "                        <td id=\"T_7880d814_3ddb_11eb_b662_0242ac1c0002row17_col23\" class=\"data row17 col23\" >0</td>\n",
              "                        <td id=\"T_7880d814_3ddb_11eb_b662_0242ac1c0002row17_col24\" class=\"data row17 col24\" >0</td>\n",
              "                        <td id=\"T_7880d814_3ddb_11eb_b662_0242ac1c0002row17_col25\" class=\"data row17 col25\" >0</td>\n",
              "                        <td id=\"T_7880d814_3ddb_11eb_b662_0242ac1c0002row17_col26\" class=\"data row17 col26\" >0</td>\n",
              "                        <td id=\"T_7880d814_3ddb_11eb_b662_0242ac1c0002row17_col27\" class=\"data row17 col27\" >0</td>\n",
              "            </tr>\n",
              "            <tr>\n",
              "                        <th id=\"T_7880d814_3ddb_11eb_b662_0242ac1c0002level0_row18\" class=\"row_heading level0 row18\" >18</th>\n",
              "                        <td id=\"T_7880d814_3ddb_11eb_b662_0242ac1c0002row18_col0\" class=\"data row18 col0\" >0</td>\n",
              "                        <td id=\"T_7880d814_3ddb_11eb_b662_0242ac1c0002row18_col1\" class=\"data row18 col1\" >0</td>\n",
              "                        <td id=\"T_7880d814_3ddb_11eb_b662_0242ac1c0002row18_col2\" class=\"data row18 col2\" >0</td>\n",
              "                        <td id=\"T_7880d814_3ddb_11eb_b662_0242ac1c0002row18_col3\" class=\"data row18 col3\" >0</td>\n",
              "                        <td id=\"T_7880d814_3ddb_11eb_b662_0242ac1c0002row18_col4\" class=\"data row18 col4\" >0</td>\n",
              "                        <td id=\"T_7880d814_3ddb_11eb_b662_0242ac1c0002row18_col5\" class=\"data row18 col5\" >0</td>\n",
              "                        <td id=\"T_7880d814_3ddb_11eb_b662_0242ac1c0002row18_col6\" class=\"data row18 col6\" >47</td>\n",
              "                        <td id=\"T_7880d814_3ddb_11eb_b662_0242ac1c0002row18_col7\" class=\"data row18 col7\" >255</td>\n",
              "                        <td id=\"T_7880d814_3ddb_11eb_b662_0242ac1c0002row18_col8\" class=\"data row18 col8\" >255</td>\n",
              "                        <td id=\"T_7880d814_3ddb_11eb_b662_0242ac1c0002row18_col9\" class=\"data row18 col9\" >255</td>\n",
              "                        <td id=\"T_7880d814_3ddb_11eb_b662_0242ac1c0002row18_col10\" class=\"data row18 col10\" >255</td>\n",
              "                        <td id=\"T_7880d814_3ddb_11eb_b662_0242ac1c0002row18_col11\" class=\"data row18 col11\" >208</td>\n",
              "                        <td id=\"T_7880d814_3ddb_11eb_b662_0242ac1c0002row18_col12\" class=\"data row18 col12\" >255</td>\n",
              "                        <td id=\"T_7880d814_3ddb_11eb_b662_0242ac1c0002row18_col13\" class=\"data row18 col13\" >162</td>\n",
              "                        <td id=\"T_7880d814_3ddb_11eb_b662_0242ac1c0002row18_col14\" class=\"data row18 col14\" >255</td>\n",
              "                        <td id=\"T_7880d814_3ddb_11eb_b662_0242ac1c0002row18_col15\" class=\"data row18 col15\" >255</td>\n",
              "                        <td id=\"T_7880d814_3ddb_11eb_b662_0242ac1c0002row18_col16\" class=\"data row18 col16\" >255</td>\n",
              "                        <td id=\"T_7880d814_3ddb_11eb_b662_0242ac1c0002row18_col17\" class=\"data row18 col17\" >255</td>\n",
              "                        <td id=\"T_7880d814_3ddb_11eb_b662_0242ac1c0002row18_col18\" class=\"data row18 col18\" >255</td>\n",
              "                        <td id=\"T_7880d814_3ddb_11eb_b662_0242ac1c0002row18_col19\" class=\"data row18 col19\" >100</td>\n",
              "                        <td id=\"T_7880d814_3ddb_11eb_b662_0242ac1c0002row18_col20\" class=\"data row18 col20\" >0</td>\n",
              "                        <td id=\"T_7880d814_3ddb_11eb_b662_0242ac1c0002row18_col21\" class=\"data row18 col21\" >0</td>\n",
              "                        <td id=\"T_7880d814_3ddb_11eb_b662_0242ac1c0002row18_col22\" class=\"data row18 col22\" >0</td>\n",
              "                        <td id=\"T_7880d814_3ddb_11eb_b662_0242ac1c0002row18_col23\" class=\"data row18 col23\" >0</td>\n",
              "                        <td id=\"T_7880d814_3ddb_11eb_b662_0242ac1c0002row18_col24\" class=\"data row18 col24\" >0</td>\n",
              "                        <td id=\"T_7880d814_3ddb_11eb_b662_0242ac1c0002row18_col25\" class=\"data row18 col25\" >0</td>\n",
              "                        <td id=\"T_7880d814_3ddb_11eb_b662_0242ac1c0002row18_col26\" class=\"data row18 col26\" >0</td>\n",
              "                        <td id=\"T_7880d814_3ddb_11eb_b662_0242ac1c0002row18_col27\" class=\"data row18 col27\" >0</td>\n",
              "            </tr>\n",
              "            <tr>\n",
              "                        <th id=\"T_7880d814_3ddb_11eb_b662_0242ac1c0002level0_row19\" class=\"row_heading level0 row19\" >19</th>\n",
              "                        <td id=\"T_7880d814_3ddb_11eb_b662_0242ac1c0002row19_col0\" class=\"data row19 col0\" >0</td>\n",
              "                        <td id=\"T_7880d814_3ddb_11eb_b662_0242ac1c0002row19_col1\" class=\"data row19 col1\" >0</td>\n",
              "                        <td id=\"T_7880d814_3ddb_11eb_b662_0242ac1c0002row19_col2\" class=\"data row19 col2\" >0</td>\n",
              "                        <td id=\"T_7880d814_3ddb_11eb_b662_0242ac1c0002row19_col3\" class=\"data row19 col3\" >0</td>\n",
              "                        <td id=\"T_7880d814_3ddb_11eb_b662_0242ac1c0002row19_col4\" class=\"data row19 col4\" >0</td>\n",
              "                        <td id=\"T_7880d814_3ddb_11eb_b662_0242ac1c0002row19_col5\" class=\"data row19 col5\" >0</td>\n",
              "                        <td id=\"T_7880d814_3ddb_11eb_b662_0242ac1c0002row19_col6\" class=\"data row19 col6\" >128</td>\n",
              "                        <td id=\"T_7880d814_3ddb_11eb_b662_0242ac1c0002row19_col7\" class=\"data row19 col7\" >255</td>\n",
              "                        <td id=\"T_7880d814_3ddb_11eb_b662_0242ac1c0002row19_col8\" class=\"data row19 col8\" >255</td>\n",
              "                        <td id=\"T_7880d814_3ddb_11eb_b662_0242ac1c0002row19_col9\" class=\"data row19 col9\" >205</td>\n",
              "                        <td id=\"T_7880d814_3ddb_11eb_b662_0242ac1c0002row19_col10\" class=\"data row19 col10\" >93</td>\n",
              "                        <td id=\"T_7880d814_3ddb_11eb_b662_0242ac1c0002row19_col11\" class=\"data row19 col11\" >16</td>\n",
              "                        <td id=\"T_7880d814_3ddb_11eb_b662_0242ac1c0002row19_col12\" class=\"data row19 col12\" >31</td>\n",
              "                        <td id=\"T_7880d814_3ddb_11eb_b662_0242ac1c0002row19_col13\" class=\"data row19 col13\" >0</td>\n",
              "                        <td id=\"T_7880d814_3ddb_11eb_b662_0242ac1c0002row19_col14\" class=\"data row19 col14\" >31</td>\n",
              "                        <td id=\"T_7880d814_3ddb_11eb_b662_0242ac1c0002row19_col15\" class=\"data row19 col15\" >255</td>\n",
              "                        <td id=\"T_7880d814_3ddb_11eb_b662_0242ac1c0002row19_col16\" class=\"data row19 col16\" >255</td>\n",
              "                        <td id=\"T_7880d814_3ddb_11eb_b662_0242ac1c0002row19_col17\" class=\"data row19 col17\" >255</td>\n",
              "                        <td id=\"T_7880d814_3ddb_11eb_b662_0242ac1c0002row19_col18\" class=\"data row19 col18\" >143</td>\n",
              "                        <td id=\"T_7880d814_3ddb_11eb_b662_0242ac1c0002row19_col19\" class=\"data row19 col19\" >0</td>\n",
              "                        <td id=\"T_7880d814_3ddb_11eb_b662_0242ac1c0002row19_col20\" class=\"data row19 col20\" >0</td>\n",
              "                        <td id=\"T_7880d814_3ddb_11eb_b662_0242ac1c0002row19_col21\" class=\"data row19 col21\" >0</td>\n",
              "                        <td id=\"T_7880d814_3ddb_11eb_b662_0242ac1c0002row19_col22\" class=\"data row19 col22\" >0</td>\n",
              "                        <td id=\"T_7880d814_3ddb_11eb_b662_0242ac1c0002row19_col23\" class=\"data row19 col23\" >0</td>\n",
              "                        <td id=\"T_7880d814_3ddb_11eb_b662_0242ac1c0002row19_col24\" class=\"data row19 col24\" >0</td>\n",
              "                        <td id=\"T_7880d814_3ddb_11eb_b662_0242ac1c0002row19_col25\" class=\"data row19 col25\" >0</td>\n",
              "                        <td id=\"T_7880d814_3ddb_11eb_b662_0242ac1c0002row19_col26\" class=\"data row19 col26\" >0</td>\n",
              "                        <td id=\"T_7880d814_3ddb_11eb_b662_0242ac1c0002row19_col27\" class=\"data row19 col27\" >0</td>\n",
              "            </tr>\n",
              "            <tr>\n",
              "                        <th id=\"T_7880d814_3ddb_11eb_b662_0242ac1c0002level0_row20\" class=\"row_heading level0 row20\" >20</th>\n",
              "                        <td id=\"T_7880d814_3ddb_11eb_b662_0242ac1c0002row20_col0\" class=\"data row20 col0\" >0</td>\n",
              "                        <td id=\"T_7880d814_3ddb_11eb_b662_0242ac1c0002row20_col1\" class=\"data row20 col1\" >0</td>\n",
              "                        <td id=\"T_7880d814_3ddb_11eb_b662_0242ac1c0002row20_col2\" class=\"data row20 col2\" >0</td>\n",
              "                        <td id=\"T_7880d814_3ddb_11eb_b662_0242ac1c0002row20_col3\" class=\"data row20 col3\" >0</td>\n",
              "                        <td id=\"T_7880d814_3ddb_11eb_b662_0242ac1c0002row20_col4\" class=\"data row20 col4\" >0</td>\n",
              "                        <td id=\"T_7880d814_3ddb_11eb_b662_0242ac1c0002row20_col5\" class=\"data row20 col5\" >0</td>\n",
              "                        <td id=\"T_7880d814_3ddb_11eb_b662_0242ac1c0002row20_col6\" class=\"data row20 col6\" >243</td>\n",
              "                        <td id=\"T_7880d814_3ddb_11eb_b662_0242ac1c0002row20_col7\" class=\"data row20 col7\" >255</td>\n",
              "                        <td id=\"T_7880d814_3ddb_11eb_b662_0242ac1c0002row20_col8\" class=\"data row20 col8\" >255</td>\n",
              "                        <td id=\"T_7880d814_3ddb_11eb_b662_0242ac1c0002row20_col9\" class=\"data row20 col9\" >128</td>\n",
              "                        <td id=\"T_7880d814_3ddb_11eb_b662_0242ac1c0002row20_col10\" class=\"data row20 col10\" >0</td>\n",
              "                        <td id=\"T_7880d814_3ddb_11eb_b662_0242ac1c0002row20_col11\" class=\"data row20 col11\" >0</td>\n",
              "                        <td id=\"T_7880d814_3ddb_11eb_b662_0242ac1c0002row20_col12\" class=\"data row20 col12\" >0</td>\n",
              "                        <td id=\"T_7880d814_3ddb_11eb_b662_0242ac1c0002row20_col13\" class=\"data row20 col13\" >0</td>\n",
              "                        <td id=\"T_7880d814_3ddb_11eb_b662_0242ac1c0002row20_col14\" class=\"data row20 col14\" >168</td>\n",
              "                        <td id=\"T_7880d814_3ddb_11eb_b662_0242ac1c0002row20_col15\" class=\"data row20 col15\" >255</td>\n",
              "                        <td id=\"T_7880d814_3ddb_11eb_b662_0242ac1c0002row20_col16\" class=\"data row20 col16\" >255</td>\n",
              "                        <td id=\"T_7880d814_3ddb_11eb_b662_0242ac1c0002row20_col17\" class=\"data row20 col17\" >255</td>\n",
              "                        <td id=\"T_7880d814_3ddb_11eb_b662_0242ac1c0002row20_col18\" class=\"data row20 col18\" >75</td>\n",
              "                        <td id=\"T_7880d814_3ddb_11eb_b662_0242ac1c0002row20_col19\" class=\"data row20 col19\" >0</td>\n",
              "                        <td id=\"T_7880d814_3ddb_11eb_b662_0242ac1c0002row20_col20\" class=\"data row20 col20\" >0</td>\n",
              "                        <td id=\"T_7880d814_3ddb_11eb_b662_0242ac1c0002row20_col21\" class=\"data row20 col21\" >0</td>\n",
              "                        <td id=\"T_7880d814_3ddb_11eb_b662_0242ac1c0002row20_col22\" class=\"data row20 col22\" >0</td>\n",
              "                        <td id=\"T_7880d814_3ddb_11eb_b662_0242ac1c0002row20_col23\" class=\"data row20 col23\" >0</td>\n",
              "                        <td id=\"T_7880d814_3ddb_11eb_b662_0242ac1c0002row20_col24\" class=\"data row20 col24\" >0</td>\n",
              "                        <td id=\"T_7880d814_3ddb_11eb_b662_0242ac1c0002row20_col25\" class=\"data row20 col25\" >0</td>\n",
              "                        <td id=\"T_7880d814_3ddb_11eb_b662_0242ac1c0002row20_col26\" class=\"data row20 col26\" >0</td>\n",
              "                        <td id=\"T_7880d814_3ddb_11eb_b662_0242ac1c0002row20_col27\" class=\"data row20 col27\" >0</td>\n",
              "            </tr>\n",
              "            <tr>\n",
              "                        <th id=\"T_7880d814_3ddb_11eb_b662_0242ac1c0002level0_row21\" class=\"row_heading level0 row21\" >21</th>\n",
              "                        <td id=\"T_7880d814_3ddb_11eb_b662_0242ac1c0002row21_col0\" class=\"data row21 col0\" >0</td>\n",
              "                        <td id=\"T_7880d814_3ddb_11eb_b662_0242ac1c0002row21_col1\" class=\"data row21 col1\" >0</td>\n",
              "                        <td id=\"T_7880d814_3ddb_11eb_b662_0242ac1c0002row21_col2\" class=\"data row21 col2\" >0</td>\n",
              "                        <td id=\"T_7880d814_3ddb_11eb_b662_0242ac1c0002row21_col3\" class=\"data row21 col3\" >0</td>\n",
              "                        <td id=\"T_7880d814_3ddb_11eb_b662_0242ac1c0002row21_col4\" class=\"data row21 col4\" >0</td>\n",
              "                        <td id=\"T_7880d814_3ddb_11eb_b662_0242ac1c0002row21_col5\" class=\"data row21 col5\" >174</td>\n",
              "                        <td id=\"T_7880d814_3ddb_11eb_b662_0242ac1c0002row21_col6\" class=\"data row21 col6\" >255</td>\n",
              "                        <td id=\"T_7880d814_3ddb_11eb_b662_0242ac1c0002row21_col7\" class=\"data row21 col7\" >255</td>\n",
              "                        <td id=\"T_7880d814_3ddb_11eb_b662_0242ac1c0002row21_col8\" class=\"data row21 col8\" >255</td>\n",
              "                        <td id=\"T_7880d814_3ddb_11eb_b662_0242ac1c0002row21_col9\" class=\"data row21 col9\" >72</td>\n",
              "                        <td id=\"T_7880d814_3ddb_11eb_b662_0242ac1c0002row21_col10\" class=\"data row21 col10\" >0</td>\n",
              "                        <td id=\"T_7880d814_3ddb_11eb_b662_0242ac1c0002row21_col11\" class=\"data row21 col11\" >0</td>\n",
              "                        <td id=\"T_7880d814_3ddb_11eb_b662_0242ac1c0002row21_col12\" class=\"data row21 col12\" >0</td>\n",
              "                        <td id=\"T_7880d814_3ddb_11eb_b662_0242ac1c0002row21_col13\" class=\"data row21 col13\" >0</td>\n",
              "                        <td id=\"T_7880d814_3ddb_11eb_b662_0242ac1c0002row21_col14\" class=\"data row21 col14\" >255</td>\n",
              "                        <td id=\"T_7880d814_3ddb_11eb_b662_0242ac1c0002row21_col15\" class=\"data row21 col15\" >255</td>\n",
              "                        <td id=\"T_7880d814_3ddb_11eb_b662_0242ac1c0002row21_col16\" class=\"data row21 col16\" >255</td>\n",
              "                        <td id=\"T_7880d814_3ddb_11eb_b662_0242ac1c0002row21_col17\" class=\"data row21 col17\" >255</td>\n",
              "                        <td id=\"T_7880d814_3ddb_11eb_b662_0242ac1c0002row21_col18\" class=\"data row21 col18\" >0</td>\n",
              "                        <td id=\"T_7880d814_3ddb_11eb_b662_0242ac1c0002row21_col19\" class=\"data row21 col19\" >0</td>\n",
              "                        <td id=\"T_7880d814_3ddb_11eb_b662_0242ac1c0002row21_col20\" class=\"data row21 col20\" >0</td>\n",
              "                        <td id=\"T_7880d814_3ddb_11eb_b662_0242ac1c0002row21_col21\" class=\"data row21 col21\" >0</td>\n",
              "                        <td id=\"T_7880d814_3ddb_11eb_b662_0242ac1c0002row21_col22\" class=\"data row21 col22\" >0</td>\n",
              "                        <td id=\"T_7880d814_3ddb_11eb_b662_0242ac1c0002row21_col23\" class=\"data row21 col23\" >0</td>\n",
              "                        <td id=\"T_7880d814_3ddb_11eb_b662_0242ac1c0002row21_col24\" class=\"data row21 col24\" >0</td>\n",
              "                        <td id=\"T_7880d814_3ddb_11eb_b662_0242ac1c0002row21_col25\" class=\"data row21 col25\" >0</td>\n",
              "                        <td id=\"T_7880d814_3ddb_11eb_b662_0242ac1c0002row21_col26\" class=\"data row21 col26\" >0</td>\n",
              "                        <td id=\"T_7880d814_3ddb_11eb_b662_0242ac1c0002row21_col27\" class=\"data row21 col27\" >0</td>\n",
              "            </tr>\n",
              "            <tr>\n",
              "                        <th id=\"T_7880d814_3ddb_11eb_b662_0242ac1c0002level0_row22\" class=\"row_heading level0 row22\" >22</th>\n",
              "                        <td id=\"T_7880d814_3ddb_11eb_b662_0242ac1c0002row22_col0\" class=\"data row22 col0\" >0</td>\n",
              "                        <td id=\"T_7880d814_3ddb_11eb_b662_0242ac1c0002row22_col1\" class=\"data row22 col1\" >0</td>\n",
              "                        <td id=\"T_7880d814_3ddb_11eb_b662_0242ac1c0002row22_col2\" class=\"data row22 col2\" >0</td>\n",
              "                        <td id=\"T_7880d814_3ddb_11eb_b662_0242ac1c0002row22_col3\" class=\"data row22 col3\" >0</td>\n",
              "                        <td id=\"T_7880d814_3ddb_11eb_b662_0242ac1c0002row22_col4\" class=\"data row22 col4\" >0</td>\n",
              "                        <td id=\"T_7880d814_3ddb_11eb_b662_0242ac1c0002row22_col5\" class=\"data row22 col5\" >255</td>\n",
              "                        <td id=\"T_7880d814_3ddb_11eb_b662_0242ac1c0002row22_col6\" class=\"data row22 col6\" >255</td>\n",
              "                        <td id=\"T_7880d814_3ddb_11eb_b662_0242ac1c0002row22_col7\" class=\"data row22 col7\" >255</td>\n",
              "                        <td id=\"T_7880d814_3ddb_11eb_b662_0242ac1c0002row22_col8\" class=\"data row22 col8\" >75</td>\n",
              "                        <td id=\"T_7880d814_3ddb_11eb_b662_0242ac1c0002row22_col9\" class=\"data row22 col9\" >0</td>\n",
              "                        <td id=\"T_7880d814_3ddb_11eb_b662_0242ac1c0002row22_col10\" class=\"data row22 col10\" >0</td>\n",
              "                        <td id=\"T_7880d814_3ddb_11eb_b662_0242ac1c0002row22_col11\" class=\"data row22 col11\" >0</td>\n",
              "                        <td id=\"T_7880d814_3ddb_11eb_b662_0242ac1c0002row22_col12\" class=\"data row22 col12\" >0</td>\n",
              "                        <td id=\"T_7880d814_3ddb_11eb_b662_0242ac1c0002row22_col13\" class=\"data row22 col13\" >0</td>\n",
              "                        <td id=\"T_7880d814_3ddb_11eb_b662_0242ac1c0002row22_col14\" class=\"data row22 col14\" >255</td>\n",
              "                        <td id=\"T_7880d814_3ddb_11eb_b662_0242ac1c0002row22_col15\" class=\"data row22 col15\" >255</td>\n",
              "                        <td id=\"T_7880d814_3ddb_11eb_b662_0242ac1c0002row22_col16\" class=\"data row22 col16\" >255</td>\n",
              "                        <td id=\"T_7880d814_3ddb_11eb_b662_0242ac1c0002row22_col17\" class=\"data row22 col17\" >134</td>\n",
              "                        <td id=\"T_7880d814_3ddb_11eb_b662_0242ac1c0002row22_col18\" class=\"data row22 col18\" >0</td>\n",
              "                        <td id=\"T_7880d814_3ddb_11eb_b662_0242ac1c0002row22_col19\" class=\"data row22 col19\" >0</td>\n",
              "                        <td id=\"T_7880d814_3ddb_11eb_b662_0242ac1c0002row22_col20\" class=\"data row22 col20\" >0</td>\n",
              "                        <td id=\"T_7880d814_3ddb_11eb_b662_0242ac1c0002row22_col21\" class=\"data row22 col21\" >0</td>\n",
              "                        <td id=\"T_7880d814_3ddb_11eb_b662_0242ac1c0002row22_col22\" class=\"data row22 col22\" >0</td>\n",
              "                        <td id=\"T_7880d814_3ddb_11eb_b662_0242ac1c0002row22_col23\" class=\"data row22 col23\" >0</td>\n",
              "                        <td id=\"T_7880d814_3ddb_11eb_b662_0242ac1c0002row22_col24\" class=\"data row22 col24\" >0</td>\n",
              "                        <td id=\"T_7880d814_3ddb_11eb_b662_0242ac1c0002row22_col25\" class=\"data row22 col25\" >0</td>\n",
              "                        <td id=\"T_7880d814_3ddb_11eb_b662_0242ac1c0002row22_col26\" class=\"data row22 col26\" >0</td>\n",
              "                        <td id=\"T_7880d814_3ddb_11eb_b662_0242ac1c0002row22_col27\" class=\"data row22 col27\" >0</td>\n",
              "            </tr>\n",
              "            <tr>\n",
              "                        <th id=\"T_7880d814_3ddb_11eb_b662_0242ac1c0002level0_row23\" class=\"row_heading level0 row23\" >23</th>\n",
              "                        <td id=\"T_7880d814_3ddb_11eb_b662_0242ac1c0002row23_col0\" class=\"data row23 col0\" >0</td>\n",
              "                        <td id=\"T_7880d814_3ddb_11eb_b662_0242ac1c0002row23_col1\" class=\"data row23 col1\" >0</td>\n",
              "                        <td id=\"T_7880d814_3ddb_11eb_b662_0242ac1c0002row23_col2\" class=\"data row23 col2\" >0</td>\n",
              "                        <td id=\"T_7880d814_3ddb_11eb_b662_0242ac1c0002row23_col3\" class=\"data row23 col3\" >0</td>\n",
              "                        <td id=\"T_7880d814_3ddb_11eb_b662_0242ac1c0002row23_col4\" class=\"data row23 col4\" >0</td>\n",
              "                        <td id=\"T_7880d814_3ddb_11eb_b662_0242ac1c0002row23_col5\" class=\"data row23 col5\" >68</td>\n",
              "                        <td id=\"T_7880d814_3ddb_11eb_b662_0242ac1c0002row23_col6\" class=\"data row23 col6\" >255</td>\n",
              "                        <td id=\"T_7880d814_3ddb_11eb_b662_0242ac1c0002row23_col7\" class=\"data row23 col7\" >131</td>\n",
              "                        <td id=\"T_7880d814_3ddb_11eb_b662_0242ac1c0002row23_col8\" class=\"data row23 col8\" >0</td>\n",
              "                        <td id=\"T_7880d814_3ddb_11eb_b662_0242ac1c0002row23_col9\" class=\"data row23 col9\" >0</td>\n",
              "                        <td id=\"T_7880d814_3ddb_11eb_b662_0242ac1c0002row23_col10\" class=\"data row23 col10\" >0</td>\n",
              "                        <td id=\"T_7880d814_3ddb_11eb_b662_0242ac1c0002row23_col11\" class=\"data row23 col11\" >0</td>\n",
              "                        <td id=\"T_7880d814_3ddb_11eb_b662_0242ac1c0002row23_col12\" class=\"data row23 col12\" >0</td>\n",
              "                        <td id=\"T_7880d814_3ddb_11eb_b662_0242ac1c0002row23_col13\" class=\"data row23 col13\" >0</td>\n",
              "                        <td id=\"T_7880d814_3ddb_11eb_b662_0242ac1c0002row23_col14\" class=\"data row23 col14\" >255</td>\n",
              "                        <td id=\"T_7880d814_3ddb_11eb_b662_0242ac1c0002row23_col15\" class=\"data row23 col15\" >255</td>\n",
              "                        <td id=\"T_7880d814_3ddb_11eb_b662_0242ac1c0002row23_col16\" class=\"data row23 col16\" >255</td>\n",
              "                        <td id=\"T_7880d814_3ddb_11eb_b662_0242ac1c0002row23_col17\" class=\"data row23 col17\" >3</td>\n",
              "                        <td id=\"T_7880d814_3ddb_11eb_b662_0242ac1c0002row23_col18\" class=\"data row23 col18\" >0</td>\n",
              "                        <td id=\"T_7880d814_3ddb_11eb_b662_0242ac1c0002row23_col19\" class=\"data row23 col19\" >0</td>\n",
              "                        <td id=\"T_7880d814_3ddb_11eb_b662_0242ac1c0002row23_col20\" class=\"data row23 col20\" >0</td>\n",
              "                        <td id=\"T_7880d814_3ddb_11eb_b662_0242ac1c0002row23_col21\" class=\"data row23 col21\" >0</td>\n",
              "                        <td id=\"T_7880d814_3ddb_11eb_b662_0242ac1c0002row23_col22\" class=\"data row23 col22\" >0</td>\n",
              "                        <td id=\"T_7880d814_3ddb_11eb_b662_0242ac1c0002row23_col23\" class=\"data row23 col23\" >0</td>\n",
              "                        <td id=\"T_7880d814_3ddb_11eb_b662_0242ac1c0002row23_col24\" class=\"data row23 col24\" >0</td>\n",
              "                        <td id=\"T_7880d814_3ddb_11eb_b662_0242ac1c0002row23_col25\" class=\"data row23 col25\" >0</td>\n",
              "                        <td id=\"T_7880d814_3ddb_11eb_b662_0242ac1c0002row23_col26\" class=\"data row23 col26\" >0</td>\n",
              "                        <td id=\"T_7880d814_3ddb_11eb_b662_0242ac1c0002row23_col27\" class=\"data row23 col27\" >0</td>\n",
              "            </tr>\n",
              "            <tr>\n",
              "                        <th id=\"T_7880d814_3ddb_11eb_b662_0242ac1c0002level0_row24\" class=\"row_heading level0 row24\" >24</th>\n",
              "                        <td id=\"T_7880d814_3ddb_11eb_b662_0242ac1c0002row24_col0\" class=\"data row24 col0\" >0</td>\n",
              "                        <td id=\"T_7880d814_3ddb_11eb_b662_0242ac1c0002row24_col1\" class=\"data row24 col1\" >0</td>\n",
              "                        <td id=\"T_7880d814_3ddb_11eb_b662_0242ac1c0002row24_col2\" class=\"data row24 col2\" >0</td>\n",
              "                        <td id=\"T_7880d814_3ddb_11eb_b662_0242ac1c0002row24_col3\" class=\"data row24 col3\" >0</td>\n",
              "                        <td id=\"T_7880d814_3ddb_11eb_b662_0242ac1c0002row24_col4\" class=\"data row24 col4\" >0</td>\n",
              "                        <td id=\"T_7880d814_3ddb_11eb_b662_0242ac1c0002row24_col5\" class=\"data row24 col5\" >0</td>\n",
              "                        <td id=\"T_7880d814_3ddb_11eb_b662_0242ac1c0002row24_col6\" class=\"data row24 col6\" >0</td>\n",
              "                        <td id=\"T_7880d814_3ddb_11eb_b662_0242ac1c0002row24_col7\" class=\"data row24 col7\" >0</td>\n",
              "                        <td id=\"T_7880d814_3ddb_11eb_b662_0242ac1c0002row24_col8\" class=\"data row24 col8\" >0</td>\n",
              "                        <td id=\"T_7880d814_3ddb_11eb_b662_0242ac1c0002row24_col9\" class=\"data row24 col9\" >0</td>\n",
              "                        <td id=\"T_7880d814_3ddb_11eb_b662_0242ac1c0002row24_col10\" class=\"data row24 col10\" >0</td>\n",
              "                        <td id=\"T_7880d814_3ddb_11eb_b662_0242ac1c0002row24_col11\" class=\"data row24 col11\" >0</td>\n",
              "                        <td id=\"T_7880d814_3ddb_11eb_b662_0242ac1c0002row24_col12\" class=\"data row24 col12\" >0</td>\n",
              "                        <td id=\"T_7880d814_3ddb_11eb_b662_0242ac1c0002row24_col13\" class=\"data row24 col13\" >0</td>\n",
              "                        <td id=\"T_7880d814_3ddb_11eb_b662_0242ac1c0002row24_col14\" class=\"data row24 col14\" >0</td>\n",
              "                        <td id=\"T_7880d814_3ddb_11eb_b662_0242ac1c0002row24_col15\" class=\"data row24 col15\" >0</td>\n",
              "                        <td id=\"T_7880d814_3ddb_11eb_b662_0242ac1c0002row24_col16\" class=\"data row24 col16\" >0</td>\n",
              "                        <td id=\"T_7880d814_3ddb_11eb_b662_0242ac1c0002row24_col17\" class=\"data row24 col17\" >0</td>\n",
              "                        <td id=\"T_7880d814_3ddb_11eb_b662_0242ac1c0002row24_col18\" class=\"data row24 col18\" >0</td>\n",
              "                        <td id=\"T_7880d814_3ddb_11eb_b662_0242ac1c0002row24_col19\" class=\"data row24 col19\" >0</td>\n",
              "                        <td id=\"T_7880d814_3ddb_11eb_b662_0242ac1c0002row24_col20\" class=\"data row24 col20\" >0</td>\n",
              "                        <td id=\"T_7880d814_3ddb_11eb_b662_0242ac1c0002row24_col21\" class=\"data row24 col21\" >0</td>\n",
              "                        <td id=\"T_7880d814_3ddb_11eb_b662_0242ac1c0002row24_col22\" class=\"data row24 col22\" >0</td>\n",
              "                        <td id=\"T_7880d814_3ddb_11eb_b662_0242ac1c0002row24_col23\" class=\"data row24 col23\" >0</td>\n",
              "                        <td id=\"T_7880d814_3ddb_11eb_b662_0242ac1c0002row24_col24\" class=\"data row24 col24\" >0</td>\n",
              "                        <td id=\"T_7880d814_3ddb_11eb_b662_0242ac1c0002row24_col25\" class=\"data row24 col25\" >0</td>\n",
              "                        <td id=\"T_7880d814_3ddb_11eb_b662_0242ac1c0002row24_col26\" class=\"data row24 col26\" >0</td>\n",
              "                        <td id=\"T_7880d814_3ddb_11eb_b662_0242ac1c0002row24_col27\" class=\"data row24 col27\" >0</td>\n",
              "            </tr>\n",
              "            <tr>\n",
              "                        <th id=\"T_7880d814_3ddb_11eb_b662_0242ac1c0002level0_row25\" class=\"row_heading level0 row25\" >25</th>\n",
              "                        <td id=\"T_7880d814_3ddb_11eb_b662_0242ac1c0002row25_col0\" class=\"data row25 col0\" >0</td>\n",
              "                        <td id=\"T_7880d814_3ddb_11eb_b662_0242ac1c0002row25_col1\" class=\"data row25 col1\" >0</td>\n",
              "                        <td id=\"T_7880d814_3ddb_11eb_b662_0242ac1c0002row25_col2\" class=\"data row25 col2\" >0</td>\n",
              "                        <td id=\"T_7880d814_3ddb_11eb_b662_0242ac1c0002row25_col3\" class=\"data row25 col3\" >0</td>\n",
              "                        <td id=\"T_7880d814_3ddb_11eb_b662_0242ac1c0002row25_col4\" class=\"data row25 col4\" >0</td>\n",
              "                        <td id=\"T_7880d814_3ddb_11eb_b662_0242ac1c0002row25_col5\" class=\"data row25 col5\" >0</td>\n",
              "                        <td id=\"T_7880d814_3ddb_11eb_b662_0242ac1c0002row25_col6\" class=\"data row25 col6\" >0</td>\n",
              "                        <td id=\"T_7880d814_3ddb_11eb_b662_0242ac1c0002row25_col7\" class=\"data row25 col7\" >0</td>\n",
              "                        <td id=\"T_7880d814_3ddb_11eb_b662_0242ac1c0002row25_col8\" class=\"data row25 col8\" >0</td>\n",
              "                        <td id=\"T_7880d814_3ddb_11eb_b662_0242ac1c0002row25_col9\" class=\"data row25 col9\" >0</td>\n",
              "                        <td id=\"T_7880d814_3ddb_11eb_b662_0242ac1c0002row25_col10\" class=\"data row25 col10\" >0</td>\n",
              "                        <td id=\"T_7880d814_3ddb_11eb_b662_0242ac1c0002row25_col11\" class=\"data row25 col11\" >0</td>\n",
              "                        <td id=\"T_7880d814_3ddb_11eb_b662_0242ac1c0002row25_col12\" class=\"data row25 col12\" >0</td>\n",
              "                        <td id=\"T_7880d814_3ddb_11eb_b662_0242ac1c0002row25_col13\" class=\"data row25 col13\" >0</td>\n",
              "                        <td id=\"T_7880d814_3ddb_11eb_b662_0242ac1c0002row25_col14\" class=\"data row25 col14\" >0</td>\n",
              "                        <td id=\"T_7880d814_3ddb_11eb_b662_0242ac1c0002row25_col15\" class=\"data row25 col15\" >0</td>\n",
              "                        <td id=\"T_7880d814_3ddb_11eb_b662_0242ac1c0002row25_col16\" class=\"data row25 col16\" >0</td>\n",
              "                        <td id=\"T_7880d814_3ddb_11eb_b662_0242ac1c0002row25_col17\" class=\"data row25 col17\" >0</td>\n",
              "                        <td id=\"T_7880d814_3ddb_11eb_b662_0242ac1c0002row25_col18\" class=\"data row25 col18\" >0</td>\n",
              "                        <td id=\"T_7880d814_3ddb_11eb_b662_0242ac1c0002row25_col19\" class=\"data row25 col19\" >0</td>\n",
              "                        <td id=\"T_7880d814_3ddb_11eb_b662_0242ac1c0002row25_col20\" class=\"data row25 col20\" >0</td>\n",
              "                        <td id=\"T_7880d814_3ddb_11eb_b662_0242ac1c0002row25_col21\" class=\"data row25 col21\" >0</td>\n",
              "                        <td id=\"T_7880d814_3ddb_11eb_b662_0242ac1c0002row25_col22\" class=\"data row25 col22\" >0</td>\n",
              "                        <td id=\"T_7880d814_3ddb_11eb_b662_0242ac1c0002row25_col23\" class=\"data row25 col23\" >0</td>\n",
              "                        <td id=\"T_7880d814_3ddb_11eb_b662_0242ac1c0002row25_col24\" class=\"data row25 col24\" >0</td>\n",
              "                        <td id=\"T_7880d814_3ddb_11eb_b662_0242ac1c0002row25_col25\" class=\"data row25 col25\" >0</td>\n",
              "                        <td id=\"T_7880d814_3ddb_11eb_b662_0242ac1c0002row25_col26\" class=\"data row25 col26\" >0</td>\n",
              "                        <td id=\"T_7880d814_3ddb_11eb_b662_0242ac1c0002row25_col27\" class=\"data row25 col27\" >0</td>\n",
              "            </tr>\n",
              "            <tr>\n",
              "                        <th id=\"T_7880d814_3ddb_11eb_b662_0242ac1c0002level0_row26\" class=\"row_heading level0 row26\" >26</th>\n",
              "                        <td id=\"T_7880d814_3ddb_11eb_b662_0242ac1c0002row26_col0\" class=\"data row26 col0\" >0</td>\n",
              "                        <td id=\"T_7880d814_3ddb_11eb_b662_0242ac1c0002row26_col1\" class=\"data row26 col1\" >0</td>\n",
              "                        <td id=\"T_7880d814_3ddb_11eb_b662_0242ac1c0002row26_col2\" class=\"data row26 col2\" >0</td>\n",
              "                        <td id=\"T_7880d814_3ddb_11eb_b662_0242ac1c0002row26_col3\" class=\"data row26 col3\" >0</td>\n",
              "                        <td id=\"T_7880d814_3ddb_11eb_b662_0242ac1c0002row26_col4\" class=\"data row26 col4\" >0</td>\n",
              "                        <td id=\"T_7880d814_3ddb_11eb_b662_0242ac1c0002row26_col5\" class=\"data row26 col5\" >0</td>\n",
              "                        <td id=\"T_7880d814_3ddb_11eb_b662_0242ac1c0002row26_col6\" class=\"data row26 col6\" >0</td>\n",
              "                        <td id=\"T_7880d814_3ddb_11eb_b662_0242ac1c0002row26_col7\" class=\"data row26 col7\" >0</td>\n",
              "                        <td id=\"T_7880d814_3ddb_11eb_b662_0242ac1c0002row26_col8\" class=\"data row26 col8\" >0</td>\n",
              "                        <td id=\"T_7880d814_3ddb_11eb_b662_0242ac1c0002row26_col9\" class=\"data row26 col9\" >0</td>\n",
              "                        <td id=\"T_7880d814_3ddb_11eb_b662_0242ac1c0002row26_col10\" class=\"data row26 col10\" >0</td>\n",
              "                        <td id=\"T_7880d814_3ddb_11eb_b662_0242ac1c0002row26_col11\" class=\"data row26 col11\" >0</td>\n",
              "                        <td id=\"T_7880d814_3ddb_11eb_b662_0242ac1c0002row26_col12\" class=\"data row26 col12\" >0</td>\n",
              "                        <td id=\"T_7880d814_3ddb_11eb_b662_0242ac1c0002row26_col13\" class=\"data row26 col13\" >0</td>\n",
              "                        <td id=\"T_7880d814_3ddb_11eb_b662_0242ac1c0002row26_col14\" class=\"data row26 col14\" >0</td>\n",
              "                        <td id=\"T_7880d814_3ddb_11eb_b662_0242ac1c0002row26_col15\" class=\"data row26 col15\" >0</td>\n",
              "                        <td id=\"T_7880d814_3ddb_11eb_b662_0242ac1c0002row26_col16\" class=\"data row26 col16\" >0</td>\n",
              "                        <td id=\"T_7880d814_3ddb_11eb_b662_0242ac1c0002row26_col17\" class=\"data row26 col17\" >0</td>\n",
              "                        <td id=\"T_7880d814_3ddb_11eb_b662_0242ac1c0002row26_col18\" class=\"data row26 col18\" >0</td>\n",
              "                        <td id=\"T_7880d814_3ddb_11eb_b662_0242ac1c0002row26_col19\" class=\"data row26 col19\" >0</td>\n",
              "                        <td id=\"T_7880d814_3ddb_11eb_b662_0242ac1c0002row26_col20\" class=\"data row26 col20\" >0</td>\n",
              "                        <td id=\"T_7880d814_3ddb_11eb_b662_0242ac1c0002row26_col21\" class=\"data row26 col21\" >0</td>\n",
              "                        <td id=\"T_7880d814_3ddb_11eb_b662_0242ac1c0002row26_col22\" class=\"data row26 col22\" >0</td>\n",
              "                        <td id=\"T_7880d814_3ddb_11eb_b662_0242ac1c0002row26_col23\" class=\"data row26 col23\" >0</td>\n",
              "                        <td id=\"T_7880d814_3ddb_11eb_b662_0242ac1c0002row26_col24\" class=\"data row26 col24\" >0</td>\n",
              "                        <td id=\"T_7880d814_3ddb_11eb_b662_0242ac1c0002row26_col25\" class=\"data row26 col25\" >0</td>\n",
              "                        <td id=\"T_7880d814_3ddb_11eb_b662_0242ac1c0002row26_col26\" class=\"data row26 col26\" >0</td>\n",
              "                        <td id=\"T_7880d814_3ddb_11eb_b662_0242ac1c0002row26_col27\" class=\"data row26 col27\" >0</td>\n",
              "            </tr>\n",
              "            <tr>\n",
              "                        <th id=\"T_7880d814_3ddb_11eb_b662_0242ac1c0002level0_row27\" class=\"row_heading level0 row27\" >27</th>\n",
              "                        <td id=\"T_7880d814_3ddb_11eb_b662_0242ac1c0002row27_col0\" class=\"data row27 col0\" >0</td>\n",
              "                        <td id=\"T_7880d814_3ddb_11eb_b662_0242ac1c0002row27_col1\" class=\"data row27 col1\" >0</td>\n",
              "                        <td id=\"T_7880d814_3ddb_11eb_b662_0242ac1c0002row27_col2\" class=\"data row27 col2\" >0</td>\n",
              "                        <td id=\"T_7880d814_3ddb_11eb_b662_0242ac1c0002row27_col3\" class=\"data row27 col3\" >0</td>\n",
              "                        <td id=\"T_7880d814_3ddb_11eb_b662_0242ac1c0002row27_col4\" class=\"data row27 col4\" >0</td>\n",
              "                        <td id=\"T_7880d814_3ddb_11eb_b662_0242ac1c0002row27_col5\" class=\"data row27 col5\" >0</td>\n",
              "                        <td id=\"T_7880d814_3ddb_11eb_b662_0242ac1c0002row27_col6\" class=\"data row27 col6\" >0</td>\n",
              "                        <td id=\"T_7880d814_3ddb_11eb_b662_0242ac1c0002row27_col7\" class=\"data row27 col7\" >0</td>\n",
              "                        <td id=\"T_7880d814_3ddb_11eb_b662_0242ac1c0002row27_col8\" class=\"data row27 col8\" >0</td>\n",
              "                        <td id=\"T_7880d814_3ddb_11eb_b662_0242ac1c0002row27_col9\" class=\"data row27 col9\" >0</td>\n",
              "                        <td id=\"T_7880d814_3ddb_11eb_b662_0242ac1c0002row27_col10\" class=\"data row27 col10\" >0</td>\n",
              "                        <td id=\"T_7880d814_3ddb_11eb_b662_0242ac1c0002row27_col11\" class=\"data row27 col11\" >0</td>\n",
              "                        <td id=\"T_7880d814_3ddb_11eb_b662_0242ac1c0002row27_col12\" class=\"data row27 col12\" >0</td>\n",
              "                        <td id=\"T_7880d814_3ddb_11eb_b662_0242ac1c0002row27_col13\" class=\"data row27 col13\" >0</td>\n",
              "                        <td id=\"T_7880d814_3ddb_11eb_b662_0242ac1c0002row27_col14\" class=\"data row27 col14\" >0</td>\n",
              "                        <td id=\"T_7880d814_3ddb_11eb_b662_0242ac1c0002row27_col15\" class=\"data row27 col15\" >0</td>\n",
              "                        <td id=\"T_7880d814_3ddb_11eb_b662_0242ac1c0002row27_col16\" class=\"data row27 col16\" >0</td>\n",
              "                        <td id=\"T_7880d814_3ddb_11eb_b662_0242ac1c0002row27_col17\" class=\"data row27 col17\" >0</td>\n",
              "                        <td id=\"T_7880d814_3ddb_11eb_b662_0242ac1c0002row27_col18\" class=\"data row27 col18\" >0</td>\n",
              "                        <td id=\"T_7880d814_3ddb_11eb_b662_0242ac1c0002row27_col19\" class=\"data row27 col19\" >0</td>\n",
              "                        <td id=\"T_7880d814_3ddb_11eb_b662_0242ac1c0002row27_col20\" class=\"data row27 col20\" >0</td>\n",
              "                        <td id=\"T_7880d814_3ddb_11eb_b662_0242ac1c0002row27_col21\" class=\"data row27 col21\" >0</td>\n",
              "                        <td id=\"T_7880d814_3ddb_11eb_b662_0242ac1c0002row27_col22\" class=\"data row27 col22\" >0</td>\n",
              "                        <td id=\"T_7880d814_3ddb_11eb_b662_0242ac1c0002row27_col23\" class=\"data row27 col23\" >0</td>\n",
              "                        <td id=\"T_7880d814_3ddb_11eb_b662_0242ac1c0002row27_col24\" class=\"data row27 col24\" >0</td>\n",
              "                        <td id=\"T_7880d814_3ddb_11eb_b662_0242ac1c0002row27_col25\" class=\"data row27 col25\" >0</td>\n",
              "                        <td id=\"T_7880d814_3ddb_11eb_b662_0242ac1c0002row27_col26\" class=\"data row27 col26\" >0</td>\n",
              "                        <td id=\"T_7880d814_3ddb_11eb_b662_0242ac1c0002row27_col27\" class=\"data row27 col27\" >0</td>\n",
              "            </tr>\n",
              "    </tbody></table>"
            ],
            "text/plain": [
              "<pandas.io.formats.style.Styler at 0x7f5c02550e10>"
            ]
          },
          "metadata": {
            "tags": []
          },
          "execution_count": 8
        }
      ]
    },
    {
      "cell_type": "markdown",
      "metadata": {
        "id": "ZYGUwtHEZe7i"
      },
      "source": [
        "The cell above shows how the image is simply made of black and white and pixels; the darker the pixel, the higher the number in the cell."
      ]
    },
    {
      "cell_type": "markdown",
      "metadata": {
        "id": "iMbCzb2lYqjE"
      },
      "source": [
        "## Pixel Similarity\n",
        "Find the mean shape of A and comapre each new image to that."
      ]
    },
    {
      "cell_type": "code",
      "metadata": {
        "id": "fpb6WPNUYW5F"
      },
      "source": [
        "# get first 64 for testing\n",
        "a_tensor = [tensor(Image.open(x)) for x in a[:64]]\n",
        "b_tensor = [tensor(Image.open(x)) for x in b[:64]]"
      ],
      "execution_count": 9,
      "outputs": []
    },
    {
      "cell_type": "markdown",
      "metadata": {
        "id": "N0fKn3KFbxnc"
      },
      "source": [
        "To make this into one big matrix a neural network can use we need to stack all the tensors on top of each other."
      ]
    },
    {
      "cell_type": "code",
      "metadata": {
        "id": "Xv6PdN-sbwQ6"
      },
      "source": [
        "stacked_a = torch.stack(a_tensor)\n",
        "stacked_b = torch.stack(b_tensor)"
      ],
      "execution_count": 10,
      "outputs": []
    },
    {
      "cell_type": "markdown",
      "metadata": {
        "id": "B4WBcKO3cUdN"
      },
      "source": [
        "The data must be converted from a 0-255 scale to 0-1 for the neural network. The tensors are integers so they must be converted to floats too."
      ]
    },
    {
      "cell_type": "code",
      "metadata": {
        "id": "xlPrHzuBcTj-"
      },
      "source": [
        "stacked_a = stacked_a.float()/255\n",
        "stacked_b = stacked_b.float()/255"
      ],
      "execution_count": 11,
      "outputs": []
    },
    {
      "cell_type": "markdown",
      "metadata": {
        "id": "XYKP7Q45eoXw"
      },
      "source": [
        "Find the mean of each matrix."
      ]
    },
    {
      "cell_type": "code",
      "metadata": {
        "id": "amxBOluIen7B"
      },
      "source": [
        "mean_a = stacked_a.mean(0)\n",
        "mean_b = stacked_b.mean(0)"
      ],
      "execution_count": 12,
      "outputs": []
    },
    {
      "cell_type": "markdown",
      "metadata": {
        "id": "sIOATZEDgWvq"
      },
      "source": [
        "Getting the distance from the ideal (mean) character is going to determine how it is classified. There are two methods we can use:\n",
        "\n",
        "1. L1 norm - absolute mean value. This subtracts the mean from each value in the tensor and makes it postive.\n",
        "1. L2 norm - Root Mean Squared Error (RMSE). This subtracts the mean in the tensor but squares the difference. This makes for smaller errors having little weight and larger ones having quite an effect.\n",
        "\n"
      ]
    },
    {
      "cell_type": "code",
      "metadata": {
        "colab": {
          "base_uri": "https://localhost:8080/",
          "height": 102
        },
        "id": "7CzFd4VcjvP5",
        "outputId": "adef21e1-1add-438f-8989-2556c29f28ab"
      },
      "source": [
        "a0 = stacked_a[0]\n",
        "show_image(a0)"
      ],
      "execution_count": 13,
      "outputs": [
        {
          "output_type": "execute_result",
          "data": {
            "text/plain": [
              "<matplotlib.axes._subplots.AxesSubplot at 0x7f5c024f9400>"
            ]
          },
          "metadata": {
            "tags": []
          },
          "execution_count": 13
        },
        {
          "output_type": "display_data",
          "data": {
            "image/png": "[encoded data removed]",
            "text/plain": [
              "<Figure size 72x72 with 1 Axes>"
            ]
          },
          "metadata": {
            "tags": [],
            "needs_background": "light"
          }
        }
      ]
    },
    {
      "cell_type": "code",
      "metadata": {
        "colab": {
          "base_uri": "https://localhost:8080/"
        },
        "id": "O8TOTmR4h1Fi",
        "outputId": "5c947809-84af-4957-d8d0-758e5754fe4e"
      },
      "source": [
        "dist_a_abs = (a0 - mean_a).abs().mean()\n",
        "dist_a_rmse = ((a0 - mean_a)**2).mean().sqrt()\n",
        "dist_a_abs, dist_a_rmse"
      ],
      "execution_count": 14,
      "outputs": [
        {
          "output_type": "execute_result",
          "data": {
            "text/plain": [
              "(tensor(0.1174), tensor(0.2124))"
            ]
          },
          "metadata": {
            "tags": []
          },
          "execution_count": 14
        }
      ]
    },
    {
      "cell_type": "code",
      "metadata": {
        "colab": {
          "base_uri": "https://localhost:8080/"
        },
        "id": "40waHHe8iflQ",
        "outputId": "ae9f4f3e-5f59-4e64-f2de-cacf05599d11"
      },
      "source": [
        "dist_b_abs = (a0 - mean_b).abs().mean()\n",
        "dist_b_rmse = ((a0 - mean_b)**2).mean().sqrt()\n",
        "dist_b_abs, dist_b_rmse"
      ],
      "execution_count": 15,
      "outputs": [
        {
          "output_type": "execute_result",
          "data": {
            "text/plain": [
              "(tensor(0.1813), tensor(0.2947))"
            ]
          },
          "metadata": {
            "tags": []
          },
          "execution_count": 15
        }
      ]
    },
    {
      "cell_type": "markdown",
      "metadata": {
        "id": "UCyjpZPckXpf"
      },
      "source": [
        "Using either of the above approaches, the average distance between the \"a\" example and the ideal \"a\" is less than that between the \"b\" example. Either can be used to classify. Defining a function for each might be the most convenient way to proceed."
      ]
    },
    {
      "cell_type": "code",
      "metadata": {
        "colab": {
          "base_uri": "https://localhost:8080/"
        },
        "id": "-ZAf-QwuksnV",
        "outputId": "bb2606c6-8e6f-4ca7-96b1-39cfff1b19ca"
      },
      "source": [
        "def abs_dist(ex, mean):\n",
        "  return (ex - mean).abs().mean((-1, -2))\n",
        "\n",
        "def rmse_dist(ex, mean):\n",
        "  return ((ex - mean)**2).mean().sqrt()\n",
        "\n",
        "abs_dist(a0, mean_b), rmse_dist(a0, mean_b)"
      ],
      "execution_count": 16,
      "outputs": [
        {
          "output_type": "execute_result",
          "data": {
            "text/plain": [
              "(tensor(0.1813), tensor(0.2947))"
            ]
          },
          "metadata": {
            "tags": []
          },
          "execution_count": 16
        }
      ]
    },
    {
      "cell_type": "markdown",
      "metadata": {
        "id": "xjDcSwC6nPlt"
      },
      "source": [
        "Now the error between an example and the mean can be found easily. Defining a way to compare the error to other character is the next step.\n",
        "\n",
        "The code below checks if the absolute mean error between an \"a\" example and the mean of \"a\" is less than that of a \"b\" example."
      ]
    },
    {
      "cell_type": "code",
      "metadata": {
        "colab": {
          "base_uri": "https://localhost:8080/"
        },
        "id": "7P7FMHpmma1h",
        "outputId": "4501135f-ca28-4d57-fdee-0e936de19090"
      },
      "source": [
        "abs_dist(a0, mean_a) < abs_dist(a0, mean_b)"
      ],
      "execution_count": 17,
      "outputs": [
        {
          "output_type": "execute_result",
          "data": {
            "text/plain": [
              "tensor(True)"
            ]
          },
          "metadata": {
            "tags": []
          },
          "execution_count": 17
        }
      ]
    },
    {
      "cell_type": "code",
      "metadata": {
        "colab": {
          "base_uri": "https://localhost:8080/"
        },
        "id": "it_0FNkrn4F-",
        "outputId": "25d27970-96a2-4d64-8d2a-0a1cad4ee7bc"
      },
      "source": [
        "def is_a(ex_a):\n",
        "  return (abs_dist(ex_a, mean_a) < abs_dist(ex_a, mean_b)).float()\n",
        "\n",
        "is_a(a0) "
      ],
      "execution_count": 18,
      "outputs": [
        {
          "output_type": "execute_result",
          "data": {
            "text/plain": [
              "tensor(1.)"
            ]
          },
          "metadata": {
            "tags": []
          },
          "execution_count": 18
        }
      ]
    },
    {
      "cell_type": "markdown",
      "metadata": {
        "id": "zq_mUw6WpM_E"
      },
      "source": [
        "### Create Validation Set\n",
        "Gather validation data to measure accuracy of classification."
      ]
    },
    {
      "cell_type": "code",
      "metadata": {
        "colab": {
          "base_uri": "https://localhost:8080/"
        },
        "id": "hCDsvCz8okLB",
        "outputId": "b266315e-0623-4c09-b0ce-4f8beb621a96"
      },
      "source": [
        "valid_stacked_a = torch.stack([tensor(Image.open(x)) \n",
        "                              for x in a[65:128]]).float()/255\n",
        "                              \n",
        "valid_stacked_b = torch.stack([tensor(Image.open(x)) \n",
        "                              for x in b[65:128]]).float()/255\n",
        "\n",
        "valid_stacked_a.shape, valid_stacked_b.shape"
      ],
      "execution_count": 19,
      "outputs": [
        {
          "output_type": "execute_result",
          "data": {
            "text/plain": [
              "(torch.Size([63, 28, 28]), torch.Size([63, 28, 28]))"
            ]
          },
          "metadata": {
            "tags": []
          },
          "execution_count": 19
        }
      ]
    },
    {
      "cell_type": "code",
      "metadata": {
        "colab": {
          "base_uri": "https://localhost:8080/"
        },
        "id": "4iL4h8Tbp0I-",
        "outputId": "c2e37c94-7bc2-4738-b000-f7d9a7216b1a"
      },
      "source": [
        "accuracy_a =      is_a(valid_stacked_a) .mean()\n",
        "accuracy_b = (1 - is_a(valid_stacked_b)).mean()\n",
        "\n",
        "accuracy_a, accuracy_b"
      ],
      "execution_count": 20,
      "outputs": [
        {
          "output_type": "execute_result",
          "data": {
            "text/plain": [
              "(tensor(0.9841), tensor(0.7302))"
            ]
          },
          "metadata": {
            "tags": []
          },
          "execution_count": 20
        }
      ]
    },
    {
      "cell_type": "markdown",
      "metadata": {
        "id": "7N7dp3W1r5lq"
      },
      "source": [
        "Next we need to find the distance from each value in the validation matrix from the ideal \"a\". This could be acheived by looping over the each value but this would be inefficient. \n",
        "\n",
        "Luckily, broadcasting exists, this is where PyTorch has tensors of different ranks and it expands the smaller one (```mean_a```) to the size of the larger one (```valid_stacked_a```) so that each value is operated on.\n",
        "\n",
        "This makes things much faster because the operation is passed directly through C or if running on a GPU, it can be millions of times faster."
      ]
    },
    {
      "cell_type": "code",
      "metadata": {
        "id": "l-v8vMMhrTH9",
        "colab": {
          "base_uri": "https://localhost:8080/"
        },
        "outputId": "7d14e2b3-7995-443a-8a4e-0e5d3a8e251f"
      },
      "source": [
        "valid_a_dist = abs_dist(valid_stacked_a, mean_a)\n",
        "valid_a_dist, valid_a_dist.shape"
      ],
      "execution_count": 22,
      "outputs": [
        {
          "output_type": "execute_result",
          "data": {
            "text/plain": [
              "(tensor([0.0910, 0.1179, 0.1493, 0.1260, 0.1864, 0.1179, 0.1537, 0.1300, 0.1120, 0.1191, 0.1044, 0.1343, 0.1372, 0.1311, 0.1136, 0.1279, 0.1301, 0.1413, 0.1464, 0.1478, 0.1459, 0.1327, 0.1285, 0.1279,\n",
              "         0.1311, 0.1434, 0.1276, 0.1495, 0.1461, 0.1180, 0.1375, 0.1290, 0.1736, 0.1295, 0.1567, 0.1622, 0.1680, 0.1317, 0.1274, 0.1325, 0.2184, 0.1403, 0.1511, 0.1303, 0.1323, 0.1626, 0.1484, 0.1667,\n",
              "         0.1324, 0.2274, 0.1317, 0.1430, 0.1037, 0.1354, 0.1289, 0.1330, 0.1319, 0.1572, 0.1640, 0.1513, 0.1422, 0.1200, 0.1357]),\n",
              " torch.Size([63]))"
            ]
          },
          "metadata": {
            "tags": []
          },
          "execution_count": 21
        },
        {
          "output_type": "execute_result",
          "data": {
            "text/plain": [
              "(tensor([0.0910, 0.1179, 0.1493, 0.1260, 0.1864, 0.1179, 0.1537, 0.1300, 0.1120, 0.1191, 0.1044, 0.1343, 0.1372, 0.1311, 0.1136, 0.1279, 0.1301, 0.1413, 0.1464, 0.1478, 0.1459, 0.1327, 0.1285, 0.1279,\n",
              "         0.1311, 0.1434, 0.1276, 0.1495, 0.1461, 0.1180, 0.1375, 0.1290, 0.1736, 0.1295, 0.1567, 0.1622, 0.1680, 0.1317, 0.1274, 0.1325, 0.2184, 0.1403, 0.1511, 0.1303, 0.1323, 0.1626, 0.1484, 0.1667,\n",
              "         0.1324, 0.2274, 0.1317, 0.1430, 0.1037, 0.1354, 0.1289, 0.1330, 0.1319, 0.1572, 0.1640, 0.1513, 0.1422, 0.1200, 0.1357]),\n",
              " torch.Size([63]))"
            ]
          },
          "metadata": {
            "tags": []
          },
          "execution_count": 22
        }
      ]
    },
    {
      "cell_type": "markdown",
      "metadata": {
        "id": "l-qnS0egIJeD"
      },
      "source": [
        "### Stochastic Gradient Descent (SGD)\n",
        "Algorithm used to optimise weights and parameters so that the loss function is minimised. Gradient descent wants to find the lowest point on the graph so that the losses are also low.\n",
        "\n",
        "**7 Steps:**\n",
        "1. Init weights\n",
        "1. Predict character\n",
        "1. Calculate loss\n",
        "1. Calculate gradient\n",
        "1. Make step\n",
        "1. Repeat 2.\n",
        "1. End when converged or out of time\n",
        "\n",
        "To calculate this gradient, we need to find the derivative of the loss function. The derivative will basically find the slope of the curve for a given weight, each value for the gradient will return in a matrix."
      ]
    },
    {
      "cell_type": "code",
      "metadata": {
        "id": "TkJYlhXBHUbA"
      },
      "source": [
        "xt = tensor(3.).requires_grad_()"
      ],
      "execution_count": 38,
      "outputs": []
    },
    {
      "cell_type": "markdown",
      "metadata": {
        "id": "MNwANfHpMeCM"
      },
      "source": [
        "The ```requires_grad_()``` function marks the variable so that when it is used in future it knows that the gradient needs to be calculated."
      ]
    },
    {
      "cell_type": "code",
      "metadata": {
        "colab": {
          "base_uri": "https://localhost:8080/"
        },
        "id": "VA1bN6h3Mc98",
        "outputId": "231486b3-fa63-490c-bc8c-fd60a61c3051"
      },
      "source": [
        "def f(x): return x**2\n",
        "\n",
        "yt = f(xt)\n",
        "yt"
      ],
      "execution_count": 39,
      "outputs": [
        {
          "output_type": "execute_result",
          "data": {
            "text/plain": [
              "tensor(9., grad_fn=<PowBackward0>)"
            ]
          },
          "metadata": {
            "tags": []
          },
          "execution_count": 39
        }
      ]
    },
    {
      "cell_type": "markdown",
      "metadata": {
        "id": "4eaGYWj_NKOG"
      },
      "source": [
        "Calculate the gradients now"
      ]
    },
    {
      "cell_type": "code",
      "metadata": {
        "id": "82IFSEsVNQFR"
      },
      "source": [
        "yt.backward()"
      ],
      "execution_count": 40,
      "outputs": []
    },
    {
      "cell_type": "markdown",
      "metadata": {
        "id": "eJUssYsXNZJ4"
      },
      "source": [
        "The ```.backward()``` function applies the backpropagation algorithm to each layer of the network"
      ]
    },
    {
      "cell_type": "code",
      "metadata": {
        "colab": {
          "base_uri": "https://localhost:8080/"
        },
        "id": "GURXdPPuNTjg",
        "outputId": "574e1077-d2c3-46dc-d970-b0af9918b32e"
      },
      "source": [
        "xt.grad"
      ],
      "execution_count": 41,
      "outputs": [
        {
          "output_type": "execute_result",
          "data": {
            "text/plain": [
              "tensor(6.)"
            ]
          },
          "metadata": {
            "tags": []
          },
          "execution_count": 41
        }
      ]
    },
    {
      "cell_type": "markdown",
      "metadata": {
        "id": "3KV2oySgOIYp"
      },
      "source": [
        "The gradients only tell us the slope of our weights and don't really provide anything actionable to use. This is where steps are used."
      ]
    },
    {
      "cell_type": "markdown",
      "metadata": {
        "id": "eKkPUdjvOZGt"
      },
      "source": [
        "### Steps\n",
        "This step of the process uses the gradients to attempt to lower the loss function by \"jumping\" down the curve. The size of the jump is called the learning late ```lr```, the bigger it is the more risky it is, as it could overshoot and increase the loss; too small and training the algorithm would take too long and would be expensive in real-world applications.\n",
        "\n",
        "The formula can be described here:\n",
        "\n",
        "``` w = w - gradient(w) * lr```\n",
        "\n",
        "where w is each weight.\n",
        "\n",
        "Steps are taken until convergence or until you run out of time. "
      ]
    },
    {
      "cell_type": "markdown",
      "metadata": {
        "id": "QZDcrzaoQpnq"
      },
      "source": [
        "### Sigmoid Function\n",
        "The issue with above approach is the output will be linear meaning I get a number back when I predict, this isn't much use for telling me whether it's an \"a\" or a \"b\". Enter sigmoid, this gets a function and polarises the output so that a yes/no, a/b result is found."
      ]
    },
    {
      "cell_type": "code",
      "metadata": {
        "colab": {
          "base_uri": "https://localhost:8080/",
          "height": 281
        },
        "id": "2KXXeT0aOYhi",
        "outputId": "50f74839-211d-40e2-deed-436223d53054"
      },
      "source": [
        "def sigmoid(x):\n",
        "  return 1 / (1 + torch.exp(-x))\n",
        "\n",
        "plot_function(torch.sigmoid, title='Sigmoid', min=-4, max=4)"
      ],
      "execution_count": 47,
      "outputs": [
        {
          "output_type": "display_data",
          "data": {
            "image/png": "[encoded data removed]",
            "text/plain": [
              "<Figure size 432x288 with 1 Axes>"
            ]
          },
          "metadata": {
            "tags": [],
            "needs_background": "light"
          }
        }
      ]
    },
    {
      "cell_type": "markdown",
      "metadata": {
        "id": "hjbBh60mVWSq"
      },
      "source": [
        "After the midpoint (0.5) all values below are 0 and all above are 1. This can now be used in the loss function."
      ]
    },
    {
      "cell_type": "code",
      "metadata": {
        "id": "DLKIgHt1Vjhn"
      },
      "source": [
        "def char_loss(preds, targets):\n",
        "  preds = preds.sigmoid()\n",
        "  # return mean of either: preds or (1-preds)\n",
        "  return torch.where(preds == 1, 1 - preds, preds).mean()"
      ],
      "execution_count": 49,
      "outputs": []
    },
    {
      "cell_type": "markdown",
      "metadata": {
        "id": "F8gP8P2fW1Zq"
      },
      "source": [
        "### Mini-Batches\n",
        "The loss function has been defined, we're ready to run gradient descent on the data. Well maybe not there's a few more things to iron out. The issue with running gradient descent on all our data is that would take quite a while; instead we could run it on each item, this would be much faster. The issue with operated on each example is that it doesn't account for other examples.\n",
        "\n",
        "\n",
        "The Goldielox solution is to use mini-batches, it's faster than calculating the loss for the entire set but more accurate than doing it on each datum. FastAI  provides the ```DataLoader``` to handle this."
      ]
    },
    {
      "cell_type": "code",
      "metadata": {
        "colab": {
          "base_uri": "https://localhost:8080/"
        },
        "id": "14Cy9Tc5YqJA",
        "outputId": "376d22e0-db51-4f47-8300-ca5dcff90834"
      },
      "source": [
        "col = range(30)\n",
        "# bs=batch size\n",
        "dl = DataLoader(col, bs=5, shuffle=True)\n",
        "list(dl)"
      ],
      "execution_count": 50,
      "outputs": [
        {
          "output_type": "execute_result",
          "data": {
            "text/plain": [
              "[tensor([ 7, 24, 26, 17, 21]),\n",
              " tensor([ 5, 23, 19, 20,  9]),\n",
              " tensor([15, 14,  4, 27,  0]),\n",
              " tensor([18, 28, 13, 29,  3]),\n",
              " tensor([ 2, 11, 12, 22,  1]),\n",
              " tensor([10,  8, 25, 16,  6])]"
            ]
          },
          "metadata": {
            "tags": []
          },
          "execution_count": 50
        }
      ]
    },
    {
      "cell_type": "markdown",
      "metadata": {
        "id": "nM_yiutrZO1s"
      },
      "source": [
        "## Implementation\n"
      ]
    },
    {
      "cell_type": "code",
      "metadata": {
        "id": "7Her6rSxZi44"
      },
      "source": [
        "path = Path('gdrive/MyDrive/Colab Notebooks/characters')\n",
        "Path.BASE_PATH = path"
      ],
      "execution_count": 54,
      "outputs": []
    },
    {
      "cell_type": "code",
      "metadata": {
        "colab": {
          "base_uri": "https://localhost:8080/"
        },
        "id": "AGQ9JCFbZmXx",
        "outputId": "9de0698e-bfe4-441c-96fe-1bd941a9c370"
      },
      "source": [
        "fns = get_image_files(path)\n",
        "fns"
      ],
      "execution_count": 55,
      "outputs": [
        {
          "output_type": "execute_result",
          "data": {
            "text/plain": [
              "(#11708) [Path('A/A-9436.png'),Path('A/A-9831.png'),Path('A/A-9165.png'),Path('A/A-8987.png'),Path('A/A-9600.png'),Path('A/A-8851.png'),Path('A/A-8849.png'),Path('A/A-9252.png'),Path('A/A-10033.png'),Path('A/A-10026.png')...]"
            ]
          },
          "metadata": {
            "tags": []
          },
          "execution_count": 55
        }
      ]
    },
    {
      "cell_type": "code",
      "metadata": {
        "colab": {
          "base_uri": "https://localhost:8080/",
          "height": 34
        },
        "id": "U2zCAeQDZomM",
        "outputId": "9675e200-64db-49b2-df69-5804c84bb2dd"
      },
      "source": [
        "failed = verify_images(fns)\n",
        "failed"
      ],
      "execution_count": 56,
      "outputs": [
        {
          "output_type": "display_data",
          "data": {
            "text/html": [
              ""
            ],
            "text/plain": [
              "<IPython.core.display.HTML object>"
            ]
          },
          "metadata": {
            "tags": []
          }
        },
        {
          "output_type": "execute_result",
          "data": {
            "text/plain": [
              "(#0) []"
            ]
          },
          "metadata": {
            "tags": []
          },
          "execution_count": 56
        }
      ]
    },
    {
      "cell_type": "markdown",
      "metadata": {
        "id": "Ri9_pLijZwky"
      },
      "source": [
        "Delete failed images"
      ]
    },
    {
      "cell_type": "code",
      "metadata": {
        "id": "QMTsOdclZtCE"
      },
      "source": [
        "failed.map(Path.unlink);"
      ],
      "execution_count": 59,
      "outputs": []
    },
    {
      "cell_type": "markdown",
      "metadata": {
        "id": "8eljXbc7dzuw"
      },
      "source": [
        "### Data Curation"
      ]
    },
    {
      "cell_type": "code",
      "metadata": {
        "id": "8tRWu7-PZ01X"
      },
      "source": [
        "characters = DataBlock(\n",
        "    blocks=(ImageBlock, CategoryBlock), \n",
        "    get_items=get_image_files, \n",
        "    splitter=RandomSplitter(valid_pct=0.2, seed=42),\n",
        "    get_y=parent_label)"
      ],
      "execution_count": 60,
      "outputs": []
    },
    {
      "cell_type": "markdown",
      "metadata": {
        "id": "isgrTmR7Zzu5"
      },
      "source": [
        "This defines how the data will be retreived and organised. The ```splitter``` divides the data into the training and validation sets."
      ]
    },
    {
      "cell_type": "code",
      "metadata": {
        "id": "jWirkyrGdNxE"
      },
      "source": [
        "dls = characters.dataloaders(path)"
      ],
      "execution_count": 61,
      "outputs": []
    },
    {
      "cell_type": "code",
      "metadata": {
        "colab": {
          "base_uri": "https://localhost:8080/",
          "height": 192
        },
        "id": "iEoYqc6tdn_r",
        "outputId": "5fbdee36-1fd5-461a-def5-abb9195e57dc"
      },
      "source": [
        "dls.valid.show_batch(max_n=4, nrows=1)"
      ],
      "execution_count": 62,
      "outputs": [
        {
          "output_type": "display_data",
          "data": {
            "image/png": "[encoded data removed]",
            "text/plain": [
              "<Figure size 864x216 with 4 Axes>"
            ]
          },
          "metadata": {
            "tags": [],
            "needs_background": "light"
          }
        }
      ]
    },
    {
      "cell_type": "markdown",
      "metadata": {
        "id": "4l9rojU-d5zx"
      },
      "source": [
        "### Model Training"
      ]
    },
    {
      "cell_type": "code",
      "metadata": {
        "id": "jgZZ4C8Gez9s"
      },
      "source": [
        "characters = characters.new(\n",
        "    # item_tfms=RandomResizedCrop(224, min_scale=0.5),\n",
        "    batch_tfms=aug_transforms())\n",
        "dls = characters.dataloaders(path)"
      ],
      "execution_count": 63,
      "outputs": []
    },
    {
      "cell_type": "code",
      "metadata": {
        "colab": {
          "base_uri": "https://localhost:8080/",
          "height": 337,
          "referenced_widgets": [
            "67bf33c66bf14d029f2fc66a249938cf",
            "bdf93d366b714468a93f7e91ba1edbe5",
            "89470654a9cc42eabd5ca78256d12dae",
            "47066c6c6c1e4af8aa1749353749ba75",
            "1148880770674c9cb28c9fafa1605d26",
            "18d77e1d95a84d68841e14bfd90d661f",
            "dbd0ec693e10401cb59d81fd4d43e9e4",
            "8db029ac4a56457583348aa41bf3768e"
          ]
        },
        "id": "1Y8MZFO2fAEh",
        "outputId": "1679b097-8e4e-4403-c0c3-0f1507e9bcb7"
      },
      "source": [
        "learn = cnn_learner(dls, resnet18, metrics=error_rate)\n",
        "learn.fine_tune(5)"
      ],
      "execution_count": 64,
      "outputs": [
        {
          "output_type": "stream",
          "text": [
            "Downloading: \"https://download.pytorch.org/models/resnet18-5c106cde.pth\" to /root/.cache/torch/hub/checkpoints/resnet18-5c106cde.pth\n"
          ],
          "name": "stderr"
        },
        {
          "output_type": "display_data",
          "data": {
            "application/vnd.jupyter.widget-view+json": {
              "model_id": "67bf33c66bf14d029f2fc66a249938cf",
              "version_minor": 0,
              "version_major": 2
            },
            "text/plain": [
              "HBox(children=(FloatProgress(value=0.0, max=46827520.0), HTML(value='')))"
            ]
          },
          "metadata": {
            "tags": []
          }
        },
        {
          "output_type": "stream",
          "text": [
            "\n"
          ],
          "name": "stdout"
        },
        {
          "output_type": "display_data",
          "data": {
            "text/html": [
              "<table border=\"1\" class=\"dataframe\">\n",
              "  <thead>\n",
              "    <tr style=\"text-align: left;\">\n",
              "      <th>epoch</th>\n",
              "      <th>train_loss</th>\n",
              "      <th>valid_loss</th>\n",
              "      <th>error_rate</th>\n",
              "      <th>time</th>\n",
              "    </tr>\n",
              "  </thead>\n",
              "  <tbody>\n",
              "    <tr>\n",
              "      <td>0</td>\n",
              "      <td>0.508953</td>\n",
              "      <td>0.269054</td>\n",
              "      <td>0.097821</td>\n",
              "      <td>00:23</td>\n",
              "    </tr>\n",
              "  </tbody>\n",
              "</table>"
            ],
            "text/plain": [
              "<IPython.core.display.HTML object>"
            ]
          },
          "metadata": {
            "tags": []
          }
        },
        {
          "output_type": "display_data",
          "data": {
            "text/html": [
              "<table border=\"1\" class=\"dataframe\">\n",
              "  <thead>\n",
              "    <tr style=\"text-align: left;\">\n",
              "      <th>epoch</th>\n",
              "      <th>train_loss</th>\n",
              "      <th>valid_loss</th>\n",
              "      <th>error_rate</th>\n",
              "      <th>time</th>\n",
              "    </tr>\n",
              "  </thead>\n",
              "  <tbody>\n",
              "    <tr>\n",
              "      <td>0</td>\n",
              "      <td>0.166987</td>\n",
              "      <td>0.076390</td>\n",
              "      <td>0.026057</td>\n",
              "      <td>00:23</td>\n",
              "    </tr>\n",
              "    <tr>\n",
              "      <td>1</td>\n",
              "      <td>0.073278</td>\n",
              "      <td>0.031733</td>\n",
              "      <td>0.010252</td>\n",
              "      <td>00:23</td>\n",
              "    </tr>\n",
              "    <tr>\n",
              "      <td>2</td>\n",
              "      <td>0.037217</td>\n",
              "      <td>0.020744</td>\n",
              "      <td>0.006835</td>\n",
              "      <td>00:23</td>\n",
              "    </tr>\n",
              "    <tr>\n",
              "      <td>3</td>\n",
              "      <td>0.030348</td>\n",
              "      <td>0.012649</td>\n",
              "      <td>0.002990</td>\n",
              "      <td>00:24</td>\n",
              "    </tr>\n",
              "    <tr>\n",
              "      <td>4</td>\n",
              "      <td>0.021903</td>\n",
              "      <td>0.015822</td>\n",
              "      <td>0.003845</td>\n",
              "      <td>00:24</td>\n",
              "    </tr>\n",
              "  </tbody>\n",
              "</table>"
            ],
            "text/plain": [
              "<IPython.core.display.HTML object>"
            ]
          },
          "metadata": {
            "tags": []
          }
        }
      ]
    },
    {
      "cell_type": "code",
      "metadata": {
        "colab": {
          "base_uri": "https://localhost:8080/",
          "height": 311
        },
        "id": "U-LEtE3ZfDv5",
        "outputId": "a5fd7e61-1b6f-46c2-f6f4-bbca53e344e1"
      },
      "source": [
        "interp = ClassificationInterpretation.from_learner(learn)\n",
        "interp.plot_confusion_matrix()"
      ],
      "execution_count": 65,
      "outputs": [
        {
          "output_type": "display_data",
          "data": {
            "text/html": [
              ""
            ],
            "text/plain": [
              "<IPython.core.display.HTML object>"
            ]
          },
          "metadata": {
            "tags": []
          }
        },
        {
          "output_type": "display_data",
          "data": {
            "image/png": "[encoded data removed]",
            "text/plain": [
              "<Figure size 432x288 with 1 Axes>"
            ]
          },
          "metadata": {
            "tags": [],
            "needs_background": "light"
          }
        }
      ]
    },
    {
      "cell_type": "code",
      "metadata": {
        "colab": {
          "base_uri": "https://localhost:8080/",
          "height": 208
        },
        "id": "L4qaFVcyfGx9",
        "outputId": "963b985e-2152-4752-b5b8-ad883270184d"
      },
      "source": [
        "interp.plot_top_losses(3, nrows=1)"
      ],
      "execution_count": 66,
      "outputs": [
        {
          "output_type": "display_data",
          "data": {
            "image/png": "[encoded data removed]",
            "text/plain": [
              "<Figure size 648x216 with 3 Axes>"
            ]
          },
          "metadata": {
            "tags": [],
            "needs_background": "light"
          }
        }
      ]
    },
    {
      "cell_type": "markdown",
      "metadata": {
        "id": "EpGu4QPifcBw"
      },
      "source": [
        "### Model Inference\n",
        "Export model to app."
      ]
    },
    {
      "cell_type": "code",
      "metadata": {
        "id": "UmtvxZdqffLh"
      },
      "source": [
        "learn.export()"
      ],
      "execution_count": 78,
      "outputs": []
    },
    {
      "cell_type": "code",
      "metadata": {
        "colab": {
          "base_uri": "https://localhost:8080/"
        },
        "id": "wQGTTMtGinPE",
        "outputId": "a5da6b41-dd81-4cbb-a10b-97556fae9308"
      },
      "source": [
        "path = Path()\n",
        "path.ls(file_exts='.pkl')"
      ],
      "execution_count": 79,
      "outputs": [
        {
          "output_type": "execute_result",
          "data": {
            "text/plain": [
              "(#1) [Path('export.pkl')]"
            ]
          },
          "metadata": {
            "tags": []
          },
          "execution_count": 79
        }
      ]
    },
    {
      "cell_type": "code",
      "metadata": {
        "id": "St9R8MrwjICw"
      },
      "source": [
        "%mv export.pkl gdrive/MyDrive/Colab\\ Notebooks/characters"
      ],
      "execution_count": 82,
      "outputs": []
    },
    {
      "cell_type": "code",
      "metadata": {
        "colab": {
          "base_uri": "https://localhost:8080/"
        },
        "id": "jIKDkLabfl0s",
        "outputId": "47394510-83de-4d9e-caa8-aa186498aba5"
      },
      "source": [
        "%ls gdrive/MyDrive/Colab\\ Notebooks/characters"
      ],
      "execution_count": 83,
      "outputs": [
        {
          "output_type": "stream",
          "text": [
            "\u001b[0m\u001b[01;34mA\u001b[0m/  \u001b[01;34mB\u001b[0m/  export.pkl\n"
          ],
          "name": "stdout"
        }
      ]
    }
  ]
}