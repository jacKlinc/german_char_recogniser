{
  "nbformat": 4,
  "nbformat_minor": 0,
  "metadata": {
    "colab": {
      "name": "mdl_german-char-classifier.ipynb",
      "provenance": [],
      "collapsed_sections": [],
      "authorship_tag": "ABX9TyP94AMcu3iHsRrFPCbPMl7a",
      "include_colab_link": true
    },
    "kernelspec": {
      "name": "python3",
      "display_name": "Python 3"
    },
    "accelerator": "GPU"
  },
  "cells": [
    {
      "cell_type": "markdown",
      "metadata": {
        "id": "view-in-github",
        "colab_type": "text"
      },
      "source": [
        "<a href=\"https://colab.research.google.com/github/jacKlinc/german_char_recogniser/blob/main/mdl_german_char_classifier.ipynb\" target=\"_parent\"><img src=\"https://colab.research.google.com/assets/colab-badge.svg\" alt=\"Open In Colab\"/></a>"
      ]
    },
    {
      "cell_type": "code",
      "metadata": {
        "colab": {
          "base_uri": "https://localhost:8080/"
        },
        "id": "Ut-idfQLjlaM",
        "outputId": "1f004adf-df35-4cb3-b5d1-7ef5a9b58dc2"
      },
      "source": [
        "#hide\n",
        "!pip install -Uqq fastbook\n",
        "import fastbook\n",
        "fastbook.setup_book()"
      ],
      "execution_count": null,
      "outputs": [
        {
          "output_type": "stream",
          "text": [
            "\u001b[K     |████████████████████████████████| 727kB 8.0MB/s \n",
            "\u001b[K     |████████████████████████████████| 51kB 6.9MB/s \n",
            "\u001b[K     |████████████████████████████████| 1.1MB 16.8MB/s \n",
            "\u001b[K     |████████████████████████████████| 194kB 29.9MB/s \n",
            "\u001b[K     |████████████████████████████████| 61kB 10.3MB/s \n",
            "\u001b[?25hMounted at /content/gdrive\n"
          ],
          "name": "stdout"
        }
      ]
    },
    {
      "cell_type": "code",
      "metadata": {
        "id": "eb6bON50Pmuo"
      },
      "source": [
        "from fastai.vision.all import *\n",
        "from fastbook import *"
      ],
      "execution_count": null,
      "outputs": []
    },
    {
      "cell_type": "code",
      "metadata": {
        "id": "nVj52QS5cm5Z"
      },
      "source": [
        "path = Path('gdrive/MyDrive/Colab Notebooks')\n",
        "Path.BASE_PATH = path"
      ],
      "execution_count": null,
      "outputs": []
    },
    {
      "cell_type": "code",
      "metadata": {
        "id": "PBGKuFG0kKmT"
      },
      "source": [
        "a = (path/'A').ls().sorted()\n",
        "b = (path/'B').ls().sorted()"
      ],
      "execution_count": null,
      "outputs": []
    },
    {
      "cell_type": "code",
      "metadata": {
        "colab": {
          "base_uri": "https://localhost:8080/"
        },
        "id": "H54VJheeZzYW",
        "outputId": "b6b2606e-7067-412b-cdd9-39ce8fe67739"
      },
      "source": [
        "len(b)"
      ],
      "execution_count": null,
      "outputs": [
        {
          "output_type": "execute_result",
          "data": {
            "text/plain": [
              "1072"
            ]
          },
          "metadata": {
            "tags": []
          },
          "execution_count": 26
        }
      ]
    },
    {
      "cell_type": "code",
      "metadata": {
        "colab": {
          "base_uri": "https://localhost:8080/",
          "height": 45
        },
        "id": "Zq4KCJjtkyy-",
        "outputId": "b07e2617-cb3f-4f32-a7e4-cd262e0abdb8"
      },
      "source": [
        "img = Image.open(a[100])\n",
        "img"
      ],
      "execution_count": null,
      "outputs": [
        {
          "output_type": "execute_result",
          "data": {
            "image/png": "[encoded data removed]",
            "text/plain": [
              "<PIL.PngImagePlugin.PngImageFile image mode=L size=28x28 at 0x7F9D93C18AC8>"
            ]
          },
          "metadata": {
            "tags": []
          },
          "execution_count": 9
        }
      ]
    },
    {
      "cell_type": "code",
      "metadata": {
        "id": "fQ_ewH3nk839"
      },
      "source": [
        "img_t = tensor(img)"
      ],
      "execution_count": null,
      "outputs": []
    },
    {
      "cell_type": "code",
      "metadata": {
        "colab": {
          "base_uri": "https://localhost:8080/",
          "height": 639
        },
        "id": "7JKIM1-Zlme-",
        "outputId": "b00e1024-c5f4-4bdf-c4d6-eece10ac8e1b"
      },
      "source": [
        "df = pd.DataFrame(img_t)\n",
        "df.style.set_properties(**{'font-size': '6pt'}).background_gradient('Greys')"
      ],
      "execution_count": null,
      "outputs": [
        {
          "output_type": "execute_result",
          "data": {
            "text/html": [
              "<style  type=\"text/css\" >\n",
              "#T_9a3176e8_3d23_11eb_bea0_0242ac1c0002row0_col0,#T_9a3176e8_3d23_11eb_bea0_0242ac1c0002row0_col1,#T_9a3176e8_3d23_11eb_bea0_0242ac1c0002row0_col2,#T_9a3176e8_3d23_11eb_bea0_0242ac1c0002row0_col3,#T_9a3176e8_3d23_11eb_bea0_0242ac1c0002row0_col4,#T_9a3176e8_3d23_11eb_bea0_0242ac1c0002row0_col5,#T_9a3176e8_3d23_11eb_bea0_0242ac1c0002row0_col6,#T_9a3176e8_3d23_11eb_bea0_0242ac1c0002row0_col7,#T_9a3176e8_3d23_11eb_bea0_0242ac1c0002row0_col8,#T_9a3176e8_3d23_11eb_bea0_0242ac1c0002row0_col9,#T_9a3176e8_3d23_11eb_bea0_0242ac1c0002row0_col10,#T_9a3176e8_3d23_11eb_bea0_0242ac1c0002row0_col11,#T_9a3176e8_3d23_11eb_bea0_0242ac1c0002row0_col12,#T_9a3176e8_3d23_11eb_bea0_0242ac1c0002row0_col13,#T_9a3176e8_3d23_11eb_bea0_0242ac1c0002row0_col14,#T_9a3176e8_3d23_11eb_bea0_0242ac1c0002row0_col15,#T_9a3176e8_3d23_11eb_bea0_0242ac1c0002row0_col16,#T_9a3176e8_3d23_11eb_bea0_0242ac1c0002row0_col17,#T_9a3176e8_3d23_11eb_bea0_0242ac1c0002row0_col18,#T_9a3176e8_3d23_11eb_bea0_0242ac1c0002row0_col19,#T_9a3176e8_3d23_11eb_bea0_0242ac1c0002row0_col20,#T_9a3176e8_3d23_11eb_bea0_0242ac1c0002row0_col21,#T_9a3176e8_3d23_11eb_bea0_0242ac1c0002row0_col22,#T_9a3176e8_3d23_11eb_bea0_0242ac1c0002row0_col23,#T_9a3176e8_3d23_11eb_bea0_0242ac1c0002row0_col24,#T_9a3176e8_3d23_11eb_bea0_0242ac1c0002row0_col25,#T_9a3176e8_3d23_11eb_bea0_0242ac1c0002row0_col26,#T_9a3176e8_3d23_11eb_bea0_0242ac1c0002row0_col27,#T_9a3176e8_3d23_11eb_bea0_0242ac1c0002row1_col0,#T_9a3176e8_3d23_11eb_bea0_0242ac1c0002row1_col1,#T_9a3176e8_3d23_11eb_bea0_0242ac1c0002row1_col2,#T_9a3176e8_3d23_11eb_bea0_0242ac1c0002row1_col3,#T_9a3176e8_3d23_11eb_bea0_0242ac1c0002row1_col4,#T_9a3176e8_3d23_11eb_bea0_0242ac1c0002row1_col5,#T_9a3176e8_3d23_11eb_bea0_0242ac1c0002row1_col6,#T_9a3176e8_3d23_11eb_bea0_0242ac1c0002row1_col7,#T_9a3176e8_3d23_11eb_bea0_0242ac1c0002row1_col8,#T_9a3176e8_3d23_11eb_bea0_0242ac1c0002row1_col9,#T_9a3176e8_3d23_11eb_bea0_0242ac1c0002row1_col10,#T_9a3176e8_3d23_11eb_bea0_0242ac1c0002row1_col11,#T_9a3176e8_3d23_11eb_bea0_0242ac1c0002row1_col12,#T_9a3176e8_3d23_11eb_bea0_0242ac1c0002row1_col13,#T_9a3176e8_3d23_11eb_bea0_0242ac1c0002row1_col14,#T_9a3176e8_3d23_11eb_bea0_0242ac1c0002row1_col15,#T_9a3176e8_3d23_11eb_bea0_0242ac1c0002row1_col16,#T_9a3176e8_3d23_11eb_bea0_0242ac1c0002row1_col17,#T_9a3176e8_3d23_11eb_bea0_0242ac1c0002row1_col18,#T_9a3176e8_3d23_11eb_bea0_0242ac1c0002row1_col19,#T_9a3176e8_3d23_11eb_bea0_0242ac1c0002row1_col20,#T_9a3176e8_3d23_11eb_bea0_0242ac1c0002row1_col21,#T_9a3176e8_3d23_11eb_bea0_0242ac1c0002row1_col22,#T_9a3176e8_3d23_11eb_bea0_0242ac1c0002row1_col23,#T_9a3176e8_3d23_11eb_bea0_0242ac1c0002row1_col24,#T_9a3176e8_3d23_11eb_bea0_0242ac1c0002row1_col25,#T_9a3176e8_3d23_11eb_bea0_0242ac1c0002row1_col26,#T_9a3176e8_3d23_11eb_bea0_0242ac1c0002row1_col27,#T_9a3176e8_3d23_11eb_bea0_0242ac1c0002row2_col0,#T_9a3176e8_3d23_11eb_bea0_0242ac1c0002row2_col1,#T_9a3176e8_3d23_11eb_bea0_0242ac1c0002row2_col2,#T_9a3176e8_3d23_11eb_bea0_0242ac1c0002row2_col3,#T_9a3176e8_3d23_11eb_bea0_0242ac1c0002row2_col4,#T_9a3176e8_3d23_11eb_bea0_0242ac1c0002row2_col5,#T_9a3176e8_3d23_11eb_bea0_0242ac1c0002row2_col6,#T_9a3176e8_3d23_11eb_bea0_0242ac1c0002row2_col7,#T_9a3176e8_3d23_11eb_bea0_0242ac1c0002row2_col8,#T_9a3176e8_3d23_11eb_bea0_0242ac1c0002row2_col9,#T_9a3176e8_3d23_11eb_bea0_0242ac1c0002row2_col10,#T_9a3176e8_3d23_11eb_bea0_0242ac1c0002row2_col11,#T_9a3176e8_3d23_11eb_bea0_0242ac1c0002row2_col12,#T_9a3176e8_3d23_11eb_bea0_0242ac1c0002row2_col13,#T_9a3176e8_3d23_11eb_bea0_0242ac1c0002row2_col14,#T_9a3176e8_3d23_11eb_bea0_0242ac1c0002row2_col15,#T_9a3176e8_3d23_11eb_bea0_0242ac1c0002row2_col16,#T_9a3176e8_3d23_11eb_bea0_0242ac1c0002row2_col17,#T_9a3176e8_3d23_11eb_bea0_0242ac1c0002row2_col18,#T_9a3176e8_3d23_11eb_bea0_0242ac1c0002row2_col19,#T_9a3176e8_3d23_11eb_bea0_0242ac1c0002row2_col20,#T_9a3176e8_3d23_11eb_bea0_0242ac1c0002row2_col21,#T_9a3176e8_3d23_11eb_bea0_0242ac1c0002row2_col22,#T_9a3176e8_3d23_11eb_bea0_0242ac1c0002row2_col23,#T_9a3176e8_3d23_11eb_bea0_0242ac1c0002row2_col24,#T_9a3176e8_3d23_11eb_bea0_0242ac1c0002row2_col25,#T_9a3176e8_3d23_11eb_bea0_0242ac1c0002row2_col26,#T_9a3176e8_3d23_11eb_bea0_0242ac1c0002row2_col27,#T_9a3176e8_3d23_11eb_bea0_0242ac1c0002row3_col0,#T_9a3176e8_3d23_11eb_bea0_0242ac1c0002row3_col1,#T_9a3176e8_3d23_11eb_bea0_0242ac1c0002row3_col2,#T_9a3176e8_3d23_11eb_bea0_0242ac1c0002row3_col3,#T_9a3176e8_3d23_11eb_bea0_0242ac1c0002row3_col4,#T_9a3176e8_3d23_11eb_bea0_0242ac1c0002row3_col5,#T_9a3176e8_3d23_11eb_bea0_0242ac1c0002row3_col6,#T_9a3176e8_3d23_11eb_bea0_0242ac1c0002row3_col7,#T_9a3176e8_3d23_11eb_bea0_0242ac1c0002row3_col8,#T_9a3176e8_3d23_11eb_bea0_0242ac1c0002row3_col9,#T_9a3176e8_3d23_11eb_bea0_0242ac1c0002row3_col10,#T_9a3176e8_3d23_11eb_bea0_0242ac1c0002row3_col11,#T_9a3176e8_3d23_11eb_bea0_0242ac1c0002row3_col12,#T_9a3176e8_3d23_11eb_bea0_0242ac1c0002row3_col13,#T_9a3176e8_3d23_11eb_bea0_0242ac1c0002row3_col14,#T_9a3176e8_3d23_11eb_bea0_0242ac1c0002row3_col15,#T_9a3176e8_3d23_11eb_bea0_0242ac1c0002row3_col16,#T_9a3176e8_3d23_11eb_bea0_0242ac1c0002row3_col17,#T_9a3176e8_3d23_11eb_bea0_0242ac1c0002row3_col18,#T_9a3176e8_3d23_11eb_bea0_0242ac1c0002row3_col19,#T_9a3176e8_3d23_11eb_bea0_0242ac1c0002row3_col20,#T_9a3176e8_3d23_11eb_bea0_0242ac1c0002row3_col21,#T_9a3176e8_3d23_11eb_bea0_0242ac1c0002row3_col22,#T_9a3176e8_3d23_11eb_bea0_0242ac1c0002row3_col23,#T_9a3176e8_3d23_11eb_bea0_0242ac1c0002row3_col24,#T_9a3176e8_3d23_11eb_bea0_0242ac1c0002row3_col25,#T_9a3176e8_3d23_11eb_bea0_0242ac1c0002row3_col26,#T_9a3176e8_3d23_11eb_bea0_0242ac1c0002row3_col27,#T_9a3176e8_3d23_11eb_bea0_0242ac1c0002row4_col0,#T_9a3176e8_3d23_11eb_bea0_0242ac1c0002row4_col1,#T_9a3176e8_3d23_11eb_bea0_0242ac1c0002row4_col2,#T_9a3176e8_3d23_11eb_bea0_0242ac1c0002row4_col3,#T_9a3176e8_3d23_11eb_bea0_0242ac1c0002row4_col4,#T_9a3176e8_3d23_11eb_bea0_0242ac1c0002row4_col5,#T_9a3176e8_3d23_11eb_bea0_0242ac1c0002row4_col6,#T_9a3176e8_3d23_11eb_bea0_0242ac1c0002row4_col7,#T_9a3176e8_3d23_11eb_bea0_0242ac1c0002row4_col8,#T_9a3176e8_3d23_11eb_bea0_0242ac1c0002row4_col9,#T_9a3176e8_3d23_11eb_bea0_0242ac1c0002row4_col10,#T_9a3176e8_3d23_11eb_bea0_0242ac1c0002row4_col11,#T_9a3176e8_3d23_11eb_bea0_0242ac1c0002row4_col12,#T_9a3176e8_3d23_11eb_bea0_0242ac1c0002row4_col13,#T_9a3176e8_3d23_11eb_bea0_0242ac1c0002row4_col14,#T_9a3176e8_3d23_11eb_bea0_0242ac1c0002row4_col23,#T_9a3176e8_3d23_11eb_bea0_0242ac1c0002row4_col24,#T_9a3176e8_3d23_11eb_bea0_0242ac1c0002row4_col25,#T_9a3176e8_3d23_11eb_bea0_0242ac1c0002row4_col26,#T_9a3176e8_3d23_11eb_bea0_0242ac1c0002row4_col27,#T_9a3176e8_3d23_11eb_bea0_0242ac1c0002row5_col0,#T_9a3176e8_3d23_11eb_bea0_0242ac1c0002row5_col1,#T_9a3176e8_3d23_11eb_bea0_0242ac1c0002row5_col2,#T_9a3176e8_3d23_11eb_bea0_0242ac1c0002row5_col3,#T_9a3176e8_3d23_11eb_bea0_0242ac1c0002row5_col4,#T_9a3176e8_3d23_11eb_bea0_0242ac1c0002row5_col5,#T_9a3176e8_3d23_11eb_bea0_0242ac1c0002row5_col6,#T_9a3176e8_3d23_11eb_bea0_0242ac1c0002row5_col7,#T_9a3176e8_3d23_11eb_bea0_0242ac1c0002row5_col8,#T_9a3176e8_3d23_11eb_bea0_0242ac1c0002row5_col9,#T_9a3176e8_3d23_11eb_bea0_0242ac1c0002row5_col10,#T_9a3176e8_3d23_11eb_bea0_0242ac1c0002row5_col11,#T_9a3176e8_3d23_11eb_bea0_0242ac1c0002row5_col12,#T_9a3176e8_3d23_11eb_bea0_0242ac1c0002row5_col13,#T_9a3176e8_3d23_11eb_bea0_0242ac1c0002row5_col23,#T_9a3176e8_3d23_11eb_bea0_0242ac1c0002row5_col24,#T_9a3176e8_3d23_11eb_bea0_0242ac1c0002row5_col25,#T_9a3176e8_3d23_11eb_bea0_0242ac1c0002row5_col26,#T_9a3176e8_3d23_11eb_bea0_0242ac1c0002row5_col27,#T_9a3176e8_3d23_11eb_bea0_0242ac1c0002row6_col0,#T_9a3176e8_3d23_11eb_bea0_0242ac1c0002row6_col1,#T_9a3176e8_3d23_11eb_bea0_0242ac1c0002row6_col2,#T_9a3176e8_3d23_11eb_bea0_0242ac1c0002row6_col3,#T_9a3176e8_3d23_11eb_bea0_0242ac1c0002row6_col4,#T_9a3176e8_3d23_11eb_bea0_0242ac1c0002row6_col5,#T_9a3176e8_3d23_11eb_bea0_0242ac1c0002row6_col6,#T_9a3176e8_3d23_11eb_bea0_0242ac1c0002row6_col7,#T_9a3176e8_3d23_11eb_bea0_0242ac1c0002row6_col8,#T_9a3176e8_3d23_11eb_bea0_0242ac1c0002row6_col9,#T_9a3176e8_3d23_11eb_bea0_0242ac1c0002row6_col10,#T_9a3176e8_3d23_11eb_bea0_0242ac1c0002row6_col11,#T_9a3176e8_3d23_11eb_bea0_0242ac1c0002row6_col12,#T_9a3176e8_3d23_11eb_bea0_0242ac1c0002row6_col13,#T_9a3176e8_3d23_11eb_bea0_0242ac1c0002row6_col23,#T_9a3176e8_3d23_11eb_bea0_0242ac1c0002row6_col24,#T_9a3176e8_3d23_11eb_bea0_0242ac1c0002row6_col25,#T_9a3176e8_3d23_11eb_bea0_0242ac1c0002row6_col26,#T_9a3176e8_3d23_11eb_bea0_0242ac1c0002row6_col27,#T_9a3176e8_3d23_11eb_bea0_0242ac1c0002row7_col0,#T_9a3176e8_3d23_11eb_bea0_0242ac1c0002row7_col1,#T_9a3176e8_3d23_11eb_bea0_0242ac1c0002row7_col2,#T_9a3176e8_3d23_11eb_bea0_0242ac1c0002row7_col3,#T_9a3176e8_3d23_11eb_bea0_0242ac1c0002row7_col4,#T_9a3176e8_3d23_11eb_bea0_0242ac1c0002row7_col5,#T_9a3176e8_3d23_11eb_bea0_0242ac1c0002row7_col6,#T_9a3176e8_3d23_11eb_bea0_0242ac1c0002row7_col7,#T_9a3176e8_3d23_11eb_bea0_0242ac1c0002row7_col8,#T_9a3176e8_3d23_11eb_bea0_0242ac1c0002row7_col9,#T_9a3176e8_3d23_11eb_bea0_0242ac1c0002row7_col10,#T_9a3176e8_3d23_11eb_bea0_0242ac1c0002row7_col11,#T_9a3176e8_3d23_11eb_bea0_0242ac1c0002row7_col12,#T_9a3176e8_3d23_11eb_bea0_0242ac1c0002row7_col23,#T_9a3176e8_3d23_11eb_bea0_0242ac1c0002row7_col24,#T_9a3176e8_3d23_11eb_bea0_0242ac1c0002row7_col25,#T_9a3176e8_3d23_11eb_bea0_0242ac1c0002row7_col26,#T_9a3176e8_3d23_11eb_bea0_0242ac1c0002row7_col27,#T_9a3176e8_3d23_11eb_bea0_0242ac1c0002row8_col0,#T_9a3176e8_3d23_11eb_bea0_0242ac1c0002row8_col1,#T_9a3176e8_3d23_11eb_bea0_0242ac1c0002row8_col2,#T_9a3176e8_3d23_11eb_bea0_0242ac1c0002row8_col3,#T_9a3176e8_3d23_11eb_bea0_0242ac1c0002row8_col4,#T_9a3176e8_3d23_11eb_bea0_0242ac1c0002row8_col5,#T_9a3176e8_3d23_11eb_bea0_0242ac1c0002row8_col6,#T_9a3176e8_3d23_11eb_bea0_0242ac1c0002row8_col7,#T_9a3176e8_3d23_11eb_bea0_0242ac1c0002row8_col8,#T_9a3176e8_3d23_11eb_bea0_0242ac1c0002row8_col9,#T_9a3176e8_3d23_11eb_bea0_0242ac1c0002row8_col10,#T_9a3176e8_3d23_11eb_bea0_0242ac1c0002row8_col11,#T_9a3176e8_3d23_11eb_bea0_0242ac1c0002row8_col23,#T_9a3176e8_3d23_11eb_bea0_0242ac1c0002row8_col24,#T_9a3176e8_3d23_11eb_bea0_0242ac1c0002row8_col25,#T_9a3176e8_3d23_11eb_bea0_0242ac1c0002row8_col26,#T_9a3176e8_3d23_11eb_bea0_0242ac1c0002row8_col27,#T_9a3176e8_3d23_11eb_bea0_0242ac1c0002row9_col0,#T_9a3176e8_3d23_11eb_bea0_0242ac1c0002row9_col1,#T_9a3176e8_3d23_11eb_bea0_0242ac1c0002row9_col2,#T_9a3176e8_3d23_11eb_bea0_0242ac1c0002row9_col3,#T_9a3176e8_3d23_11eb_bea0_0242ac1c0002row9_col4,#T_9a3176e8_3d23_11eb_bea0_0242ac1c0002row9_col5,#T_9a3176e8_3d23_11eb_bea0_0242ac1c0002row9_col6,#T_9a3176e8_3d23_11eb_bea0_0242ac1c0002row9_col7,#T_9a3176e8_3d23_11eb_bea0_0242ac1c0002row9_col8,#T_9a3176e8_3d23_11eb_bea0_0242ac1c0002row9_col9,#T_9a3176e8_3d23_11eb_bea0_0242ac1c0002row9_col10,#T_9a3176e8_3d23_11eb_bea0_0242ac1c0002row9_col11,#T_9a3176e8_3d23_11eb_bea0_0242ac1c0002row9_col18,#T_9a3176e8_3d23_11eb_bea0_0242ac1c0002row9_col23,#T_9a3176e8_3d23_11eb_bea0_0242ac1c0002row9_col24,#T_9a3176e8_3d23_11eb_bea0_0242ac1c0002row9_col25,#T_9a3176e8_3d23_11eb_bea0_0242ac1c0002row9_col26,#T_9a3176e8_3d23_11eb_bea0_0242ac1c0002row9_col27,#T_9a3176e8_3d23_11eb_bea0_0242ac1c0002row10_col0,#T_9a3176e8_3d23_11eb_bea0_0242ac1c0002row10_col1,#T_9a3176e8_3d23_11eb_bea0_0242ac1c0002row10_col2,#T_9a3176e8_3d23_11eb_bea0_0242ac1c0002row10_col3,#T_9a3176e8_3d23_11eb_bea0_0242ac1c0002row10_col4,#T_9a3176e8_3d23_11eb_bea0_0242ac1c0002row10_col5,#T_9a3176e8_3d23_11eb_bea0_0242ac1c0002row10_col6,#T_9a3176e8_3d23_11eb_bea0_0242ac1c0002row10_col7,#T_9a3176e8_3d23_11eb_bea0_0242ac1c0002row10_col8,#T_9a3176e8_3d23_11eb_bea0_0242ac1c0002row10_col9,#T_9a3176e8_3d23_11eb_bea0_0242ac1c0002row10_col10,#T_9a3176e8_3d23_11eb_bea0_0242ac1c0002row10_col17,#T_9a3176e8_3d23_11eb_bea0_0242ac1c0002row10_col23,#T_9a3176e8_3d23_11eb_bea0_0242ac1c0002row10_col24,#T_9a3176e8_3d23_11eb_bea0_0242ac1c0002row10_col25,#T_9a3176e8_3d23_11eb_bea0_0242ac1c0002row10_col26,#T_9a3176e8_3d23_11eb_bea0_0242ac1c0002row10_col27,#T_9a3176e8_3d23_11eb_bea0_0242ac1c0002row11_col0,#T_9a3176e8_3d23_11eb_bea0_0242ac1c0002row11_col1,#T_9a3176e8_3d23_11eb_bea0_0242ac1c0002row11_col2,#T_9a3176e8_3d23_11eb_bea0_0242ac1c0002row11_col3,#T_9a3176e8_3d23_11eb_bea0_0242ac1c0002row11_col4,#T_9a3176e8_3d23_11eb_bea0_0242ac1c0002row11_col5,#T_9a3176e8_3d23_11eb_bea0_0242ac1c0002row11_col6,#T_9a3176e8_3d23_11eb_bea0_0242ac1c0002row11_col7,#T_9a3176e8_3d23_11eb_bea0_0242ac1c0002row11_col8,#T_9a3176e8_3d23_11eb_bea0_0242ac1c0002row11_col9,#T_9a3176e8_3d23_11eb_bea0_0242ac1c0002row11_col16,#T_9a3176e8_3d23_11eb_bea0_0242ac1c0002row11_col17,#T_9a3176e8_3d23_11eb_bea0_0242ac1c0002row11_col23,#T_9a3176e8_3d23_11eb_bea0_0242ac1c0002row11_col24,#T_9a3176e8_3d23_11eb_bea0_0242ac1c0002row11_col25,#T_9a3176e8_3d23_11eb_bea0_0242ac1c0002row11_col26,#T_9a3176e8_3d23_11eb_bea0_0242ac1c0002row11_col27,#T_9a3176e8_3d23_11eb_bea0_0242ac1c0002row12_col0,#T_9a3176e8_3d23_11eb_bea0_0242ac1c0002row12_col1,#T_9a3176e8_3d23_11eb_bea0_0242ac1c0002row12_col2,#T_9a3176e8_3d23_11eb_bea0_0242ac1c0002row12_col3,#T_9a3176e8_3d23_11eb_bea0_0242ac1c0002row12_col4,#T_9a3176e8_3d23_11eb_bea0_0242ac1c0002row12_col5,#T_9a3176e8_3d23_11eb_bea0_0242ac1c0002row12_col6,#T_9a3176e8_3d23_11eb_bea0_0242ac1c0002row12_col7,#T_9a3176e8_3d23_11eb_bea0_0242ac1c0002row12_col8,#T_9a3176e8_3d23_11eb_bea0_0242ac1c0002row12_col9,#T_9a3176e8_3d23_11eb_bea0_0242ac1c0002row12_col15,#T_9a3176e8_3d23_11eb_bea0_0242ac1c0002row12_col16,#T_9a3176e8_3d23_11eb_bea0_0242ac1c0002row12_col17,#T_9a3176e8_3d23_11eb_bea0_0242ac1c0002row12_col22,#T_9a3176e8_3d23_11eb_bea0_0242ac1c0002row12_col23,#T_9a3176e8_3d23_11eb_bea0_0242ac1c0002row12_col24,#T_9a3176e8_3d23_11eb_bea0_0242ac1c0002row12_col25,#T_9a3176e8_3d23_11eb_bea0_0242ac1c0002row12_col26,#T_9a3176e8_3d23_11eb_bea0_0242ac1c0002row12_col27,#T_9a3176e8_3d23_11eb_bea0_0242ac1c0002row13_col0,#T_9a3176e8_3d23_11eb_bea0_0242ac1c0002row13_col1,#T_9a3176e8_3d23_11eb_bea0_0242ac1c0002row13_col2,#T_9a3176e8_3d23_11eb_bea0_0242ac1c0002row13_col3,#T_9a3176e8_3d23_11eb_bea0_0242ac1c0002row13_col4,#T_9a3176e8_3d23_11eb_bea0_0242ac1c0002row13_col5,#T_9a3176e8_3d23_11eb_bea0_0242ac1c0002row13_col6,#T_9a3176e8_3d23_11eb_bea0_0242ac1c0002row13_col7,#T_9a3176e8_3d23_11eb_bea0_0242ac1c0002row13_col8,#T_9a3176e8_3d23_11eb_bea0_0242ac1c0002row13_col14,#T_9a3176e8_3d23_11eb_bea0_0242ac1c0002row13_col15,#T_9a3176e8_3d23_11eb_bea0_0242ac1c0002row13_col16,#T_9a3176e8_3d23_11eb_bea0_0242ac1c0002row13_col22,#T_9a3176e8_3d23_11eb_bea0_0242ac1c0002row13_col23,#T_9a3176e8_3d23_11eb_bea0_0242ac1c0002row13_col24,#T_9a3176e8_3d23_11eb_bea0_0242ac1c0002row13_col25,#T_9a3176e8_3d23_11eb_bea0_0242ac1c0002row13_col26,#T_9a3176e8_3d23_11eb_bea0_0242ac1c0002row13_col27,#T_9a3176e8_3d23_11eb_bea0_0242ac1c0002row14_col0,#T_9a3176e8_3d23_11eb_bea0_0242ac1c0002row14_col1,#T_9a3176e8_3d23_11eb_bea0_0242ac1c0002row14_col2,#T_9a3176e8_3d23_11eb_bea0_0242ac1c0002row14_col3,#T_9a3176e8_3d23_11eb_bea0_0242ac1c0002row14_col4,#T_9a3176e8_3d23_11eb_bea0_0242ac1c0002row14_col5,#T_9a3176e8_3d23_11eb_bea0_0242ac1c0002row14_col6,#T_9a3176e8_3d23_11eb_bea0_0242ac1c0002row14_col7,#T_9a3176e8_3d23_11eb_bea0_0242ac1c0002row14_col8,#T_9a3176e8_3d23_11eb_bea0_0242ac1c0002row14_col14,#T_9a3176e8_3d23_11eb_bea0_0242ac1c0002row14_col22,#T_9a3176e8_3d23_11eb_bea0_0242ac1c0002row14_col23,#T_9a3176e8_3d23_11eb_bea0_0242ac1c0002row14_col24,#T_9a3176e8_3d23_11eb_bea0_0242ac1c0002row14_col25,#T_9a3176e8_3d23_11eb_bea0_0242ac1c0002row14_col26,#T_9a3176e8_3d23_11eb_bea0_0242ac1c0002row14_col27,#T_9a3176e8_3d23_11eb_bea0_0242ac1c0002row15_col0,#T_9a3176e8_3d23_11eb_bea0_0242ac1c0002row15_col1,#T_9a3176e8_3d23_11eb_bea0_0242ac1c0002row15_col2,#T_9a3176e8_3d23_11eb_bea0_0242ac1c0002row15_col3,#T_9a3176e8_3d23_11eb_bea0_0242ac1c0002row15_col4,#T_9a3176e8_3d23_11eb_bea0_0242ac1c0002row15_col5,#T_9a3176e8_3d23_11eb_bea0_0242ac1c0002row15_col6,#T_9a3176e8_3d23_11eb_bea0_0242ac1c0002row15_col7,#T_9a3176e8_3d23_11eb_bea0_0242ac1c0002row15_col22,#T_9a3176e8_3d23_11eb_bea0_0242ac1c0002row15_col23,#T_9a3176e8_3d23_11eb_bea0_0242ac1c0002row15_col24,#T_9a3176e8_3d23_11eb_bea0_0242ac1c0002row15_col25,#T_9a3176e8_3d23_11eb_bea0_0242ac1c0002row15_col26,#T_9a3176e8_3d23_11eb_bea0_0242ac1c0002row15_col27,#T_9a3176e8_3d23_11eb_bea0_0242ac1c0002row16_col0,#T_9a3176e8_3d23_11eb_bea0_0242ac1c0002row16_col1,#T_9a3176e8_3d23_11eb_bea0_0242ac1c0002row16_col2,#T_9a3176e8_3d23_11eb_bea0_0242ac1c0002row16_col3,#T_9a3176e8_3d23_11eb_bea0_0242ac1c0002row16_col4,#T_9a3176e8_3d23_11eb_bea0_0242ac1c0002row16_col5,#T_9a3176e8_3d23_11eb_bea0_0242ac1c0002row16_col6,#T_9a3176e8_3d23_11eb_bea0_0242ac1c0002row16_col7,#T_9a3176e8_3d23_11eb_bea0_0242ac1c0002row16_col21,#T_9a3176e8_3d23_11eb_bea0_0242ac1c0002row16_col22,#T_9a3176e8_3d23_11eb_bea0_0242ac1c0002row16_col23,#T_9a3176e8_3d23_11eb_bea0_0242ac1c0002row16_col24,#T_9a3176e8_3d23_11eb_bea0_0242ac1c0002row16_col25,#T_9a3176e8_3d23_11eb_bea0_0242ac1c0002row16_col26,#T_9a3176e8_3d23_11eb_bea0_0242ac1c0002row16_col27,#T_9a3176e8_3d23_11eb_bea0_0242ac1c0002row17_col0,#T_9a3176e8_3d23_11eb_bea0_0242ac1c0002row17_col1,#T_9a3176e8_3d23_11eb_bea0_0242ac1c0002row17_col2,#T_9a3176e8_3d23_11eb_bea0_0242ac1c0002row17_col3,#T_9a3176e8_3d23_11eb_bea0_0242ac1c0002row17_col4,#T_9a3176e8_3d23_11eb_bea0_0242ac1c0002row17_col5,#T_9a3176e8_3d23_11eb_bea0_0242ac1c0002row17_col6,#T_9a3176e8_3d23_11eb_bea0_0242ac1c0002row17_col20,#T_9a3176e8_3d23_11eb_bea0_0242ac1c0002row17_col21,#T_9a3176e8_3d23_11eb_bea0_0242ac1c0002row17_col22,#T_9a3176e8_3d23_11eb_bea0_0242ac1c0002row17_col23,#T_9a3176e8_3d23_11eb_bea0_0242ac1c0002row17_col24,#T_9a3176e8_3d23_11eb_bea0_0242ac1c0002row17_col25,#T_9a3176e8_3d23_11eb_bea0_0242ac1c0002row17_col26,#T_9a3176e8_3d23_11eb_bea0_0242ac1c0002row17_col27,#T_9a3176e8_3d23_11eb_bea0_0242ac1c0002row18_col0,#T_9a3176e8_3d23_11eb_bea0_0242ac1c0002row18_col1,#T_9a3176e8_3d23_11eb_bea0_0242ac1c0002row18_col2,#T_9a3176e8_3d23_11eb_bea0_0242ac1c0002row18_col3,#T_9a3176e8_3d23_11eb_bea0_0242ac1c0002row18_col4,#T_9a3176e8_3d23_11eb_bea0_0242ac1c0002row18_col5,#T_9a3176e8_3d23_11eb_bea0_0242ac1c0002row18_col20,#T_9a3176e8_3d23_11eb_bea0_0242ac1c0002row18_col21,#T_9a3176e8_3d23_11eb_bea0_0242ac1c0002row18_col22,#T_9a3176e8_3d23_11eb_bea0_0242ac1c0002row18_col23,#T_9a3176e8_3d23_11eb_bea0_0242ac1c0002row18_col24,#T_9a3176e8_3d23_11eb_bea0_0242ac1c0002row18_col25,#T_9a3176e8_3d23_11eb_bea0_0242ac1c0002row18_col26,#T_9a3176e8_3d23_11eb_bea0_0242ac1c0002row18_col27,#T_9a3176e8_3d23_11eb_bea0_0242ac1c0002row19_col0,#T_9a3176e8_3d23_11eb_bea0_0242ac1c0002row19_col1,#T_9a3176e8_3d23_11eb_bea0_0242ac1c0002row19_col2,#T_9a3176e8_3d23_11eb_bea0_0242ac1c0002row19_col3,#T_9a3176e8_3d23_11eb_bea0_0242ac1c0002row19_col4,#T_9a3176e8_3d23_11eb_bea0_0242ac1c0002row19_col5,#T_9a3176e8_3d23_11eb_bea0_0242ac1c0002row19_col13,#T_9a3176e8_3d23_11eb_bea0_0242ac1c0002row19_col19,#T_9a3176e8_3d23_11eb_bea0_0242ac1c0002row19_col20,#T_9a3176e8_3d23_11eb_bea0_0242ac1c0002row19_col21,#T_9a3176e8_3d23_11eb_bea0_0242ac1c0002row19_col22,#T_9a3176e8_3d23_11eb_bea0_0242ac1c0002row19_col23,#T_9a3176e8_3d23_11eb_bea0_0242ac1c0002row19_col24,#T_9a3176e8_3d23_11eb_bea0_0242ac1c0002row19_col25,#T_9a3176e8_3d23_11eb_bea0_0242ac1c0002row19_col26,#T_9a3176e8_3d23_11eb_bea0_0242ac1c0002row19_col27,#T_9a3176e8_3d23_11eb_bea0_0242ac1c0002row20_col0,#T_9a3176e8_3d23_11eb_bea0_0242ac1c0002row20_col1,#T_9a3176e8_3d23_11eb_bea0_0242ac1c0002row20_col2,#T_9a3176e8_3d23_11eb_bea0_0242ac1c0002row20_col3,#T_9a3176e8_3d23_11eb_bea0_0242ac1c0002row20_col4,#T_9a3176e8_3d23_11eb_bea0_0242ac1c0002row20_col5,#T_9a3176e8_3d23_11eb_bea0_0242ac1c0002row20_col10,#T_9a3176e8_3d23_11eb_bea0_0242ac1c0002row20_col11,#T_9a3176e8_3d23_11eb_bea0_0242ac1c0002row20_col12,#T_9a3176e8_3d23_11eb_bea0_0242ac1c0002row20_col13,#T_9a3176e8_3d23_11eb_bea0_0242ac1c0002row20_col19,#T_9a3176e8_3d23_11eb_bea0_0242ac1c0002row20_col20,#T_9a3176e8_3d23_11eb_bea0_0242ac1c0002row20_col21,#T_9a3176e8_3d23_11eb_bea0_0242ac1c0002row20_col22,#T_9a3176e8_3d23_11eb_bea0_0242ac1c0002row20_col23,#T_9a3176e8_3d23_11eb_bea0_0242ac1c0002row20_col24,#T_9a3176e8_3d23_11eb_bea0_0242ac1c0002row20_col25,#T_9a3176e8_3d23_11eb_bea0_0242ac1c0002row20_col26,#T_9a3176e8_3d23_11eb_bea0_0242ac1c0002row20_col27,#T_9a3176e8_3d23_11eb_bea0_0242ac1c0002row21_col0,#T_9a3176e8_3d23_11eb_bea0_0242ac1c0002row21_col1,#T_9a3176e8_3d23_11eb_bea0_0242ac1c0002row21_col2,#T_9a3176e8_3d23_11eb_bea0_0242ac1c0002row21_col3,#T_9a3176e8_3d23_11eb_bea0_0242ac1c0002row21_col4,#T_9a3176e8_3d23_11eb_bea0_0242ac1c0002row21_col10,#T_9a3176e8_3d23_11eb_bea0_0242ac1c0002row21_col11,#T_9a3176e8_3d23_11eb_bea0_0242ac1c0002row21_col12,#T_9a3176e8_3d23_11eb_bea0_0242ac1c0002row21_col13,#T_9a3176e8_3d23_11eb_bea0_0242ac1c0002row21_col18,#T_9a3176e8_3d23_11eb_bea0_0242ac1c0002row21_col19,#T_9a3176e8_3d23_11eb_bea0_0242ac1c0002row21_col20,#T_9a3176e8_3d23_11eb_bea0_0242ac1c0002row21_col21,#T_9a3176e8_3d23_11eb_bea0_0242ac1c0002row21_col22,#T_9a3176e8_3d23_11eb_bea0_0242ac1c0002row21_col23,#T_9a3176e8_3d23_11eb_bea0_0242ac1c0002row21_col24,#T_9a3176e8_3d23_11eb_bea0_0242ac1c0002row21_col25,#T_9a3176e8_3d23_11eb_bea0_0242ac1c0002row21_col26,#T_9a3176e8_3d23_11eb_bea0_0242ac1c0002row21_col27,#T_9a3176e8_3d23_11eb_bea0_0242ac1c0002row22_col0,#T_9a3176e8_3d23_11eb_bea0_0242ac1c0002row22_col1,#T_9a3176e8_3d23_11eb_bea0_0242ac1c0002row22_col2,#T_9a3176e8_3d23_11eb_bea0_0242ac1c0002row22_col3,#T_9a3176e8_3d23_11eb_bea0_0242ac1c0002row22_col4,#T_9a3176e8_3d23_11eb_bea0_0242ac1c0002row22_col9,#T_9a3176e8_3d23_11eb_bea0_0242ac1c0002row22_col10,#T_9a3176e8_3d23_11eb_bea0_0242ac1c0002row22_col11,#T_9a3176e8_3d23_11eb_bea0_0242ac1c0002row22_col12,#T_9a3176e8_3d23_11eb_bea0_0242ac1c0002row22_col13,#T_9a3176e8_3d23_11eb_bea0_0242ac1c0002row22_col18,#T_9a3176e8_3d23_11eb_bea0_0242ac1c0002row22_col19,#T_9a3176e8_3d23_11eb_bea0_0242ac1c0002row22_col20,#T_9a3176e8_3d23_11eb_bea0_0242ac1c0002row22_col21,#T_9a3176e8_3d23_11eb_bea0_0242ac1c0002row22_col22,#T_9a3176e8_3d23_11eb_bea0_0242ac1c0002row22_col23,#T_9a3176e8_3d23_11eb_bea0_0242ac1c0002row22_col24,#T_9a3176e8_3d23_11eb_bea0_0242ac1c0002row22_col25,#T_9a3176e8_3d23_11eb_bea0_0242ac1c0002row22_col26,#T_9a3176e8_3d23_11eb_bea0_0242ac1c0002row22_col27,#T_9a3176e8_3d23_11eb_bea0_0242ac1c0002row23_col0,#T_9a3176e8_3d23_11eb_bea0_0242ac1c0002row23_col1,#T_9a3176e8_3d23_11eb_bea0_0242ac1c0002row23_col2,#T_9a3176e8_3d23_11eb_bea0_0242ac1c0002row23_col3,#T_9a3176e8_3d23_11eb_bea0_0242ac1c0002row23_col4,#T_9a3176e8_3d23_11eb_bea0_0242ac1c0002row23_col8,#T_9a3176e8_3d23_11eb_bea0_0242ac1c0002row23_col9,#T_9a3176e8_3d23_11eb_bea0_0242ac1c0002row23_col10,#T_9a3176e8_3d23_11eb_bea0_0242ac1c0002row23_col11,#T_9a3176e8_3d23_11eb_bea0_0242ac1c0002row23_col12,#T_9a3176e8_3d23_11eb_bea0_0242ac1c0002row23_col13,#T_9a3176e8_3d23_11eb_bea0_0242ac1c0002row23_col18,#T_9a3176e8_3d23_11eb_bea0_0242ac1c0002row23_col19,#T_9a3176e8_3d23_11eb_bea0_0242ac1c0002row23_col20,#T_9a3176e8_3d23_11eb_bea0_0242ac1c0002row23_col21,#T_9a3176e8_3d23_11eb_bea0_0242ac1c0002row23_col22,#T_9a3176e8_3d23_11eb_bea0_0242ac1c0002row23_col23,#T_9a3176e8_3d23_11eb_bea0_0242ac1c0002row23_col24,#T_9a3176e8_3d23_11eb_bea0_0242ac1c0002row23_col25,#T_9a3176e8_3d23_11eb_bea0_0242ac1c0002row23_col26,#T_9a3176e8_3d23_11eb_bea0_0242ac1c0002row23_col27,#T_9a3176e8_3d23_11eb_bea0_0242ac1c0002row24_col0,#T_9a3176e8_3d23_11eb_bea0_0242ac1c0002row24_col1,#T_9a3176e8_3d23_11eb_bea0_0242ac1c0002row24_col2,#T_9a3176e8_3d23_11eb_bea0_0242ac1c0002row24_col3,#T_9a3176e8_3d23_11eb_bea0_0242ac1c0002row24_col4,#T_9a3176e8_3d23_11eb_bea0_0242ac1c0002row24_col5,#T_9a3176e8_3d23_11eb_bea0_0242ac1c0002row24_col6,#T_9a3176e8_3d23_11eb_bea0_0242ac1c0002row24_col7,#T_9a3176e8_3d23_11eb_bea0_0242ac1c0002row24_col8,#T_9a3176e8_3d23_11eb_bea0_0242ac1c0002row24_col9,#T_9a3176e8_3d23_11eb_bea0_0242ac1c0002row24_col10,#T_9a3176e8_3d23_11eb_bea0_0242ac1c0002row24_col11,#T_9a3176e8_3d23_11eb_bea0_0242ac1c0002row24_col12,#T_9a3176e8_3d23_11eb_bea0_0242ac1c0002row24_col13,#T_9a3176e8_3d23_11eb_bea0_0242ac1c0002row24_col14,#T_9a3176e8_3d23_11eb_bea0_0242ac1c0002row24_col15,#T_9a3176e8_3d23_11eb_bea0_0242ac1c0002row24_col16,#T_9a3176e8_3d23_11eb_bea0_0242ac1c0002row24_col17,#T_9a3176e8_3d23_11eb_bea0_0242ac1c0002row24_col18,#T_9a3176e8_3d23_11eb_bea0_0242ac1c0002row24_col19,#T_9a3176e8_3d23_11eb_bea0_0242ac1c0002row24_col20,#T_9a3176e8_3d23_11eb_bea0_0242ac1c0002row24_col21,#T_9a3176e8_3d23_11eb_bea0_0242ac1c0002row24_col22,#T_9a3176e8_3d23_11eb_bea0_0242ac1c0002row24_col23,#T_9a3176e8_3d23_11eb_bea0_0242ac1c0002row24_col24,#T_9a3176e8_3d23_11eb_bea0_0242ac1c0002row24_col25,#T_9a3176e8_3d23_11eb_bea0_0242ac1c0002row24_col26,#T_9a3176e8_3d23_11eb_bea0_0242ac1c0002row24_col27,#T_9a3176e8_3d23_11eb_bea0_0242ac1c0002row25_col0,#T_9a3176e8_3d23_11eb_bea0_0242ac1c0002row25_col1,#T_9a3176e8_3d23_11eb_bea0_0242ac1c0002row25_col2,#T_9a3176e8_3d23_11eb_bea0_0242ac1c0002row25_col3,#T_9a3176e8_3d23_11eb_bea0_0242ac1c0002row25_col4,#T_9a3176e8_3d23_11eb_bea0_0242ac1c0002row25_col5,#T_9a3176e8_3d23_11eb_bea0_0242ac1c0002row25_col6,#T_9a3176e8_3d23_11eb_bea0_0242ac1c0002row25_col7,#T_9a3176e8_3d23_11eb_bea0_0242ac1c0002row25_col8,#T_9a3176e8_3d23_11eb_bea0_0242ac1c0002row25_col9,#T_9a3176e8_3d23_11eb_bea0_0242ac1c0002row25_col10,#T_9a3176e8_3d23_11eb_bea0_0242ac1c0002row25_col11,#T_9a3176e8_3d23_11eb_bea0_0242ac1c0002row25_col12,#T_9a3176e8_3d23_11eb_bea0_0242ac1c0002row25_col13,#T_9a3176e8_3d23_11eb_bea0_0242ac1c0002row25_col14,#T_9a3176e8_3d23_11eb_bea0_0242ac1c0002row25_col15,#T_9a3176e8_3d23_11eb_bea0_0242ac1c0002row25_col16,#T_9a3176e8_3d23_11eb_bea0_0242ac1c0002row25_col17,#T_9a3176e8_3d23_11eb_bea0_0242ac1c0002row25_col18,#T_9a3176e8_3d23_11eb_bea0_0242ac1c0002row25_col19,#T_9a3176e8_3d23_11eb_bea0_0242ac1c0002row25_col20,#T_9a3176e8_3d23_11eb_bea0_0242ac1c0002row25_col21,#T_9a3176e8_3d23_11eb_bea0_0242ac1c0002row25_col22,#T_9a3176e8_3d23_11eb_bea0_0242ac1c0002row25_col23,#T_9a3176e8_3d23_11eb_bea0_0242ac1c0002row25_col24,#T_9a3176e8_3d23_11eb_bea0_0242ac1c0002row25_col25,#T_9a3176e8_3d23_11eb_bea0_0242ac1c0002row25_col26,#T_9a3176e8_3d23_11eb_bea0_0242ac1c0002row25_col27,#T_9a3176e8_3d23_11eb_bea0_0242ac1c0002row26_col0,#T_9a3176e8_3d23_11eb_bea0_0242ac1c0002row26_col1,#T_9a3176e8_3d23_11eb_bea0_0242ac1c0002row26_col2,#T_9a3176e8_3d23_11eb_bea0_0242ac1c0002row26_col3,#T_9a3176e8_3d23_11eb_bea0_0242ac1c0002row26_col4,#T_9a3176e8_3d23_11eb_bea0_0242ac1c0002row26_col5,#T_9a3176e8_3d23_11eb_bea0_0242ac1c0002row26_col6,#T_9a3176e8_3d23_11eb_bea0_0242ac1c0002row26_col7,#T_9a3176e8_3d23_11eb_bea0_0242ac1c0002row26_col8,#T_9a3176e8_3d23_11eb_bea0_0242ac1c0002row26_col9,#T_9a3176e8_3d23_11eb_bea0_0242ac1c0002row26_col10,#T_9a3176e8_3d23_11eb_bea0_0242ac1c0002row26_col11,#T_9a3176e8_3d23_11eb_bea0_0242ac1c0002row26_col12,#T_9a3176e8_3d23_11eb_bea0_0242ac1c0002row26_col13,#T_9a3176e8_3d23_11eb_bea0_0242ac1c0002row26_col14,#T_9a3176e8_3d23_11eb_bea0_0242ac1c0002row26_col15,#T_9a3176e8_3d23_11eb_bea0_0242ac1c0002row26_col16,#T_9a3176e8_3d23_11eb_bea0_0242ac1c0002row26_col17,#T_9a3176e8_3d23_11eb_bea0_0242ac1c0002row26_col18,#T_9a3176e8_3d23_11eb_bea0_0242ac1c0002row26_col19,#T_9a3176e8_3d23_11eb_bea0_0242ac1c0002row26_col20,#T_9a3176e8_3d23_11eb_bea0_0242ac1c0002row26_col21,#T_9a3176e8_3d23_11eb_bea0_0242ac1c0002row26_col22,#T_9a3176e8_3d23_11eb_bea0_0242ac1c0002row26_col23,#T_9a3176e8_3d23_11eb_bea0_0242ac1c0002row26_col24,#T_9a3176e8_3d23_11eb_bea0_0242ac1c0002row26_col25,#T_9a3176e8_3d23_11eb_bea0_0242ac1c0002row26_col26,#T_9a3176e8_3d23_11eb_bea0_0242ac1c0002row26_col27,#T_9a3176e8_3d23_11eb_bea0_0242ac1c0002row27_col0,#T_9a3176e8_3d23_11eb_bea0_0242ac1c0002row27_col1,#T_9a3176e8_3d23_11eb_bea0_0242ac1c0002row27_col2,#T_9a3176e8_3d23_11eb_bea0_0242ac1c0002row27_col3,#T_9a3176e8_3d23_11eb_bea0_0242ac1c0002row27_col4,#T_9a3176e8_3d23_11eb_bea0_0242ac1c0002row27_col5,#T_9a3176e8_3d23_11eb_bea0_0242ac1c0002row27_col6,#T_9a3176e8_3d23_11eb_bea0_0242ac1c0002row27_col7,#T_9a3176e8_3d23_11eb_bea0_0242ac1c0002row27_col8,#T_9a3176e8_3d23_11eb_bea0_0242ac1c0002row27_col9,#T_9a3176e8_3d23_11eb_bea0_0242ac1c0002row27_col10,#T_9a3176e8_3d23_11eb_bea0_0242ac1c0002row27_col11,#T_9a3176e8_3d23_11eb_bea0_0242ac1c0002row27_col12,#T_9a3176e8_3d23_11eb_bea0_0242ac1c0002row27_col13,#T_9a3176e8_3d23_11eb_bea0_0242ac1c0002row27_col14,#T_9a3176e8_3d23_11eb_bea0_0242ac1c0002row27_col15,#T_9a3176e8_3d23_11eb_bea0_0242ac1c0002row27_col16,#T_9a3176e8_3d23_11eb_bea0_0242ac1c0002row27_col17,#T_9a3176e8_3d23_11eb_bea0_0242ac1c0002row27_col18,#T_9a3176e8_3d23_11eb_bea0_0242ac1c0002row27_col19,#T_9a3176e8_3d23_11eb_bea0_0242ac1c0002row27_col20,#T_9a3176e8_3d23_11eb_bea0_0242ac1c0002row27_col21,#T_9a3176e8_3d23_11eb_bea0_0242ac1c0002row27_col22,#T_9a3176e8_3d23_11eb_bea0_0242ac1c0002row27_col23,#T_9a3176e8_3d23_11eb_bea0_0242ac1c0002row27_col24,#T_9a3176e8_3d23_11eb_bea0_0242ac1c0002row27_col25,#T_9a3176e8_3d23_11eb_bea0_0242ac1c0002row27_col26,#T_9a3176e8_3d23_11eb_bea0_0242ac1c0002row27_col27{\n",
              "            font-size:  6pt;\n",
              "            background-color:  #ffffff;\n",
              "            color:  #000000;\n",
              "        }#T_9a3176e8_3d23_11eb_bea0_0242ac1c0002row4_col15,#T_9a3176e8_3d23_11eb_bea0_0242ac1c0002row4_col21,#T_9a3176e8_3d23_11eb_bea0_0242ac1c0002row23_col7{\n",
              "            font-size:  6pt;\n",
              "            background-color:  #929292;\n",
              "            color:  #000000;\n",
              "        }#T_9a3176e8_3d23_11eb_bea0_0242ac1c0002row4_col16,#T_9a3176e8_3d23_11eb_bea0_0242ac1c0002row4_col20,#T_9a3176e8_3d23_11eb_bea0_0242ac1c0002row5_col15,#T_9a3176e8_3d23_11eb_bea0_0242ac1c0002row5_col16,#T_9a3176e8_3d23_11eb_bea0_0242ac1c0002row5_col17,#T_9a3176e8_3d23_11eb_bea0_0242ac1c0002row5_col18,#T_9a3176e8_3d23_11eb_bea0_0242ac1c0002row5_col19,#T_9a3176e8_3d23_11eb_bea0_0242ac1c0002row5_col20,#T_9a3176e8_3d23_11eb_bea0_0242ac1c0002row5_col21,#T_9a3176e8_3d23_11eb_bea0_0242ac1c0002row5_col22,#T_9a3176e8_3d23_11eb_bea0_0242ac1c0002row6_col15,#T_9a3176e8_3d23_11eb_bea0_0242ac1c0002row6_col16,#T_9a3176e8_3d23_11eb_bea0_0242ac1c0002row6_col17,#T_9a3176e8_3d23_11eb_bea0_0242ac1c0002row6_col18,#T_9a3176e8_3d23_11eb_bea0_0242ac1c0002row6_col19,#T_9a3176e8_3d23_11eb_bea0_0242ac1c0002row6_col20,#T_9a3176e8_3d23_11eb_bea0_0242ac1c0002row6_col21,#T_9a3176e8_3d23_11eb_bea0_0242ac1c0002row6_col22,#T_9a3176e8_3d23_11eb_bea0_0242ac1c0002row7_col14,#T_9a3176e8_3d23_11eb_bea0_0242ac1c0002row7_col15,#T_9a3176e8_3d23_11eb_bea0_0242ac1c0002row7_col16,#T_9a3176e8_3d23_11eb_bea0_0242ac1c0002row7_col17,#T_9a3176e8_3d23_11eb_bea0_0242ac1c0002row7_col18,#T_9a3176e8_3d23_11eb_bea0_0242ac1c0002row7_col19,#T_9a3176e8_3d23_11eb_bea0_0242ac1c0002row7_col20,#T_9a3176e8_3d23_11eb_bea0_0242ac1c0002row7_col21,#T_9a3176e8_3d23_11eb_bea0_0242ac1c0002row7_col22,#T_9a3176e8_3d23_11eb_bea0_0242ac1c0002row8_col13,#T_9a3176e8_3d23_11eb_bea0_0242ac1c0002row8_col14,#T_9a3176e8_3d23_11eb_bea0_0242ac1c0002row8_col15,#T_9a3176e8_3d23_11eb_bea0_0242ac1c0002row8_col16,#T_9a3176e8_3d23_11eb_bea0_0242ac1c0002row8_col17,#T_9a3176e8_3d23_11eb_bea0_0242ac1c0002row8_col20,#T_9a3176e8_3d23_11eb_bea0_0242ac1c0002row8_col21,#T_9a3176e8_3d23_11eb_bea0_0242ac1c0002row8_col22,#T_9a3176e8_3d23_11eb_bea0_0242ac1c0002row9_col13,#T_9a3176e8_3d23_11eb_bea0_0242ac1c0002row9_col14,#T_9a3176e8_3d23_11eb_bea0_0242ac1c0002row9_col15,#T_9a3176e8_3d23_11eb_bea0_0242ac1c0002row9_col20,#T_9a3176e8_3d23_11eb_bea0_0242ac1c0002row9_col21,#T_9a3176e8_3d23_11eb_bea0_0242ac1c0002row10_col12,#T_9a3176e8_3d23_11eb_bea0_0242ac1c0002row10_col13,#T_9a3176e8_3d23_11eb_bea0_0242ac1c0002row10_col14,#T_9a3176e8_3d23_11eb_bea0_0242ac1c0002row10_col19,#T_9a3176e8_3d23_11eb_bea0_0242ac1c0002row10_col20,#T_9a3176e8_3d23_11eb_bea0_0242ac1c0002row10_col21,#T_9a3176e8_3d23_11eb_bea0_0242ac1c0002row11_col11,#T_9a3176e8_3d23_11eb_bea0_0242ac1c0002row11_col12,#T_9a3176e8_3d23_11eb_bea0_0242ac1c0002row11_col13,#T_9a3176e8_3d23_11eb_bea0_0242ac1c0002row11_col14,#T_9a3176e8_3d23_11eb_bea0_0242ac1c0002row11_col19,#T_9a3176e8_3d23_11eb_bea0_0242ac1c0002row11_col20,#T_9a3176e8_3d23_11eb_bea0_0242ac1c0002row11_col21,#T_9a3176e8_3d23_11eb_bea0_0242ac1c0002row12_col11,#T_9a3176e8_3d23_11eb_bea0_0242ac1c0002row12_col12,#T_9a3176e8_3d23_11eb_bea0_0242ac1c0002row12_col13,#T_9a3176e8_3d23_11eb_bea0_0242ac1c0002row12_col19,#T_9a3176e8_3d23_11eb_bea0_0242ac1c0002row12_col20,#T_9a3176e8_3d23_11eb_bea0_0242ac1c0002row12_col21,#T_9a3176e8_3d23_11eb_bea0_0242ac1c0002row13_col10,#T_9a3176e8_3d23_11eb_bea0_0242ac1c0002row13_col11,#T_9a3176e8_3d23_11eb_bea0_0242ac1c0002row13_col12,#T_9a3176e8_3d23_11eb_bea0_0242ac1c0002row13_col19,#T_9a3176e8_3d23_11eb_bea0_0242ac1c0002row13_col20,#T_9a3176e8_3d23_11eb_bea0_0242ac1c0002row14_col10,#T_9a3176e8_3d23_11eb_bea0_0242ac1c0002row14_col11,#T_9a3176e8_3d23_11eb_bea0_0242ac1c0002row14_col18,#T_9a3176e8_3d23_11eb_bea0_0242ac1c0002row14_col19,#T_9a3176e8_3d23_11eb_bea0_0242ac1c0002row14_col20,#T_9a3176e8_3d23_11eb_bea0_0242ac1c0002row15_col9,#T_9a3176e8_3d23_11eb_bea0_0242ac1c0002row15_col10,#T_9a3176e8_3d23_11eb_bea0_0242ac1c0002row15_col11,#T_9a3176e8_3d23_11eb_bea0_0242ac1c0002row15_col16,#T_9a3176e8_3d23_11eb_bea0_0242ac1c0002row15_col17,#T_9a3176e8_3d23_11eb_bea0_0242ac1c0002row15_col18,#T_9a3176e8_3d23_11eb_bea0_0242ac1c0002row15_col19,#T_9a3176e8_3d23_11eb_bea0_0242ac1c0002row15_col20,#T_9a3176e8_3d23_11eb_bea0_0242ac1c0002row16_col8,#T_9a3176e8_3d23_11eb_bea0_0242ac1c0002row16_col9,#T_9a3176e8_3d23_11eb_bea0_0242ac1c0002row16_col10,#T_9a3176e8_3d23_11eb_bea0_0242ac1c0002row16_col11,#T_9a3176e8_3d23_11eb_bea0_0242ac1c0002row16_col12,#T_9a3176e8_3d23_11eb_bea0_0242ac1c0002row16_col13,#T_9a3176e8_3d23_11eb_bea0_0242ac1c0002row16_col14,#T_9a3176e8_3d23_11eb_bea0_0242ac1c0002row16_col15,#T_9a3176e8_3d23_11eb_bea0_0242ac1c0002row16_col16,#T_9a3176e8_3d23_11eb_bea0_0242ac1c0002row16_col17,#T_9a3176e8_3d23_11eb_bea0_0242ac1c0002row16_col18,#T_9a3176e8_3d23_11eb_bea0_0242ac1c0002row16_col19,#T_9a3176e8_3d23_11eb_bea0_0242ac1c0002row17_col8,#T_9a3176e8_3d23_11eb_bea0_0242ac1c0002row17_col9,#T_9a3176e8_3d23_11eb_bea0_0242ac1c0002row17_col10,#T_9a3176e8_3d23_11eb_bea0_0242ac1c0002row17_col11,#T_9a3176e8_3d23_11eb_bea0_0242ac1c0002row17_col12,#T_9a3176e8_3d23_11eb_bea0_0242ac1c0002row17_col13,#T_9a3176e8_3d23_11eb_bea0_0242ac1c0002row17_col14,#T_9a3176e8_3d23_11eb_bea0_0242ac1c0002row17_col15,#T_9a3176e8_3d23_11eb_bea0_0242ac1c0002row17_col16,#T_9a3176e8_3d23_11eb_bea0_0242ac1c0002row17_col17,#T_9a3176e8_3d23_11eb_bea0_0242ac1c0002row17_col18,#T_9a3176e8_3d23_11eb_bea0_0242ac1c0002row17_col19,#T_9a3176e8_3d23_11eb_bea0_0242ac1c0002row18_col7,#T_9a3176e8_3d23_11eb_bea0_0242ac1c0002row18_col8,#T_9a3176e8_3d23_11eb_bea0_0242ac1c0002row18_col9,#T_9a3176e8_3d23_11eb_bea0_0242ac1c0002row18_col10,#T_9a3176e8_3d23_11eb_bea0_0242ac1c0002row18_col12,#T_9a3176e8_3d23_11eb_bea0_0242ac1c0002row18_col14,#T_9a3176e8_3d23_11eb_bea0_0242ac1c0002row18_col15,#T_9a3176e8_3d23_11eb_bea0_0242ac1c0002row18_col16,#T_9a3176e8_3d23_11eb_bea0_0242ac1c0002row18_col17,#T_9a3176e8_3d23_11eb_bea0_0242ac1c0002row18_col18,#T_9a3176e8_3d23_11eb_bea0_0242ac1c0002row19_col7,#T_9a3176e8_3d23_11eb_bea0_0242ac1c0002row19_col8,#T_9a3176e8_3d23_11eb_bea0_0242ac1c0002row19_col15,#T_9a3176e8_3d23_11eb_bea0_0242ac1c0002row19_col16,#T_9a3176e8_3d23_11eb_bea0_0242ac1c0002row19_col17,#T_9a3176e8_3d23_11eb_bea0_0242ac1c0002row20_col7,#T_9a3176e8_3d23_11eb_bea0_0242ac1c0002row20_col8,#T_9a3176e8_3d23_11eb_bea0_0242ac1c0002row20_col15,#T_9a3176e8_3d23_11eb_bea0_0242ac1c0002row20_col16,#T_9a3176e8_3d23_11eb_bea0_0242ac1c0002row20_col17,#T_9a3176e8_3d23_11eb_bea0_0242ac1c0002row21_col6,#T_9a3176e8_3d23_11eb_bea0_0242ac1c0002row21_col7,#T_9a3176e8_3d23_11eb_bea0_0242ac1c0002row21_col8,#T_9a3176e8_3d23_11eb_bea0_0242ac1c0002row21_col14,#T_9a3176e8_3d23_11eb_bea0_0242ac1c0002row21_col15,#T_9a3176e8_3d23_11eb_bea0_0242ac1c0002row21_col16,#T_9a3176e8_3d23_11eb_bea0_0242ac1c0002row21_col17,#T_9a3176e8_3d23_11eb_bea0_0242ac1c0002row22_col5,#T_9a3176e8_3d23_11eb_bea0_0242ac1c0002row22_col6,#T_9a3176e8_3d23_11eb_bea0_0242ac1c0002row22_col7,#T_9a3176e8_3d23_11eb_bea0_0242ac1c0002row22_col14,#T_9a3176e8_3d23_11eb_bea0_0242ac1c0002row22_col15,#T_9a3176e8_3d23_11eb_bea0_0242ac1c0002row22_col16,#T_9a3176e8_3d23_11eb_bea0_0242ac1c0002row23_col6,#T_9a3176e8_3d23_11eb_bea0_0242ac1c0002row23_col14,#T_9a3176e8_3d23_11eb_bea0_0242ac1c0002row23_col15,#T_9a3176e8_3d23_11eb_bea0_0242ac1c0002row23_col16{\n",
              "            font-size:  6pt;\n",
              "            background-color:  #000000;\n",
              "            color:  #f1f1f1;\n",
              "        }#T_9a3176e8_3d23_11eb_bea0_0242ac1c0002row4_col17{\n",
              "            font-size:  6pt;\n",
              "            background-color:  #505050;\n",
              "            color:  #f1f1f1;\n",
              "        }#T_9a3176e8_3d23_11eb_bea0_0242ac1c0002row4_col18,#T_9a3176e8_3d23_11eb_bea0_0242ac1c0002row4_col22,#T_9a3176e8_3d23_11eb_bea0_0242ac1c0002row5_col14{\n",
              "            font-size:  6pt;\n",
              "            background-color:  #fcfcfc;\n",
              "            color:  #000000;\n",
              "        }#T_9a3176e8_3d23_11eb_bea0_0242ac1c0002row4_col19,#T_9a3176e8_3d23_11eb_bea0_0242ac1c0002row14_col16,#T_9a3176e8_3d23_11eb_bea0_0242ac1c0002row23_col5{\n",
              "            font-size:  6pt;\n",
              "            background-color:  #d5d5d5;\n",
              "            color:  #000000;\n",
              "        }#T_9a3176e8_3d23_11eb_bea0_0242ac1c0002row6_col14,#T_9a3176e8_3d23_11eb_bea0_0242ac1c0002row15_col8,#T_9a3176e8_3d23_11eb_bea0_0242ac1c0002row15_col13,#T_9a3176e8_3d23_11eb_bea0_0242ac1c0002row15_col14{\n",
              "            font-size:  6pt;\n",
              "            background-color:  #474747;\n",
              "            color:  #f1f1f1;\n",
              "        }#T_9a3176e8_3d23_11eb_bea0_0242ac1c0002row7_col13{\n",
              "            font-size:  6pt;\n",
              "            background-color:  #c5c5c5;\n",
              "            color:  #000000;\n",
              "        }#T_9a3176e8_3d23_11eb_bea0_0242ac1c0002row8_col12{\n",
              "            font-size:  6pt;\n",
              "            background-color:  #cccccc;\n",
              "            color:  #000000;\n",
              "        }#T_9a3176e8_3d23_11eb_bea0_0242ac1c0002row8_col18,#T_9a3176e8_3d23_11eb_bea0_0242ac1c0002row13_col13,#T_9a3176e8_3d23_11eb_bea0_0242ac1c0002row14_col9,#T_9a3176e8_3d23_11eb_bea0_0242ac1c0002row14_col17{\n",
              "            font-size:  6pt;\n",
              "            background-color:  #242424;\n",
              "            color:  #f1f1f1;\n",
              "        }#T_9a3176e8_3d23_11eb_bea0_0242ac1c0002row8_col19{\n",
              "            font-size:  6pt;\n",
              "            background-color:  #131313;\n",
              "            color:  #f1f1f1;\n",
              "        }#T_9a3176e8_3d23_11eb_bea0_0242ac1c0002row9_col12,#T_9a3176e8_3d23_11eb_bea0_0242ac1c0002row9_col19,#T_9a3176e8_3d23_11eb_bea0_0242ac1c0002row18_col11{\n",
              "            font-size:  6pt;\n",
              "            background-color:  #3a3a3a;\n",
              "            color:  #f1f1f1;\n",
              "        }#T_9a3176e8_3d23_11eb_bea0_0242ac1c0002row9_col16,#T_9a3176e8_3d23_11eb_bea0_0242ac1c0002row9_col22{\n",
              "            font-size:  6pt;\n",
              "            background-color:  #161616;\n",
              "            color:  #f1f1f1;\n",
              "        }#T_9a3176e8_3d23_11eb_bea0_0242ac1c0002row9_col17,#T_9a3176e8_3d23_11eb_bea0_0242ac1c0002row13_col9,#T_9a3176e8_3d23_11eb_bea0_0242ac1c0002row19_col10{\n",
              "            font-size:  6pt;\n",
              "            background-color:  #bfbfbf;\n",
              "            color:  #000000;\n",
              "        }#T_9a3176e8_3d23_11eb_bea0_0242ac1c0002row10_col11{\n",
              "            font-size:  6pt;\n",
              "            background-color:  #b0b0b0;\n",
              "            color:  #000000;\n",
              "        }#T_9a3176e8_3d23_11eb_bea0_0242ac1c0002row10_col15{\n",
              "            font-size:  6pt;\n",
              "            background-color:  #676767;\n",
              "            color:  #f1f1f1;\n",
              "        }#T_9a3176e8_3d23_11eb_bea0_0242ac1c0002row10_col16{\n",
              "            font-size:  6pt;\n",
              "            background-color:  #e7e7e7;\n",
              "            color:  #000000;\n",
              "        }#T_9a3176e8_3d23_11eb_bea0_0242ac1c0002row10_col18{\n",
              "            font-size:  6pt;\n",
              "            background-color:  #f5f5f5;\n",
              "            color:  #000000;\n",
              "        }#T_9a3176e8_3d23_11eb_bea0_0242ac1c0002row10_col22,#T_9a3176e8_3d23_11eb_bea0_0242ac1c0002row11_col18,#T_9a3176e8_3d23_11eb_bea0_0242ac1c0002row12_col18,#T_9a3176e8_3d23_11eb_bea0_0242ac1c0002row14_col21,#T_9a3176e8_3d23_11eb_bea0_0242ac1c0002row19_col6,#T_9a3176e8_3d23_11eb_bea0_0242ac1c0002row20_col9{\n",
              "            font-size:  6pt;\n",
              "            background-color:  #959595;\n",
              "            color:  #000000;\n",
              "        }#T_9a3176e8_3d23_11eb_bea0_0242ac1c0002row11_col10{\n",
              "            font-size:  6pt;\n",
              "            background-color:  #f3f3f3;\n",
              "            color:  #000000;\n",
              "        }#T_9a3176e8_3d23_11eb_bea0_0242ac1c0002row11_col15{\n",
              "            font-size:  6pt;\n",
              "            background-color:  #eaeaea;\n",
              "            color:  #000000;\n",
              "        }#T_9a3176e8_3d23_11eb_bea0_0242ac1c0002row11_col22{\n",
              "            font-size:  6pt;\n",
              "            background-color:  #b4b4b4;\n",
              "            color:  #000000;\n",
              "        }#T_9a3176e8_3d23_11eb_bea0_0242ac1c0002row12_col10{\n",
              "            font-size:  6pt;\n",
              "            background-color:  #2c2c2c;\n",
              "            color:  #f1f1f1;\n",
              "        }#T_9a3176e8_3d23_11eb_bea0_0242ac1c0002row12_col14{\n",
              "            font-size:  6pt;\n",
              "            background-color:  #8c8c8c;\n",
              "            color:  #000000;\n",
              "        }#T_9a3176e8_3d23_11eb_bea0_0242ac1c0002row13_col17,#T_9a3176e8_3d23_11eb_bea0_0242ac1c0002row14_col13,#T_9a3176e8_3d23_11eb_bea0_0242ac1c0002row19_col12,#T_9a3176e8_3d23_11eb_bea0_0242ac1c0002row19_col14{\n",
              "            font-size:  6pt;\n",
              "            background-color:  #f0f0f0;\n",
              "            color:  #000000;\n",
              "        }#T_9a3176e8_3d23_11eb_bea0_0242ac1c0002row13_col18,#T_9a3176e8_3d23_11eb_bea0_0242ac1c0002row14_col12{\n",
              "            font-size:  6pt;\n",
              "            background-color:  #282828;\n",
              "            color:  #f1f1f1;\n",
              "        }#T_9a3176e8_3d23_11eb_bea0_0242ac1c0002row13_col21,#T_9a3176e8_3d23_11eb_bea0_0242ac1c0002row18_col13{\n",
              "            font-size:  6pt;\n",
              "            background-color:  #707070;\n",
              "            color:  #000000;\n",
              "        }#T_9a3176e8_3d23_11eb_bea0_0242ac1c0002row14_col15{\n",
              "            font-size:  6pt;\n",
              "            background-color:  #eeeeee;\n",
              "            color:  #000000;\n",
              "        }#T_9a3176e8_3d23_11eb_bea0_0242ac1c0002row15_col12,#T_9a3176e8_3d23_11eb_bea0_0242ac1c0002row15_col15{\n",
              "            font-size:  6pt;\n",
              "            background-color:  #212121;\n",
              "            color:  #f1f1f1;\n",
              "        }#T_9a3176e8_3d23_11eb_bea0_0242ac1c0002row15_col21{\n",
              "            font-size:  6pt;\n",
              "            background-color:  #f2f2f2;\n",
              "            color:  #000000;\n",
              "        }#T_9a3176e8_3d23_11eb_bea0_0242ac1c0002row16_col20{\n",
              "            font-size:  6pt;\n",
              "            background-color:  #a9a9a9;\n",
              "            color:  #000000;\n",
              "        }#T_9a3176e8_3d23_11eb_bea0_0242ac1c0002row17_col7{\n",
              "            font-size:  6pt;\n",
              "            background-color:  #7e7e7e;\n",
              "            color:  #000000;\n",
              "        }#T_9a3176e8_3d23_11eb_bea0_0242ac1c0002row18_col6{\n",
              "            font-size:  6pt;\n",
              "            background-color:  #e5e5e5;\n",
              "            color:  #000000;\n",
              "        }#T_9a3176e8_3d23_11eb_bea0_0242ac1c0002row18_col19{\n",
              "            font-size:  6pt;\n",
              "            background-color:  #b8b8b8;\n",
              "            color:  #000000;\n",
              "        }#T_9a3176e8_3d23_11eb_bea0_0242ac1c0002row19_col9{\n",
              "            font-size:  6pt;\n",
              "            background-color:  #3f3f3f;\n",
              "            color:  #f1f1f1;\n",
              "        }#T_9a3176e8_3d23_11eb_bea0_0242ac1c0002row19_col11{\n",
              "            font-size:  6pt;\n",
              "            background-color:  #f7f7f7;\n",
              "            color:  #000000;\n",
              "        }#T_9a3176e8_3d23_11eb_bea0_0242ac1c0002row19_col18{\n",
              "            font-size:  6pt;\n",
              "            background-color:  #858585;\n",
              "            color:  #000000;\n",
              "        }#T_9a3176e8_3d23_11eb_bea0_0242ac1c0002row20_col6{\n",
              "            font-size:  6pt;\n",
              "            background-color:  #0e0e0e;\n",
              "            color:  #f1f1f1;\n",
              "        }#T_9a3176e8_3d23_11eb_bea0_0242ac1c0002row20_col14{\n",
              "            font-size:  6pt;\n",
              "            background-color:  #6a6a6a;\n",
              "            color:  #000000;\n",
              "        }#T_9a3176e8_3d23_11eb_bea0_0242ac1c0002row20_col18,#T_9a3176e8_3d23_11eb_bea0_0242ac1c0002row22_col8{\n",
              "            font-size:  6pt;\n",
              "            background-color:  #cfcfcf;\n",
              "            color:  #000000;\n",
              "        }#T_9a3176e8_3d23_11eb_bea0_0242ac1c0002row21_col5{\n",
              "            font-size:  6pt;\n",
              "            background-color:  #646464;\n",
              "            color:  #f1f1f1;\n",
              "        }#T_9a3176e8_3d23_11eb_bea0_0242ac1c0002row21_col9{\n",
              "            font-size:  6pt;\n",
              "            background-color:  #d2d2d2;\n",
              "            color:  #000000;\n",
              "        }#T_9a3176e8_3d23_11eb_bea0_0242ac1c0002row22_col17{\n",
              "            font-size:  6pt;\n",
              "            background-color:  #8f8f8f;\n",
              "            color:  #000000;\n",
              "        }#T_9a3176e8_3d23_11eb_bea0_0242ac1c0002row23_col17{\n",
              "            font-size:  6pt;\n",
              "            background-color:  #fefefe;\n",
              "            color:  #000000;\n",
              "        }</style><table id=\"T_9a3176e8_3d23_11eb_bea0_0242ac1c0002\" ><thead>    <tr>        <th class=\"blank level0\" ></th>        <th class=\"col_heading level0 col0\" >0</th>        <th class=\"col_heading level0 col1\" >1</th>        <th class=\"col_heading level0 col2\" >2</th>        <th class=\"col_heading level0 col3\" >3</th>        <th class=\"col_heading level0 col4\" >4</th>        <th class=\"col_heading level0 col5\" >5</th>        <th class=\"col_heading level0 col6\" >6</th>        <th class=\"col_heading level0 col7\" >7</th>        <th class=\"col_heading level0 col8\" >8</th>        <th class=\"col_heading level0 col9\" >9</th>        <th class=\"col_heading level0 col10\" >10</th>        <th class=\"col_heading level0 col11\" >11</th>        <th class=\"col_heading level0 col12\" >12</th>        <th class=\"col_heading level0 col13\" >13</th>        <th class=\"col_heading level0 col14\" >14</th>        <th class=\"col_heading level0 col15\" >15</th>        <th class=\"col_heading level0 col16\" >16</th>        <th class=\"col_heading level0 col17\" >17</th>        <th class=\"col_heading level0 col18\" >18</th>        <th class=\"col_heading level0 col19\" >19</th>        <th class=\"col_heading level0 col20\" >20</th>        <th class=\"col_heading level0 col21\" >21</th>        <th class=\"col_heading level0 col22\" >22</th>        <th class=\"col_heading level0 col23\" >23</th>        <th class=\"col_heading level0 col24\" >24</th>        <th class=\"col_heading level0 col25\" >25</th>        <th class=\"col_heading level0 col26\" >26</th>        <th class=\"col_heading level0 col27\" >27</th>    </tr></thead><tbody>\n",
              "                <tr>\n",
              "                        <th id=\"T_9a3176e8_3d23_11eb_bea0_0242ac1c0002level0_row0\" class=\"row_heading level0 row0\" >0</th>\n",
              "                        <td id=\"T_9a3176e8_3d23_11eb_bea0_0242ac1c0002row0_col0\" class=\"data row0 col0\" >0</td>\n",
              "                        <td id=\"T_9a3176e8_3d23_11eb_bea0_0242ac1c0002row0_col1\" class=\"data row0 col1\" >0</td>\n",
              "                        <td id=\"T_9a3176e8_3d23_11eb_bea0_0242ac1c0002row0_col2\" class=\"data row0 col2\" >0</td>\n",
              "                        <td id=\"T_9a3176e8_3d23_11eb_bea0_0242ac1c0002row0_col3\" class=\"data row0 col3\" >0</td>\n",
              "                        <td id=\"T_9a3176e8_3d23_11eb_bea0_0242ac1c0002row0_col4\" class=\"data row0 col4\" >0</td>\n",
              "                        <td id=\"T_9a3176e8_3d23_11eb_bea0_0242ac1c0002row0_col5\" class=\"data row0 col5\" >0</td>\n",
              "                        <td id=\"T_9a3176e8_3d23_11eb_bea0_0242ac1c0002row0_col6\" class=\"data row0 col6\" >0</td>\n",
              "                        <td id=\"T_9a3176e8_3d23_11eb_bea0_0242ac1c0002row0_col7\" class=\"data row0 col7\" >0</td>\n",
              "                        <td id=\"T_9a3176e8_3d23_11eb_bea0_0242ac1c0002row0_col8\" class=\"data row0 col8\" >0</td>\n",
              "                        <td id=\"T_9a3176e8_3d23_11eb_bea0_0242ac1c0002row0_col9\" class=\"data row0 col9\" >0</td>\n",
              "                        <td id=\"T_9a3176e8_3d23_11eb_bea0_0242ac1c0002row0_col10\" class=\"data row0 col10\" >0</td>\n",
              "                        <td id=\"T_9a3176e8_3d23_11eb_bea0_0242ac1c0002row0_col11\" class=\"data row0 col11\" >0</td>\n",
              "                        <td id=\"T_9a3176e8_3d23_11eb_bea0_0242ac1c0002row0_col12\" class=\"data row0 col12\" >0</td>\n",
              "                        <td id=\"T_9a3176e8_3d23_11eb_bea0_0242ac1c0002row0_col13\" class=\"data row0 col13\" >0</td>\n",
              "                        <td id=\"T_9a3176e8_3d23_11eb_bea0_0242ac1c0002row0_col14\" class=\"data row0 col14\" >0</td>\n",
              "                        <td id=\"T_9a3176e8_3d23_11eb_bea0_0242ac1c0002row0_col15\" class=\"data row0 col15\" >0</td>\n",
              "                        <td id=\"T_9a3176e8_3d23_11eb_bea0_0242ac1c0002row0_col16\" class=\"data row0 col16\" >0</td>\n",
              "                        <td id=\"T_9a3176e8_3d23_11eb_bea0_0242ac1c0002row0_col17\" class=\"data row0 col17\" >0</td>\n",
              "                        <td id=\"T_9a3176e8_3d23_11eb_bea0_0242ac1c0002row0_col18\" class=\"data row0 col18\" >0</td>\n",
              "                        <td id=\"T_9a3176e8_3d23_11eb_bea0_0242ac1c0002row0_col19\" class=\"data row0 col19\" >0</td>\n",
              "                        <td id=\"T_9a3176e8_3d23_11eb_bea0_0242ac1c0002row0_col20\" class=\"data row0 col20\" >0</td>\n",
              "                        <td id=\"T_9a3176e8_3d23_11eb_bea0_0242ac1c0002row0_col21\" class=\"data row0 col21\" >0</td>\n",
              "                        <td id=\"T_9a3176e8_3d23_11eb_bea0_0242ac1c0002row0_col22\" class=\"data row0 col22\" >0</td>\n",
              "                        <td id=\"T_9a3176e8_3d23_11eb_bea0_0242ac1c0002row0_col23\" class=\"data row0 col23\" >0</td>\n",
              "                        <td id=\"T_9a3176e8_3d23_11eb_bea0_0242ac1c0002row0_col24\" class=\"data row0 col24\" >0</td>\n",
              "                        <td id=\"T_9a3176e8_3d23_11eb_bea0_0242ac1c0002row0_col25\" class=\"data row0 col25\" >0</td>\n",
              "                        <td id=\"T_9a3176e8_3d23_11eb_bea0_0242ac1c0002row0_col26\" class=\"data row0 col26\" >0</td>\n",
              "                        <td id=\"T_9a3176e8_3d23_11eb_bea0_0242ac1c0002row0_col27\" class=\"data row0 col27\" >0</td>\n",
              "            </tr>\n",
              "            <tr>\n",
              "                        <th id=\"T_9a3176e8_3d23_11eb_bea0_0242ac1c0002level0_row1\" class=\"row_heading level0 row1\" >1</th>\n",
              "                        <td id=\"T_9a3176e8_3d23_11eb_bea0_0242ac1c0002row1_col0\" class=\"data row1 col0\" >0</td>\n",
              "                        <td id=\"T_9a3176e8_3d23_11eb_bea0_0242ac1c0002row1_col1\" class=\"data row1 col1\" >0</td>\n",
              "                        <td id=\"T_9a3176e8_3d23_11eb_bea0_0242ac1c0002row1_col2\" class=\"data row1 col2\" >0</td>\n",
              "                        <td id=\"T_9a3176e8_3d23_11eb_bea0_0242ac1c0002row1_col3\" class=\"data row1 col3\" >0</td>\n",
              "                        <td id=\"T_9a3176e8_3d23_11eb_bea0_0242ac1c0002row1_col4\" class=\"data row1 col4\" >0</td>\n",
              "                        <td id=\"T_9a3176e8_3d23_11eb_bea0_0242ac1c0002row1_col5\" class=\"data row1 col5\" >0</td>\n",
              "                        <td id=\"T_9a3176e8_3d23_11eb_bea0_0242ac1c0002row1_col6\" class=\"data row1 col6\" >0</td>\n",
              "                        <td id=\"T_9a3176e8_3d23_11eb_bea0_0242ac1c0002row1_col7\" class=\"data row1 col7\" >0</td>\n",
              "                        <td id=\"T_9a3176e8_3d23_11eb_bea0_0242ac1c0002row1_col8\" class=\"data row1 col8\" >0</td>\n",
              "                        <td id=\"T_9a3176e8_3d23_11eb_bea0_0242ac1c0002row1_col9\" class=\"data row1 col9\" >0</td>\n",
              "                        <td id=\"T_9a3176e8_3d23_11eb_bea0_0242ac1c0002row1_col10\" class=\"data row1 col10\" >0</td>\n",
              "                        <td id=\"T_9a3176e8_3d23_11eb_bea0_0242ac1c0002row1_col11\" class=\"data row1 col11\" >0</td>\n",
              "                        <td id=\"T_9a3176e8_3d23_11eb_bea0_0242ac1c0002row1_col12\" class=\"data row1 col12\" >0</td>\n",
              "                        <td id=\"T_9a3176e8_3d23_11eb_bea0_0242ac1c0002row1_col13\" class=\"data row1 col13\" >0</td>\n",
              "                        <td id=\"T_9a3176e8_3d23_11eb_bea0_0242ac1c0002row1_col14\" class=\"data row1 col14\" >0</td>\n",
              "                        <td id=\"T_9a3176e8_3d23_11eb_bea0_0242ac1c0002row1_col15\" class=\"data row1 col15\" >0</td>\n",
              "                        <td id=\"T_9a3176e8_3d23_11eb_bea0_0242ac1c0002row1_col16\" class=\"data row1 col16\" >0</td>\n",
              "                        <td id=\"T_9a3176e8_3d23_11eb_bea0_0242ac1c0002row1_col17\" class=\"data row1 col17\" >0</td>\n",
              "                        <td id=\"T_9a3176e8_3d23_11eb_bea0_0242ac1c0002row1_col18\" class=\"data row1 col18\" >0</td>\n",
              "                        <td id=\"T_9a3176e8_3d23_11eb_bea0_0242ac1c0002row1_col19\" class=\"data row1 col19\" >0</td>\n",
              "                        <td id=\"T_9a3176e8_3d23_11eb_bea0_0242ac1c0002row1_col20\" class=\"data row1 col20\" >0</td>\n",
              "                        <td id=\"T_9a3176e8_3d23_11eb_bea0_0242ac1c0002row1_col21\" class=\"data row1 col21\" >0</td>\n",
              "                        <td id=\"T_9a3176e8_3d23_11eb_bea0_0242ac1c0002row1_col22\" class=\"data row1 col22\" >0</td>\n",
              "                        <td id=\"T_9a3176e8_3d23_11eb_bea0_0242ac1c0002row1_col23\" class=\"data row1 col23\" >0</td>\n",
              "                        <td id=\"T_9a3176e8_3d23_11eb_bea0_0242ac1c0002row1_col24\" class=\"data row1 col24\" >0</td>\n",
              "                        <td id=\"T_9a3176e8_3d23_11eb_bea0_0242ac1c0002row1_col25\" class=\"data row1 col25\" >0</td>\n",
              "                        <td id=\"T_9a3176e8_3d23_11eb_bea0_0242ac1c0002row1_col26\" class=\"data row1 col26\" >0</td>\n",
              "                        <td id=\"T_9a3176e8_3d23_11eb_bea0_0242ac1c0002row1_col27\" class=\"data row1 col27\" >0</td>\n",
              "            </tr>\n",
              "            <tr>\n",
              "                        <th id=\"T_9a3176e8_3d23_11eb_bea0_0242ac1c0002level0_row2\" class=\"row_heading level0 row2\" >2</th>\n",
              "                        <td id=\"T_9a3176e8_3d23_11eb_bea0_0242ac1c0002row2_col0\" class=\"data row2 col0\" >0</td>\n",
              "                        <td id=\"T_9a3176e8_3d23_11eb_bea0_0242ac1c0002row2_col1\" class=\"data row2 col1\" >0</td>\n",
              "                        <td id=\"T_9a3176e8_3d23_11eb_bea0_0242ac1c0002row2_col2\" class=\"data row2 col2\" >0</td>\n",
              "                        <td id=\"T_9a3176e8_3d23_11eb_bea0_0242ac1c0002row2_col3\" class=\"data row2 col3\" >0</td>\n",
              "                        <td id=\"T_9a3176e8_3d23_11eb_bea0_0242ac1c0002row2_col4\" class=\"data row2 col4\" >0</td>\n",
              "                        <td id=\"T_9a3176e8_3d23_11eb_bea0_0242ac1c0002row2_col5\" class=\"data row2 col5\" >0</td>\n",
              "                        <td id=\"T_9a3176e8_3d23_11eb_bea0_0242ac1c0002row2_col6\" class=\"data row2 col6\" >0</td>\n",
              "                        <td id=\"T_9a3176e8_3d23_11eb_bea0_0242ac1c0002row2_col7\" class=\"data row2 col7\" >0</td>\n",
              "                        <td id=\"T_9a3176e8_3d23_11eb_bea0_0242ac1c0002row2_col8\" class=\"data row2 col8\" >0</td>\n",
              "                        <td id=\"T_9a3176e8_3d23_11eb_bea0_0242ac1c0002row2_col9\" class=\"data row2 col9\" >0</td>\n",
              "                        <td id=\"T_9a3176e8_3d23_11eb_bea0_0242ac1c0002row2_col10\" class=\"data row2 col10\" >0</td>\n",
              "                        <td id=\"T_9a3176e8_3d23_11eb_bea0_0242ac1c0002row2_col11\" class=\"data row2 col11\" >0</td>\n",
              "                        <td id=\"T_9a3176e8_3d23_11eb_bea0_0242ac1c0002row2_col12\" class=\"data row2 col12\" >0</td>\n",
              "                        <td id=\"T_9a3176e8_3d23_11eb_bea0_0242ac1c0002row2_col13\" class=\"data row2 col13\" >0</td>\n",
              "                        <td id=\"T_9a3176e8_3d23_11eb_bea0_0242ac1c0002row2_col14\" class=\"data row2 col14\" >0</td>\n",
              "                        <td id=\"T_9a3176e8_3d23_11eb_bea0_0242ac1c0002row2_col15\" class=\"data row2 col15\" >0</td>\n",
              "                        <td id=\"T_9a3176e8_3d23_11eb_bea0_0242ac1c0002row2_col16\" class=\"data row2 col16\" >0</td>\n",
              "                        <td id=\"T_9a3176e8_3d23_11eb_bea0_0242ac1c0002row2_col17\" class=\"data row2 col17\" >0</td>\n",
              "                        <td id=\"T_9a3176e8_3d23_11eb_bea0_0242ac1c0002row2_col18\" class=\"data row2 col18\" >0</td>\n",
              "                        <td id=\"T_9a3176e8_3d23_11eb_bea0_0242ac1c0002row2_col19\" class=\"data row2 col19\" >0</td>\n",
              "                        <td id=\"T_9a3176e8_3d23_11eb_bea0_0242ac1c0002row2_col20\" class=\"data row2 col20\" >0</td>\n",
              "                        <td id=\"T_9a3176e8_3d23_11eb_bea0_0242ac1c0002row2_col21\" class=\"data row2 col21\" >0</td>\n",
              "                        <td id=\"T_9a3176e8_3d23_11eb_bea0_0242ac1c0002row2_col22\" class=\"data row2 col22\" >0</td>\n",
              "                        <td id=\"T_9a3176e8_3d23_11eb_bea0_0242ac1c0002row2_col23\" class=\"data row2 col23\" >0</td>\n",
              "                        <td id=\"T_9a3176e8_3d23_11eb_bea0_0242ac1c0002row2_col24\" class=\"data row2 col24\" >0</td>\n",
              "                        <td id=\"T_9a3176e8_3d23_11eb_bea0_0242ac1c0002row2_col25\" class=\"data row2 col25\" >0</td>\n",
              "                        <td id=\"T_9a3176e8_3d23_11eb_bea0_0242ac1c0002row2_col26\" class=\"data row2 col26\" >0</td>\n",
              "                        <td id=\"T_9a3176e8_3d23_11eb_bea0_0242ac1c0002row2_col27\" class=\"data row2 col27\" >0</td>\n",
              "            </tr>\n",
              "            <tr>\n",
              "                        <th id=\"T_9a3176e8_3d23_11eb_bea0_0242ac1c0002level0_row3\" class=\"row_heading level0 row3\" >3</th>\n",
              "                        <td id=\"T_9a3176e8_3d23_11eb_bea0_0242ac1c0002row3_col0\" class=\"data row3 col0\" >0</td>\n",
              "                        <td id=\"T_9a3176e8_3d23_11eb_bea0_0242ac1c0002row3_col1\" class=\"data row3 col1\" >0</td>\n",
              "                        <td id=\"T_9a3176e8_3d23_11eb_bea0_0242ac1c0002row3_col2\" class=\"data row3 col2\" >0</td>\n",
              "                        <td id=\"T_9a3176e8_3d23_11eb_bea0_0242ac1c0002row3_col3\" class=\"data row3 col3\" >0</td>\n",
              "                        <td id=\"T_9a3176e8_3d23_11eb_bea0_0242ac1c0002row3_col4\" class=\"data row3 col4\" >0</td>\n",
              "                        <td id=\"T_9a3176e8_3d23_11eb_bea0_0242ac1c0002row3_col5\" class=\"data row3 col5\" >0</td>\n",
              "                        <td id=\"T_9a3176e8_3d23_11eb_bea0_0242ac1c0002row3_col6\" class=\"data row3 col6\" >0</td>\n",
              "                        <td id=\"T_9a3176e8_3d23_11eb_bea0_0242ac1c0002row3_col7\" class=\"data row3 col7\" >0</td>\n",
              "                        <td id=\"T_9a3176e8_3d23_11eb_bea0_0242ac1c0002row3_col8\" class=\"data row3 col8\" >0</td>\n",
              "                        <td id=\"T_9a3176e8_3d23_11eb_bea0_0242ac1c0002row3_col9\" class=\"data row3 col9\" >0</td>\n",
              "                        <td id=\"T_9a3176e8_3d23_11eb_bea0_0242ac1c0002row3_col10\" class=\"data row3 col10\" >0</td>\n",
              "                        <td id=\"T_9a3176e8_3d23_11eb_bea0_0242ac1c0002row3_col11\" class=\"data row3 col11\" >0</td>\n",
              "                        <td id=\"T_9a3176e8_3d23_11eb_bea0_0242ac1c0002row3_col12\" class=\"data row3 col12\" >0</td>\n",
              "                        <td id=\"T_9a3176e8_3d23_11eb_bea0_0242ac1c0002row3_col13\" class=\"data row3 col13\" >0</td>\n",
              "                        <td id=\"T_9a3176e8_3d23_11eb_bea0_0242ac1c0002row3_col14\" class=\"data row3 col14\" >0</td>\n",
              "                        <td id=\"T_9a3176e8_3d23_11eb_bea0_0242ac1c0002row3_col15\" class=\"data row3 col15\" >0</td>\n",
              "                        <td id=\"T_9a3176e8_3d23_11eb_bea0_0242ac1c0002row3_col16\" class=\"data row3 col16\" >0</td>\n",
              "                        <td id=\"T_9a3176e8_3d23_11eb_bea0_0242ac1c0002row3_col17\" class=\"data row3 col17\" >0</td>\n",
              "                        <td id=\"T_9a3176e8_3d23_11eb_bea0_0242ac1c0002row3_col18\" class=\"data row3 col18\" >0</td>\n",
              "                        <td id=\"T_9a3176e8_3d23_11eb_bea0_0242ac1c0002row3_col19\" class=\"data row3 col19\" >0</td>\n",
              "                        <td id=\"T_9a3176e8_3d23_11eb_bea0_0242ac1c0002row3_col20\" class=\"data row3 col20\" >0</td>\n",
              "                        <td id=\"T_9a3176e8_3d23_11eb_bea0_0242ac1c0002row3_col21\" class=\"data row3 col21\" >0</td>\n",
              "                        <td id=\"T_9a3176e8_3d23_11eb_bea0_0242ac1c0002row3_col22\" class=\"data row3 col22\" >0</td>\n",
              "                        <td id=\"T_9a3176e8_3d23_11eb_bea0_0242ac1c0002row3_col23\" class=\"data row3 col23\" >0</td>\n",
              "                        <td id=\"T_9a3176e8_3d23_11eb_bea0_0242ac1c0002row3_col24\" class=\"data row3 col24\" >0</td>\n",
              "                        <td id=\"T_9a3176e8_3d23_11eb_bea0_0242ac1c0002row3_col25\" class=\"data row3 col25\" >0</td>\n",
              "                        <td id=\"T_9a3176e8_3d23_11eb_bea0_0242ac1c0002row3_col26\" class=\"data row3 col26\" >0</td>\n",
              "                        <td id=\"T_9a3176e8_3d23_11eb_bea0_0242ac1c0002row3_col27\" class=\"data row3 col27\" >0</td>\n",
              "            </tr>\n",
              "            <tr>\n",
              "                        <th id=\"T_9a3176e8_3d23_11eb_bea0_0242ac1c0002level0_row4\" class=\"row_heading level0 row4\" >4</th>\n",
              "                        <td id=\"T_9a3176e8_3d23_11eb_bea0_0242ac1c0002row4_col0\" class=\"data row4 col0\" >0</td>\n",
              "                        <td id=\"T_9a3176e8_3d23_11eb_bea0_0242ac1c0002row4_col1\" class=\"data row4 col1\" >0</td>\n",
              "                        <td id=\"T_9a3176e8_3d23_11eb_bea0_0242ac1c0002row4_col2\" class=\"data row4 col2\" >0</td>\n",
              "                        <td id=\"T_9a3176e8_3d23_11eb_bea0_0242ac1c0002row4_col3\" class=\"data row4 col3\" >0</td>\n",
              "                        <td id=\"T_9a3176e8_3d23_11eb_bea0_0242ac1c0002row4_col4\" class=\"data row4 col4\" >0</td>\n",
              "                        <td id=\"T_9a3176e8_3d23_11eb_bea0_0242ac1c0002row4_col5\" class=\"data row4 col5\" >0</td>\n",
              "                        <td id=\"T_9a3176e8_3d23_11eb_bea0_0242ac1c0002row4_col6\" class=\"data row4 col6\" >0</td>\n",
              "                        <td id=\"T_9a3176e8_3d23_11eb_bea0_0242ac1c0002row4_col7\" class=\"data row4 col7\" >0</td>\n",
              "                        <td id=\"T_9a3176e8_3d23_11eb_bea0_0242ac1c0002row4_col8\" class=\"data row4 col8\" >0</td>\n",
              "                        <td id=\"T_9a3176e8_3d23_11eb_bea0_0242ac1c0002row4_col9\" class=\"data row4 col9\" >0</td>\n",
              "                        <td id=\"T_9a3176e8_3d23_11eb_bea0_0242ac1c0002row4_col10\" class=\"data row4 col10\" >0</td>\n",
              "                        <td id=\"T_9a3176e8_3d23_11eb_bea0_0242ac1c0002row4_col11\" class=\"data row4 col11\" >0</td>\n",
              "                        <td id=\"T_9a3176e8_3d23_11eb_bea0_0242ac1c0002row4_col12\" class=\"data row4 col12\" >0</td>\n",
              "                        <td id=\"T_9a3176e8_3d23_11eb_bea0_0242ac1c0002row4_col13\" class=\"data row4 col13\" >0</td>\n",
              "                        <td id=\"T_9a3176e8_3d23_11eb_bea0_0242ac1c0002row4_col14\" class=\"data row4 col14\" >0</td>\n",
              "                        <td id=\"T_9a3176e8_3d23_11eb_bea0_0242ac1c0002row4_col15\" class=\"data row4 col15\" >131</td>\n",
              "                        <td id=\"T_9a3176e8_3d23_11eb_bea0_0242ac1c0002row4_col16\" class=\"data row4 col16\" >255</td>\n",
              "                        <td id=\"T_9a3176e8_3d23_11eb_bea0_0242ac1c0002row4_col17\" class=\"data row4 col17\" >193</td>\n",
              "                        <td id=\"T_9a3176e8_3d23_11eb_bea0_0242ac1c0002row4_col18\" class=\"data row4 col18\" >6</td>\n",
              "                        <td id=\"T_9a3176e8_3d23_11eb_bea0_0242ac1c0002row4_col19\" class=\"data row4 col19\" >68</td>\n",
              "                        <td id=\"T_9a3176e8_3d23_11eb_bea0_0242ac1c0002row4_col20\" class=\"data row4 col20\" >255</td>\n",
              "                        <td id=\"T_9a3176e8_3d23_11eb_bea0_0242ac1c0002row4_col21\" class=\"data row4 col21\" >131</td>\n",
              "                        <td id=\"T_9a3176e8_3d23_11eb_bea0_0242ac1c0002row4_col22\" class=\"data row4 col22\" >6</td>\n",
              "                        <td id=\"T_9a3176e8_3d23_11eb_bea0_0242ac1c0002row4_col23\" class=\"data row4 col23\" >0</td>\n",
              "                        <td id=\"T_9a3176e8_3d23_11eb_bea0_0242ac1c0002row4_col24\" class=\"data row4 col24\" >0</td>\n",
              "                        <td id=\"T_9a3176e8_3d23_11eb_bea0_0242ac1c0002row4_col25\" class=\"data row4 col25\" >0</td>\n",
              "                        <td id=\"T_9a3176e8_3d23_11eb_bea0_0242ac1c0002row4_col26\" class=\"data row4 col26\" >0</td>\n",
              "                        <td id=\"T_9a3176e8_3d23_11eb_bea0_0242ac1c0002row4_col27\" class=\"data row4 col27\" >0</td>\n",
              "            </tr>\n",
              "            <tr>\n",
              "                        <th id=\"T_9a3176e8_3d23_11eb_bea0_0242ac1c0002level0_row5\" class=\"row_heading level0 row5\" >5</th>\n",
              "                        <td id=\"T_9a3176e8_3d23_11eb_bea0_0242ac1c0002row5_col0\" class=\"data row5 col0\" >0</td>\n",
              "                        <td id=\"T_9a3176e8_3d23_11eb_bea0_0242ac1c0002row5_col1\" class=\"data row5 col1\" >0</td>\n",
              "                        <td id=\"T_9a3176e8_3d23_11eb_bea0_0242ac1c0002row5_col2\" class=\"data row5 col2\" >0</td>\n",
              "                        <td id=\"T_9a3176e8_3d23_11eb_bea0_0242ac1c0002row5_col3\" class=\"data row5 col3\" >0</td>\n",
              "                        <td id=\"T_9a3176e8_3d23_11eb_bea0_0242ac1c0002row5_col4\" class=\"data row5 col4\" >0</td>\n",
              "                        <td id=\"T_9a3176e8_3d23_11eb_bea0_0242ac1c0002row5_col5\" class=\"data row5 col5\" >0</td>\n",
              "                        <td id=\"T_9a3176e8_3d23_11eb_bea0_0242ac1c0002row5_col6\" class=\"data row5 col6\" >0</td>\n",
              "                        <td id=\"T_9a3176e8_3d23_11eb_bea0_0242ac1c0002row5_col7\" class=\"data row5 col7\" >0</td>\n",
              "                        <td id=\"T_9a3176e8_3d23_11eb_bea0_0242ac1c0002row5_col8\" class=\"data row5 col8\" >0</td>\n",
              "                        <td id=\"T_9a3176e8_3d23_11eb_bea0_0242ac1c0002row5_col9\" class=\"data row5 col9\" >0</td>\n",
              "                        <td id=\"T_9a3176e8_3d23_11eb_bea0_0242ac1c0002row5_col10\" class=\"data row5 col10\" >0</td>\n",
              "                        <td id=\"T_9a3176e8_3d23_11eb_bea0_0242ac1c0002row5_col11\" class=\"data row5 col11\" >0</td>\n",
              "                        <td id=\"T_9a3176e8_3d23_11eb_bea0_0242ac1c0002row5_col12\" class=\"data row5 col12\" >0</td>\n",
              "                        <td id=\"T_9a3176e8_3d23_11eb_bea0_0242ac1c0002row5_col13\" class=\"data row5 col13\" >0</td>\n",
              "                        <td id=\"T_9a3176e8_3d23_11eb_bea0_0242ac1c0002row5_col14\" class=\"data row5 col14\" >6</td>\n",
              "                        <td id=\"T_9a3176e8_3d23_11eb_bea0_0242ac1c0002row5_col15\" class=\"data row5 col15\" >255</td>\n",
              "                        <td id=\"T_9a3176e8_3d23_11eb_bea0_0242ac1c0002row5_col16\" class=\"data row5 col16\" >255</td>\n",
              "                        <td id=\"T_9a3176e8_3d23_11eb_bea0_0242ac1c0002row5_col17\" class=\"data row5 col17\" >255</td>\n",
              "                        <td id=\"T_9a3176e8_3d23_11eb_bea0_0242ac1c0002row5_col18\" class=\"data row5 col18\" >255</td>\n",
              "                        <td id=\"T_9a3176e8_3d23_11eb_bea0_0242ac1c0002row5_col19\" class=\"data row5 col19\" >255</td>\n",
              "                        <td id=\"T_9a3176e8_3d23_11eb_bea0_0242ac1c0002row5_col20\" class=\"data row5 col20\" >255</td>\n",
              "                        <td id=\"T_9a3176e8_3d23_11eb_bea0_0242ac1c0002row5_col21\" class=\"data row5 col21\" >255</td>\n",
              "                        <td id=\"T_9a3176e8_3d23_11eb_bea0_0242ac1c0002row5_col22\" class=\"data row5 col22\" >255</td>\n",
              "                        <td id=\"T_9a3176e8_3d23_11eb_bea0_0242ac1c0002row5_col23\" class=\"data row5 col23\" >0</td>\n",
              "                        <td id=\"T_9a3176e8_3d23_11eb_bea0_0242ac1c0002row5_col24\" class=\"data row5 col24\" >0</td>\n",
              "                        <td id=\"T_9a3176e8_3d23_11eb_bea0_0242ac1c0002row5_col25\" class=\"data row5 col25\" >0</td>\n",
              "                        <td id=\"T_9a3176e8_3d23_11eb_bea0_0242ac1c0002row5_col26\" class=\"data row5 col26\" >0</td>\n",
              "                        <td id=\"T_9a3176e8_3d23_11eb_bea0_0242ac1c0002row5_col27\" class=\"data row5 col27\" >0</td>\n",
              "            </tr>\n",
              "            <tr>\n",
              "                        <th id=\"T_9a3176e8_3d23_11eb_bea0_0242ac1c0002level0_row6\" class=\"row_heading level0 row6\" >6</th>\n",
              "                        <td id=\"T_9a3176e8_3d23_11eb_bea0_0242ac1c0002row6_col0\" class=\"data row6 col0\" >0</td>\n",
              "                        <td id=\"T_9a3176e8_3d23_11eb_bea0_0242ac1c0002row6_col1\" class=\"data row6 col1\" >0</td>\n",
              "                        <td id=\"T_9a3176e8_3d23_11eb_bea0_0242ac1c0002row6_col2\" class=\"data row6 col2\" >0</td>\n",
              "                        <td id=\"T_9a3176e8_3d23_11eb_bea0_0242ac1c0002row6_col3\" class=\"data row6 col3\" >0</td>\n",
              "                        <td id=\"T_9a3176e8_3d23_11eb_bea0_0242ac1c0002row6_col4\" class=\"data row6 col4\" >0</td>\n",
              "                        <td id=\"T_9a3176e8_3d23_11eb_bea0_0242ac1c0002row6_col5\" class=\"data row6 col5\" >0</td>\n",
              "                        <td id=\"T_9a3176e8_3d23_11eb_bea0_0242ac1c0002row6_col6\" class=\"data row6 col6\" >0</td>\n",
              "                        <td id=\"T_9a3176e8_3d23_11eb_bea0_0242ac1c0002row6_col7\" class=\"data row6 col7\" >0</td>\n",
              "                        <td id=\"T_9a3176e8_3d23_11eb_bea0_0242ac1c0002row6_col8\" class=\"data row6 col8\" >0</td>\n",
              "                        <td id=\"T_9a3176e8_3d23_11eb_bea0_0242ac1c0002row6_col9\" class=\"data row6 col9\" >0</td>\n",
              "                        <td id=\"T_9a3176e8_3d23_11eb_bea0_0242ac1c0002row6_col10\" class=\"data row6 col10\" >0</td>\n",
              "                        <td id=\"T_9a3176e8_3d23_11eb_bea0_0242ac1c0002row6_col11\" class=\"data row6 col11\" >0</td>\n",
              "                        <td id=\"T_9a3176e8_3d23_11eb_bea0_0242ac1c0002row6_col12\" class=\"data row6 col12\" >0</td>\n",
              "                        <td id=\"T_9a3176e8_3d23_11eb_bea0_0242ac1c0002row6_col13\" class=\"data row6 col13\" >0</td>\n",
              "                        <td id=\"T_9a3176e8_3d23_11eb_bea0_0242ac1c0002row6_col14\" class=\"data row6 col14\" >199</td>\n",
              "                        <td id=\"T_9a3176e8_3d23_11eb_bea0_0242ac1c0002row6_col15\" class=\"data row6 col15\" >255</td>\n",
              "                        <td id=\"T_9a3176e8_3d23_11eb_bea0_0242ac1c0002row6_col16\" class=\"data row6 col16\" >255</td>\n",
              "                        <td id=\"T_9a3176e8_3d23_11eb_bea0_0242ac1c0002row6_col17\" class=\"data row6 col17\" >255</td>\n",
              "                        <td id=\"T_9a3176e8_3d23_11eb_bea0_0242ac1c0002row6_col18\" class=\"data row6 col18\" >255</td>\n",
              "                        <td id=\"T_9a3176e8_3d23_11eb_bea0_0242ac1c0002row6_col19\" class=\"data row6 col19\" >255</td>\n",
              "                        <td id=\"T_9a3176e8_3d23_11eb_bea0_0242ac1c0002row6_col20\" class=\"data row6 col20\" >255</td>\n",
              "                        <td id=\"T_9a3176e8_3d23_11eb_bea0_0242ac1c0002row6_col21\" class=\"data row6 col21\" >255</td>\n",
              "                        <td id=\"T_9a3176e8_3d23_11eb_bea0_0242ac1c0002row6_col22\" class=\"data row6 col22\" >255</td>\n",
              "                        <td id=\"T_9a3176e8_3d23_11eb_bea0_0242ac1c0002row6_col23\" class=\"data row6 col23\" >0</td>\n",
              "                        <td id=\"T_9a3176e8_3d23_11eb_bea0_0242ac1c0002row6_col24\" class=\"data row6 col24\" >0</td>\n",
              "                        <td id=\"T_9a3176e8_3d23_11eb_bea0_0242ac1c0002row6_col25\" class=\"data row6 col25\" >0</td>\n",
              "                        <td id=\"T_9a3176e8_3d23_11eb_bea0_0242ac1c0002row6_col26\" class=\"data row6 col26\" >0</td>\n",
              "                        <td id=\"T_9a3176e8_3d23_11eb_bea0_0242ac1c0002row6_col27\" class=\"data row6 col27\" >0</td>\n",
              "            </tr>\n",
              "            <tr>\n",
              "                        <th id=\"T_9a3176e8_3d23_11eb_bea0_0242ac1c0002level0_row7\" class=\"row_heading level0 row7\" >7</th>\n",
              "                        <td id=\"T_9a3176e8_3d23_11eb_bea0_0242ac1c0002row7_col0\" class=\"data row7 col0\" >0</td>\n",
              "                        <td id=\"T_9a3176e8_3d23_11eb_bea0_0242ac1c0002row7_col1\" class=\"data row7 col1\" >0</td>\n",
              "                        <td id=\"T_9a3176e8_3d23_11eb_bea0_0242ac1c0002row7_col2\" class=\"data row7 col2\" >0</td>\n",
              "                        <td id=\"T_9a3176e8_3d23_11eb_bea0_0242ac1c0002row7_col3\" class=\"data row7 col3\" >0</td>\n",
              "                        <td id=\"T_9a3176e8_3d23_11eb_bea0_0242ac1c0002row7_col4\" class=\"data row7 col4\" >0</td>\n",
              "                        <td id=\"T_9a3176e8_3d23_11eb_bea0_0242ac1c0002row7_col5\" class=\"data row7 col5\" >0</td>\n",
              "                        <td id=\"T_9a3176e8_3d23_11eb_bea0_0242ac1c0002row7_col6\" class=\"data row7 col6\" >0</td>\n",
              "                        <td id=\"T_9a3176e8_3d23_11eb_bea0_0242ac1c0002row7_col7\" class=\"data row7 col7\" >0</td>\n",
              "                        <td id=\"T_9a3176e8_3d23_11eb_bea0_0242ac1c0002row7_col8\" class=\"data row7 col8\" >0</td>\n",
              "                        <td id=\"T_9a3176e8_3d23_11eb_bea0_0242ac1c0002row7_col9\" class=\"data row7 col9\" >0</td>\n",
              "                        <td id=\"T_9a3176e8_3d23_11eb_bea0_0242ac1c0002row7_col10\" class=\"data row7 col10\" >0</td>\n",
              "                        <td id=\"T_9a3176e8_3d23_11eb_bea0_0242ac1c0002row7_col11\" class=\"data row7 col11\" >0</td>\n",
              "                        <td id=\"T_9a3176e8_3d23_11eb_bea0_0242ac1c0002row7_col12\" class=\"data row7 col12\" >0</td>\n",
              "                        <td id=\"T_9a3176e8_3d23_11eb_bea0_0242ac1c0002row7_col13\" class=\"data row7 col13\" >87</td>\n",
              "                        <td id=\"T_9a3176e8_3d23_11eb_bea0_0242ac1c0002row7_col14\" class=\"data row7 col14\" >255</td>\n",
              "                        <td id=\"T_9a3176e8_3d23_11eb_bea0_0242ac1c0002row7_col15\" class=\"data row7 col15\" >255</td>\n",
              "                        <td id=\"T_9a3176e8_3d23_11eb_bea0_0242ac1c0002row7_col16\" class=\"data row7 col16\" >255</td>\n",
              "                        <td id=\"T_9a3176e8_3d23_11eb_bea0_0242ac1c0002row7_col17\" class=\"data row7 col17\" >255</td>\n",
              "                        <td id=\"T_9a3176e8_3d23_11eb_bea0_0242ac1c0002row7_col18\" class=\"data row7 col18\" >255</td>\n",
              "                        <td id=\"T_9a3176e8_3d23_11eb_bea0_0242ac1c0002row7_col19\" class=\"data row7 col19\" >255</td>\n",
              "                        <td id=\"T_9a3176e8_3d23_11eb_bea0_0242ac1c0002row7_col20\" class=\"data row7 col20\" >255</td>\n",
              "                        <td id=\"T_9a3176e8_3d23_11eb_bea0_0242ac1c0002row7_col21\" class=\"data row7 col21\" >255</td>\n",
              "                        <td id=\"T_9a3176e8_3d23_11eb_bea0_0242ac1c0002row7_col22\" class=\"data row7 col22\" >255</td>\n",
              "                        <td id=\"T_9a3176e8_3d23_11eb_bea0_0242ac1c0002row7_col23\" class=\"data row7 col23\" >0</td>\n",
              "                        <td id=\"T_9a3176e8_3d23_11eb_bea0_0242ac1c0002row7_col24\" class=\"data row7 col24\" >0</td>\n",
              "                        <td id=\"T_9a3176e8_3d23_11eb_bea0_0242ac1c0002row7_col25\" class=\"data row7 col25\" >0</td>\n",
              "                        <td id=\"T_9a3176e8_3d23_11eb_bea0_0242ac1c0002row7_col26\" class=\"data row7 col26\" >0</td>\n",
              "                        <td id=\"T_9a3176e8_3d23_11eb_bea0_0242ac1c0002row7_col27\" class=\"data row7 col27\" >0</td>\n",
              "            </tr>\n",
              "            <tr>\n",
              "                        <th id=\"T_9a3176e8_3d23_11eb_bea0_0242ac1c0002level0_row8\" class=\"row_heading level0 row8\" >8</th>\n",
              "                        <td id=\"T_9a3176e8_3d23_11eb_bea0_0242ac1c0002row8_col0\" class=\"data row8 col0\" >0</td>\n",
              "                        <td id=\"T_9a3176e8_3d23_11eb_bea0_0242ac1c0002row8_col1\" class=\"data row8 col1\" >0</td>\n",
              "                        <td id=\"T_9a3176e8_3d23_11eb_bea0_0242ac1c0002row8_col2\" class=\"data row8 col2\" >0</td>\n",
              "                        <td id=\"T_9a3176e8_3d23_11eb_bea0_0242ac1c0002row8_col3\" class=\"data row8 col3\" >0</td>\n",
              "                        <td id=\"T_9a3176e8_3d23_11eb_bea0_0242ac1c0002row8_col4\" class=\"data row8 col4\" >0</td>\n",
              "                        <td id=\"T_9a3176e8_3d23_11eb_bea0_0242ac1c0002row8_col5\" class=\"data row8 col5\" >0</td>\n",
              "                        <td id=\"T_9a3176e8_3d23_11eb_bea0_0242ac1c0002row8_col6\" class=\"data row8 col6\" >0</td>\n",
              "                        <td id=\"T_9a3176e8_3d23_11eb_bea0_0242ac1c0002row8_col7\" class=\"data row8 col7\" >0</td>\n",
              "                        <td id=\"T_9a3176e8_3d23_11eb_bea0_0242ac1c0002row8_col8\" class=\"data row8 col8\" >0</td>\n",
              "                        <td id=\"T_9a3176e8_3d23_11eb_bea0_0242ac1c0002row8_col9\" class=\"data row8 col9\" >0</td>\n",
              "                        <td id=\"T_9a3176e8_3d23_11eb_bea0_0242ac1c0002row8_col10\" class=\"data row8 col10\" >0</td>\n",
              "                        <td id=\"T_9a3176e8_3d23_11eb_bea0_0242ac1c0002row8_col11\" class=\"data row8 col11\" >0</td>\n",
              "                        <td id=\"T_9a3176e8_3d23_11eb_bea0_0242ac1c0002row8_col12\" class=\"data row8 col12\" >78</td>\n",
              "                        <td id=\"T_9a3176e8_3d23_11eb_bea0_0242ac1c0002row8_col13\" class=\"data row8 col13\" >255</td>\n",
              "                        <td id=\"T_9a3176e8_3d23_11eb_bea0_0242ac1c0002row8_col14\" class=\"data row8 col14\" >255</td>\n",
              "                        <td id=\"T_9a3176e8_3d23_11eb_bea0_0242ac1c0002row8_col15\" class=\"data row8 col15\" >255</td>\n",
              "                        <td id=\"T_9a3176e8_3d23_11eb_bea0_0242ac1c0002row8_col16\" class=\"data row8 col16\" >255</td>\n",
              "                        <td id=\"T_9a3176e8_3d23_11eb_bea0_0242ac1c0002row8_col17\" class=\"data row8 col17\" >255</td>\n",
              "                        <td id=\"T_9a3176e8_3d23_11eb_bea0_0242ac1c0002row8_col18\" class=\"data row8 col18\" >224</td>\n",
              "                        <td id=\"T_9a3176e8_3d23_11eb_bea0_0242ac1c0002row8_col19\" class=\"data row8 col19\" >239</td>\n",
              "                        <td id=\"T_9a3176e8_3d23_11eb_bea0_0242ac1c0002row8_col20\" class=\"data row8 col20\" >255</td>\n",
              "                        <td id=\"T_9a3176e8_3d23_11eb_bea0_0242ac1c0002row8_col21\" class=\"data row8 col21\" >255</td>\n",
              "                        <td id=\"T_9a3176e8_3d23_11eb_bea0_0242ac1c0002row8_col22\" class=\"data row8 col22\" >255</td>\n",
              "                        <td id=\"T_9a3176e8_3d23_11eb_bea0_0242ac1c0002row8_col23\" class=\"data row8 col23\" >0</td>\n",
              "                        <td id=\"T_9a3176e8_3d23_11eb_bea0_0242ac1c0002row8_col24\" class=\"data row8 col24\" >0</td>\n",
              "                        <td id=\"T_9a3176e8_3d23_11eb_bea0_0242ac1c0002row8_col25\" class=\"data row8 col25\" >0</td>\n",
              "                        <td id=\"T_9a3176e8_3d23_11eb_bea0_0242ac1c0002row8_col26\" class=\"data row8 col26\" >0</td>\n",
              "                        <td id=\"T_9a3176e8_3d23_11eb_bea0_0242ac1c0002row8_col27\" class=\"data row8 col27\" >0</td>\n",
              "            </tr>\n",
              "            <tr>\n",
              "                        <th id=\"T_9a3176e8_3d23_11eb_bea0_0242ac1c0002level0_row9\" class=\"row_heading level0 row9\" >9</th>\n",
              "                        <td id=\"T_9a3176e8_3d23_11eb_bea0_0242ac1c0002row9_col0\" class=\"data row9 col0\" >0</td>\n",
              "                        <td id=\"T_9a3176e8_3d23_11eb_bea0_0242ac1c0002row9_col1\" class=\"data row9 col1\" >0</td>\n",
              "                        <td id=\"T_9a3176e8_3d23_11eb_bea0_0242ac1c0002row9_col2\" class=\"data row9 col2\" >0</td>\n",
              "                        <td id=\"T_9a3176e8_3d23_11eb_bea0_0242ac1c0002row9_col3\" class=\"data row9 col3\" >0</td>\n",
              "                        <td id=\"T_9a3176e8_3d23_11eb_bea0_0242ac1c0002row9_col4\" class=\"data row9 col4\" >0</td>\n",
              "                        <td id=\"T_9a3176e8_3d23_11eb_bea0_0242ac1c0002row9_col5\" class=\"data row9 col5\" >0</td>\n",
              "                        <td id=\"T_9a3176e8_3d23_11eb_bea0_0242ac1c0002row9_col6\" class=\"data row9 col6\" >0</td>\n",
              "                        <td id=\"T_9a3176e8_3d23_11eb_bea0_0242ac1c0002row9_col7\" class=\"data row9 col7\" >0</td>\n",
              "                        <td id=\"T_9a3176e8_3d23_11eb_bea0_0242ac1c0002row9_col8\" class=\"data row9 col8\" >0</td>\n",
              "                        <td id=\"T_9a3176e8_3d23_11eb_bea0_0242ac1c0002row9_col9\" class=\"data row9 col9\" >0</td>\n",
              "                        <td id=\"T_9a3176e8_3d23_11eb_bea0_0242ac1c0002row9_col10\" class=\"data row9 col10\" >0</td>\n",
              "                        <td id=\"T_9a3176e8_3d23_11eb_bea0_0242ac1c0002row9_col11\" class=\"data row9 col11\" >0</td>\n",
              "                        <td id=\"T_9a3176e8_3d23_11eb_bea0_0242ac1c0002row9_col12\" class=\"data row9 col12\" >208</td>\n",
              "                        <td id=\"T_9a3176e8_3d23_11eb_bea0_0242ac1c0002row9_col13\" class=\"data row9 col13\" >255</td>\n",
              "                        <td id=\"T_9a3176e8_3d23_11eb_bea0_0242ac1c0002row9_col14\" class=\"data row9 col14\" >255</td>\n",
              "                        <td id=\"T_9a3176e8_3d23_11eb_bea0_0242ac1c0002row9_col15\" class=\"data row9 col15\" >255</td>\n",
              "                        <td id=\"T_9a3176e8_3d23_11eb_bea0_0242ac1c0002row9_col16\" class=\"data row9 col16\" >236</td>\n",
              "                        <td id=\"T_9a3176e8_3d23_11eb_bea0_0242ac1c0002row9_col17\" class=\"data row9 col17\" >93</td>\n",
              "                        <td id=\"T_9a3176e8_3d23_11eb_bea0_0242ac1c0002row9_col18\" class=\"data row9 col18\" >0</td>\n",
              "                        <td id=\"T_9a3176e8_3d23_11eb_bea0_0242ac1c0002row9_col19\" class=\"data row9 col19\" >208</td>\n",
              "                        <td id=\"T_9a3176e8_3d23_11eb_bea0_0242ac1c0002row9_col20\" class=\"data row9 col20\" >255</td>\n",
              "                        <td id=\"T_9a3176e8_3d23_11eb_bea0_0242ac1c0002row9_col21\" class=\"data row9 col21\" >255</td>\n",
              "                        <td id=\"T_9a3176e8_3d23_11eb_bea0_0242ac1c0002row9_col22\" class=\"data row9 col22\" >236</td>\n",
              "                        <td id=\"T_9a3176e8_3d23_11eb_bea0_0242ac1c0002row9_col23\" class=\"data row9 col23\" >0</td>\n",
              "                        <td id=\"T_9a3176e8_3d23_11eb_bea0_0242ac1c0002row9_col24\" class=\"data row9 col24\" >0</td>\n",
              "                        <td id=\"T_9a3176e8_3d23_11eb_bea0_0242ac1c0002row9_col25\" class=\"data row9 col25\" >0</td>\n",
              "                        <td id=\"T_9a3176e8_3d23_11eb_bea0_0242ac1c0002row9_col26\" class=\"data row9 col26\" >0</td>\n",
              "                        <td id=\"T_9a3176e8_3d23_11eb_bea0_0242ac1c0002row9_col27\" class=\"data row9 col27\" >0</td>\n",
              "            </tr>\n",
              "            <tr>\n",
              "                        <th id=\"T_9a3176e8_3d23_11eb_bea0_0242ac1c0002level0_row10\" class=\"row_heading level0 row10\" >10</th>\n",
              "                        <td id=\"T_9a3176e8_3d23_11eb_bea0_0242ac1c0002row10_col0\" class=\"data row10 col0\" >0</td>\n",
              "                        <td id=\"T_9a3176e8_3d23_11eb_bea0_0242ac1c0002row10_col1\" class=\"data row10 col1\" >0</td>\n",
              "                        <td id=\"T_9a3176e8_3d23_11eb_bea0_0242ac1c0002row10_col2\" class=\"data row10 col2\" >0</td>\n",
              "                        <td id=\"T_9a3176e8_3d23_11eb_bea0_0242ac1c0002row10_col3\" class=\"data row10 col3\" >0</td>\n",
              "                        <td id=\"T_9a3176e8_3d23_11eb_bea0_0242ac1c0002row10_col4\" class=\"data row10 col4\" >0</td>\n",
              "                        <td id=\"T_9a3176e8_3d23_11eb_bea0_0242ac1c0002row10_col5\" class=\"data row10 col5\" >0</td>\n",
              "                        <td id=\"T_9a3176e8_3d23_11eb_bea0_0242ac1c0002row10_col6\" class=\"data row10 col6\" >0</td>\n",
              "                        <td id=\"T_9a3176e8_3d23_11eb_bea0_0242ac1c0002row10_col7\" class=\"data row10 col7\" >0</td>\n",
              "                        <td id=\"T_9a3176e8_3d23_11eb_bea0_0242ac1c0002row10_col8\" class=\"data row10 col8\" >0</td>\n",
              "                        <td id=\"T_9a3176e8_3d23_11eb_bea0_0242ac1c0002row10_col9\" class=\"data row10 col9\" >0</td>\n",
              "                        <td id=\"T_9a3176e8_3d23_11eb_bea0_0242ac1c0002row10_col10\" class=\"data row10 col10\" >0</td>\n",
              "                        <td id=\"T_9a3176e8_3d23_11eb_bea0_0242ac1c0002row10_col11\" class=\"data row10 col11\" >106</td>\n",
              "                        <td id=\"T_9a3176e8_3d23_11eb_bea0_0242ac1c0002row10_col12\" class=\"data row10 col12\" >255</td>\n",
              "                        <td id=\"T_9a3176e8_3d23_11eb_bea0_0242ac1c0002row10_col13\" class=\"data row10 col13\" >255</td>\n",
              "                        <td id=\"T_9a3176e8_3d23_11eb_bea0_0242ac1c0002row10_col14\" class=\"data row10 col14\" >255</td>\n",
              "                        <td id=\"T_9a3176e8_3d23_11eb_bea0_0242ac1c0002row10_col15\" class=\"data row10 col15\" >171</td>\n",
              "                        <td id=\"T_9a3176e8_3d23_11eb_bea0_0242ac1c0002row10_col16\" class=\"data row10 col16\" >44</td>\n",
              "                        <td id=\"T_9a3176e8_3d23_11eb_bea0_0242ac1c0002row10_col17\" class=\"data row10 col17\" >0</td>\n",
              "                        <td id=\"T_9a3176e8_3d23_11eb_bea0_0242ac1c0002row10_col18\" class=\"data row10 col18\" >22</td>\n",
              "                        <td id=\"T_9a3176e8_3d23_11eb_bea0_0242ac1c0002row10_col19\" class=\"data row10 col19\" >255</td>\n",
              "                        <td id=\"T_9a3176e8_3d23_11eb_bea0_0242ac1c0002row10_col20\" class=\"data row10 col20\" >255</td>\n",
              "                        <td id=\"T_9a3176e8_3d23_11eb_bea0_0242ac1c0002row10_col21\" class=\"data row10 col21\" >255</td>\n",
              "                        <td id=\"T_9a3176e8_3d23_11eb_bea0_0242ac1c0002row10_col22\" class=\"data row10 col22\" >128</td>\n",
              "                        <td id=\"T_9a3176e8_3d23_11eb_bea0_0242ac1c0002row10_col23\" class=\"data row10 col23\" >0</td>\n",
              "                        <td id=\"T_9a3176e8_3d23_11eb_bea0_0242ac1c0002row10_col24\" class=\"data row10 col24\" >0</td>\n",
              "                        <td id=\"T_9a3176e8_3d23_11eb_bea0_0242ac1c0002row10_col25\" class=\"data row10 col25\" >0</td>\n",
              "                        <td id=\"T_9a3176e8_3d23_11eb_bea0_0242ac1c0002row10_col26\" class=\"data row10 col26\" >0</td>\n",
              "                        <td id=\"T_9a3176e8_3d23_11eb_bea0_0242ac1c0002row10_col27\" class=\"data row10 col27\" >0</td>\n",
              "            </tr>\n",
              "            <tr>\n",
              "                        <th id=\"T_9a3176e8_3d23_11eb_bea0_0242ac1c0002level0_row11\" class=\"row_heading level0 row11\" >11</th>\n",
              "                        <td id=\"T_9a3176e8_3d23_11eb_bea0_0242ac1c0002row11_col0\" class=\"data row11 col0\" >0</td>\n",
              "                        <td id=\"T_9a3176e8_3d23_11eb_bea0_0242ac1c0002row11_col1\" class=\"data row11 col1\" >0</td>\n",
              "                        <td id=\"T_9a3176e8_3d23_11eb_bea0_0242ac1c0002row11_col2\" class=\"data row11 col2\" >0</td>\n",
              "                        <td id=\"T_9a3176e8_3d23_11eb_bea0_0242ac1c0002row11_col3\" class=\"data row11 col3\" >0</td>\n",
              "                        <td id=\"T_9a3176e8_3d23_11eb_bea0_0242ac1c0002row11_col4\" class=\"data row11 col4\" >0</td>\n",
              "                        <td id=\"T_9a3176e8_3d23_11eb_bea0_0242ac1c0002row11_col5\" class=\"data row11 col5\" >0</td>\n",
              "                        <td id=\"T_9a3176e8_3d23_11eb_bea0_0242ac1c0002row11_col6\" class=\"data row11 col6\" >0</td>\n",
              "                        <td id=\"T_9a3176e8_3d23_11eb_bea0_0242ac1c0002row11_col7\" class=\"data row11 col7\" >0</td>\n",
              "                        <td id=\"T_9a3176e8_3d23_11eb_bea0_0242ac1c0002row11_col8\" class=\"data row11 col8\" >0</td>\n",
              "                        <td id=\"T_9a3176e8_3d23_11eb_bea0_0242ac1c0002row11_col9\" class=\"data row11 col9\" >0</td>\n",
              "                        <td id=\"T_9a3176e8_3d23_11eb_bea0_0242ac1c0002row11_col10\" class=\"data row11 col10\" >25</td>\n",
              "                        <td id=\"T_9a3176e8_3d23_11eb_bea0_0242ac1c0002row11_col11\" class=\"data row11 col11\" >255</td>\n",
              "                        <td id=\"T_9a3176e8_3d23_11eb_bea0_0242ac1c0002row11_col12\" class=\"data row11 col12\" >255</td>\n",
              "                        <td id=\"T_9a3176e8_3d23_11eb_bea0_0242ac1c0002row11_col13\" class=\"data row11 col13\" >255</td>\n",
              "                        <td id=\"T_9a3176e8_3d23_11eb_bea0_0242ac1c0002row11_col14\" class=\"data row11 col14\" >255</td>\n",
              "                        <td id=\"T_9a3176e8_3d23_11eb_bea0_0242ac1c0002row11_col15\" class=\"data row11 col15\" >40</td>\n",
              "                        <td id=\"T_9a3176e8_3d23_11eb_bea0_0242ac1c0002row11_col16\" class=\"data row11 col16\" >0</td>\n",
              "                        <td id=\"T_9a3176e8_3d23_11eb_bea0_0242ac1c0002row11_col17\" class=\"data row11 col17\" >0</td>\n",
              "                        <td id=\"T_9a3176e8_3d23_11eb_bea0_0242ac1c0002row11_col18\" class=\"data row11 col18\" >128</td>\n",
              "                        <td id=\"T_9a3176e8_3d23_11eb_bea0_0242ac1c0002row11_col19\" class=\"data row11 col19\" >255</td>\n",
              "                        <td id=\"T_9a3176e8_3d23_11eb_bea0_0242ac1c0002row11_col20\" class=\"data row11 col20\" >255</td>\n",
              "                        <td id=\"T_9a3176e8_3d23_11eb_bea0_0242ac1c0002row11_col21\" class=\"data row11 col21\" >255</td>\n",
              "                        <td id=\"T_9a3176e8_3d23_11eb_bea0_0242ac1c0002row11_col22\" class=\"data row11 col22\" >103</td>\n",
              "                        <td id=\"T_9a3176e8_3d23_11eb_bea0_0242ac1c0002row11_col23\" class=\"data row11 col23\" >0</td>\n",
              "                        <td id=\"T_9a3176e8_3d23_11eb_bea0_0242ac1c0002row11_col24\" class=\"data row11 col24\" >0</td>\n",
              "                        <td id=\"T_9a3176e8_3d23_11eb_bea0_0242ac1c0002row11_col25\" class=\"data row11 col25\" >0</td>\n",
              "                        <td id=\"T_9a3176e8_3d23_11eb_bea0_0242ac1c0002row11_col26\" class=\"data row11 col26\" >0</td>\n",
              "                        <td id=\"T_9a3176e8_3d23_11eb_bea0_0242ac1c0002row11_col27\" class=\"data row11 col27\" >0</td>\n",
              "            </tr>\n",
              "            <tr>\n",
              "                        <th id=\"T_9a3176e8_3d23_11eb_bea0_0242ac1c0002level0_row12\" class=\"row_heading level0 row12\" >12</th>\n",
              "                        <td id=\"T_9a3176e8_3d23_11eb_bea0_0242ac1c0002row12_col0\" class=\"data row12 col0\" >0</td>\n",
              "                        <td id=\"T_9a3176e8_3d23_11eb_bea0_0242ac1c0002row12_col1\" class=\"data row12 col1\" >0</td>\n",
              "                        <td id=\"T_9a3176e8_3d23_11eb_bea0_0242ac1c0002row12_col2\" class=\"data row12 col2\" >0</td>\n",
              "                        <td id=\"T_9a3176e8_3d23_11eb_bea0_0242ac1c0002row12_col3\" class=\"data row12 col3\" >0</td>\n",
              "                        <td id=\"T_9a3176e8_3d23_11eb_bea0_0242ac1c0002row12_col4\" class=\"data row12 col4\" >0</td>\n",
              "                        <td id=\"T_9a3176e8_3d23_11eb_bea0_0242ac1c0002row12_col5\" class=\"data row12 col5\" >0</td>\n",
              "                        <td id=\"T_9a3176e8_3d23_11eb_bea0_0242ac1c0002row12_col6\" class=\"data row12 col6\" >0</td>\n",
              "                        <td id=\"T_9a3176e8_3d23_11eb_bea0_0242ac1c0002row12_col7\" class=\"data row12 col7\" >0</td>\n",
              "                        <td id=\"T_9a3176e8_3d23_11eb_bea0_0242ac1c0002row12_col8\" class=\"data row12 col8\" >0</td>\n",
              "                        <td id=\"T_9a3176e8_3d23_11eb_bea0_0242ac1c0002row12_col9\" class=\"data row12 col9\" >0</td>\n",
              "                        <td id=\"T_9a3176e8_3d23_11eb_bea0_0242ac1c0002row12_col10\" class=\"data row12 col10\" >218</td>\n",
              "                        <td id=\"T_9a3176e8_3d23_11eb_bea0_0242ac1c0002row12_col11\" class=\"data row12 col11\" >255</td>\n",
              "                        <td id=\"T_9a3176e8_3d23_11eb_bea0_0242ac1c0002row12_col12\" class=\"data row12 col12\" >255</td>\n",
              "                        <td id=\"T_9a3176e8_3d23_11eb_bea0_0242ac1c0002row12_col13\" class=\"data row12 col13\" >255</td>\n",
              "                        <td id=\"T_9a3176e8_3d23_11eb_bea0_0242ac1c0002row12_col14\" class=\"data row12 col14\" >137</td>\n",
              "                        <td id=\"T_9a3176e8_3d23_11eb_bea0_0242ac1c0002row12_col15\" class=\"data row12 col15\" >0</td>\n",
              "                        <td id=\"T_9a3176e8_3d23_11eb_bea0_0242ac1c0002row12_col16\" class=\"data row12 col16\" >0</td>\n",
              "                        <td id=\"T_9a3176e8_3d23_11eb_bea0_0242ac1c0002row12_col17\" class=\"data row12 col17\" >0</td>\n",
              "                        <td id=\"T_9a3176e8_3d23_11eb_bea0_0242ac1c0002row12_col18\" class=\"data row12 col18\" >128</td>\n",
              "                        <td id=\"T_9a3176e8_3d23_11eb_bea0_0242ac1c0002row12_col19\" class=\"data row12 col19\" >255</td>\n",
              "                        <td id=\"T_9a3176e8_3d23_11eb_bea0_0242ac1c0002row12_col20\" class=\"data row12 col20\" >255</td>\n",
              "                        <td id=\"T_9a3176e8_3d23_11eb_bea0_0242ac1c0002row12_col21\" class=\"data row12 col21\" >255</td>\n",
              "                        <td id=\"T_9a3176e8_3d23_11eb_bea0_0242ac1c0002row12_col22\" class=\"data row12 col22\" >0</td>\n",
              "                        <td id=\"T_9a3176e8_3d23_11eb_bea0_0242ac1c0002row12_col23\" class=\"data row12 col23\" >0</td>\n",
              "                        <td id=\"T_9a3176e8_3d23_11eb_bea0_0242ac1c0002row12_col24\" class=\"data row12 col24\" >0</td>\n",
              "                        <td id=\"T_9a3176e8_3d23_11eb_bea0_0242ac1c0002row12_col25\" class=\"data row12 col25\" >0</td>\n",
              "                        <td id=\"T_9a3176e8_3d23_11eb_bea0_0242ac1c0002row12_col26\" class=\"data row12 col26\" >0</td>\n",
              "                        <td id=\"T_9a3176e8_3d23_11eb_bea0_0242ac1c0002row12_col27\" class=\"data row12 col27\" >0</td>\n",
              "            </tr>\n",
              "            <tr>\n",
              "                        <th id=\"T_9a3176e8_3d23_11eb_bea0_0242ac1c0002level0_row13\" class=\"row_heading level0 row13\" >13</th>\n",
              "                        <td id=\"T_9a3176e8_3d23_11eb_bea0_0242ac1c0002row13_col0\" class=\"data row13 col0\" >0</td>\n",
              "                        <td id=\"T_9a3176e8_3d23_11eb_bea0_0242ac1c0002row13_col1\" class=\"data row13 col1\" >0</td>\n",
              "                        <td id=\"T_9a3176e8_3d23_11eb_bea0_0242ac1c0002row13_col2\" class=\"data row13 col2\" >0</td>\n",
              "                        <td id=\"T_9a3176e8_3d23_11eb_bea0_0242ac1c0002row13_col3\" class=\"data row13 col3\" >0</td>\n",
              "                        <td id=\"T_9a3176e8_3d23_11eb_bea0_0242ac1c0002row13_col4\" class=\"data row13 col4\" >0</td>\n",
              "                        <td id=\"T_9a3176e8_3d23_11eb_bea0_0242ac1c0002row13_col5\" class=\"data row13 col5\" >0</td>\n",
              "                        <td id=\"T_9a3176e8_3d23_11eb_bea0_0242ac1c0002row13_col6\" class=\"data row13 col6\" >0</td>\n",
              "                        <td id=\"T_9a3176e8_3d23_11eb_bea0_0242ac1c0002row13_col7\" class=\"data row13 col7\" >0</td>\n",
              "                        <td id=\"T_9a3176e8_3d23_11eb_bea0_0242ac1c0002row13_col8\" class=\"data row13 col8\" >0</td>\n",
              "                        <td id=\"T_9a3176e8_3d23_11eb_bea0_0242ac1c0002row13_col9\" class=\"data row13 col9\" >93</td>\n",
              "                        <td id=\"T_9a3176e8_3d23_11eb_bea0_0242ac1c0002row13_col10\" class=\"data row13 col10\" >255</td>\n",
              "                        <td id=\"T_9a3176e8_3d23_11eb_bea0_0242ac1c0002row13_col11\" class=\"data row13 col11\" >255</td>\n",
              "                        <td id=\"T_9a3176e8_3d23_11eb_bea0_0242ac1c0002row13_col12\" class=\"data row13 col12\" >255</td>\n",
              "                        <td id=\"T_9a3176e8_3d23_11eb_bea0_0242ac1c0002row13_col13\" class=\"data row13 col13\" >224</td>\n",
              "                        <td id=\"T_9a3176e8_3d23_11eb_bea0_0242ac1c0002row13_col14\" class=\"data row13 col14\" >0</td>\n",
              "                        <td id=\"T_9a3176e8_3d23_11eb_bea0_0242ac1c0002row13_col15\" class=\"data row13 col15\" >0</td>\n",
              "                        <td id=\"T_9a3176e8_3d23_11eb_bea0_0242ac1c0002row13_col16\" class=\"data row13 col16\" >0</td>\n",
              "                        <td id=\"T_9a3176e8_3d23_11eb_bea0_0242ac1c0002row13_col17\" class=\"data row13 col17\" >31</td>\n",
              "                        <td id=\"T_9a3176e8_3d23_11eb_bea0_0242ac1c0002row13_col18\" class=\"data row13 col18\" >221</td>\n",
              "                        <td id=\"T_9a3176e8_3d23_11eb_bea0_0242ac1c0002row13_col19\" class=\"data row13 col19\" >255</td>\n",
              "                        <td id=\"T_9a3176e8_3d23_11eb_bea0_0242ac1c0002row13_col20\" class=\"data row13 col20\" >255</td>\n",
              "                        <td id=\"T_9a3176e8_3d23_11eb_bea0_0242ac1c0002row13_col21\" class=\"data row13 col21\" >162</td>\n",
              "                        <td id=\"T_9a3176e8_3d23_11eb_bea0_0242ac1c0002row13_col22\" class=\"data row13 col22\" >0</td>\n",
              "                        <td id=\"T_9a3176e8_3d23_11eb_bea0_0242ac1c0002row13_col23\" class=\"data row13 col23\" >0</td>\n",
              "                        <td id=\"T_9a3176e8_3d23_11eb_bea0_0242ac1c0002row13_col24\" class=\"data row13 col24\" >0</td>\n",
              "                        <td id=\"T_9a3176e8_3d23_11eb_bea0_0242ac1c0002row13_col25\" class=\"data row13 col25\" >0</td>\n",
              "                        <td id=\"T_9a3176e8_3d23_11eb_bea0_0242ac1c0002row13_col26\" class=\"data row13 col26\" >0</td>\n",
              "                        <td id=\"T_9a3176e8_3d23_11eb_bea0_0242ac1c0002row13_col27\" class=\"data row13 col27\" >0</td>\n",
              "            </tr>\n",
              "            <tr>\n",
              "                        <th id=\"T_9a3176e8_3d23_11eb_bea0_0242ac1c0002level0_row14\" class=\"row_heading level0 row14\" >14</th>\n",
              "                        <td id=\"T_9a3176e8_3d23_11eb_bea0_0242ac1c0002row14_col0\" class=\"data row14 col0\" >0</td>\n",
              "                        <td id=\"T_9a3176e8_3d23_11eb_bea0_0242ac1c0002row14_col1\" class=\"data row14 col1\" >0</td>\n",
              "                        <td id=\"T_9a3176e8_3d23_11eb_bea0_0242ac1c0002row14_col2\" class=\"data row14 col2\" >0</td>\n",
              "                        <td id=\"T_9a3176e8_3d23_11eb_bea0_0242ac1c0002row14_col3\" class=\"data row14 col3\" >0</td>\n",
              "                        <td id=\"T_9a3176e8_3d23_11eb_bea0_0242ac1c0002row14_col4\" class=\"data row14 col4\" >0</td>\n",
              "                        <td id=\"T_9a3176e8_3d23_11eb_bea0_0242ac1c0002row14_col5\" class=\"data row14 col5\" >0</td>\n",
              "                        <td id=\"T_9a3176e8_3d23_11eb_bea0_0242ac1c0002row14_col6\" class=\"data row14 col6\" >0</td>\n",
              "                        <td id=\"T_9a3176e8_3d23_11eb_bea0_0242ac1c0002row14_col7\" class=\"data row14 col7\" >0</td>\n",
              "                        <td id=\"T_9a3176e8_3d23_11eb_bea0_0242ac1c0002row14_col8\" class=\"data row14 col8\" >0</td>\n",
              "                        <td id=\"T_9a3176e8_3d23_11eb_bea0_0242ac1c0002row14_col9\" class=\"data row14 col9\" >224</td>\n",
              "                        <td id=\"T_9a3176e8_3d23_11eb_bea0_0242ac1c0002row14_col10\" class=\"data row14 col10\" >255</td>\n",
              "                        <td id=\"T_9a3176e8_3d23_11eb_bea0_0242ac1c0002row14_col11\" class=\"data row14 col11\" >255</td>\n",
              "                        <td id=\"T_9a3176e8_3d23_11eb_bea0_0242ac1c0002row14_col12\" class=\"data row14 col12\" >221</td>\n",
              "                        <td id=\"T_9a3176e8_3d23_11eb_bea0_0242ac1c0002row14_col13\" class=\"data row14 col13\" >31</td>\n",
              "                        <td id=\"T_9a3176e8_3d23_11eb_bea0_0242ac1c0002row14_col14\" class=\"data row14 col14\" >0</td>\n",
              "                        <td id=\"T_9a3176e8_3d23_11eb_bea0_0242ac1c0002row14_col15\" class=\"data row14 col15\" >34</td>\n",
              "                        <td id=\"T_9a3176e8_3d23_11eb_bea0_0242ac1c0002row14_col16\" class=\"data row14 col16\" >68</td>\n",
              "                        <td id=\"T_9a3176e8_3d23_11eb_bea0_0242ac1c0002row14_col17\" class=\"data row14 col17\" >224</td>\n",
              "                        <td id=\"T_9a3176e8_3d23_11eb_bea0_0242ac1c0002row14_col18\" class=\"data row14 col18\" >255</td>\n",
              "                        <td id=\"T_9a3176e8_3d23_11eb_bea0_0242ac1c0002row14_col19\" class=\"data row14 col19\" >255</td>\n",
              "                        <td id=\"T_9a3176e8_3d23_11eb_bea0_0242ac1c0002row14_col20\" class=\"data row14 col20\" >255</td>\n",
              "                        <td id=\"T_9a3176e8_3d23_11eb_bea0_0242ac1c0002row14_col21\" class=\"data row14 col21\" >128</td>\n",
              "                        <td id=\"T_9a3176e8_3d23_11eb_bea0_0242ac1c0002row14_col22\" class=\"data row14 col22\" >0</td>\n",
              "                        <td id=\"T_9a3176e8_3d23_11eb_bea0_0242ac1c0002row14_col23\" class=\"data row14 col23\" >0</td>\n",
              "                        <td id=\"T_9a3176e8_3d23_11eb_bea0_0242ac1c0002row14_col24\" class=\"data row14 col24\" >0</td>\n",
              "                        <td id=\"T_9a3176e8_3d23_11eb_bea0_0242ac1c0002row14_col25\" class=\"data row14 col25\" >0</td>\n",
              "                        <td id=\"T_9a3176e8_3d23_11eb_bea0_0242ac1c0002row14_col26\" class=\"data row14 col26\" >0</td>\n",
              "                        <td id=\"T_9a3176e8_3d23_11eb_bea0_0242ac1c0002row14_col27\" class=\"data row14 col27\" >0</td>\n",
              "            </tr>\n",
              "            <tr>\n",
              "                        <th id=\"T_9a3176e8_3d23_11eb_bea0_0242ac1c0002level0_row15\" class=\"row_heading level0 row15\" >15</th>\n",
              "                        <td id=\"T_9a3176e8_3d23_11eb_bea0_0242ac1c0002row15_col0\" class=\"data row15 col0\" >0</td>\n",
              "                        <td id=\"T_9a3176e8_3d23_11eb_bea0_0242ac1c0002row15_col1\" class=\"data row15 col1\" >0</td>\n",
              "                        <td id=\"T_9a3176e8_3d23_11eb_bea0_0242ac1c0002row15_col2\" class=\"data row15 col2\" >0</td>\n",
              "                        <td id=\"T_9a3176e8_3d23_11eb_bea0_0242ac1c0002row15_col3\" class=\"data row15 col3\" >0</td>\n",
              "                        <td id=\"T_9a3176e8_3d23_11eb_bea0_0242ac1c0002row15_col4\" class=\"data row15 col4\" >0</td>\n",
              "                        <td id=\"T_9a3176e8_3d23_11eb_bea0_0242ac1c0002row15_col5\" class=\"data row15 col5\" >0</td>\n",
              "                        <td id=\"T_9a3176e8_3d23_11eb_bea0_0242ac1c0002row15_col6\" class=\"data row15 col6\" >0</td>\n",
              "                        <td id=\"T_9a3176e8_3d23_11eb_bea0_0242ac1c0002row15_col7\" class=\"data row15 col7\" >0</td>\n",
              "                        <td id=\"T_9a3176e8_3d23_11eb_bea0_0242ac1c0002row15_col8\" class=\"data row15 col8\" >199</td>\n",
              "                        <td id=\"T_9a3176e8_3d23_11eb_bea0_0242ac1c0002row15_col9\" class=\"data row15 col9\" >255</td>\n",
              "                        <td id=\"T_9a3176e8_3d23_11eb_bea0_0242ac1c0002row15_col10\" class=\"data row15 col10\" >255</td>\n",
              "                        <td id=\"T_9a3176e8_3d23_11eb_bea0_0242ac1c0002row15_col11\" class=\"data row15 col11\" >255</td>\n",
              "                        <td id=\"T_9a3176e8_3d23_11eb_bea0_0242ac1c0002row15_col12\" class=\"data row15 col12\" >227</td>\n",
              "                        <td id=\"T_9a3176e8_3d23_11eb_bea0_0242ac1c0002row15_col13\" class=\"data row15 col13\" >199</td>\n",
              "                        <td id=\"T_9a3176e8_3d23_11eb_bea0_0242ac1c0002row15_col14\" class=\"data row15 col14\" >199</td>\n",
              "                        <td id=\"T_9a3176e8_3d23_11eb_bea0_0242ac1c0002row15_col15\" class=\"data row15 col15\" >227</td>\n",
              "                        <td id=\"T_9a3176e8_3d23_11eb_bea0_0242ac1c0002row15_col16\" class=\"data row15 col16\" >255</td>\n",
              "                        <td id=\"T_9a3176e8_3d23_11eb_bea0_0242ac1c0002row15_col17\" class=\"data row15 col17\" >255</td>\n",
              "                        <td id=\"T_9a3176e8_3d23_11eb_bea0_0242ac1c0002row15_col18\" class=\"data row15 col18\" >255</td>\n",
              "                        <td id=\"T_9a3176e8_3d23_11eb_bea0_0242ac1c0002row15_col19\" class=\"data row15 col19\" >255</td>\n",
              "                        <td id=\"T_9a3176e8_3d23_11eb_bea0_0242ac1c0002row15_col20\" class=\"data row15 col20\" >255</td>\n",
              "                        <td id=\"T_9a3176e8_3d23_11eb_bea0_0242ac1c0002row15_col21\" class=\"data row15 col21\" >28</td>\n",
              "                        <td id=\"T_9a3176e8_3d23_11eb_bea0_0242ac1c0002row15_col22\" class=\"data row15 col22\" >0</td>\n",
              "                        <td id=\"T_9a3176e8_3d23_11eb_bea0_0242ac1c0002row15_col23\" class=\"data row15 col23\" >0</td>\n",
              "                        <td id=\"T_9a3176e8_3d23_11eb_bea0_0242ac1c0002row15_col24\" class=\"data row15 col24\" >0</td>\n",
              "                        <td id=\"T_9a3176e8_3d23_11eb_bea0_0242ac1c0002row15_col25\" class=\"data row15 col25\" >0</td>\n",
              "                        <td id=\"T_9a3176e8_3d23_11eb_bea0_0242ac1c0002row15_col26\" class=\"data row15 col26\" >0</td>\n",
              "                        <td id=\"T_9a3176e8_3d23_11eb_bea0_0242ac1c0002row15_col27\" class=\"data row15 col27\" >0</td>\n",
              "            </tr>\n",
              "            <tr>\n",
              "                        <th id=\"T_9a3176e8_3d23_11eb_bea0_0242ac1c0002level0_row16\" class=\"row_heading level0 row16\" >16</th>\n",
              "                        <td id=\"T_9a3176e8_3d23_11eb_bea0_0242ac1c0002row16_col0\" class=\"data row16 col0\" >0</td>\n",
              "                        <td id=\"T_9a3176e8_3d23_11eb_bea0_0242ac1c0002row16_col1\" class=\"data row16 col1\" >0</td>\n",
              "                        <td id=\"T_9a3176e8_3d23_11eb_bea0_0242ac1c0002row16_col2\" class=\"data row16 col2\" >0</td>\n",
              "                        <td id=\"T_9a3176e8_3d23_11eb_bea0_0242ac1c0002row16_col3\" class=\"data row16 col3\" >0</td>\n",
              "                        <td id=\"T_9a3176e8_3d23_11eb_bea0_0242ac1c0002row16_col4\" class=\"data row16 col4\" >0</td>\n",
              "                        <td id=\"T_9a3176e8_3d23_11eb_bea0_0242ac1c0002row16_col5\" class=\"data row16 col5\" >0</td>\n",
              "                        <td id=\"T_9a3176e8_3d23_11eb_bea0_0242ac1c0002row16_col6\" class=\"data row16 col6\" >0</td>\n",
              "                        <td id=\"T_9a3176e8_3d23_11eb_bea0_0242ac1c0002row16_col7\" class=\"data row16 col7\" >0</td>\n",
              "                        <td id=\"T_9a3176e8_3d23_11eb_bea0_0242ac1c0002row16_col8\" class=\"data row16 col8\" >255</td>\n",
              "                        <td id=\"T_9a3176e8_3d23_11eb_bea0_0242ac1c0002row16_col9\" class=\"data row16 col9\" >255</td>\n",
              "                        <td id=\"T_9a3176e8_3d23_11eb_bea0_0242ac1c0002row16_col10\" class=\"data row16 col10\" >255</td>\n",
              "                        <td id=\"T_9a3176e8_3d23_11eb_bea0_0242ac1c0002row16_col11\" class=\"data row16 col11\" >255</td>\n",
              "                        <td id=\"T_9a3176e8_3d23_11eb_bea0_0242ac1c0002row16_col12\" class=\"data row16 col12\" >255</td>\n",
              "                        <td id=\"T_9a3176e8_3d23_11eb_bea0_0242ac1c0002row16_col13\" class=\"data row16 col13\" >255</td>\n",
              "                        <td id=\"T_9a3176e8_3d23_11eb_bea0_0242ac1c0002row16_col14\" class=\"data row16 col14\" >255</td>\n",
              "                        <td id=\"T_9a3176e8_3d23_11eb_bea0_0242ac1c0002row16_col15\" class=\"data row16 col15\" >255</td>\n",
              "                        <td id=\"T_9a3176e8_3d23_11eb_bea0_0242ac1c0002row16_col16\" class=\"data row16 col16\" >255</td>\n",
              "                        <td id=\"T_9a3176e8_3d23_11eb_bea0_0242ac1c0002row16_col17\" class=\"data row16 col17\" >255</td>\n",
              "                        <td id=\"T_9a3176e8_3d23_11eb_bea0_0242ac1c0002row16_col18\" class=\"data row16 col18\" >255</td>\n",
              "                        <td id=\"T_9a3176e8_3d23_11eb_bea0_0242ac1c0002row16_col19\" class=\"data row16 col19\" >255</td>\n",
              "                        <td id=\"T_9a3176e8_3d23_11eb_bea0_0242ac1c0002row16_col20\" class=\"data row16 col20\" >112</td>\n",
              "                        <td id=\"T_9a3176e8_3d23_11eb_bea0_0242ac1c0002row16_col21\" class=\"data row16 col21\" >0</td>\n",
              "                        <td id=\"T_9a3176e8_3d23_11eb_bea0_0242ac1c0002row16_col22\" class=\"data row16 col22\" >0</td>\n",
              "                        <td id=\"T_9a3176e8_3d23_11eb_bea0_0242ac1c0002row16_col23\" class=\"data row16 col23\" >0</td>\n",
              "                        <td id=\"T_9a3176e8_3d23_11eb_bea0_0242ac1c0002row16_col24\" class=\"data row16 col24\" >0</td>\n",
              "                        <td id=\"T_9a3176e8_3d23_11eb_bea0_0242ac1c0002row16_col25\" class=\"data row16 col25\" >0</td>\n",
              "                        <td id=\"T_9a3176e8_3d23_11eb_bea0_0242ac1c0002row16_col26\" class=\"data row16 col26\" >0</td>\n",
              "                        <td id=\"T_9a3176e8_3d23_11eb_bea0_0242ac1c0002row16_col27\" class=\"data row16 col27\" >0</td>\n",
              "            </tr>\n",
              "            <tr>\n",
              "                        <th id=\"T_9a3176e8_3d23_11eb_bea0_0242ac1c0002level0_row17\" class=\"row_heading level0 row17\" >17</th>\n",
              "                        <td id=\"T_9a3176e8_3d23_11eb_bea0_0242ac1c0002row17_col0\" class=\"data row17 col0\" >0</td>\n",
              "                        <td id=\"T_9a3176e8_3d23_11eb_bea0_0242ac1c0002row17_col1\" class=\"data row17 col1\" >0</td>\n",
              "                        <td id=\"T_9a3176e8_3d23_11eb_bea0_0242ac1c0002row17_col2\" class=\"data row17 col2\" >0</td>\n",
              "                        <td id=\"T_9a3176e8_3d23_11eb_bea0_0242ac1c0002row17_col3\" class=\"data row17 col3\" >0</td>\n",
              "                        <td id=\"T_9a3176e8_3d23_11eb_bea0_0242ac1c0002row17_col4\" class=\"data row17 col4\" >0</td>\n",
              "                        <td id=\"T_9a3176e8_3d23_11eb_bea0_0242ac1c0002row17_col5\" class=\"data row17 col5\" >0</td>\n",
              "                        <td id=\"T_9a3176e8_3d23_11eb_bea0_0242ac1c0002row17_col6\" class=\"data row17 col6\" >0</td>\n",
              "                        <td id=\"T_9a3176e8_3d23_11eb_bea0_0242ac1c0002row17_col7\" class=\"data row17 col7\" >149</td>\n",
              "                        <td id=\"T_9a3176e8_3d23_11eb_bea0_0242ac1c0002row17_col8\" class=\"data row17 col8\" >255</td>\n",
              "                        <td id=\"T_9a3176e8_3d23_11eb_bea0_0242ac1c0002row17_col9\" class=\"data row17 col9\" >255</td>\n",
              "                        <td id=\"T_9a3176e8_3d23_11eb_bea0_0242ac1c0002row17_col10\" class=\"data row17 col10\" >255</td>\n",
              "                        <td id=\"T_9a3176e8_3d23_11eb_bea0_0242ac1c0002row17_col11\" class=\"data row17 col11\" >255</td>\n",
              "                        <td id=\"T_9a3176e8_3d23_11eb_bea0_0242ac1c0002row17_col12\" class=\"data row17 col12\" >255</td>\n",
              "                        <td id=\"T_9a3176e8_3d23_11eb_bea0_0242ac1c0002row17_col13\" class=\"data row17 col13\" >255</td>\n",
              "                        <td id=\"T_9a3176e8_3d23_11eb_bea0_0242ac1c0002row17_col14\" class=\"data row17 col14\" >255</td>\n",
              "                        <td id=\"T_9a3176e8_3d23_11eb_bea0_0242ac1c0002row17_col15\" class=\"data row17 col15\" >255</td>\n",
              "                        <td id=\"T_9a3176e8_3d23_11eb_bea0_0242ac1c0002row17_col16\" class=\"data row17 col16\" >255</td>\n",
              "                        <td id=\"T_9a3176e8_3d23_11eb_bea0_0242ac1c0002row17_col17\" class=\"data row17 col17\" >255</td>\n",
              "                        <td id=\"T_9a3176e8_3d23_11eb_bea0_0242ac1c0002row17_col18\" class=\"data row17 col18\" >255</td>\n",
              "                        <td id=\"T_9a3176e8_3d23_11eb_bea0_0242ac1c0002row17_col19\" class=\"data row17 col19\" >255</td>\n",
              "                        <td id=\"T_9a3176e8_3d23_11eb_bea0_0242ac1c0002row17_col20\" class=\"data row17 col20\" >0</td>\n",
              "                        <td id=\"T_9a3176e8_3d23_11eb_bea0_0242ac1c0002row17_col21\" class=\"data row17 col21\" >0</td>\n",
              "                        <td id=\"T_9a3176e8_3d23_11eb_bea0_0242ac1c0002row17_col22\" class=\"data row17 col22\" >0</td>\n",
              "                        <td id=\"T_9a3176e8_3d23_11eb_bea0_0242ac1c0002row17_col23\" class=\"data row17 col23\" >0</td>\n",
              "                        <td id=\"T_9a3176e8_3d23_11eb_bea0_0242ac1c0002row17_col24\" class=\"data row17 col24\" >0</td>\n",
              "                        <td id=\"T_9a3176e8_3d23_11eb_bea0_0242ac1c0002row17_col25\" class=\"data row17 col25\" >0</td>\n",
              "                        <td id=\"T_9a3176e8_3d23_11eb_bea0_0242ac1c0002row17_col26\" class=\"data row17 col26\" >0</td>\n",
              "                        <td id=\"T_9a3176e8_3d23_11eb_bea0_0242ac1c0002row17_col27\" class=\"data row17 col27\" >0</td>\n",
              "            </tr>\n",
              "            <tr>\n",
              "                        <th id=\"T_9a3176e8_3d23_11eb_bea0_0242ac1c0002level0_row18\" class=\"row_heading level0 row18\" >18</th>\n",
              "                        <td id=\"T_9a3176e8_3d23_11eb_bea0_0242ac1c0002row18_col0\" class=\"data row18 col0\" >0</td>\n",
              "                        <td id=\"T_9a3176e8_3d23_11eb_bea0_0242ac1c0002row18_col1\" class=\"data row18 col1\" >0</td>\n",
              "                        <td id=\"T_9a3176e8_3d23_11eb_bea0_0242ac1c0002row18_col2\" class=\"data row18 col2\" >0</td>\n",
              "                        <td id=\"T_9a3176e8_3d23_11eb_bea0_0242ac1c0002row18_col3\" class=\"data row18 col3\" >0</td>\n",
              "                        <td id=\"T_9a3176e8_3d23_11eb_bea0_0242ac1c0002row18_col4\" class=\"data row18 col4\" >0</td>\n",
              "                        <td id=\"T_9a3176e8_3d23_11eb_bea0_0242ac1c0002row18_col5\" class=\"data row18 col5\" >0</td>\n",
              "                        <td id=\"T_9a3176e8_3d23_11eb_bea0_0242ac1c0002row18_col6\" class=\"data row18 col6\" >47</td>\n",
              "                        <td id=\"T_9a3176e8_3d23_11eb_bea0_0242ac1c0002row18_col7\" class=\"data row18 col7\" >255</td>\n",
              "                        <td id=\"T_9a3176e8_3d23_11eb_bea0_0242ac1c0002row18_col8\" class=\"data row18 col8\" >255</td>\n",
              "                        <td id=\"T_9a3176e8_3d23_11eb_bea0_0242ac1c0002row18_col9\" class=\"data row18 col9\" >255</td>\n",
              "                        <td id=\"T_9a3176e8_3d23_11eb_bea0_0242ac1c0002row18_col10\" class=\"data row18 col10\" >255</td>\n",
              "                        <td id=\"T_9a3176e8_3d23_11eb_bea0_0242ac1c0002row18_col11\" class=\"data row18 col11\" >208</td>\n",
              "                        <td id=\"T_9a3176e8_3d23_11eb_bea0_0242ac1c0002row18_col12\" class=\"data row18 col12\" >255</td>\n",
              "                        <td id=\"T_9a3176e8_3d23_11eb_bea0_0242ac1c0002row18_col13\" class=\"data row18 col13\" >162</td>\n",
              "                        <td id=\"T_9a3176e8_3d23_11eb_bea0_0242ac1c0002row18_col14\" class=\"data row18 col14\" >255</td>\n",
              "                        <td id=\"T_9a3176e8_3d23_11eb_bea0_0242ac1c0002row18_col15\" class=\"data row18 col15\" >255</td>\n",
              "                        <td id=\"T_9a3176e8_3d23_11eb_bea0_0242ac1c0002row18_col16\" class=\"data row18 col16\" >255</td>\n",
              "                        <td id=\"T_9a3176e8_3d23_11eb_bea0_0242ac1c0002row18_col17\" class=\"data row18 col17\" >255</td>\n",
              "                        <td id=\"T_9a3176e8_3d23_11eb_bea0_0242ac1c0002row18_col18\" class=\"data row18 col18\" >255</td>\n",
              "                        <td id=\"T_9a3176e8_3d23_11eb_bea0_0242ac1c0002row18_col19\" class=\"data row18 col19\" >100</td>\n",
              "                        <td id=\"T_9a3176e8_3d23_11eb_bea0_0242ac1c0002row18_col20\" class=\"data row18 col20\" >0</td>\n",
              "                        <td id=\"T_9a3176e8_3d23_11eb_bea0_0242ac1c0002row18_col21\" class=\"data row18 col21\" >0</td>\n",
              "                        <td id=\"T_9a3176e8_3d23_11eb_bea0_0242ac1c0002row18_col22\" class=\"data row18 col22\" >0</td>\n",
              "                        <td id=\"T_9a3176e8_3d23_11eb_bea0_0242ac1c0002row18_col23\" class=\"data row18 col23\" >0</td>\n",
              "                        <td id=\"T_9a3176e8_3d23_11eb_bea0_0242ac1c0002row18_col24\" class=\"data row18 col24\" >0</td>\n",
              "                        <td id=\"T_9a3176e8_3d23_11eb_bea0_0242ac1c0002row18_col25\" class=\"data row18 col25\" >0</td>\n",
              "                        <td id=\"T_9a3176e8_3d23_11eb_bea0_0242ac1c0002row18_col26\" class=\"data row18 col26\" >0</td>\n",
              "                        <td id=\"T_9a3176e8_3d23_11eb_bea0_0242ac1c0002row18_col27\" class=\"data row18 col27\" >0</td>\n",
              "            </tr>\n",
              "            <tr>\n",
              "                        <th id=\"T_9a3176e8_3d23_11eb_bea0_0242ac1c0002level0_row19\" class=\"row_heading level0 row19\" >19</th>\n",
              "                        <td id=\"T_9a3176e8_3d23_11eb_bea0_0242ac1c0002row19_col0\" class=\"data row19 col0\" >0</td>\n",
              "                        <td id=\"T_9a3176e8_3d23_11eb_bea0_0242ac1c0002row19_col1\" class=\"data row19 col1\" >0</td>\n",
              "                        <td id=\"T_9a3176e8_3d23_11eb_bea0_0242ac1c0002row19_col2\" class=\"data row19 col2\" >0</td>\n",
              "                        <td id=\"T_9a3176e8_3d23_11eb_bea0_0242ac1c0002row19_col3\" class=\"data row19 col3\" >0</td>\n",
              "                        <td id=\"T_9a3176e8_3d23_11eb_bea0_0242ac1c0002row19_col4\" class=\"data row19 col4\" >0</td>\n",
              "                        <td id=\"T_9a3176e8_3d23_11eb_bea0_0242ac1c0002row19_col5\" class=\"data row19 col5\" >0</td>\n",
              "                        <td id=\"T_9a3176e8_3d23_11eb_bea0_0242ac1c0002row19_col6\" class=\"data row19 col6\" >128</td>\n",
              "                        <td id=\"T_9a3176e8_3d23_11eb_bea0_0242ac1c0002row19_col7\" class=\"data row19 col7\" >255</td>\n",
              "                        <td id=\"T_9a3176e8_3d23_11eb_bea0_0242ac1c0002row19_col8\" class=\"data row19 col8\" >255</td>\n",
              "                        <td id=\"T_9a3176e8_3d23_11eb_bea0_0242ac1c0002row19_col9\" class=\"data row19 col9\" >205</td>\n",
              "                        <td id=\"T_9a3176e8_3d23_11eb_bea0_0242ac1c0002row19_col10\" class=\"data row19 col10\" >93</td>\n",
              "                        <td id=\"T_9a3176e8_3d23_11eb_bea0_0242ac1c0002row19_col11\" class=\"data row19 col11\" >16</td>\n",
              "                        <td id=\"T_9a3176e8_3d23_11eb_bea0_0242ac1c0002row19_col12\" class=\"data row19 col12\" >31</td>\n",
              "                        <td id=\"T_9a3176e8_3d23_11eb_bea0_0242ac1c0002row19_col13\" class=\"data row19 col13\" >0</td>\n",
              "                        <td id=\"T_9a3176e8_3d23_11eb_bea0_0242ac1c0002row19_col14\" class=\"data row19 col14\" >31</td>\n",
              "                        <td id=\"T_9a3176e8_3d23_11eb_bea0_0242ac1c0002row19_col15\" class=\"data row19 col15\" >255</td>\n",
              "                        <td id=\"T_9a3176e8_3d23_11eb_bea0_0242ac1c0002row19_col16\" class=\"data row19 col16\" >255</td>\n",
              "                        <td id=\"T_9a3176e8_3d23_11eb_bea0_0242ac1c0002row19_col17\" class=\"data row19 col17\" >255</td>\n",
              "                        <td id=\"T_9a3176e8_3d23_11eb_bea0_0242ac1c0002row19_col18\" class=\"data row19 col18\" >143</td>\n",
              "                        <td id=\"T_9a3176e8_3d23_11eb_bea0_0242ac1c0002row19_col19\" class=\"data row19 col19\" >0</td>\n",
              "                        <td id=\"T_9a3176e8_3d23_11eb_bea0_0242ac1c0002row19_col20\" class=\"data row19 col20\" >0</td>\n",
              "                        <td id=\"T_9a3176e8_3d23_11eb_bea0_0242ac1c0002row19_col21\" class=\"data row19 col21\" >0</td>\n",
              "                        <td id=\"T_9a3176e8_3d23_11eb_bea0_0242ac1c0002row19_col22\" class=\"data row19 col22\" >0</td>\n",
              "                        <td id=\"T_9a3176e8_3d23_11eb_bea0_0242ac1c0002row19_col23\" class=\"data row19 col23\" >0</td>\n",
              "                        <td id=\"T_9a3176e8_3d23_11eb_bea0_0242ac1c0002row19_col24\" class=\"data row19 col24\" >0</td>\n",
              "                        <td id=\"T_9a3176e8_3d23_11eb_bea0_0242ac1c0002row19_col25\" class=\"data row19 col25\" >0</td>\n",
              "                        <td id=\"T_9a3176e8_3d23_11eb_bea0_0242ac1c0002row19_col26\" class=\"data row19 col26\" >0</td>\n",
              "                        <td id=\"T_9a3176e8_3d23_11eb_bea0_0242ac1c0002row19_col27\" class=\"data row19 col27\" >0</td>\n",
              "            </tr>\n",
              "            <tr>\n",
              "                        <th id=\"T_9a3176e8_3d23_11eb_bea0_0242ac1c0002level0_row20\" class=\"row_heading level0 row20\" >20</th>\n",
              "                        <td id=\"T_9a3176e8_3d23_11eb_bea0_0242ac1c0002row20_col0\" class=\"data row20 col0\" >0</td>\n",
              "                        <td id=\"T_9a3176e8_3d23_11eb_bea0_0242ac1c0002row20_col1\" class=\"data row20 col1\" >0</td>\n",
              "                        <td id=\"T_9a3176e8_3d23_11eb_bea0_0242ac1c0002row20_col2\" class=\"data row20 col2\" >0</td>\n",
              "                        <td id=\"T_9a3176e8_3d23_11eb_bea0_0242ac1c0002row20_col3\" class=\"data row20 col3\" >0</td>\n",
              "                        <td id=\"T_9a3176e8_3d23_11eb_bea0_0242ac1c0002row20_col4\" class=\"data row20 col4\" >0</td>\n",
              "                        <td id=\"T_9a3176e8_3d23_11eb_bea0_0242ac1c0002row20_col5\" class=\"data row20 col5\" >0</td>\n",
              "                        <td id=\"T_9a3176e8_3d23_11eb_bea0_0242ac1c0002row20_col6\" class=\"data row20 col6\" >243</td>\n",
              "                        <td id=\"T_9a3176e8_3d23_11eb_bea0_0242ac1c0002row20_col7\" class=\"data row20 col7\" >255</td>\n",
              "                        <td id=\"T_9a3176e8_3d23_11eb_bea0_0242ac1c0002row20_col8\" class=\"data row20 col8\" >255</td>\n",
              "                        <td id=\"T_9a3176e8_3d23_11eb_bea0_0242ac1c0002row20_col9\" class=\"data row20 col9\" >128</td>\n",
              "                        <td id=\"T_9a3176e8_3d23_11eb_bea0_0242ac1c0002row20_col10\" class=\"data row20 col10\" >0</td>\n",
              "                        <td id=\"T_9a3176e8_3d23_11eb_bea0_0242ac1c0002row20_col11\" class=\"data row20 col11\" >0</td>\n",
              "                        <td id=\"T_9a3176e8_3d23_11eb_bea0_0242ac1c0002row20_col12\" class=\"data row20 col12\" >0</td>\n",
              "                        <td id=\"T_9a3176e8_3d23_11eb_bea0_0242ac1c0002row20_col13\" class=\"data row20 col13\" >0</td>\n",
              "                        <td id=\"T_9a3176e8_3d23_11eb_bea0_0242ac1c0002row20_col14\" class=\"data row20 col14\" >168</td>\n",
              "                        <td id=\"T_9a3176e8_3d23_11eb_bea0_0242ac1c0002row20_col15\" class=\"data row20 col15\" >255</td>\n",
              "                        <td id=\"T_9a3176e8_3d23_11eb_bea0_0242ac1c0002row20_col16\" class=\"data row20 col16\" >255</td>\n",
              "                        <td id=\"T_9a3176e8_3d23_11eb_bea0_0242ac1c0002row20_col17\" class=\"data row20 col17\" >255</td>\n",
              "                        <td id=\"T_9a3176e8_3d23_11eb_bea0_0242ac1c0002row20_col18\" class=\"data row20 col18\" >75</td>\n",
              "                        <td id=\"T_9a3176e8_3d23_11eb_bea0_0242ac1c0002row20_col19\" class=\"data row20 col19\" >0</td>\n",
              "                        <td id=\"T_9a3176e8_3d23_11eb_bea0_0242ac1c0002row20_col20\" class=\"data row20 col20\" >0</td>\n",
              "                        <td id=\"T_9a3176e8_3d23_11eb_bea0_0242ac1c0002row20_col21\" class=\"data row20 col21\" >0</td>\n",
              "                        <td id=\"T_9a3176e8_3d23_11eb_bea0_0242ac1c0002row20_col22\" class=\"data row20 col22\" >0</td>\n",
              "                        <td id=\"T_9a3176e8_3d23_11eb_bea0_0242ac1c0002row20_col23\" class=\"data row20 col23\" >0</td>\n",
              "                        <td id=\"T_9a3176e8_3d23_11eb_bea0_0242ac1c0002row20_col24\" class=\"data row20 col24\" >0</td>\n",
              "                        <td id=\"T_9a3176e8_3d23_11eb_bea0_0242ac1c0002row20_col25\" class=\"data row20 col25\" >0</td>\n",
              "                        <td id=\"T_9a3176e8_3d23_11eb_bea0_0242ac1c0002row20_col26\" class=\"data row20 col26\" >0</td>\n",
              "                        <td id=\"T_9a3176e8_3d23_11eb_bea0_0242ac1c0002row20_col27\" class=\"data row20 col27\" >0</td>\n",
              "            </tr>\n",
              "            <tr>\n",
              "                        <th id=\"T_9a3176e8_3d23_11eb_bea0_0242ac1c0002level0_row21\" class=\"row_heading level0 row21\" >21</th>\n",
              "                        <td id=\"T_9a3176e8_3d23_11eb_bea0_0242ac1c0002row21_col0\" class=\"data row21 col0\" >0</td>\n",
              "                        <td id=\"T_9a3176e8_3d23_11eb_bea0_0242ac1c0002row21_col1\" class=\"data row21 col1\" >0</td>\n",
              "                        <td id=\"T_9a3176e8_3d23_11eb_bea0_0242ac1c0002row21_col2\" class=\"data row21 col2\" >0</td>\n",
              "                        <td id=\"T_9a3176e8_3d23_11eb_bea0_0242ac1c0002row21_col3\" class=\"data row21 col3\" >0</td>\n",
              "                        <td id=\"T_9a3176e8_3d23_11eb_bea0_0242ac1c0002row21_col4\" class=\"data row21 col4\" >0</td>\n",
              "                        <td id=\"T_9a3176e8_3d23_11eb_bea0_0242ac1c0002row21_col5\" class=\"data row21 col5\" >174</td>\n",
              "                        <td id=\"T_9a3176e8_3d23_11eb_bea0_0242ac1c0002row21_col6\" class=\"data row21 col6\" >255</td>\n",
              "                        <td id=\"T_9a3176e8_3d23_11eb_bea0_0242ac1c0002row21_col7\" class=\"data row21 col7\" >255</td>\n",
              "                        <td id=\"T_9a3176e8_3d23_11eb_bea0_0242ac1c0002row21_col8\" class=\"data row21 col8\" >255</td>\n",
              "                        <td id=\"T_9a3176e8_3d23_11eb_bea0_0242ac1c0002row21_col9\" class=\"data row21 col9\" >72</td>\n",
              "                        <td id=\"T_9a3176e8_3d23_11eb_bea0_0242ac1c0002row21_col10\" class=\"data row21 col10\" >0</td>\n",
              "                        <td id=\"T_9a3176e8_3d23_11eb_bea0_0242ac1c0002row21_col11\" class=\"data row21 col11\" >0</td>\n",
              "                        <td id=\"T_9a3176e8_3d23_11eb_bea0_0242ac1c0002row21_col12\" class=\"data row21 col12\" >0</td>\n",
              "                        <td id=\"T_9a3176e8_3d23_11eb_bea0_0242ac1c0002row21_col13\" class=\"data row21 col13\" >0</td>\n",
              "                        <td id=\"T_9a3176e8_3d23_11eb_bea0_0242ac1c0002row21_col14\" class=\"data row21 col14\" >255</td>\n",
              "                        <td id=\"T_9a3176e8_3d23_11eb_bea0_0242ac1c0002row21_col15\" class=\"data row21 col15\" >255</td>\n",
              "                        <td id=\"T_9a3176e8_3d23_11eb_bea0_0242ac1c0002row21_col16\" class=\"data row21 col16\" >255</td>\n",
              "                        <td id=\"T_9a3176e8_3d23_11eb_bea0_0242ac1c0002row21_col17\" class=\"data row21 col17\" >255</td>\n",
              "                        <td id=\"T_9a3176e8_3d23_11eb_bea0_0242ac1c0002row21_col18\" class=\"data row21 col18\" >0</td>\n",
              "                        <td id=\"T_9a3176e8_3d23_11eb_bea0_0242ac1c0002row21_col19\" class=\"data row21 col19\" >0</td>\n",
              "                        <td id=\"T_9a3176e8_3d23_11eb_bea0_0242ac1c0002row21_col20\" class=\"data row21 col20\" >0</td>\n",
              "                        <td id=\"T_9a3176e8_3d23_11eb_bea0_0242ac1c0002row21_col21\" class=\"data row21 col21\" >0</td>\n",
              "                        <td id=\"T_9a3176e8_3d23_11eb_bea0_0242ac1c0002row21_col22\" class=\"data row21 col22\" >0</td>\n",
              "                        <td id=\"T_9a3176e8_3d23_11eb_bea0_0242ac1c0002row21_col23\" class=\"data row21 col23\" >0</td>\n",
              "                        <td id=\"T_9a3176e8_3d23_11eb_bea0_0242ac1c0002row21_col24\" class=\"data row21 col24\" >0</td>\n",
              "                        <td id=\"T_9a3176e8_3d23_11eb_bea0_0242ac1c0002row21_col25\" class=\"data row21 col25\" >0</td>\n",
              "                        <td id=\"T_9a3176e8_3d23_11eb_bea0_0242ac1c0002row21_col26\" class=\"data row21 col26\" >0</td>\n",
              "                        <td id=\"T_9a3176e8_3d23_11eb_bea0_0242ac1c0002row21_col27\" class=\"data row21 col27\" >0</td>\n",
              "            </tr>\n",
              "            <tr>\n",
              "                        <th id=\"T_9a3176e8_3d23_11eb_bea0_0242ac1c0002level0_row22\" class=\"row_heading level0 row22\" >22</th>\n",
              "                        <td id=\"T_9a3176e8_3d23_11eb_bea0_0242ac1c0002row22_col0\" class=\"data row22 col0\" >0</td>\n",
              "                        <td id=\"T_9a3176e8_3d23_11eb_bea0_0242ac1c0002row22_col1\" class=\"data row22 col1\" >0</td>\n",
              "                        <td id=\"T_9a3176e8_3d23_11eb_bea0_0242ac1c0002row22_col2\" class=\"data row22 col2\" >0</td>\n",
              "                        <td id=\"T_9a3176e8_3d23_11eb_bea0_0242ac1c0002row22_col3\" class=\"data row22 col3\" >0</td>\n",
              "                        <td id=\"T_9a3176e8_3d23_11eb_bea0_0242ac1c0002row22_col4\" class=\"data row22 col4\" >0</td>\n",
              "                        <td id=\"T_9a3176e8_3d23_11eb_bea0_0242ac1c0002row22_col5\" class=\"data row22 col5\" >255</td>\n",
              "                        <td id=\"T_9a3176e8_3d23_11eb_bea0_0242ac1c0002row22_col6\" class=\"data row22 col6\" >255</td>\n",
              "                        <td id=\"T_9a3176e8_3d23_11eb_bea0_0242ac1c0002row22_col7\" class=\"data row22 col7\" >255</td>\n",
              "                        <td id=\"T_9a3176e8_3d23_11eb_bea0_0242ac1c0002row22_col8\" class=\"data row22 col8\" >75</td>\n",
              "                        <td id=\"T_9a3176e8_3d23_11eb_bea0_0242ac1c0002row22_col9\" class=\"data row22 col9\" >0</td>\n",
              "                        <td id=\"T_9a3176e8_3d23_11eb_bea0_0242ac1c0002row22_col10\" class=\"data row22 col10\" >0</td>\n",
              "                        <td id=\"T_9a3176e8_3d23_11eb_bea0_0242ac1c0002row22_col11\" class=\"data row22 col11\" >0</td>\n",
              "                        <td id=\"T_9a3176e8_3d23_11eb_bea0_0242ac1c0002row22_col12\" class=\"data row22 col12\" >0</td>\n",
              "                        <td id=\"T_9a3176e8_3d23_11eb_bea0_0242ac1c0002row22_col13\" class=\"data row22 col13\" >0</td>\n",
              "                        <td id=\"T_9a3176e8_3d23_11eb_bea0_0242ac1c0002row22_col14\" class=\"data row22 col14\" >255</td>\n",
              "                        <td id=\"T_9a3176e8_3d23_11eb_bea0_0242ac1c0002row22_col15\" class=\"data row22 col15\" >255</td>\n",
              "                        <td id=\"T_9a3176e8_3d23_11eb_bea0_0242ac1c0002row22_col16\" class=\"data row22 col16\" >255</td>\n",
              "                        <td id=\"T_9a3176e8_3d23_11eb_bea0_0242ac1c0002row22_col17\" class=\"data row22 col17\" >134</td>\n",
              "                        <td id=\"T_9a3176e8_3d23_11eb_bea0_0242ac1c0002row22_col18\" class=\"data row22 col18\" >0</td>\n",
              "                        <td id=\"T_9a3176e8_3d23_11eb_bea0_0242ac1c0002row22_col19\" class=\"data row22 col19\" >0</td>\n",
              "                        <td id=\"T_9a3176e8_3d23_11eb_bea0_0242ac1c0002row22_col20\" class=\"data row22 col20\" >0</td>\n",
              "                        <td id=\"T_9a3176e8_3d23_11eb_bea0_0242ac1c0002row22_col21\" class=\"data row22 col21\" >0</td>\n",
              "                        <td id=\"T_9a3176e8_3d23_11eb_bea0_0242ac1c0002row22_col22\" class=\"data row22 col22\" >0</td>\n",
              "                        <td id=\"T_9a3176e8_3d23_11eb_bea0_0242ac1c0002row22_col23\" class=\"data row22 col23\" >0</td>\n",
              "                        <td id=\"T_9a3176e8_3d23_11eb_bea0_0242ac1c0002row22_col24\" class=\"data row22 col24\" >0</td>\n",
              "                        <td id=\"T_9a3176e8_3d23_11eb_bea0_0242ac1c0002row22_col25\" class=\"data row22 col25\" >0</td>\n",
              "                        <td id=\"T_9a3176e8_3d23_11eb_bea0_0242ac1c0002row22_col26\" class=\"data row22 col26\" >0</td>\n",
              "                        <td id=\"T_9a3176e8_3d23_11eb_bea0_0242ac1c0002row22_col27\" class=\"data row22 col27\" >0</td>\n",
              "            </tr>\n",
              "            <tr>\n",
              "                        <th id=\"T_9a3176e8_3d23_11eb_bea0_0242ac1c0002level0_row23\" class=\"row_heading level0 row23\" >23</th>\n",
              "                        <td id=\"T_9a3176e8_3d23_11eb_bea0_0242ac1c0002row23_col0\" class=\"data row23 col0\" >0</td>\n",
              "                        <td id=\"T_9a3176e8_3d23_11eb_bea0_0242ac1c0002row23_col1\" class=\"data row23 col1\" >0</td>\n",
              "                        <td id=\"T_9a3176e8_3d23_11eb_bea0_0242ac1c0002row23_col2\" class=\"data row23 col2\" >0</td>\n",
              "                        <td id=\"T_9a3176e8_3d23_11eb_bea0_0242ac1c0002row23_col3\" class=\"data row23 col3\" >0</td>\n",
              "                        <td id=\"T_9a3176e8_3d23_11eb_bea0_0242ac1c0002row23_col4\" class=\"data row23 col4\" >0</td>\n",
              "                        <td id=\"T_9a3176e8_3d23_11eb_bea0_0242ac1c0002row23_col5\" class=\"data row23 col5\" >68</td>\n",
              "                        <td id=\"T_9a3176e8_3d23_11eb_bea0_0242ac1c0002row23_col6\" class=\"data row23 col6\" >255</td>\n",
              "                        <td id=\"T_9a3176e8_3d23_11eb_bea0_0242ac1c0002row23_col7\" class=\"data row23 col7\" >131</td>\n",
              "                        <td id=\"T_9a3176e8_3d23_11eb_bea0_0242ac1c0002row23_col8\" class=\"data row23 col8\" >0</td>\n",
              "                        <td id=\"T_9a3176e8_3d23_11eb_bea0_0242ac1c0002row23_col9\" class=\"data row23 col9\" >0</td>\n",
              "                        <td id=\"T_9a3176e8_3d23_11eb_bea0_0242ac1c0002row23_col10\" class=\"data row23 col10\" >0</td>\n",
              "                        <td id=\"T_9a3176e8_3d23_11eb_bea0_0242ac1c0002row23_col11\" class=\"data row23 col11\" >0</td>\n",
              "                        <td id=\"T_9a3176e8_3d23_11eb_bea0_0242ac1c0002row23_col12\" class=\"data row23 col12\" >0</td>\n",
              "                        <td id=\"T_9a3176e8_3d23_11eb_bea0_0242ac1c0002row23_col13\" class=\"data row23 col13\" >0</td>\n",
              "                        <td id=\"T_9a3176e8_3d23_11eb_bea0_0242ac1c0002row23_col14\" class=\"data row23 col14\" >255</td>\n",
              "                        <td id=\"T_9a3176e8_3d23_11eb_bea0_0242ac1c0002row23_col15\" class=\"data row23 col15\" >255</td>\n",
              "                        <td id=\"T_9a3176e8_3d23_11eb_bea0_0242ac1c0002row23_col16\" class=\"data row23 col16\" >255</td>\n",
              "                        <td id=\"T_9a3176e8_3d23_11eb_bea0_0242ac1c0002row23_col17\" class=\"data row23 col17\" >3</td>\n",
              "                        <td id=\"T_9a3176e8_3d23_11eb_bea0_0242ac1c0002row23_col18\" class=\"data row23 col18\" >0</td>\n",
              "                        <td id=\"T_9a3176e8_3d23_11eb_bea0_0242ac1c0002row23_col19\" class=\"data row23 col19\" >0</td>\n",
              "                        <td id=\"T_9a3176e8_3d23_11eb_bea0_0242ac1c0002row23_col20\" class=\"data row23 col20\" >0</td>\n",
              "                        <td id=\"T_9a3176e8_3d23_11eb_bea0_0242ac1c0002row23_col21\" class=\"data row23 col21\" >0</td>\n",
              "                        <td id=\"T_9a3176e8_3d23_11eb_bea0_0242ac1c0002row23_col22\" class=\"data row23 col22\" >0</td>\n",
              "                        <td id=\"T_9a3176e8_3d23_11eb_bea0_0242ac1c0002row23_col23\" class=\"data row23 col23\" >0</td>\n",
              "                        <td id=\"T_9a3176e8_3d23_11eb_bea0_0242ac1c0002row23_col24\" class=\"data row23 col24\" >0</td>\n",
              "                        <td id=\"T_9a3176e8_3d23_11eb_bea0_0242ac1c0002row23_col25\" class=\"data row23 col25\" >0</td>\n",
              "                        <td id=\"T_9a3176e8_3d23_11eb_bea0_0242ac1c0002row23_col26\" class=\"data row23 col26\" >0</td>\n",
              "                        <td id=\"T_9a3176e8_3d23_11eb_bea0_0242ac1c0002row23_col27\" class=\"data row23 col27\" >0</td>\n",
              "            </tr>\n",
              "            <tr>\n",
              "                        <th id=\"T_9a3176e8_3d23_11eb_bea0_0242ac1c0002level0_row24\" class=\"row_heading level0 row24\" >24</th>\n",
              "                        <td id=\"T_9a3176e8_3d23_11eb_bea0_0242ac1c0002row24_col0\" class=\"data row24 col0\" >0</td>\n",
              "                        <td id=\"T_9a3176e8_3d23_11eb_bea0_0242ac1c0002row24_col1\" class=\"data row24 col1\" >0</td>\n",
              "                        <td id=\"T_9a3176e8_3d23_11eb_bea0_0242ac1c0002row24_col2\" class=\"data row24 col2\" >0</td>\n",
              "                        <td id=\"T_9a3176e8_3d23_11eb_bea0_0242ac1c0002row24_col3\" class=\"data row24 col3\" >0</td>\n",
              "                        <td id=\"T_9a3176e8_3d23_11eb_bea0_0242ac1c0002row24_col4\" class=\"data row24 col4\" >0</td>\n",
              "                        <td id=\"T_9a3176e8_3d23_11eb_bea0_0242ac1c0002row24_col5\" class=\"data row24 col5\" >0</td>\n",
              "                        <td id=\"T_9a3176e8_3d23_11eb_bea0_0242ac1c0002row24_col6\" class=\"data row24 col6\" >0</td>\n",
              "                        <td id=\"T_9a3176e8_3d23_11eb_bea0_0242ac1c0002row24_col7\" class=\"data row24 col7\" >0</td>\n",
              "                        <td id=\"T_9a3176e8_3d23_11eb_bea0_0242ac1c0002row24_col8\" class=\"data row24 col8\" >0</td>\n",
              "                        <td id=\"T_9a3176e8_3d23_11eb_bea0_0242ac1c0002row24_col9\" class=\"data row24 col9\" >0</td>\n",
              "                        <td id=\"T_9a3176e8_3d23_11eb_bea0_0242ac1c0002row24_col10\" class=\"data row24 col10\" >0</td>\n",
              "                        <td id=\"T_9a3176e8_3d23_11eb_bea0_0242ac1c0002row24_col11\" class=\"data row24 col11\" >0</td>\n",
              "                        <td id=\"T_9a3176e8_3d23_11eb_bea0_0242ac1c0002row24_col12\" class=\"data row24 col12\" >0</td>\n",
              "                        <td id=\"T_9a3176e8_3d23_11eb_bea0_0242ac1c0002row24_col13\" class=\"data row24 col13\" >0</td>\n",
              "                        <td id=\"T_9a3176e8_3d23_11eb_bea0_0242ac1c0002row24_col14\" class=\"data row24 col14\" >0</td>\n",
              "                        <td id=\"T_9a3176e8_3d23_11eb_bea0_0242ac1c0002row24_col15\" class=\"data row24 col15\" >0</td>\n",
              "                        <td id=\"T_9a3176e8_3d23_11eb_bea0_0242ac1c0002row24_col16\" class=\"data row24 col16\" >0</td>\n",
              "                        <td id=\"T_9a3176e8_3d23_11eb_bea0_0242ac1c0002row24_col17\" class=\"data row24 col17\" >0</td>\n",
              "                        <td id=\"T_9a3176e8_3d23_11eb_bea0_0242ac1c0002row24_col18\" class=\"data row24 col18\" >0</td>\n",
              "                        <td id=\"T_9a3176e8_3d23_11eb_bea0_0242ac1c0002row24_col19\" class=\"data row24 col19\" >0</td>\n",
              "                        <td id=\"T_9a3176e8_3d23_11eb_bea0_0242ac1c0002row24_col20\" class=\"data row24 col20\" >0</td>\n",
              "                        <td id=\"T_9a3176e8_3d23_11eb_bea0_0242ac1c0002row24_col21\" class=\"data row24 col21\" >0</td>\n",
              "                        <td id=\"T_9a3176e8_3d23_11eb_bea0_0242ac1c0002row24_col22\" class=\"data row24 col22\" >0</td>\n",
              "                        <td id=\"T_9a3176e8_3d23_11eb_bea0_0242ac1c0002row24_col23\" class=\"data row24 col23\" >0</td>\n",
              "                        <td id=\"T_9a3176e8_3d23_11eb_bea0_0242ac1c0002row24_col24\" class=\"data row24 col24\" >0</td>\n",
              "                        <td id=\"T_9a3176e8_3d23_11eb_bea0_0242ac1c0002row24_col25\" class=\"data row24 col25\" >0</td>\n",
              "                        <td id=\"T_9a3176e8_3d23_11eb_bea0_0242ac1c0002row24_col26\" class=\"data row24 col26\" >0</td>\n",
              "                        <td id=\"T_9a3176e8_3d23_11eb_bea0_0242ac1c0002row24_col27\" class=\"data row24 col27\" >0</td>\n",
              "            </tr>\n",
              "            <tr>\n",
              "                        <th id=\"T_9a3176e8_3d23_11eb_bea0_0242ac1c0002level0_row25\" class=\"row_heading level0 row25\" >25</th>\n",
              "                        <td id=\"T_9a3176e8_3d23_11eb_bea0_0242ac1c0002row25_col0\" class=\"data row25 col0\" >0</td>\n",
              "                        <td id=\"T_9a3176e8_3d23_11eb_bea0_0242ac1c0002row25_col1\" class=\"data row25 col1\" >0</td>\n",
              "                        <td id=\"T_9a3176e8_3d23_11eb_bea0_0242ac1c0002row25_col2\" class=\"data row25 col2\" >0</td>\n",
              "                        <td id=\"T_9a3176e8_3d23_11eb_bea0_0242ac1c0002row25_col3\" class=\"data row25 col3\" >0</td>\n",
              "                        <td id=\"T_9a3176e8_3d23_11eb_bea0_0242ac1c0002row25_col4\" class=\"data row25 col4\" >0</td>\n",
              "                        <td id=\"T_9a3176e8_3d23_11eb_bea0_0242ac1c0002row25_col5\" class=\"data row25 col5\" >0</td>\n",
              "                        <td id=\"T_9a3176e8_3d23_11eb_bea0_0242ac1c0002row25_col6\" class=\"data row25 col6\" >0</td>\n",
              "                        <td id=\"T_9a3176e8_3d23_11eb_bea0_0242ac1c0002row25_col7\" class=\"data row25 col7\" >0</td>\n",
              "                        <td id=\"T_9a3176e8_3d23_11eb_bea0_0242ac1c0002row25_col8\" class=\"data row25 col8\" >0</td>\n",
              "                        <td id=\"T_9a3176e8_3d23_11eb_bea0_0242ac1c0002row25_col9\" class=\"data row25 col9\" >0</td>\n",
              "                        <td id=\"T_9a3176e8_3d23_11eb_bea0_0242ac1c0002row25_col10\" class=\"data row25 col10\" >0</td>\n",
              "                        <td id=\"T_9a3176e8_3d23_11eb_bea0_0242ac1c0002row25_col11\" class=\"data row25 col11\" >0</td>\n",
              "                        <td id=\"T_9a3176e8_3d23_11eb_bea0_0242ac1c0002row25_col12\" class=\"data row25 col12\" >0</td>\n",
              "                        <td id=\"T_9a3176e8_3d23_11eb_bea0_0242ac1c0002row25_col13\" class=\"data row25 col13\" >0</td>\n",
              "                        <td id=\"T_9a3176e8_3d23_11eb_bea0_0242ac1c0002row25_col14\" class=\"data row25 col14\" >0</td>\n",
              "                        <td id=\"T_9a3176e8_3d23_11eb_bea0_0242ac1c0002row25_col15\" class=\"data row25 col15\" >0</td>\n",
              "                        <td id=\"T_9a3176e8_3d23_11eb_bea0_0242ac1c0002row25_col16\" class=\"data row25 col16\" >0</td>\n",
              "                        <td id=\"T_9a3176e8_3d23_11eb_bea0_0242ac1c0002row25_col17\" class=\"data row25 col17\" >0</td>\n",
              "                        <td id=\"T_9a3176e8_3d23_11eb_bea0_0242ac1c0002row25_col18\" class=\"data row25 col18\" >0</td>\n",
              "                        <td id=\"T_9a3176e8_3d23_11eb_bea0_0242ac1c0002row25_col19\" class=\"data row25 col19\" >0</td>\n",
              "                        <td id=\"T_9a3176e8_3d23_11eb_bea0_0242ac1c0002row25_col20\" class=\"data row25 col20\" >0</td>\n",
              "                        <td id=\"T_9a3176e8_3d23_11eb_bea0_0242ac1c0002row25_col21\" class=\"data row25 col21\" >0</td>\n",
              "                        <td id=\"T_9a3176e8_3d23_11eb_bea0_0242ac1c0002row25_col22\" class=\"data row25 col22\" >0</td>\n",
              "                        <td id=\"T_9a3176e8_3d23_11eb_bea0_0242ac1c0002row25_col23\" class=\"data row25 col23\" >0</td>\n",
              "                        <td id=\"T_9a3176e8_3d23_11eb_bea0_0242ac1c0002row25_col24\" class=\"data row25 col24\" >0</td>\n",
              "                        <td id=\"T_9a3176e8_3d23_11eb_bea0_0242ac1c0002row25_col25\" class=\"data row25 col25\" >0</td>\n",
              "                        <td id=\"T_9a3176e8_3d23_11eb_bea0_0242ac1c0002row25_col26\" class=\"data row25 col26\" >0</td>\n",
              "                        <td id=\"T_9a3176e8_3d23_11eb_bea0_0242ac1c0002row25_col27\" class=\"data row25 col27\" >0</td>\n",
              "            </tr>\n",
              "            <tr>\n",
              "                        <th id=\"T_9a3176e8_3d23_11eb_bea0_0242ac1c0002level0_row26\" class=\"row_heading level0 row26\" >26</th>\n",
              "                        <td id=\"T_9a3176e8_3d23_11eb_bea0_0242ac1c0002row26_col0\" class=\"data row26 col0\" >0</td>\n",
              "                        <td id=\"T_9a3176e8_3d23_11eb_bea0_0242ac1c0002row26_col1\" class=\"data row26 col1\" >0</td>\n",
              "                        <td id=\"T_9a3176e8_3d23_11eb_bea0_0242ac1c0002row26_col2\" class=\"data row26 col2\" >0</td>\n",
              "                        <td id=\"T_9a3176e8_3d23_11eb_bea0_0242ac1c0002row26_col3\" class=\"data row26 col3\" >0</td>\n",
              "                        <td id=\"T_9a3176e8_3d23_11eb_bea0_0242ac1c0002row26_col4\" class=\"data row26 col4\" >0</td>\n",
              "                        <td id=\"T_9a3176e8_3d23_11eb_bea0_0242ac1c0002row26_col5\" class=\"data row26 col5\" >0</td>\n",
              "                        <td id=\"T_9a3176e8_3d23_11eb_bea0_0242ac1c0002row26_col6\" class=\"data row26 col6\" >0</td>\n",
              "                        <td id=\"T_9a3176e8_3d23_11eb_bea0_0242ac1c0002row26_col7\" class=\"data row26 col7\" >0</td>\n",
              "                        <td id=\"T_9a3176e8_3d23_11eb_bea0_0242ac1c0002row26_col8\" class=\"data row26 col8\" >0</td>\n",
              "                        <td id=\"T_9a3176e8_3d23_11eb_bea0_0242ac1c0002row26_col9\" class=\"data row26 col9\" >0</td>\n",
              "                        <td id=\"T_9a3176e8_3d23_11eb_bea0_0242ac1c0002row26_col10\" class=\"data row26 col10\" >0</td>\n",
              "                        <td id=\"T_9a3176e8_3d23_11eb_bea0_0242ac1c0002row26_col11\" class=\"data row26 col11\" >0</td>\n",
              "                        <td id=\"T_9a3176e8_3d23_11eb_bea0_0242ac1c0002row26_col12\" class=\"data row26 col12\" >0</td>\n",
              "                        <td id=\"T_9a3176e8_3d23_11eb_bea0_0242ac1c0002row26_col13\" class=\"data row26 col13\" >0</td>\n",
              "                        <td id=\"T_9a3176e8_3d23_11eb_bea0_0242ac1c0002row26_col14\" class=\"data row26 col14\" >0</td>\n",
              "                        <td id=\"T_9a3176e8_3d23_11eb_bea0_0242ac1c0002row26_col15\" class=\"data row26 col15\" >0</td>\n",
              "                        <td id=\"T_9a3176e8_3d23_11eb_bea0_0242ac1c0002row26_col16\" class=\"data row26 col16\" >0</td>\n",
              "                        <td id=\"T_9a3176e8_3d23_11eb_bea0_0242ac1c0002row26_col17\" class=\"data row26 col17\" >0</td>\n",
              "                        <td id=\"T_9a3176e8_3d23_11eb_bea0_0242ac1c0002row26_col18\" class=\"data row26 col18\" >0</td>\n",
              "                        <td id=\"T_9a3176e8_3d23_11eb_bea0_0242ac1c0002row26_col19\" class=\"data row26 col19\" >0</td>\n",
              "                        <td id=\"T_9a3176e8_3d23_11eb_bea0_0242ac1c0002row26_col20\" class=\"data row26 col20\" >0</td>\n",
              "                        <td id=\"T_9a3176e8_3d23_11eb_bea0_0242ac1c0002row26_col21\" class=\"data row26 col21\" >0</td>\n",
              "                        <td id=\"T_9a3176e8_3d23_11eb_bea0_0242ac1c0002row26_col22\" class=\"data row26 col22\" >0</td>\n",
              "                        <td id=\"T_9a3176e8_3d23_11eb_bea0_0242ac1c0002row26_col23\" class=\"data row26 col23\" >0</td>\n",
              "                        <td id=\"T_9a3176e8_3d23_11eb_bea0_0242ac1c0002row26_col24\" class=\"data row26 col24\" >0</td>\n",
              "                        <td id=\"T_9a3176e8_3d23_11eb_bea0_0242ac1c0002row26_col25\" class=\"data row26 col25\" >0</td>\n",
              "                        <td id=\"T_9a3176e8_3d23_11eb_bea0_0242ac1c0002row26_col26\" class=\"data row26 col26\" >0</td>\n",
              "                        <td id=\"T_9a3176e8_3d23_11eb_bea0_0242ac1c0002row26_col27\" class=\"data row26 col27\" >0</td>\n",
              "            </tr>\n",
              "            <tr>\n",
              "                        <th id=\"T_9a3176e8_3d23_11eb_bea0_0242ac1c0002level0_row27\" class=\"row_heading level0 row27\" >27</th>\n",
              "                        <td id=\"T_9a3176e8_3d23_11eb_bea0_0242ac1c0002row27_col0\" class=\"data row27 col0\" >0</td>\n",
              "                        <td id=\"T_9a3176e8_3d23_11eb_bea0_0242ac1c0002row27_col1\" class=\"data row27 col1\" >0</td>\n",
              "                        <td id=\"T_9a3176e8_3d23_11eb_bea0_0242ac1c0002row27_col2\" class=\"data row27 col2\" >0</td>\n",
              "                        <td id=\"T_9a3176e8_3d23_11eb_bea0_0242ac1c0002row27_col3\" class=\"data row27 col3\" >0</td>\n",
              "                        <td id=\"T_9a3176e8_3d23_11eb_bea0_0242ac1c0002row27_col4\" class=\"data row27 col4\" >0</td>\n",
              "                        <td id=\"T_9a3176e8_3d23_11eb_bea0_0242ac1c0002row27_col5\" class=\"data row27 col5\" >0</td>\n",
              "                        <td id=\"T_9a3176e8_3d23_11eb_bea0_0242ac1c0002row27_col6\" class=\"data row27 col6\" >0</td>\n",
              "                        <td id=\"T_9a3176e8_3d23_11eb_bea0_0242ac1c0002row27_col7\" class=\"data row27 col7\" >0</td>\n",
              "                        <td id=\"T_9a3176e8_3d23_11eb_bea0_0242ac1c0002row27_col8\" class=\"data row27 col8\" >0</td>\n",
              "                        <td id=\"T_9a3176e8_3d23_11eb_bea0_0242ac1c0002row27_col9\" class=\"data row27 col9\" >0</td>\n",
              "                        <td id=\"T_9a3176e8_3d23_11eb_bea0_0242ac1c0002row27_col10\" class=\"data row27 col10\" >0</td>\n",
              "                        <td id=\"T_9a3176e8_3d23_11eb_bea0_0242ac1c0002row27_col11\" class=\"data row27 col11\" >0</td>\n",
              "                        <td id=\"T_9a3176e8_3d23_11eb_bea0_0242ac1c0002row27_col12\" class=\"data row27 col12\" >0</td>\n",
              "                        <td id=\"T_9a3176e8_3d23_11eb_bea0_0242ac1c0002row27_col13\" class=\"data row27 col13\" >0</td>\n",
              "                        <td id=\"T_9a3176e8_3d23_11eb_bea0_0242ac1c0002row27_col14\" class=\"data row27 col14\" >0</td>\n",
              "                        <td id=\"T_9a3176e8_3d23_11eb_bea0_0242ac1c0002row27_col15\" class=\"data row27 col15\" >0</td>\n",
              "                        <td id=\"T_9a3176e8_3d23_11eb_bea0_0242ac1c0002row27_col16\" class=\"data row27 col16\" >0</td>\n",
              "                        <td id=\"T_9a3176e8_3d23_11eb_bea0_0242ac1c0002row27_col17\" class=\"data row27 col17\" >0</td>\n",
              "                        <td id=\"T_9a3176e8_3d23_11eb_bea0_0242ac1c0002row27_col18\" class=\"data row27 col18\" >0</td>\n",
              "                        <td id=\"T_9a3176e8_3d23_11eb_bea0_0242ac1c0002row27_col19\" class=\"data row27 col19\" >0</td>\n",
              "                        <td id=\"T_9a3176e8_3d23_11eb_bea0_0242ac1c0002row27_col20\" class=\"data row27 col20\" >0</td>\n",
              "                        <td id=\"T_9a3176e8_3d23_11eb_bea0_0242ac1c0002row27_col21\" class=\"data row27 col21\" >0</td>\n",
              "                        <td id=\"T_9a3176e8_3d23_11eb_bea0_0242ac1c0002row27_col22\" class=\"data row27 col22\" >0</td>\n",
              "                        <td id=\"T_9a3176e8_3d23_11eb_bea0_0242ac1c0002row27_col23\" class=\"data row27 col23\" >0</td>\n",
              "                        <td id=\"T_9a3176e8_3d23_11eb_bea0_0242ac1c0002row27_col24\" class=\"data row27 col24\" >0</td>\n",
              "                        <td id=\"T_9a3176e8_3d23_11eb_bea0_0242ac1c0002row27_col25\" class=\"data row27 col25\" >0</td>\n",
              "                        <td id=\"T_9a3176e8_3d23_11eb_bea0_0242ac1c0002row27_col26\" class=\"data row27 col26\" >0</td>\n",
              "                        <td id=\"T_9a3176e8_3d23_11eb_bea0_0242ac1c0002row27_col27\" class=\"data row27 col27\" >0</td>\n",
              "            </tr>\n",
              "    </tbody></table>"
            ],
            "text/plain": [
              "<pandas.io.formats.style.Styler at 0x7f9d93caf6a0>"
            ]
          },
          "metadata": {
            "tags": []
          },
          "execution_count": 12
        }
      ]
    },
    {
      "cell_type": "markdown",
      "metadata": {
        "id": "ZYGUwtHEZe7i"
      },
      "source": [
        "The cell above shows how the image is simply made of black and white and pixels; the darker the pixel, the higher the number in the cell."
      ]
    },
    {
      "cell_type": "markdown",
      "metadata": {
        "id": "iMbCzb2lYqjE"
      },
      "source": [
        "## Pixel Similarity\n",
        "Find the mean shape of A and comapre each new image to that."
      ]
    },
    {
      "cell_type": "code",
      "metadata": {
        "id": "fpb6WPNUYW5F"
      },
      "source": [
        "# get first 64 for testing\n",
        "a_tensor = [tensor(Image.open(x)) for x in a[:64]]\n",
        "b_tensor = [tensor(Image.open(x)) for x in b[:64]]"
      ],
      "execution_count": null,
      "outputs": []
    },
    {
      "cell_type": "markdown",
      "metadata": {
        "id": "N0fKn3KFbxnc"
      },
      "source": [
        "To make this into one big matrix a neural network can use we need to stack all the tensors on top of each other."
      ]
    },
    {
      "cell_type": "code",
      "metadata": {
        "colab": {
          "base_uri": "https://localhost:8080/"
        },
        "id": "Xv6PdN-sbwQ6",
        "outputId": "7e9d597a-bb7a-4205-fa56-d67740752342"
      },
      "source": [
        "stacked_a = torch.stack(a_tensor)\n",
        "stacked_b = torch.stack(b_tensor)"
      ],
      "execution_count": null,
      "outputs": [
        {
          "output_type": "execute_result",
          "data": {
            "text/plain": [
              "(64, 64)"
            ]
          },
          "metadata": {
            "tags": []
          },
          "execution_count": 31
        }
      ]
    },
    {
      "cell_type": "markdown",
      "metadata": {
        "id": "B4WBcKO3cUdN"
      },
      "source": [
        "The data must be converted from a 0-255 scale to 0-1 for the neural network. The tensors are integers so they must be converted to floats too."
      ]
    },
    {
      "cell_type": "code",
      "metadata": {
        "id": "xlPrHzuBcTj-"
      },
      "source": [
        "stacked_a = stacked_a.float()/255\n",
        "stacked_b = stacked_b.float()/255"
      ],
      "execution_count": null,
      "outputs": []
    },
    {
      "cell_type": "markdown",
      "metadata": {
        "id": "XYKP7Q45eoXw"
      },
      "source": [
        "Find the mean of each matrix."
      ]
    },
    {
      "cell_type": "code",
      "metadata": {
        "id": "amxBOluIen7B"
      },
      "source": [
        "mean_a = stacked_a.mean(0)\n",
        "mean_b = stacked_b.mean(0)"
      ],
      "execution_count": null,
      "outputs": []
    },
    {
      "cell_type": "markdown",
      "metadata": {
        "id": "sIOATZEDgWvq"
      },
      "source": [
        "Getting the distance from the ideal (mean) character is going to determine how it is classified. There are two methods we can use:\n",
        "\n",
        "1. L1 norm - absolute mean value. This subtracts the mean from each value in the tensor and makes it postive.\n",
        "1. L2 norm - Root Mean Squared Error (RMSE). This subtracts the mean in the tensor but squares the difference. This makes for smaller errors having little weight and larger ones having quite an effect.\n",
        "\n"
      ]
    },
    {
      "cell_type": "code",
      "metadata": {
        "colab": {
          "base_uri": "https://localhost:8080/",
          "height": 102
        },
        "id": "7CzFd4VcjvP5",
        "outputId": "616c2707-9a9f-4d08-e9f7-3c1cb5e72350"
      },
      "source": [
        "a0 = stacked_a[0]\n",
        "show_image(a0)"
      ],
      "execution_count": null,
      "outputs": [
        {
          "output_type": "execute_result",
          "data": {
            "text/plain": [
              "<matplotlib.axes._subplots.AxesSubplot at 0x7f9d8a238c88>"
            ]
          },
          "metadata": {
            "tags": []
          },
          "execution_count": 42
        },
        {
          "output_type": "display_data",
          "data": {
            "image/png": "[encoded data removed]",
            "text/plain": [
              "<Figure size 72x72 with 1 Axes>"
            ]
          },
          "metadata": {
            "tags": [],
            "needs_background": "light"
          }
        }
      ]
    },
    {
      "cell_type": "code",
      "metadata": {
        "colab": {
          "base_uri": "https://localhost:8080/"
        },
        "id": "O8TOTmR4h1Fi",
        "outputId": "37f6432e-ef34-4ac3-fcb8-2cd245cba5de"
      },
      "source": [
        "dist_a_abs = (a0 - mean_a).abs().mean()\n",
        "dist_a_rmse = ((a0 - mean_a)**2).mean().sqrt()\n",
        "dist_a_abs, dist_a_rmse"
      ],
      "execution_count": null,
      "outputs": [
        {
          "output_type": "execute_result",
          "data": {
            "text/plain": [
              "(tensor(0.1174), tensor(0.2124))"
            ]
          },
          "metadata": {
            "tags": []
          },
          "execution_count": 43
        }
      ]
    },
    {
      "cell_type": "code",
      "metadata": {
        "colab": {
          "base_uri": "https://localhost:8080/"
        },
        "id": "40waHHe8iflQ",
        "outputId": "a192c0f0-d211-480b-d59e-d0b89f52e10c"
      },
      "source": [
        "dist_b_abs = (a0 - mean_b).abs().mean()\n",
        "dist_b_rmse = ((a0 - mean_b)**2).mean().sqrt()\n",
        "dist_b_abs, dist_b_rmse"
      ],
      "execution_count": null,
      "outputs": [
        {
          "output_type": "execute_result",
          "data": {
            "text/plain": [
              "(tensor(0.1907), tensor(0.3152))"
            ]
          },
          "metadata": {
            "tags": []
          },
          "execution_count": 44
        }
      ]
    },
    {
      "cell_type": "markdown",
      "metadata": {
        "id": "UCyjpZPckXpf"
      },
      "source": [
        "Using either of the above approaches, the average distance between the \"a\" example and the ideal \"a\" is less than that between the \"b\" example. Either can be used to classify. Defining a function for each might be the most convenient way to proceed."
      ]
    },
    {
      "cell_type": "code",
      "metadata": {
        "colab": {
          "base_uri": "https://localhost:8080/"
        },
        "id": "-ZAf-QwuksnV",
        "outputId": "751763ba-4e52-49e2-fe30-6abb681f7ec0"
      },
      "source": [
        "def abs_dist(ex, mean):\n",
        "  return (ex - mean).abs().mean((-1, -2))\n",
        "\n",
        "def rmse_dist(ex, mean):\n",
        "  return ((ex - mean)**2).mean().sqrt()\n",
        "\n",
        "abs_dist(a0, mean_b), rmse_dist(a0, mean_b)"
      ],
      "execution_count": null,
      "outputs": [
        {
          "output_type": "execute_result",
          "data": {
            "text/plain": [
              "(tensor(0.1907), tensor(0.3152))"
            ]
          },
          "metadata": {
            "tags": []
          },
          "execution_count": 59
        }
      ]
    },
    {
      "cell_type": "markdown",
      "metadata": {
        "id": "xjDcSwC6nPlt"
      },
      "source": [
        "Now the error between an example and the mean can be found easily. Defining a way to compare the error to other character is the next step.\n",
        "\n",
        "The code below checks if the absolute mean error between an \"a\" example and the mean of \"a\" is less than that of a \"b\" example."
      ]
    },
    {
      "cell_type": "code",
      "metadata": {
        "colab": {
          "base_uri": "https://localhost:8080/"
        },
        "id": "7P7FMHpmma1h",
        "outputId": "a81c66bb-7bd8-487d-913e-a1ee160a854b"
      },
      "source": [
        "abs_dist(a0, mean_a) < abs_dist(a0, mean_b)"
      ],
      "execution_count": null,
      "outputs": [
        {
          "output_type": "execute_result",
          "data": {
            "text/plain": [
              "tensor(True)"
            ]
          },
          "metadata": {
            "tags": []
          },
          "execution_count": 60
        }
      ]
    },
    {
      "cell_type": "code",
      "metadata": {
        "colab": {
          "base_uri": "https://localhost:8080/"
        },
        "id": "it_0FNkrn4F-",
        "outputId": "44bde16f-4b36-4daf-8969-2683eddcb434"
      },
      "source": [
        "def is_a(ex_a):\n",
        "  return (abs_dist(ex_a, mean_a) < abs_dist(ex_a, mean_b)).float()\n",
        "\n",
        "is_a(a0) "
      ],
      "execution_count": null,
      "outputs": [
        {
          "output_type": "execute_result",
          "data": {
            "text/plain": [
              "tensor(1.)"
            ]
          },
          "metadata": {
            "tags": []
          },
          "execution_count": 61
        }
      ]
    },
    {
      "cell_type": "markdown",
      "metadata": {
        "id": "zq_mUw6WpM_E"
      },
      "source": [
        "### Create Validation Set\n",
        "Gather validation data to measure accuracy of classification."
      ]
    },
    {
      "cell_type": "code",
      "metadata": {
        "colab": {
          "base_uri": "https://localhost:8080/"
        },
        "id": "hCDsvCz8okLB",
        "outputId": "f754dbfa-4bb4-426c-8cdf-10b80226c5b2"
      },
      "source": [
        "valid_stacked_a = torch.stack([tensor(Image.open(x)) \n",
        "                              for x in a[65:128]]).float()/255\n",
        "                              \n",
        "valid_stacked_b = torch.stack([tensor(Image.open(x)) \n",
        "                              for x in b[65:128]]).float()/255\n",
        "\n",
        "valid_stacked_a.shape, valid_stacked_b.shape"
      ],
      "execution_count": null,
      "outputs": [
        {
          "output_type": "execute_result",
          "data": {
            "text/plain": [
              "(torch.Size([63, 28, 28]), torch.Size([63, 28, 28]))"
            ]
          },
          "metadata": {
            "tags": []
          },
          "execution_count": 62
        }
      ]
    },
    {
      "cell_type": "code",
      "metadata": {
        "colab": {
          "base_uri": "https://localhost:8080/"
        },
        "id": "4iL4h8Tbp0I-",
        "outputId": "bf5fe509-8048-4c26-f0ad-9b9b5fbcc266"
      },
      "source": [
        "accuracy_a =      is_a(valid_stacked_a) .mean()\n",
        "accuracy_b = (1 - is_a(valid_stacked_b)).mean()\n",
        "\n",
        "accuracy_a, accuracy_b"
      ],
      "execution_count": null,
      "outputs": [
        {
          "output_type": "execute_result",
          "data": {
            "text/plain": [
              "(tensor(0.9841), tensor(0.7937))"
            ]
          },
          "metadata": {
            "tags": []
          },
          "execution_count": 63
        }
      ]
    },
    {
      "cell_type": "markdown",
      "metadata": {
        "id": "7N7dp3W1r5lq"
      },
      "source": [
        "not accurate"
      ]
    },
    {
      "cell_type": "code",
      "metadata": {
        "id": "l-v8vMMhrTH9"
      },
      "source": [
        ""
      ],
      "execution_count": null,
      "outputs": []
    }
  ]
}